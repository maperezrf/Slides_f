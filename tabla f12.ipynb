{
 "cells": [
  {
   "cell_type": "code",
   "execution_count": 1,
   "metadata": {},
   "outputs": [],
   "source": [
    "import pandas as pd\n",
    "from general import make_tables, ord_mes, unif_colors\n",
    "from datetime import datetime\n",
    "import plotly.express as px\n",
    "dtstring = datetime.now().strftime('%y%m%d')\n",
    "pd.options.display.max_columns = 500\n"
   ]
  },
  {
   "cell_type": "code",
   "execution_count": 2,
   "metadata": {},
   "outputs": [],
   "source": [
    "f12 = pd.read_csv('C:/Users/maperezr/OneDrive - Falabella/General/DATA/F12/220912_f12.csv', sep = ',',  dtype='object')"
   ]
  },
  {
   "cell_type": "code",
   "execution_count": 9,
   "metadata": {},
   "outputs": [],
   "source": [
    "f12['DCREACION'] = pd.to_datetime(f12['DCREACION'])\n",
    "f12 = f12.loc[f12['DCREACION'] >= '2022-01-01'].reset_index()\n",
    "f12['DIAS'] = (f12['DCREACION'].max() - f12['DCREACION'])\n",
    "f12['DIAS'] = f12['DIAS'].apply(lambda x :x.days)\n",
    "f12['MPRECIO'] = pd.to_numeric(f12['MPRECIO'])\n",
    "f12.loc[f12['DIAS'] <30, 'age'] = 'Menor a 30' \n",
    "f12.loc[(f12['DIAS'] > 30) & (f12['DIAS']<=60), 'age'] ='30 a 60'\n",
    "f12.loc[(f12['DIAS'] > 60) & (f12['DIAS']<=90), 'age'] ='61 a 90'\n",
    "f12.loc[(f12['DIAS'] > 90) & (f12['DIAS']<=120), 'age'] ='91 a 120'\n",
    "f12.loc[(f12['DIAS'] > 120) & (f12['DIAS']<=180) , 'age'] ='121 a 180'\n",
    "f12.loc[(f12['DIAS'] > 180), 'age'] ='Mayor a 181'\n",
    "f12.rename(columns={'DESC_ESTADO':'Estado'}, inplace=True)\n",
    "\n",
    "f12_abiertos = f12.loc[f12['Estado'].isin(['EN RUTA', 'DIGITADO', 'RESERVADO','CONFIRMADO'])].reset_index(drop=True)\n",
    "\n",
    "tabla = make_tables(f12_abiertos, 'Estado', 'age', 'MPRECIO','ant')\n",
    "\n",
    "tabla.write_image(f'output/{dtstring}_antiguedad_f12.jpg', width=1000, height=300, engine='orca')"
   ]
  },
  {
   "cell_type": "code",
   "execution_count": null,
   "metadata": {},
   "outputs": [],
   "source": [
    "f12.loc[f12['Estado'].isin(['ANULADO X NCRD', 'TOTAL ENTREGA', 'ANULADO X USER','ANULADO X FALTA']), 'estado_agg'] = 'Cerrado'\n",
    "f12.loc[f12['Estado'].isin(['EN RUTA', 'DIGITADO', 'RESERVADO','CONFIRMADO']), 'estado_agg'] = 'Abierto'"
   ]
  },
  {
   "cell_type": "code",
   "execution_count": null,
   "metadata": {},
   "outputs": [],
   "source": [
    "f12gb = f12.groupby('estado_agg')['MPRECIO'].sum().reset_index()"
   ]
  },
  {
   "cell_type": "code",
   "execution_count": null,
   "metadata": {},
   "outputs": [
    {
     "data": {
      "text/html": [
       "<div>\n",
       "<style scoped>\n",
       "    .dataframe tbody tr th:only-of-type {\n",
       "        vertical-align: middle;\n",
       "    }\n",
       "\n",
       "    .dataframe tbody tr th {\n",
       "        vertical-align: top;\n",
       "    }\n",
       "\n",
       "    .dataframe thead th {\n",
       "        text-align: right;\n",
       "    }\n",
       "</style>\n",
       "<table border=\"1\" class=\"dataframe\">\n",
       "  <thead>\n",
       "    <tr style=\"text-align: right;\">\n",
       "      <th></th>\n",
       "      <th>estado_agg</th>\n",
       "      <th>MPRECIO</th>\n",
       "    </tr>\n",
       "  </thead>\n",
       "  <tbody>\n",
       "    <tr>\n",
       "      <th>0</th>\n",
       "      <td>Abierto</td>\n",
       "      <td>9.605551e+09</td>\n",
       "    </tr>\n",
       "    <tr>\n",
       "      <th>1</th>\n",
       "      <td>Cerrado</td>\n",
       "      <td>6.318861e+11</td>\n",
       "    </tr>\n",
       "  </tbody>\n",
       "</table>\n",
       "</div>"
      ],
      "text/plain": [
       "  estado_agg       MPRECIO\n",
       "0    Abierto  9.605551e+09\n",
       "1    Cerrado  6.318861e+11"
      ]
     },
     "execution_count": 102,
     "metadata": {},
     "output_type": "execute_result"
    }
   ],
   "source": [
    "f12gb"
   ]
  },
  {
   "cell_type": "code",
   "execution_count": null,
   "metadata": {},
   "outputs": [],
   "source": [
    "torta_f12 = px.pie(f12gb, values = 'MPRECIO', names = 'estado_agg', color = 'estado_agg', color_discrete_map = {'Abierto':'rgb(51, 102, 102)', 'Cerrado':'rgb(204, 204, 51)'})\n",
    "torta_f12.update_traces( textposition ='outside', textinfo = 'percent+label')\n",
    "torta_f12.update_layout(font =dict(size = 15), margin=dict(l=0,r=10,b=0) )\n",
    "torta_f12.write_image(f'output/{dtstring}_torta_f12.png',width=400, height=400, engine='orca')"
   ]
  },
  {
   "cell_type": "code",
   "execution_count": null,
   "metadata": {},
   "outputs": [],
   "source": [
    "f12.loc[f12['DCREACION'].notna(), 'mes_creacion'] = f12.loc[f12['DCREACION'].notna(), 'DCREACION'].apply(lambda  x : x.strftime('%b'))"
   ]
  },
  {
   "cell_type": "code",
   "execution_count": null,
   "metadata": {},
   "outputs": [],
   "source": [
    "f12_mes = f12.groupby(['mes_creacion','estado_agg'])['MPRECIO'].sum().reset_index()"
   ]
  },
  {
   "cell_type": "code",
   "execution_count": null,
   "metadata": {},
   "outputs": [],
   "source": [
    "color = unif_colors(f12_mes,'estado_agg') # TODO leer desde var_f4\n",
    "orden = ord_mes(f12_mes,'mes_creacion') # TODO leer desde var_f4"
   ]
  },
  {
   "cell_type": "code",
   "execution_count": null,
   "metadata": {},
   "outputs": [
    {
     "data": {
      "text/html": [
       "<div>\n",
       "<style scoped>\n",
       "    .dataframe tbody tr th:only-of-type {\n",
       "        vertical-align: middle;\n",
       "    }\n",
       "\n",
       "    .dataframe tbody tr th {\n",
       "        vertical-align: top;\n",
       "    }\n",
       "\n",
       "    .dataframe thead th {\n",
       "        text-align: right;\n",
       "    }\n",
       "</style>\n",
       "<table border=\"1\" class=\"dataframe\">\n",
       "  <thead>\n",
       "    <tr style=\"text-align: right;\">\n",
       "      <th></th>\n",
       "      <th>mes_creacion</th>\n",
       "      <th>estado_agg</th>\n",
       "      <th>MPRECIO</th>\n",
       "    </tr>\n",
       "  </thead>\n",
       "  <tbody>\n",
       "    <tr>\n",
       "      <th>0</th>\n",
       "      <td>Apr</td>\n",
       "      <td>Abierto</td>\n",
       "      <td>2.835041e+07</td>\n",
       "    </tr>\n",
       "    <tr>\n",
       "      <th>1</th>\n",
       "      <td>Apr</td>\n",
       "      <td>Cerrado</td>\n",
       "      <td>6.262638e+10</td>\n",
       "    </tr>\n",
       "    <tr>\n",
       "      <th>2</th>\n",
       "      <td>Aug</td>\n",
       "      <td>Abierto</td>\n",
       "      <td>3.029119e+09</td>\n",
       "    </tr>\n",
       "    <tr>\n",
       "      <th>3</th>\n",
       "      <td>Aug</td>\n",
       "      <td>Cerrado</td>\n",
       "      <td>6.475443e+10</td>\n",
       "    </tr>\n",
       "    <tr>\n",
       "      <th>4</th>\n",
       "      <td>Feb</td>\n",
       "      <td>Abierto</td>\n",
       "      <td>5.082917e+07</td>\n",
       "    </tr>\n",
       "    <tr>\n",
       "      <th>5</th>\n",
       "      <td>Feb</td>\n",
       "      <td>Cerrado</td>\n",
       "      <td>5.629809e+10</td>\n",
       "    </tr>\n",
       "    <tr>\n",
       "      <th>6</th>\n",
       "      <td>Jan</td>\n",
       "      <td>Abierto</td>\n",
       "      <td>5.087383e+07</td>\n",
       "    </tr>\n",
       "    <tr>\n",
       "      <th>7</th>\n",
       "      <td>Jan</td>\n",
       "      <td>Cerrado</td>\n",
       "      <td>6.372577e+10</td>\n",
       "    </tr>\n",
       "    <tr>\n",
       "      <th>8</th>\n",
       "      <td>Jul</td>\n",
       "      <td>Abierto</td>\n",
       "      <td>3.957058e+08</td>\n",
       "    </tr>\n",
       "    <tr>\n",
       "      <th>9</th>\n",
       "      <td>Jul</td>\n",
       "      <td>Cerrado</td>\n",
       "      <td>6.442872e+10</td>\n",
       "    </tr>\n",
       "    <tr>\n",
       "      <th>10</th>\n",
       "      <td>Jun</td>\n",
       "      <td>Abierto</td>\n",
       "      <td>5.718497e+07</td>\n",
       "    </tr>\n",
       "    <tr>\n",
       "      <th>11</th>\n",
       "      <td>Jun</td>\n",
       "      <td>Cerrado</td>\n",
       "      <td>1.253232e+11</td>\n",
       "    </tr>\n",
       "    <tr>\n",
       "      <th>12</th>\n",
       "      <td>Mar</td>\n",
       "      <td>Abierto</td>\n",
       "      <td>6.486488e+07</td>\n",
       "    </tr>\n",
       "    <tr>\n",
       "      <th>13</th>\n",
       "      <td>Mar</td>\n",
       "      <td>Cerrado</td>\n",
       "      <td>1.156454e+11</td>\n",
       "    </tr>\n",
       "    <tr>\n",
       "      <th>14</th>\n",
       "      <td>May</td>\n",
       "      <td>Abierto</td>\n",
       "      <td>5.831766e+07</td>\n",
       "    </tr>\n",
       "    <tr>\n",
       "      <th>15</th>\n",
       "      <td>May</td>\n",
       "      <td>Cerrado</td>\n",
       "      <td>7.120073e+10</td>\n",
       "    </tr>\n",
       "    <tr>\n",
       "      <th>16</th>\n",
       "      <td>Sep</td>\n",
       "      <td>Abierto</td>\n",
       "      <td>5.870306e+09</td>\n",
       "    </tr>\n",
       "    <tr>\n",
       "      <th>17</th>\n",
       "      <td>Sep</td>\n",
       "      <td>Cerrado</td>\n",
       "      <td>7.883459e+09</td>\n",
       "    </tr>\n",
       "  </tbody>\n",
       "</table>\n",
       "</div>"
      ],
      "text/plain": [
       "   mes_creacion estado_agg       MPRECIO\n",
       "0           Apr    Abierto  2.835041e+07\n",
       "1           Apr    Cerrado  6.262638e+10\n",
       "2           Aug    Abierto  3.029119e+09\n",
       "3           Aug    Cerrado  6.475443e+10\n",
       "4           Feb    Abierto  5.082917e+07\n",
       "5           Feb    Cerrado  5.629809e+10\n",
       "6           Jan    Abierto  5.087383e+07\n",
       "7           Jan    Cerrado  6.372577e+10\n",
       "8           Jul    Abierto  3.957058e+08\n",
       "9           Jul    Cerrado  6.442872e+10\n",
       "10          Jun    Abierto  5.718497e+07\n",
       "11          Jun    Cerrado  1.253232e+11\n",
       "12          Mar    Abierto  6.486488e+07\n",
       "13          Mar    Cerrado  1.156454e+11\n",
       "14          May    Abierto  5.831766e+07\n",
       "15          May    Cerrado  7.120073e+10\n",
       "16          Sep    Abierto  5.870306e+09\n",
       "17          Sep    Cerrado  7.883459e+09"
      ]
     },
     "execution_count": 107,
     "metadata": {},
     "output_type": "execute_result"
    }
   ],
   "source": [
    "f12_mes"
   ]
  },
  {
   "cell_type": "code",
   "execution_count": null,
   "metadata": {},
   "outputs": [],
   "source": [
    "f12_mes_graf = px.bar(f12_mes, x = 'mes_creacion', y = 'MPRECIO', color='estado_agg', color_discrete_map = {'Abierto':'rgb(51, 102, 102)', 'Cerrado':'rgb(204, 204, 51)'},category_orders = {'mes_creacion' : orden}\n",
    ", text = 'MPRECIO', text_auto = '.2s', labels={'mes_creacion': 'Mes', 'MPRECIO': 'Costo', 'estado_agg':'Estado agregado' })\n",
    "f12_mes_graf.update_layout(legend = dict(yanchor = 'top', y = 0.95, xanchor = 'left', x = 0.8),font =dict(size = 15), margin=dict(l=0,r=10,b=0) )\n",
    "f12_mes_graf.write_image(f'output/{dtstring}_f12_mes.png',  width=800, height=400, engine='orca')"
   ]
  },
  {
   "cell_type": "code",
   "execution_count": null,
   "metadata": {},
   "outputs": [],
   "source": [
    "f12_sindup = f12.drop_duplicates('NFOLIO')"
   ]
  },
  {
   "cell_type": "code",
   "execution_count": null,
   "metadata": {},
   "outputs": [
    {
     "ename": "SyntaxError",
     "evalue": "invalid syntax (2387562323.py, line 1)",
     "output_type": "error",
     "traceback": [
      "\u001b[1;36m  Input \u001b[1;32mIn [110]\u001b[1;36m\u001b[0m\n\u001b[1;33m    f12_sindup.loc[]\u001b[0m\n\u001b[1;37m                   ^\u001b[0m\n\u001b[1;31mSyntaxError\u001b[0m\u001b[1;31m:\u001b[0m invalid syntax\n"
     ]
    }
   ],
   "source": [
    "f12_sindup.loc[]"
   ]
  },
  {
   "cell_type": "code",
   "execution_count": null,
   "metadata": {},
   "outputs": [],
   "source": [
    "f12_1 = f12_sindup[0:591298] \n",
    "f12_1=f12_1['NFOLIO']\n",
    "f12_1.to_excel('220802_f12_falacom_1.xlsx', index=False)"
   ]
  },
  {
   "cell_type": "code",
   "execution_count": null,
   "metadata": {},
   "outputs": [],
   "source": [
    "f12_1 = f12_sindup[591298:]\n",
    "f12_1=f12_1['NFOLIO']\n",
    "f12_1.to_excel('220802_f12_falacom_2.xlsx', index=False)"
   ]
  },
  {
   "cell_type": "code",
   "execution_count": null,
   "metadata": {},
   "outputs": [
    {
     "data": {
      "text/plain": [
       "1182597"
      ]
     },
     "execution_count": 24,
     "metadata": {},
     "output_type": "execute_result"
    }
   ],
   "source": [
    "591298 +591299"
   ]
  },
  {
   "cell_type": "code",
   "execution_count": null,
   "metadata": {},
   "outputs": [
    {
     "data": {
      "text/plain": [
       "(591299,)"
      ]
     },
     "execution_count": 23,
     "metadata": {},
     "output_type": "execute_result"
    }
   ],
   "source": [
    "f12_1.shape"
   ]
  },
  {
   "cell_type": "code",
   "execution_count": null,
   "metadata": {},
   "outputs": [
    {
     "data": {
      "text/plain": [
       "(1182597, 33)"
      ]
     },
     "execution_count": 25,
     "metadata": {},
     "output_type": "execute_result"
    }
   ],
   "source": [
    "f12_sindup.shape"
   ]
  }
 ],
 "metadata": {
  "kernelspec": {
   "display_name": "Python 3.9.12 ('base')",
   "language": "python",
   "name": "python3"
  },
  "language_info": {
   "codemirror_mode": {
    "name": "ipython",
    "version": 3
   },
   "file_extension": ".py",
   "mimetype": "text/x-python",
   "name": "python",
   "nbconvert_exporter": "python",
   "pygments_lexer": "ipython3",
   "version": "3.9.12"
  },
  "orig_nbformat": 4,
  "vscode": {
   "interpreter": {
    "hash": "82a490cbc5ab7ede3fb5f9c339977e226ff85331602536a0bba4d2a51bd464ee"
   }
  }
 },
 "nbformat": 4,
 "nbformat_minor": 2
}
