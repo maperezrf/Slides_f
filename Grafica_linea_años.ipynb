{
 "cells": [
  {
   "cell_type": "code",
   "execution_count": 200,
   "metadata": {},
   "outputs": [],
   "source": [
    "import pandas as pd\n",
    "import plotly.express as px\n",
    "from data import var_f4\n",
    "from datetime import datetime\n",
    "from general import ord_num, unif_colors\n",
    "pd.set_option('display.max_columns', 50)"
   ]
  },
  {
   "cell_type": "code",
   "execution_count": 201,
   "metadata": {},
   "outputs": [],
   "source": [
    "f4 = pd.read_csv(var_f4['path_df'] + \"220616_f4\" +\".csv\", sep=';', dtype=str)\n",
    "f4.linea = f4.linea.str.capitalize()\n",
    "f4.descripcion_linea = f4.descripcion_linea.str.capitalize()\n",
    "f4[var_f4[\"costo\"]] = pd.to_numeric(f4[var_f4[\"costo\"]])\n",
    "f4[\"linea_graf\"] = f4[\"linea\"] + \" - \" + f4[\"descripcion_linea\"]"
   ]
  },
  {
   "cell_type": "code",
   "execution_count": 202,
   "metadata": {},
   "outputs": [],
   "source": [
    "corte = datetime.strptime(\"2021-06-16\", \"%Y-%m-%d\")\n",
    "f4.loc[:, var_f4[\"fechas\"]] = f4[var_f4[\"fechas\"]].apply(lambda x: x.replace([\"ene\", \"abr\", \"ago\", \"dic\"], [\"jan\", \"apr\", \"aug\", \"dec\"], regex=True))\n",
    "for i in var_f4[\"fechas\"]: f4[i] = pd.to_datetime(f4[i])\n",
    "f4_db = f4.loc[f4.tipo_redinv == \"dado de baja\"]\n",
    "f4_2021 = f4_db.loc[f4_db.fecha_reserva <= corte]\n",
    "f4_2022 = f4_db.loc[f4_db.fecha_reserva >= \"2022-01-01\"]\n"
   ]
  },
  {
   "cell_type": "code",
   "execution_count": 203,
   "metadata": {},
   "outputs": [
    {
     "name": "stderr",
     "output_type": "stream",
     "text": [
      "C:\\Users\\EXT_MA~1\\AppData\\Local\\Temp/ipykernel_23832/1746822602.py:1: SettingWithCopyWarning:\n",
      "\n",
      "\n",
      "A value is trying to be set on a copy of a slice from a DataFrame.\n",
      "Try using .loc[row_indexer,col_indexer] = value instead\n",
      "\n",
      "See the caveats in the documentation: https://pandas.pydata.org/pandas-docs/stable/user_guide/indexing.html#returning-a-view-versus-a-copy\n",
      "\n",
      "C:\\Users\\EXT_MA~1\\AppData\\Local\\Temp/ipykernel_23832/1746822602.py:2: SettingWithCopyWarning:\n",
      "\n",
      "\n",
      "A value is trying to be set on a copy of a slice from a DataFrame.\n",
      "Try using .loc[row_indexer,col_indexer] = value instead\n",
      "\n",
      "See the caveats in the documentation: https://pandas.pydata.org/pandas-docs/stable/user_guide/indexing.html#returning-a-view-versus-a-copy\n",
      "\n"
     ]
    }
   ],
   "source": [
    "f4_2021[\"Año\"] = \"2021\" + \"-\" + corte.strftime(format = \"%b-%d\")\n",
    "f4_2022[\"Año\"] = \"2022\" + \"-\" + corte.strftime(format = \"%b-%d\")\n"
   ]
  },
  {
   "cell_type": "code",
   "execution_count": 204,
   "metadata": {},
   "outputs": [],
   "source": [
    "df_f4 = pd.concat([f4_2021,f4_2022])"
   ]
  },
  {
   "cell_type": "code",
   "execution_count": 215,
   "metadata": {},
   "outputs": [],
   "source": [
    "group_f4_linea = df_f4.groupby([\"linea_graf\",\"Año\"])[\"total_precio_costo\"].sum().reset_index()\n",
    "# group_f4_linea.to_excel(\"220616_linea_x_años.xlsx\", index=False)"
   ]
  },
  {
   "cell_type": "code",
   "execution_count": 206,
   "metadata": {},
   "outputs": [],
   "source": [
    "ord_x = ord_num(group_f4_linea,'linea_graf',var_f4['costo'])\n",
    "top_5 = ord_num(group_f4_linea,'linea_graf',var_f4['costo'])[0:10]\n",
    "colors = unif_colors(group_f4_linea, \"Año\")"
   ]
  },
  {
   "cell_type": "code",
   "execution_count": 207,
   "metadata": {},
   "outputs": [],
   "source": [
    "f4_linea_top_10 = group_f4_linea.loc[group_f4_linea.linea_graf.isin(top_5)]\n"
   ]
  },
  {
   "cell_type": "code",
   "execution_count": 220,
   "metadata": {},
   "outputs": [],
   "source": [
    "graph_linea_x_años = px.bar(f4_linea_top_10, x=\"linea_graf\", y = \"total_precio_costo\", color = \"Año\", barmode= \"group\", category_orders ={\"linea_graf\":ord_x},text_auto = \".2s\"  , text = \"total_precio_costo\", title = \"F4 dado de baja para top 10 de linea 2021 vs 2022\", color_discrete_map = colors, labels = {\"total_precio_costo\":\"Costo\",\"linea_graf\":\"Línea\"}  ) \n",
    "graph_linea_x_años.update_layout(legend = dict(yanchor = 'top', y = 0.95, xanchor = 'left', x = 0.7),font =dict(size = 15), margin=dict(l=0,r=10,b=0))\n",
    "graph_linea_x_años.write_image(\"F4_linea_años.png\",height = 500,  width = 1000)"
   ]
  }
 ],
 "metadata": {
  "kernelspec": {
   "display_name": "Python 3.9.7 ('base')",
   "language": "python",
   "name": "python3"
  },
  "language_info": {
   "codemirror_mode": {
    "name": "ipython",
    "version": 3
   },
   "file_extension": ".py",
   "mimetype": "text/x-python",
   "name": "python",
   "nbconvert_exporter": "python",
   "pygments_lexer": "ipython3",
   "version": "3.9.7"
  },
  "orig_nbformat": 4,
  "vscode": {
   "interpreter": {
    "hash": "2c043d662fbed7cdb1a55c38793736f50ece9eb5b859cfa43e78ca91054ae88a"
   }
  }
 },
 "nbformat": 4,
 "nbformat_minor": 2
}
