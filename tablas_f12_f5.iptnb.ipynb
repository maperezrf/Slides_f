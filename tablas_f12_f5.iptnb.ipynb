{
 "cells": [
  {
   "cell_type": "code",
   "execution_count": 1,
   "metadata": {},
   "outputs": [],
   "source": [
    "import pandas as pd \n",
    "from general import make_tables\n",
    "from datetime import datetime\n",
    "import plotly.express as px\n",
    "dtstring = datetime.now().strftime('%y%m%d')\n"
   ]
  },
  {
   "cell_type": "code",
   "execution_count": 2,
   "metadata": {},
   "outputs": [],
   "source": [
    "f5 = pd.read_csv('C:/Users/maperezr/OneDrive - Falabella/General/DATA/F5/220912_f5.csv', dtype='object')"
   ]
  },
  {
   "cell_type": "code",
   "execution_count": 9,
   "metadata": {},
   "outputs": [],
   "source": [
    "f5['TRF_ENTRY_DATE'] = pd.to_datetime(f5['TRF_ENTRY_DATE'])\n",
    "f5 = f5.loc[f5['TRF_ENTRY_DATE'] >= '2022-01-01'].reset_index()\n",
    "f5['DIAS'] = (f5['TRF_ENTRY_DATE'].max() - f5['TRF_ENTRY_DATE'])\n",
    "f5['DIAS'] = f5['DIAS'].apply(lambda x :x.days)\n",
    "f5['TOTAL_COST'] = pd.to_numeric(f5['TOTAL_COST'])\n",
    "f5.loc[f5['DIAS'] <30, 'age'] = 'Menor a 30' \n",
    "f5.loc[(f5['DIAS'] > 30) & (f5['DIAS']<=60), 'age'] ='30 a 60'\n",
    "f5.loc[(f5['DIAS'] > 60) & (f5['DIAS']<=90), 'age'] ='61 a 90'\n",
    "f5.loc[(f5['DIAS'] > 90) & (f5['DIAS']<=120), 'age'] ='91 a 120'\n",
    "f5.loc[(f5['DIAS'] > 120) & (f5['DIAS']<=180) , 'age'] ='121 a 180'\n",
    "f5.loc[(f5['DIAS'] > 180), 'age'] ='Mayor a 181'\n",
    "f5.rename(columns={'DESC_ESTADO':'Estado'}, inplace=True)\n",
    "\n",
    "f5.loc[f5['TRF_STATUS'] == \"1\", 'Estado'] = 'Reservado'\n",
    "f5.loc[f5['TRF_STATUS'] == \"-2\", 'Estado'] = 'Iniciado'\n",
    "f5.loc[f5['TRF_STATUS'] == \"4\", 'Estado'] = 'Enviado'\n",
    "# f5.loc[f5['TRF_STATUS'] == \"0\", 'Estado'] = 'Work'\n",
    "# f5.loc[f5['TRF_STATUS'] == \"-\"1, 'Estado'] = 'Anulado'\n",
    "# f5.loc[f5['TRF_STATUS'] == \"5\", 'Estado'] = 'Recibido'\n",
    "# f5.loc[f5['TRF_STATUS'] == \"6\", 'Estado'] = 'Recibido c/Discrepancia'\n",
    "# f5.loc[f5['TRF_STATUS'] == \"7\", 'Estado'] = 'Cerrada Estilo'\n",
    "\n",
    "f5_2 = f5.groupby(['age','Estado'])['TOTAL_COST'].sum().reset_index()\n",
    "\n",
    "tabla = make_tables(f5_2,'Estado', 'age', 'TOTAL_COST', 'ant')\n",
    "\n",
    "tabla.write_image(f'output/{dtstring}_antiguedad_f5.jpg', width=1000, height=200, engine='orca')"
   ]
  },
  {
   "cell_type": "code",
   "execution_count": 15,
   "metadata": {},
   "outputs": [],
   "source": [
    "asadasasd"
   ]
  },
  {
   "cell_type": "code",
   "execution_count": null,
   "metadata": {},
   "outputs": [],
   "source": [
    "tiendas = pd.read_csv('input/tabla_tiendas.csv')"
   ]
  },
  {
   "cell_type": "code",
   "execution_count": null,
   "metadata": {},
   "outputs": [],
   "source": [
    "tiendas = tiendas[['LOC_ID','LOC_NAME']]"
   ]
  },
  {
   "cell_type": "code",
   "execution_count": null,
   "metadata": {},
   "outputs": [
    {
     "ename": "KeyError",
     "evalue": "'LOC_SHIP'",
     "output_type": "error",
     "traceback": [
      "\u001b[1;31m---------------------------------------------------------------------------\u001b[0m",
      "\u001b[1;31mKeyError\u001b[0m                                  Traceback (most recent call last)",
      "\u001b[1;32mc:\\Users\\maperezr\\proyectos\\slides-fs\\tablas_f12_f5.iptnb.ipynb Celda 12\u001b[0m in \u001b[0;36m<cell line: 1>\u001b[1;34m()\u001b[0m\n\u001b[1;32m----> <a href='vscode-notebook-cell:/c%3A/Users/maperezr/proyectos/slides-fs/tablas_f12_f5.iptnb.ipynb#X15sZmlsZQ%3D%3D?line=0'>1</a>\u001b[0m f5 \u001b[39m=\u001b[39m f5\u001b[39m.\u001b[39;49mmerge(tiendas, how \u001b[39m=\u001b[39;49m \u001b[39m'\u001b[39;49m\u001b[39mleft\u001b[39;49m\u001b[39m'\u001b[39;49m, left_on \u001b[39m=\u001b[39;49m \u001b[39m'\u001b[39;49m\u001b[39mLOC_SHIP\u001b[39;49m\u001b[39m'\u001b[39;49m, right_on \u001b[39m=\u001b[39;49m \u001b[39m'\u001b[39;49m\u001b[39mLOC_ID\u001b[39;49m\u001b[39m'\u001b[39;49m )\n\u001b[0;32m      <a href='vscode-notebook-cell:/c%3A/Users/maperezr/proyectos/slides-fs/tablas_f12_f5.iptnb.ipynb#X15sZmlsZQ%3D%3D?line=1'>2</a>\u001b[0m f5\u001b[39m.\u001b[39mrename(columns\u001b[39m=\u001b[39m{\u001b[39m'\u001b[39m\u001b[39mLOC_ID\u001b[39m\u001b[39m'\u001b[39m:\u001b[39m'\u001b[39m\u001b[39mloc_env\u001b[39m\u001b[39m'\u001b[39m}, inplace\u001b[39m=\u001b[39m\u001b[39mTrue\u001b[39;00m)\n\u001b[0;32m      <a href='vscode-notebook-cell:/c%3A/Users/maperezr/proyectos/slides-fs/tablas_f12_f5.iptnb.ipynb#X15sZmlsZQ%3D%3D?line=2'>3</a>\u001b[0m f5 \u001b[39m=\u001b[39m f5\u001b[39m.\u001b[39mmerge(tiendas, how \u001b[39m=\u001b[39m \u001b[39m'\u001b[39m\u001b[39mleft\u001b[39m\u001b[39m'\u001b[39m, left_on \u001b[39m=\u001b[39m \u001b[39m'\u001b[39m\u001b[39mLOC_REC\u001b[39m\u001b[39m'\u001b[39m, right_on \u001b[39m=\u001b[39m \u001b[39m'\u001b[39m\u001b[39mLOC_ID\u001b[39m\u001b[39m'\u001b[39m )\n",
      "File \u001b[1;32mc:\\Users\\maperezr\\Anaconda3\\lib\\site-packages\\pandas\\core\\frame.py:9345\u001b[0m, in \u001b[0;36mDataFrame.merge\u001b[1;34m(self, right, how, on, left_on, right_on, left_index, right_index, sort, suffixes, copy, indicator, validate)\u001b[0m\n\u001b[0;32m   9326\u001b[0m \u001b[39m@Substitution\u001b[39m(\u001b[39m\"\u001b[39m\u001b[39m\"\u001b[39m)\n\u001b[0;32m   9327\u001b[0m \u001b[39m@Appender\u001b[39m(_merge_doc, indents\u001b[39m=\u001b[39m\u001b[39m2\u001b[39m)\n\u001b[0;32m   9328\u001b[0m \u001b[39mdef\u001b[39;00m \u001b[39mmerge\u001b[39m(\n\u001b[1;32m   (...)\u001b[0m\n\u001b[0;32m   9341\u001b[0m     validate: \u001b[39mstr\u001b[39m \u001b[39m|\u001b[39m \u001b[39mNone\u001b[39;00m \u001b[39m=\u001b[39m \u001b[39mNone\u001b[39;00m,\n\u001b[0;32m   9342\u001b[0m ) \u001b[39m-\u001b[39m\u001b[39m>\u001b[39m DataFrame:\n\u001b[0;32m   9343\u001b[0m     \u001b[39mfrom\u001b[39;00m \u001b[39mpandas\u001b[39;00m\u001b[39m.\u001b[39;00m\u001b[39mcore\u001b[39;00m\u001b[39m.\u001b[39;00m\u001b[39mreshape\u001b[39;00m\u001b[39m.\u001b[39;00m\u001b[39mmerge\u001b[39;00m \u001b[39mimport\u001b[39;00m merge\n\u001b[1;32m-> 9345\u001b[0m     \u001b[39mreturn\u001b[39;00m merge(\n\u001b[0;32m   9346\u001b[0m         \u001b[39mself\u001b[39;49m,\n\u001b[0;32m   9347\u001b[0m         right,\n\u001b[0;32m   9348\u001b[0m         how\u001b[39m=\u001b[39;49mhow,\n\u001b[0;32m   9349\u001b[0m         on\u001b[39m=\u001b[39;49mon,\n\u001b[0;32m   9350\u001b[0m         left_on\u001b[39m=\u001b[39;49mleft_on,\n\u001b[0;32m   9351\u001b[0m         right_on\u001b[39m=\u001b[39;49mright_on,\n\u001b[0;32m   9352\u001b[0m         left_index\u001b[39m=\u001b[39;49mleft_index,\n\u001b[0;32m   9353\u001b[0m         right_index\u001b[39m=\u001b[39;49mright_index,\n\u001b[0;32m   9354\u001b[0m         sort\u001b[39m=\u001b[39;49msort,\n\u001b[0;32m   9355\u001b[0m         suffixes\u001b[39m=\u001b[39;49msuffixes,\n\u001b[0;32m   9356\u001b[0m         copy\u001b[39m=\u001b[39;49mcopy,\n\u001b[0;32m   9357\u001b[0m         indicator\u001b[39m=\u001b[39;49mindicator,\n\u001b[0;32m   9358\u001b[0m         validate\u001b[39m=\u001b[39;49mvalidate,\n\u001b[0;32m   9359\u001b[0m     )\n",
      "File \u001b[1;32mc:\\Users\\maperezr\\Anaconda3\\lib\\site-packages\\pandas\\core\\reshape\\merge.py:107\u001b[0m, in \u001b[0;36mmerge\u001b[1;34m(left, right, how, on, left_on, right_on, left_index, right_index, sort, suffixes, copy, indicator, validate)\u001b[0m\n\u001b[0;32m     90\u001b[0m \u001b[39m@Substitution\u001b[39m(\u001b[39m\"\u001b[39m\u001b[39m\\n\u001b[39;00m\u001b[39mleft : DataFrame or named Series\u001b[39m\u001b[39m\"\u001b[39m)\n\u001b[0;32m     91\u001b[0m \u001b[39m@Appender\u001b[39m(_merge_doc, indents\u001b[39m=\u001b[39m\u001b[39m0\u001b[39m)\n\u001b[0;32m     92\u001b[0m \u001b[39mdef\u001b[39;00m \u001b[39mmerge\u001b[39m(\n\u001b[1;32m   (...)\u001b[0m\n\u001b[0;32m    105\u001b[0m     validate: \u001b[39mstr\u001b[39m \u001b[39m|\u001b[39m \u001b[39mNone\u001b[39;00m \u001b[39m=\u001b[39m \u001b[39mNone\u001b[39;00m,\n\u001b[0;32m    106\u001b[0m ) \u001b[39m-\u001b[39m\u001b[39m>\u001b[39m DataFrame:\n\u001b[1;32m--> 107\u001b[0m     op \u001b[39m=\u001b[39m _MergeOperation(\n\u001b[0;32m    108\u001b[0m         left,\n\u001b[0;32m    109\u001b[0m         right,\n\u001b[0;32m    110\u001b[0m         how\u001b[39m=\u001b[39;49mhow,\n\u001b[0;32m    111\u001b[0m         on\u001b[39m=\u001b[39;49mon,\n\u001b[0;32m    112\u001b[0m         left_on\u001b[39m=\u001b[39;49mleft_on,\n\u001b[0;32m    113\u001b[0m         right_on\u001b[39m=\u001b[39;49mright_on,\n\u001b[0;32m    114\u001b[0m         left_index\u001b[39m=\u001b[39;49mleft_index,\n\u001b[0;32m    115\u001b[0m         right_index\u001b[39m=\u001b[39;49mright_index,\n\u001b[0;32m    116\u001b[0m         sort\u001b[39m=\u001b[39;49msort,\n\u001b[0;32m    117\u001b[0m         suffixes\u001b[39m=\u001b[39;49msuffixes,\n\u001b[0;32m    118\u001b[0m         copy\u001b[39m=\u001b[39;49mcopy,\n\u001b[0;32m    119\u001b[0m         indicator\u001b[39m=\u001b[39;49mindicator,\n\u001b[0;32m    120\u001b[0m         validate\u001b[39m=\u001b[39;49mvalidate,\n\u001b[0;32m    121\u001b[0m     )\n\u001b[0;32m    122\u001b[0m     \u001b[39mreturn\u001b[39;00m op\u001b[39m.\u001b[39mget_result()\n",
      "File \u001b[1;32mc:\\Users\\maperezr\\Anaconda3\\lib\\site-packages\\pandas\\core\\reshape\\merge.py:700\u001b[0m, in \u001b[0;36m_MergeOperation.__init__\u001b[1;34m(self, left, right, how, on, left_on, right_on, axis, left_index, right_index, sort, suffixes, copy, indicator, validate)\u001b[0m\n\u001b[0;32m    693\u001b[0m \u001b[39mself\u001b[39m\u001b[39m.\u001b[39m_cross \u001b[39m=\u001b[39m cross_col\n\u001b[0;32m    695\u001b[0m \u001b[39m# note this function has side effects\u001b[39;00m\n\u001b[0;32m    696\u001b[0m (\n\u001b[0;32m    697\u001b[0m     \u001b[39mself\u001b[39m\u001b[39m.\u001b[39mleft_join_keys,\n\u001b[0;32m    698\u001b[0m     \u001b[39mself\u001b[39m\u001b[39m.\u001b[39mright_join_keys,\n\u001b[0;32m    699\u001b[0m     \u001b[39mself\u001b[39m\u001b[39m.\u001b[39mjoin_names,\n\u001b[1;32m--> 700\u001b[0m ) \u001b[39m=\u001b[39m \u001b[39mself\u001b[39;49m\u001b[39m.\u001b[39;49m_get_merge_keys()\n\u001b[0;32m    702\u001b[0m \u001b[39m# validate the merge keys dtypes. We may need to coerce\u001b[39;00m\n\u001b[0;32m    703\u001b[0m \u001b[39m# to avoid incompatible dtypes\u001b[39;00m\n\u001b[0;32m    704\u001b[0m \u001b[39mself\u001b[39m\u001b[39m.\u001b[39m_maybe_coerce_merge_keys()\n",
      "File \u001b[1;32mc:\\Users\\maperezr\\Anaconda3\\lib\\site-packages\\pandas\\core\\reshape\\merge.py:1110\u001b[0m, in \u001b[0;36m_MergeOperation._get_merge_keys\u001b[1;34m(self)\u001b[0m\n\u001b[0;32m   1108\u001b[0m     right_keys\u001b[39m.\u001b[39mappend(rk)\n\u001b[0;32m   1109\u001b[0m \u001b[39mif\u001b[39;00m lk \u001b[39mis\u001b[39;00m \u001b[39mnot\u001b[39;00m \u001b[39mNone\u001b[39;00m:\n\u001b[1;32m-> 1110\u001b[0m     left_keys\u001b[39m.\u001b[39mappend(left\u001b[39m.\u001b[39;49m_get_label_or_level_values(lk))\n\u001b[0;32m   1111\u001b[0m     join_names\u001b[39m.\u001b[39mappend(lk)\n\u001b[0;32m   1112\u001b[0m \u001b[39melse\u001b[39;00m:\n\u001b[0;32m   1113\u001b[0m     \u001b[39m# work-around for merge_asof(left_index=True)\u001b[39;00m\n",
      "File \u001b[1;32mc:\\Users\\maperezr\\Anaconda3\\lib\\site-packages\\pandas\\core\\generic.py:1840\u001b[0m, in \u001b[0;36mNDFrame._get_label_or_level_values\u001b[1;34m(self, key, axis)\u001b[0m\n\u001b[0;32m   1838\u001b[0m     values \u001b[39m=\u001b[39m \u001b[39mself\u001b[39m\u001b[39m.\u001b[39maxes[axis]\u001b[39m.\u001b[39mget_level_values(key)\u001b[39m.\u001b[39m_values\n\u001b[0;32m   1839\u001b[0m \u001b[39melse\u001b[39;00m:\n\u001b[1;32m-> 1840\u001b[0m     \u001b[39mraise\u001b[39;00m \u001b[39mKeyError\u001b[39;00m(key)\n\u001b[0;32m   1842\u001b[0m \u001b[39m# Check for duplicates\u001b[39;00m\n\u001b[0;32m   1843\u001b[0m \u001b[39mif\u001b[39;00m values\u001b[39m.\u001b[39mndim \u001b[39m>\u001b[39m \u001b[39m1\u001b[39m:\n",
      "\u001b[1;31mKeyError\u001b[0m: 'LOC_SHIP'"
     ]
    }
   ],
   "source": [
    "f5 = f5.merge(tiendas, how = 'left', left_on = 'LOC_SHIP', right_on = 'LOC_ID' )\n",
    "f5.rename(columns={'LOC_ID':'loc_env'}, inplace=True)\n",
    "f5 = f5.merge(tiendas, how = 'left', left_on = 'LOC_REC', right_on = 'LOC_ID' )\n",
    "f5.rename(columns={'LOC_ID':'loc_rec'}, inplace=True)"
   ]
  },
  {
   "cell_type": "code",
   "execution_count": null,
   "metadata": {},
   "outputs": [],
   "source": [
    "f5.loc[f5['TRF_STATUS'] == 1, 'Estado'] = 'Reservado'\n",
    "f5.loc[f5['TRF_STATUS'] == 0, 'Estado'] = 'Work'\n",
    "f5.loc[f5['TRF_STATUS'] == -2, 'Estado'] = 'Iniciado'\n",
    "f5.loc[f5['TRF_STATUS'] == -1, 'Estado'] = 'Anulado'\n",
    "f5.loc[f5['TRF_STATUS'] == 4, 'Estado'] = 'Enviado'\n",
    "f5.loc[f5['TRF_STATUS'] == 5, 'Estado'] = 'Recibido'\n",
    "f5.loc[f5['TRF_STATUS'] == 6, 'Estado'] = 'Recibido c/Discrepancia'\n",
    "f5.loc[f5['TRF_STATUS'] == 7, 'Estado'] = 'Cerrada Estilo'"
   ]
  },
  {
   "cell_type": "code",
   "execution_count": null,
   "metadata": {},
   "outputs": [],
   "source": [
    "f5 = f5[['TRF_NUMBER', 'TRF_ENTRY_DATE', 'TRF_REC_DATE', 'LOC_SHIP','loc_env', 'LOC_REC', 'loc_rec',\n",
    "       'TRF_STATUS', 'PRD_UPC', 'TRF_REC_TO_DATE', 'TRF_UNIT_COST', 'Estado']]"
   ]
  },
  {
   "cell_type": "code",
   "execution_count": null,
   "metadata": {},
   "outputs": [],
   "source": [
    "f5['TRF_ENTRY_DATE'] = pd.to_datetime(f5['TRF_ENTRY_DATE'])\n",
    "f5['DIAS'] = (f5['TRF_ENTRY_DATE'].max() - f5['TRF_ENTRY_DATE'])\n",
    "f5['DIAS'] = f5['DIAS'].apply(lambda x :x.days)\n",
    "f5['TRF_UNIT_COST'] = pd.to_numeric(f5['TRF_UNIT_COST'])\n",
    "f5.loc[f5['DIAS'] <= 30, 'age'] = 'Menor a 30' \n",
    "f5.loc[(f5['DIAS'] > 30) & (f5['DIAS']<=60), 'age'] ='30 a 60'\n",
    "f5.loc[(f5['DIAS'] > 60) & (f5['DIAS']<=90), 'age'] ='61 a 90'\n",
    "f5.loc[(f5['DIAS'] > 90) & (f5['DIAS']<=120), 'age'] ='91 a 120'\n",
    "f5.loc[(f5['DIAS'] > 120) & (f5['DIAS']<=180) , 'age'] ='121 a 180'\n",
    "f5.loc[(f5['DIAS'] > 180), 'age'] = 'Mayor a 181'"
   ]
  },
  {
   "cell_type": "code",
   "execution_count": null,
   "metadata": {},
   "outputs": [],
   "source": [
    "tabla = make_tables(f5,'Estado', 'age', 'TRF_UNIT_COST', 'ant')"
   ]
  },
  {
   "cell_type": "code",
   "execution_count": null,
   "metadata": {},
   "outputs": [],
   "source": [
    "tabla.write_image(f'output/{dtstring}_antiguedad_f5.jpg', width=1000, height=200, engine='orca')"
   ]
  },
  {
   "cell_type": "code",
   "execution_count": null,
   "metadata": {},
   "outputs": [
    {
     "data": {
      "text/plain": [
       "Timestamp('2022-05-18 20:30:03+0000', tz='UTC')"
      ]
     },
     "execution_count": 74,
     "metadata": {},
     "output_type": "execute_result"
    }
   ],
   "source": [
    "f5['TRF_ENTRY_DATE'].max()"
   ]
  },
  {
   "cell_type": "markdown",
   "metadata": {},
   "source": [
    "por meses"
   ]
  },
  {
   "cell_type": "code",
   "execution_count": null,
   "metadata": {},
   "outputs": [],
   "source": [
    "f5_mes = pd.read_csv('input\\mes_f5.csv', dtype='object')"
   ]
  },
  {
   "cell_type": "code",
   "execution_count": null,
   "metadata": {},
   "outputs": [],
   "source": [
    "import calendar\n",
    "import numpy as np"
   ]
  },
  {
   "cell_type": "code",
   "execution_count": null,
   "metadata": {},
   "outputs": [],
   "source": [
    "f5_mes['mes'] = f5_mes['mes'].apply(lambda x : calendar.month_name[int(x)][:3] if type(x) == str else np.nan) "
   ]
  },
  {
   "cell_type": "code",
   "execution_count": null,
   "metadata": {},
   "outputs": [],
   "source": [
    "f5_mes['COSTO'] = pd.to_numeric(f5_mes['COSTO'])\n",
    "f5_mes = f5_mes.loc[f5_mes['mes'] != 'Sep']\n"
   ]
  },
  {
   "cell_type": "code",
   "execution_count": null,
   "metadata": {},
   "outputs": [],
   "source": [
    "orden = [calendar.month_name[x][:3] for x in range(1,13) ]"
   ]
  },
  {
   "cell_type": "code",
   "execution_count": null,
   "metadata": {},
   "outputs": [],
   "source": [
    "orden =['Oct',\n",
    " 'Nov',\n",
    " 'Dec',\n",
    " 'Jan',\n",
    " 'Feb',\n",
    " 'Mar',\n",
    " 'Apr',\n",
    " 'May',\n",
    " 'Jun',\n",
    " 'Jul',\n",
    " 'Aug']"
   ]
  },
  {
   "cell_type": "code",
   "execution_count": null,
   "metadata": {},
   "outputs": [],
   "source": [
    "from cgitb import text\n",
    "from unicodedata import category\n",
    "f5_mes_graf = px.bar(f5_mes, x = 'mes', y = 'COSTO', category_orders = {'mes' : orden}, text = 'COSTO', text_auto = '.2s', labels={'mes': 'Mes', 'COSTO': 'Costo' })\n",
    "f5_mes_graf.update_layout(legend = dict(yanchor = 'top', y = 0.95, xanchor = 'left', x = 0.1),font =dict(size = 15), margin=dict(l=0,r=10,b=0))\n",
    "f5_mes_graf.write_image(f'output/{dtstring}_f5_mes.png',  width=800, height=400, engine='orca')"
   ]
  },
  {
   "cell_type": "code",
   "execution_count": null,
   "metadata": {},
   "outputs": [],
   "source": []
  }
 ],
 "metadata": {
  "kernelspec": {
   "display_name": "Python 3.9.12 ('base')",
   "language": "python",
   "name": "python3"
  },
  "language_info": {
   "codemirror_mode": {
    "name": "ipython",
    "version": 3
   },
   "file_extension": ".py",
   "mimetype": "text/x-python",
   "name": "python",
   "nbconvert_exporter": "python",
   "pygments_lexer": "ipython3",
   "version": "3.9.12"
  },
  "orig_nbformat": 4,
  "vscode": {
   "interpreter": {
    "hash": "82a490cbc5ab7ede3fb5f9c339977e226ff85331602536a0bba4d2a51bd464ee"
   }
  }
 },
 "nbformat": 4,
 "nbformat_minor": 2
}
