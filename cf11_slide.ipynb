{
 "cells": [
  {
   "cell_type": "code",
   "execution_count": 206,
   "metadata": {},
   "outputs": [],
   "source": [
    "import pandas as pd\n",
    "import plotly.express as px\n",
    "from datetime import datetime, date\n",
    "dt_string = datetime.now().strftime('%y%m%d')\n",
    "pd.set_option('display.max_columns', 500)"
   ]
  },
  {
   "cell_type": "code",
   "execution_count": 207,
   "metadata": {},
   "outputs": [],
   "source": [
    "\n",
    "cd_name = \"220721-1648-cf11_cd_21-output\"\n",
    "cd_cf11 = pd.read_excel(f'input/{cd_name}.xlsx', sheet_name='DB', dtype=str)\n",
    "cd_cf11['origen'] = 'CD'"
   ]
  },
  {
   "cell_type": "code",
   "execution_count": 208,
   "metadata": {},
   "outputs": [],
   "source": [
    "tienda_name = \"220517-0940-cf11_tienda_21-output\"\n",
    "tienda_cf11 = pd.read_excel(f'input/{tienda_name}.xlsx', sheet_name='BD', dtype=str)\n",
    "tienda_cf11['origen'] = 'TIENDA'"
   ]
  },
  {
   "cell_type": "code",
   "execution_count": 209,
   "metadata": {},
   "outputs": [],
   "source": [
    "cd_to_del = ['indice_cf11','prd_upc', 'transportadora_nuevo', 'reporte_a_contabilidad', 'movimiento_contable',\n",
    "        'tranf_electro_factura', 'f3', 'f4', 'f5', 'f11_nuevo', 'f12',\n",
    "       'nota', 'ro', 'gco_dup', 'dupmc', 'error_ru', 'gco_dupall']\n",
    "cd_cf11.drop(cd_to_del, axis=1, inplace=True)"
   ]
  },
  {
   "cell_type": "code",
   "execution_count": 210,
   "metadata": {},
   "outputs": [],
   "source": [
    "tienda_to_del = ['indice_c11t', 'ean', 'propietario', 'f']\n",
    "tienda_cf11.drop(tienda_to_del, axis=1, inplace=True)"
   ]
  },
  {
   "cell_type": "code",
   "execution_count": 211,
   "metadata": {},
   "outputs": [],
   "source": [
    "tienda_cf11.rename(columns={'folio_servicio_tecnico':'n_folio', 'estado_servicio_tecnico':'estado_f11',\n",
    "       'costo_promedio':'costo_total', 'tipo_servicio_f11': 'xservicio', 'motivo_cierre':'status_final', 'cantidad_f11':'qproducto'}, inplace=True)"
   ]
  },
  {
   "cell_type": "code",
   "execution_count": 212,
   "metadata": {},
   "outputs": [],
   "source": [
    "con = pd.concat([cd_cf11, tienda_cf11])\n",
    "con['partition_date'] = date.today()\n",
    "con['costo_total'] = pd.to_numeric(con['costo_total'])\n",
    "con['status_final'] = con.status_final.str.capitalize()"
   ]
  },
  {
   "cell_type": "code",
   "execution_count": 213,
   "metadata": {},
   "outputs": [
    {
     "data": {
      "text/plain": [
       "array(['Coincidencia exacta F4+UPC+QTY', 'Coincidencia exacta F3+UPC+QTY',\n",
       "       'Registro sin nro. de f11 nuevo', 'Coincidencia exacta (F12|F11)',\n",
       "       'No coincide (F12|F11)', 'No coincide F5|UPC|Qty',\n",
       "       'Duplicidad verificada F12+UPC+Cantidad', nan,\n",
       "       'F11 nuevo no encontrado', 'Coincidencia exacta F5+UPC+QTY',\n",
       "       'No coincide F3|UPC|QTY', 'F11 nuevo en estado despachado',\n",
       "       'Registro de f11 nuevo encontrado',\n",
       "       'Recibido con fecha posterior al 14/01/2022',\n",
       "       'Duplicidad verificada F11+UPC+Cantidad',\n",
       "       'Cantidad de los F11s de un F4 > cantidad del F4',\n",
       "       'Coincidencia F4+UPC+QTY + Registro duplicado en DB',\n",
       "       'Error de clasificacion - Duplicidad F12+UPC+Cantidad',\n",
       "       'No coincide F4|UPC|QTY',\n",
       "       'Coincidencia (F12|F11) + Registro duplicado en DB',\n",
       "       'Registro duplicado F12 + UPC + Cantidad',\n",
       "       'Coincidencia F5+UPC+QTY - Se requiere F12|UPC|QTY para validar duplicidad',\n",
       "       'Cantidad de las F11s de un F5 > cantidad del F5',\n",
       "       'No coincide (F11|F3)+UPC+QTY',\n",
       "       'Coincidencia exacta (F11|F3)+UPC+QTY',\n",
       "       'Registro duplicado F+UPC+Cantidad',\n",
       "       'Coincidencia exacta (F11|F4)+UPC+QTY',\n",
       "       'No coincide (F11|F4)+UPC+QTY', 'Registro anulado',\n",
       "       'Cantidad de los F11s de un F3 > cantidad del F3'], dtype=object)"
      ]
     },
     "execution_count": 213,
     "metadata": {},
     "output_type": "execute_result"
    }
   ],
   "source": [
    "con['Comentario GCO'].unique()"
   ]
  },
  {
   "cell_type": "code",
   "execution_count": 214,
   "metadata": {},
   "outputs": [],
   "source": [
    "con_nov = [\n",
    "       'Registro sin nro. de f11 nuevo', \n",
    "       'No coincide F3|UPC|QTY', 'No coincide (F12|F11)',\n",
    "       'No coincide F5|UPC|Qty', 'Registro sin nro. de F4',\n",
    "       'F11 nuevo no encontrado',\n",
    "       'Recibido con fecha anterior al 14/01/2022', \n",
    "       'Recibido con fecha posterior al 14/01/2022', \n",
    "       'Registro duplicado F12 + UPC + Cantidad',\n",
    "       'Coincidencia F4+UPC+QTY + Registro duplicado en DB',\n",
    "       'Coincidencia (F12|F11) + Registro duplicado en DB',\n",
    "       'Registro con estado diferente a recibido',\n",
    "       'Cantidad de los F11s de un F4 > cantidad del F4',\n",
    "       'No coincide F4|UPC|QTY',\n",
    "       'Coincidencia F3+UPC+QTY + Registro duplicado en DB',\n",
    "       'No coincide (F11|F4)+UPC+QTY', 'No coincide (F11|F3)+UPC+QTY',\n",
    "       'Registro sin nro. de F5',\n",
    "       'Registro con año de reserva diferente a 2022',\n",
    "       'La cantidad sumada de los F11s de un F5 es mayor que la cantidad del F5',\n",
    "       'Registro duplicado F+UPC+Cantidad',\n",
    "       'Registro con año de confirmación diferente a 2022',\n",
    "       'Cantidad de los F11s de un F3 > cantidad del F3',\n",
    "       'Registro anulado','Coincidencia F5+UPC+QTY - Se requiere F12|UPC|QTY para validar duplicidad',\n",
    "       'Cantidad de las F11s de un F5 > cantidad del F5','Error de clasificacion - Duplicidad F12+UPC+Cantidad']\n",
    "\n",
    "sin_nov = ['Coincidencia exacta F4+UPC+QTY', 'Coincidencia exacta F3+UPC+QTY',\n",
    "'Coincidencia exacta (F12|F11)', 'F11 nuevo en estado despachado',\n",
    "'Coincidencia exacta F5+UPC+QTY', 'Coincidencia (F12|F11) - Se requiere F12|UPC|QTY para validar duplicidad',\n",
    "'Coincidencia exacta (F11|F3)+UPC+QTY', 'Coincidencia exacta (F11|F4)+UPC+QTY',\n",
    "'Duplicidad verificada F12+UPC+Cantidad', 'Duplicidad verificada F11+UPC+Cantidad',\n",
    " 'Error f11','Registro de f11 nuevo encontrado']\n",
    "\n",
    "con.loc[con['Comentario GCO'].isin(con_nov), 'rev'] = 'Con novedad'\n",
    "con.loc[con['Comentario GCO'].isin(sin_nov), 'rev'] = 'Sin novedad'\n",
    "con['rev'] = con['rev'].fillna('Pendiente')\n"
   ]
  },
  {
   "cell_type": "code",
   "execution_count": 215,
   "metadata": {},
   "outputs": [
    {
     "data": {
      "text/plain": [
       "0.07393760746745272"
      ]
     },
     "execution_count": 215,
     "metadata": {},
     "output_type": "execute_result"
    }
   ],
   "source": [
    "301/4071"
   ]
  },
  {
   "cell_type": "code",
   "execution_count": 216,
   "metadata": {},
   "outputs": [
    {
     "data": {
      "text/plain": [
       "Index(['nfolio', 'qproducto', 'xobservacion', 'xservicio', 'costo_total',\n",
       "       'estado_f11', 'status_final', 'sku', 'GCO', 'Comentario GCO', 'checked',\n",
       "       'fnandup', 'origen', 'n_folio', 'local_envio', 'partition_date', 'rev'],\n",
       "      dtype='object')"
      ]
     },
     "execution_count": 216,
     "metadata": {},
     "output_type": "execute_result"
    }
   ],
   "source": [
    "con.columns"
   ]
  },
  {
   "cell_type": "code",
   "execution_count": 217,
   "metadata": {},
   "outputs": [],
   "source": [
    "# CD\n",
    "cd_fi = [ 'Escalamiento li',  'Ingreso con sku trocado', 'Pendiente revisar', 'Ingresa con f12 trocado']\n",
    "cd_error = ['Error en creacion de f11', 'Con nuevo f11 en estado despachado', 'Error de cierre', 'Error en creacia3n de f11']\n",
    "con.loc[con.status_final.isin(cd_fi), 'status_final'] = 'Falta infomación CD'\n",
    "con.loc[con.status_final.isin(cd_error), 'status_final'] = 'Error cierre/creación F11'\n",
    "duplicados = ['Cierre x duplicidad f11+upc+qty', 'Cierre x duplicidad f12+upc+qty']\n",
    "con.loc[con.status_final.isin(duplicados), 'status_final'] = 'Duplicados'\n",
    "con.loc[con.status_final=='Cierre x producto guardado despues de inventario', 'status_final'] = 'Guardado después de inv'\n",
    "con.loc[con.status_final=='Cierre x producto guardado antes de inventario', 'status_final'] = 'Guardado antes de inv'\n",
    "\n",
    "\n",
    "con.loc[con.status_final=='Cierre x f3 devuelto a proveedor', 'status_final'] = 'F3 devuelto a proveedor'\n",
    "con.loc[con.status_final=='Cierre x f4 cobrado a terceros', 'status_final'] = 'F4 cobrado a terceros'\n"
   ]
  },
  {
   "cell_type": "code",
   "execution_count": 218,
   "metadata": {},
   "outputs": [],
   "source": [
    "# Tienda\n",
    "tienda_ct = ['Sin informacion - tienda', 'Duplicado con ajuste en tienda',\n",
    "       'Entregado en tienda', 'Cambio producto x nuevo', 'Dv','Ajuste inventarios', \n",
    "       'Entregado a cliente', 'Validar cierre con chile', 'F11 concesion', 'Nuevo f11']\n",
    "con.loc[con.status_final.isin(tienda_ct), 'status_final'] = 'Cierre en tienda'\n",
    "con.loc[con.status_final=='F3', 'status_final'] = 'F3 devuelto a proveedor'\n",
    "con.loc[con.status_final=='F4 en tienda', 'status_final'] = 'F4 de merma'\n",
    "con.loc[con.status_final=='F4', 'status_final'] = 'F4 de merma'"
   ]
  },
  {
   "cell_type": "code",
   "execution_count": 219,
   "metadata": {},
   "outputs": [],
   "source": [
    "con_total = con.groupby('status_final')['costo_total'].sum().sort_values(ascending=False).reset_index()"
   ]
  },
  {
   "cell_type": "code",
   "execution_count": 220,
   "metadata": {},
   "outputs": [],
   "source": [
    "total_f11s = con_total['costo_total'].sum()"
   ]
  },
  {
   "cell_type": "code",
   "execution_count": 221,
   "metadata": {},
   "outputs": [
    {
     "data": {
      "application/vnd.plotly.v1+json": {
       "config": {
        "plotlyServerURL": "https://plot.ly"
       },
       "data": [
        {
         "alignmentgroup": "True",
         "hovertemplate": "Motivo de cierre=%{x}<br>Total costo promedio=%{text}<extra></extra>",
         "legendgroup": "",
         "marker": {
          "color": "#636efa",
          "pattern": {
           "shape": ""
          }
         },
         "name": "",
         "offsetgroup": "",
         "orientation": "v",
         "showlegend": false,
         "text": [
          2307626670,
          1996228380,
          1786425652.395,
          1038288910.699,
          867844752,
          354847360.04399997,
          196426502.744,
          169684363,
          129968409,
          65332614.327,
          64064041,
          61290490,
          47020645,
          45655602,
          1015510,
          102067,
          69486
         ],
         "textposition": "auto",
         "texttemplate": "%{y:.2s}",
         "type": "bar",
         "x": [
          "Cierre por producto guardado despues de inventario",
          "Cierre por f4 cobrado a terceros",
          "F3 devuelto a proveedor",
          "Sin informacian - tienda",
          "Cierre por f3 devuelto a proveedor",
          "F4 de merma",
          "Cierre en tienda",
          "Error cierre/creación F11",
          "Duplicados",
          "F5",
          "Producto compensado con tienda - recibido",
          "Cierre por producto guardado antes de inventario",
          "F11 concesian",
          "Falta infomación CD",
          "Producto compensado con dv - recibido",
          "Escalamiento pv",
          "Validacion conciliaciones"
         ],
         "xaxis": "x",
         "y": [
          2307626670,
          1996228380,
          1786425652.395,
          1038288910.699,
          867844752,
          354847360.04399997,
          196426502.744,
          169684363,
          129968409,
          65332614.327,
          64064041,
          61290490,
          47020645,
          45655602,
          1015510,
          102067,
          69486
         ],
         "yaxis": "y"
        }
       ],
       "layout": {
        "barmode": "relative",
        "legend": {
         "tracegroupgap": 0
        },
        "template": {
         "data": {
          "bar": [
           {
            "error_x": {
             "color": "#2a3f5f"
            },
            "error_y": {
             "color": "#2a3f5f"
            },
            "marker": {
             "line": {
              "color": "#E5ECF6",
              "width": 0.5
             },
             "pattern": {
              "fillmode": "overlay",
              "size": 10,
              "solidity": 0.2
             }
            },
            "type": "bar"
           }
          ],
          "barpolar": [
           {
            "marker": {
             "line": {
              "color": "#E5ECF6",
              "width": 0.5
             },
             "pattern": {
              "fillmode": "overlay",
              "size": 10,
              "solidity": 0.2
             }
            },
            "type": "barpolar"
           }
          ],
          "carpet": [
           {
            "aaxis": {
             "endlinecolor": "#2a3f5f",
             "gridcolor": "white",
             "linecolor": "white",
             "minorgridcolor": "white",
             "startlinecolor": "#2a3f5f"
            },
            "baxis": {
             "endlinecolor": "#2a3f5f",
             "gridcolor": "white",
             "linecolor": "white",
             "minorgridcolor": "white",
             "startlinecolor": "#2a3f5f"
            },
            "type": "carpet"
           }
          ],
          "choropleth": [
           {
            "colorbar": {
             "outlinewidth": 0,
             "ticks": ""
            },
            "type": "choropleth"
           }
          ],
          "contour": [
           {
            "colorbar": {
             "outlinewidth": 0,
             "ticks": ""
            },
            "colorscale": [
             [
              0,
              "#0d0887"
             ],
             [
              0.1111111111111111,
              "#46039f"
             ],
             [
              0.2222222222222222,
              "#7201a8"
             ],
             [
              0.3333333333333333,
              "#9c179e"
             ],
             [
              0.4444444444444444,
              "#bd3786"
             ],
             [
              0.5555555555555556,
              "#d8576b"
             ],
             [
              0.6666666666666666,
              "#ed7953"
             ],
             [
              0.7777777777777778,
              "#fb9f3a"
             ],
             [
              0.8888888888888888,
              "#fdca26"
             ],
             [
              1,
              "#f0f921"
             ]
            ],
            "type": "contour"
           }
          ],
          "contourcarpet": [
           {
            "colorbar": {
             "outlinewidth": 0,
             "ticks": ""
            },
            "type": "contourcarpet"
           }
          ],
          "heatmap": [
           {
            "colorbar": {
             "outlinewidth": 0,
             "ticks": ""
            },
            "colorscale": [
             [
              0,
              "#0d0887"
             ],
             [
              0.1111111111111111,
              "#46039f"
             ],
             [
              0.2222222222222222,
              "#7201a8"
             ],
             [
              0.3333333333333333,
              "#9c179e"
             ],
             [
              0.4444444444444444,
              "#bd3786"
             ],
             [
              0.5555555555555556,
              "#d8576b"
             ],
             [
              0.6666666666666666,
              "#ed7953"
             ],
             [
              0.7777777777777778,
              "#fb9f3a"
             ],
             [
              0.8888888888888888,
              "#fdca26"
             ],
             [
              1,
              "#f0f921"
             ]
            ],
            "type": "heatmap"
           }
          ],
          "heatmapgl": [
           {
            "colorbar": {
             "outlinewidth": 0,
             "ticks": ""
            },
            "colorscale": [
             [
              0,
              "#0d0887"
             ],
             [
              0.1111111111111111,
              "#46039f"
             ],
             [
              0.2222222222222222,
              "#7201a8"
             ],
             [
              0.3333333333333333,
              "#9c179e"
             ],
             [
              0.4444444444444444,
              "#bd3786"
             ],
             [
              0.5555555555555556,
              "#d8576b"
             ],
             [
              0.6666666666666666,
              "#ed7953"
             ],
             [
              0.7777777777777778,
              "#fb9f3a"
             ],
             [
              0.8888888888888888,
              "#fdca26"
             ],
             [
              1,
              "#f0f921"
             ]
            ],
            "type": "heatmapgl"
           }
          ],
          "histogram": [
           {
            "marker": {
             "pattern": {
              "fillmode": "overlay",
              "size": 10,
              "solidity": 0.2
             }
            },
            "type": "histogram"
           }
          ],
          "histogram2d": [
           {
            "colorbar": {
             "outlinewidth": 0,
             "ticks": ""
            },
            "colorscale": [
             [
              0,
              "#0d0887"
             ],
             [
              0.1111111111111111,
              "#46039f"
             ],
             [
              0.2222222222222222,
              "#7201a8"
             ],
             [
              0.3333333333333333,
              "#9c179e"
             ],
             [
              0.4444444444444444,
              "#bd3786"
             ],
             [
              0.5555555555555556,
              "#d8576b"
             ],
             [
              0.6666666666666666,
              "#ed7953"
             ],
             [
              0.7777777777777778,
              "#fb9f3a"
             ],
             [
              0.8888888888888888,
              "#fdca26"
             ],
             [
              1,
              "#f0f921"
             ]
            ],
            "type": "histogram2d"
           }
          ],
          "histogram2dcontour": [
           {
            "colorbar": {
             "outlinewidth": 0,
             "ticks": ""
            },
            "colorscale": [
             [
              0,
              "#0d0887"
             ],
             [
              0.1111111111111111,
              "#46039f"
             ],
             [
              0.2222222222222222,
              "#7201a8"
             ],
             [
              0.3333333333333333,
              "#9c179e"
             ],
             [
              0.4444444444444444,
              "#bd3786"
             ],
             [
              0.5555555555555556,
              "#d8576b"
             ],
             [
              0.6666666666666666,
              "#ed7953"
             ],
             [
              0.7777777777777778,
              "#fb9f3a"
             ],
             [
              0.8888888888888888,
              "#fdca26"
             ],
             [
              1,
              "#f0f921"
             ]
            ],
            "type": "histogram2dcontour"
           }
          ],
          "mesh3d": [
           {
            "colorbar": {
             "outlinewidth": 0,
             "ticks": ""
            },
            "type": "mesh3d"
           }
          ],
          "parcoords": [
           {
            "line": {
             "colorbar": {
              "outlinewidth": 0,
              "ticks": ""
             }
            },
            "type": "parcoords"
           }
          ],
          "pie": [
           {
            "automargin": true,
            "type": "pie"
           }
          ],
          "scatter": [
           {
            "marker": {
             "colorbar": {
              "outlinewidth": 0,
              "ticks": ""
             }
            },
            "type": "scatter"
           }
          ],
          "scatter3d": [
           {
            "line": {
             "colorbar": {
              "outlinewidth": 0,
              "ticks": ""
             }
            },
            "marker": {
             "colorbar": {
              "outlinewidth": 0,
              "ticks": ""
             }
            },
            "type": "scatter3d"
           }
          ],
          "scattercarpet": [
           {
            "marker": {
             "colorbar": {
              "outlinewidth": 0,
              "ticks": ""
             }
            },
            "type": "scattercarpet"
           }
          ],
          "scattergeo": [
           {
            "marker": {
             "colorbar": {
              "outlinewidth": 0,
              "ticks": ""
             }
            },
            "type": "scattergeo"
           }
          ],
          "scattergl": [
           {
            "marker": {
             "colorbar": {
              "outlinewidth": 0,
              "ticks": ""
             }
            },
            "type": "scattergl"
           }
          ],
          "scattermapbox": [
           {
            "marker": {
             "colorbar": {
              "outlinewidth": 0,
              "ticks": ""
             }
            },
            "type": "scattermapbox"
           }
          ],
          "scatterpolar": [
           {
            "marker": {
             "colorbar": {
              "outlinewidth": 0,
              "ticks": ""
             }
            },
            "type": "scatterpolar"
           }
          ],
          "scatterpolargl": [
           {
            "marker": {
             "colorbar": {
              "outlinewidth": 0,
              "ticks": ""
             }
            },
            "type": "scatterpolargl"
           }
          ],
          "scatterternary": [
           {
            "marker": {
             "colorbar": {
              "outlinewidth": 0,
              "ticks": ""
             }
            },
            "type": "scatterternary"
           }
          ],
          "surface": [
           {
            "colorbar": {
             "outlinewidth": 0,
             "ticks": ""
            },
            "colorscale": [
             [
              0,
              "#0d0887"
             ],
             [
              0.1111111111111111,
              "#46039f"
             ],
             [
              0.2222222222222222,
              "#7201a8"
             ],
             [
              0.3333333333333333,
              "#9c179e"
             ],
             [
              0.4444444444444444,
              "#bd3786"
             ],
             [
              0.5555555555555556,
              "#d8576b"
             ],
             [
              0.6666666666666666,
              "#ed7953"
             ],
             [
              0.7777777777777778,
              "#fb9f3a"
             ],
             [
              0.8888888888888888,
              "#fdca26"
             ],
             [
              1,
              "#f0f921"
             ]
            ],
            "type": "surface"
           }
          ],
          "table": [
           {
            "cells": {
             "fill": {
              "color": "#EBF0F8"
             },
             "line": {
              "color": "white"
             }
            },
            "header": {
             "fill": {
              "color": "#C8D4E3"
             },
             "line": {
              "color": "white"
             }
            },
            "type": "table"
           }
          ]
         },
         "layout": {
          "annotationdefaults": {
           "arrowcolor": "#2a3f5f",
           "arrowhead": 0,
           "arrowwidth": 1
          },
          "autotypenumbers": "strict",
          "coloraxis": {
           "colorbar": {
            "outlinewidth": 0,
            "ticks": ""
           }
          },
          "colorscale": {
           "diverging": [
            [
             0,
             "#8e0152"
            ],
            [
             0.1,
             "#c51b7d"
            ],
            [
             0.2,
             "#de77ae"
            ],
            [
             0.3,
             "#f1b6da"
            ],
            [
             0.4,
             "#fde0ef"
            ],
            [
             0.5,
             "#f7f7f7"
            ],
            [
             0.6,
             "#e6f5d0"
            ],
            [
             0.7,
             "#b8e186"
            ],
            [
             0.8,
             "#7fbc41"
            ],
            [
             0.9,
             "#4d9221"
            ],
            [
             1,
             "#276419"
            ]
           ],
           "sequential": [
            [
             0,
             "#0d0887"
            ],
            [
             0.1111111111111111,
             "#46039f"
            ],
            [
             0.2222222222222222,
             "#7201a8"
            ],
            [
             0.3333333333333333,
             "#9c179e"
            ],
            [
             0.4444444444444444,
             "#bd3786"
            ],
            [
             0.5555555555555556,
             "#d8576b"
            ],
            [
             0.6666666666666666,
             "#ed7953"
            ],
            [
             0.7777777777777778,
             "#fb9f3a"
            ],
            [
             0.8888888888888888,
             "#fdca26"
            ],
            [
             1,
             "#f0f921"
            ]
           ],
           "sequentialminus": [
            [
             0,
             "#0d0887"
            ],
            [
             0.1111111111111111,
             "#46039f"
            ],
            [
             0.2222222222222222,
             "#7201a8"
            ],
            [
             0.3333333333333333,
             "#9c179e"
            ],
            [
             0.4444444444444444,
             "#bd3786"
            ],
            [
             0.5555555555555556,
             "#d8576b"
            ],
            [
             0.6666666666666666,
             "#ed7953"
            ],
            [
             0.7777777777777778,
             "#fb9f3a"
            ],
            [
             0.8888888888888888,
             "#fdca26"
            ],
            [
             1,
             "#f0f921"
            ]
           ]
          },
          "colorway": [
           "#636efa",
           "#EF553B",
           "#00cc96",
           "#ab63fa",
           "#FFA15A",
           "#19d3f3",
           "#FF6692",
           "#B6E880",
           "#FF97FF",
           "#FECB52"
          ],
          "font": {
           "color": "#2a3f5f"
          },
          "geo": {
           "bgcolor": "white",
           "lakecolor": "white",
           "landcolor": "#E5ECF6",
           "showlakes": true,
           "showland": true,
           "subunitcolor": "white"
          },
          "hoverlabel": {
           "align": "left"
          },
          "hovermode": "closest",
          "mapbox": {
           "style": "light"
          },
          "paper_bgcolor": "white",
          "plot_bgcolor": "#E5ECF6",
          "polar": {
           "angularaxis": {
            "gridcolor": "white",
            "linecolor": "white",
            "ticks": ""
           },
           "bgcolor": "#E5ECF6",
           "radialaxis": {
            "gridcolor": "white",
            "linecolor": "white",
            "ticks": ""
           }
          },
          "scene": {
           "xaxis": {
            "backgroundcolor": "#E5ECF6",
            "gridcolor": "white",
            "gridwidth": 2,
            "linecolor": "white",
            "showbackground": true,
            "ticks": "",
            "zerolinecolor": "white"
           },
           "yaxis": {
            "backgroundcolor": "#E5ECF6",
            "gridcolor": "white",
            "gridwidth": 2,
            "linecolor": "white",
            "showbackground": true,
            "ticks": "",
            "zerolinecolor": "white"
           },
           "zaxis": {
            "backgroundcolor": "#E5ECF6",
            "gridcolor": "white",
            "gridwidth": 2,
            "linecolor": "white",
            "showbackground": true,
            "ticks": "",
            "zerolinecolor": "white"
           }
          },
          "shapedefaults": {
           "line": {
            "color": "#2a3f5f"
           }
          },
          "ternary": {
           "aaxis": {
            "gridcolor": "white",
            "linecolor": "white",
            "ticks": ""
           },
           "baxis": {
            "gridcolor": "white",
            "linecolor": "white",
            "ticks": ""
           },
           "bgcolor": "#E5ECF6",
           "caxis": {
            "gridcolor": "white",
            "linecolor": "white",
            "ticks": ""
           }
          },
          "title": {
           "x": 0.05
          },
          "xaxis": {
           "automargin": true,
           "gridcolor": "white",
           "linecolor": "white",
           "ticks": "",
           "title": {
            "standoff": 15
           },
           "zerolinecolor": "white",
           "zerolinewidth": 2
          },
          "yaxis": {
           "automargin": true,
           "gridcolor": "white",
           "linecolor": "white",
           "ticks": "",
           "title": {
            "standoff": 15
           },
           "zerolinecolor": "white",
           "zerolinewidth": 2
          }
         }
        },
        "title": {
         "text": "Costo total de F11s según motivos de cierre - $ 9,132M"
        },
        "xaxis": {
         "anchor": "y",
         "domain": [
          0,
          1
         ],
         "title": {
          "text": "Motivo de cierre"
         }
        },
        "yaxis": {
         "anchor": "x",
         "domain": [
          0,
          1
         ],
         "title": {
          "text": "Total costo promedio"
         }
        }
       }
      }
     },
     "metadata": {},
     "output_type": "display_data"
    }
   ],
   "source": [
    "fig_con_total = px.bar(con_total, x ='status_final', y='costo_total', title=f\"Costo total de F11s según motivos de cierre - $ {total_f11s/1e6:,.0f}M\", labels={ 'costo_total':'Total costo promedio', 'status_final':'Motivo de cierre', 'GRUPO':'Local'}, text='costo_total',text_auto='.2s' ) #category_orders=co ) \n",
    "#fig_con_total.update_layout(legend=dict(yanchor=\"top\", y=0.9, xanchor=\"left\", x=0.1))\n",
    "# fig_con_total.write_image(f'images/{dt_string}_con_total.svg',width=1300, height=300, engine='orca') # 820 , 350 \n",
    "fig_con_total.show()"
   ]
  },
  {
   "cell_type": "code",
   "execution_count": 222,
   "metadata": {},
   "outputs": [
    {
     "data": {
      "text/plain": [
       "array(['Coincidencia exacta F4+UPC+QTY', 'Coincidencia exacta F3+UPC+QTY',\n",
       "       'Registro sin nro. de f11 nuevo', 'Coincidencia exacta (F12|F11)',\n",
       "       'No coincide (F12|F11)', 'No coincide F5|UPC|Qty',\n",
       "       'Duplicidad verificada F12+UPC+Cantidad', nan,\n",
       "       'F11 nuevo no encontrado', 'Coincidencia exacta F5+UPC+QTY',\n",
       "       'No coincide F3|UPC|QTY', 'F11 nuevo en estado despachado',\n",
       "       'Registro de f11 nuevo encontrado',\n",
       "       'Recibido con fecha posterior al 14/01/2022',\n",
       "       'Duplicidad verificada F11+UPC+Cantidad',\n",
       "       'Cantidad de los F11s de un F4 > cantidad del F4',\n",
       "       'Coincidencia F4+UPC+QTY + Registro duplicado en DB',\n",
       "       'Error de clasificacion - Duplicidad F12+UPC+Cantidad',\n",
       "       'No coincide F4|UPC|QTY',\n",
       "       'Coincidencia (F12|F11) + Registro duplicado en DB',\n",
       "       'Registro duplicado F12 + UPC + Cantidad',\n",
       "       'Coincidencia F5+UPC+QTY - Se requiere F12|UPC|QTY para validar duplicidad',\n",
       "       'Cantidad de las F11s de un F5 > cantidad del F5',\n",
       "       'No coincide (F11|F3)+UPC+QTY',\n",
       "       'Coincidencia exacta (F11|F3)+UPC+QTY',\n",
       "       'Registro duplicado F+UPC+Cantidad',\n",
       "       'Coincidencia exacta (F11|F4)+UPC+QTY',\n",
       "       'No coincide (F11|F4)+UPC+QTY', 'Registro anulado',\n",
       "       'Cantidad de los F11s de un F3 > cantidad del F3'], dtype=object)"
      ]
     },
     "execution_count": 222,
     "metadata": {},
     "output_type": "execute_result"
    }
   ],
   "source": [
    "con['Comentario GCO'].unique()"
   ]
  },
  {
   "cell_type": "code",
   "execution_count": 223,
   "metadata": {},
   "outputs": [
    {
     "data": {
      "text/html": [
       "<div>\n",
       "<style scoped>\n",
       "    .dataframe tbody tr th:only-of-type {\n",
       "        vertical-align: middle;\n",
       "    }\n",
       "\n",
       "    .dataframe tbody tr th {\n",
       "        vertical-align: top;\n",
       "    }\n",
       "\n",
       "    .dataframe thead th {\n",
       "        text-align: right;\n",
       "    }\n",
       "</style>\n",
       "<table border=\"1\" class=\"dataframe\">\n",
       "  <thead>\n",
       "    <tr style=\"text-align: right;\">\n",
       "      <th></th>\n",
       "      <th>nfolio</th>\n",
       "      <th>qproducto</th>\n",
       "      <th>xobservacion</th>\n",
       "      <th>xservicio</th>\n",
       "      <th>costo_total</th>\n",
       "      <th>estado_f11</th>\n",
       "      <th>status_final</th>\n",
       "      <th>sku</th>\n",
       "      <th>GCO</th>\n",
       "      <th>Comentario GCO</th>\n",
       "      <th>checked</th>\n",
       "      <th>fnandup</th>\n",
       "      <th>origen</th>\n",
       "      <th>n_folio</th>\n",
       "      <th>local_envio</th>\n",
       "      <th>partition_date</th>\n",
       "      <th>rev</th>\n",
       "    </tr>\n",
       "  </thead>\n",
       "  <tbody>\n",
       "    <tr>\n",
       "      <th>593</th>\n",
       "      <td>1111259769</td>\n",
       "      <td>1</td>\n",
       "      <td>NaN</td>\n",
       "      <td>retiro f12</td>\n",
       "      <td>12138.000</td>\n",
       "      <td>entrega total</td>\n",
       "      <td>Falta infomación CD</td>\n",
       "      <td>881863466</td>\n",
       "      <td>NaN</td>\n",
       "      <td>NaN</td>\n",
       "      <td>n</td>\n",
       "      <td>NaN</td>\n",
       "      <td>CD</td>\n",
       "      <td>NaN</td>\n",
       "      <td>NaN</td>\n",
       "      <td>2022-07-21</td>\n",
       "      <td>Pendiente</td>\n",
       "    </tr>\n",
       "    <tr>\n",
       "      <th>767</th>\n",
       "      <td>1111275073</td>\n",
       "      <td>1</td>\n",
       "      <td>NaN</td>\n",
       "      <td>retiro f12</td>\n",
       "      <td>56700.000</td>\n",
       "      <td>entrega total</td>\n",
       "      <td>Falta infomación CD</td>\n",
       "      <td>8265836</td>\n",
       "      <td>NaN</td>\n",
       "      <td>NaN</td>\n",
       "      <td>n</td>\n",
       "      <td>NaN</td>\n",
       "      <td>CD</td>\n",
       "      <td>NaN</td>\n",
       "      <td>NaN</td>\n",
       "      <td>2022-07-21</td>\n",
       "      <td>Pendiente</td>\n",
       "    </tr>\n",
       "    <tr>\n",
       "      <th>2172</th>\n",
       "      <td>1111358868</td>\n",
       "      <td>1</td>\n",
       "      <td>NaN</td>\n",
       "      <td>retiro f12</td>\n",
       "      <td>34148.000</td>\n",
       "      <td>entrega total</td>\n",
       "      <td>Falta infomación CD</td>\n",
       "      <td>881416946</td>\n",
       "      <td>NaN</td>\n",
       "      <td>NaN</td>\n",
       "      <td>n</td>\n",
       "      <td>NaN</td>\n",
       "      <td>CD</td>\n",
       "      <td>NaN</td>\n",
       "      <td>NaN</td>\n",
       "      <td>2022-07-21</td>\n",
       "      <td>Pendiente</td>\n",
       "    </tr>\n",
       "    <tr>\n",
       "      <th>2181</th>\n",
       "      <td>1111359001</td>\n",
       "      <td>1</td>\n",
       "      <td>NaN</td>\n",
       "      <td>retiro f12</td>\n",
       "      <td>181827.000</td>\n",
       "      <td>entrega total</td>\n",
       "      <td>Falta infomación CD</td>\n",
       "      <td>10846153</td>\n",
       "      <td>NaN</td>\n",
       "      <td>NaN</td>\n",
       "      <td>n</td>\n",
       "      <td>NaN</td>\n",
       "      <td>CD</td>\n",
       "      <td>NaN</td>\n",
       "      <td>NaN</td>\n",
       "      <td>2022-07-21</td>\n",
       "      <td>Pendiente</td>\n",
       "    </tr>\n",
       "    <tr>\n",
       "      <th>2337</th>\n",
       "      <td>1111362346</td>\n",
       "      <td>1</td>\n",
       "      <td>NaN</td>\n",
       "      <td>retiro f12</td>\n",
       "      <td>26595.000</td>\n",
       "      <td>entrega total</td>\n",
       "      <td>Falta infomación CD</td>\n",
       "      <td>13008323</td>\n",
       "      <td>NaN</td>\n",
       "      <td>NaN</td>\n",
       "      <td>n</td>\n",
       "      <td>NaN</td>\n",
       "      <td>CD</td>\n",
       "      <td>NaN</td>\n",
       "      <td>NaN</td>\n",
       "      <td>2022-07-21</td>\n",
       "      <td>Pendiente</td>\n",
       "    </tr>\n",
       "    <tr>\n",
       "      <th>...</th>\n",
       "      <td>...</td>\n",
       "      <td>...</td>\n",
       "      <td>...</td>\n",
       "      <td>...</td>\n",
       "      <td>...</td>\n",
       "      <td>...</td>\n",
       "      <td>...</td>\n",
       "      <td>...</td>\n",
       "      <td>...</td>\n",
       "      <td>...</td>\n",
       "      <td>...</td>\n",
       "      <td>...</td>\n",
       "      <td>...</td>\n",
       "      <td>...</td>\n",
       "      <td>...</td>\n",
       "      <td>...</td>\n",
       "      <td>...</td>\n",
       "    </tr>\n",
       "    <tr>\n",
       "      <th>3670</th>\n",
       "      <td>NaN</td>\n",
       "      <td>1</td>\n",
       "      <td>NaN</td>\n",
       "      <td>s.tecnico</td>\n",
       "      <td>1452545.488</td>\n",
       "      <td>entrega total</td>\n",
       "      <td>Sin informacian - tienda</td>\n",
       "      <td>NaN</td>\n",
       "      <td>NaN</td>\n",
       "      <td>NaN</td>\n",
       "      <td>n</td>\n",
       "      <td>NaN</td>\n",
       "      <td>TIENDA</td>\n",
       "      <td>1111647085</td>\n",
       "      <td>25</td>\n",
       "      <td>2022-07-21</td>\n",
       "      <td>Pendiente</td>\n",
       "    </tr>\n",
       "    <tr>\n",
       "      <th>3671</th>\n",
       "      <td>NaN</td>\n",
       "      <td>1</td>\n",
       "      <td>NaN</td>\n",
       "      <td>s.tecnico</td>\n",
       "      <td>418598.533</td>\n",
       "      <td>entrega total</td>\n",
       "      <td>Sin informacian - tienda</td>\n",
       "      <td>NaN</td>\n",
       "      <td>NaN</td>\n",
       "      <td>NaN</td>\n",
       "      <td>n</td>\n",
       "      <td>NaN</td>\n",
       "      <td>TIENDA</td>\n",
       "      <td>1111647924</td>\n",
       "      <td>60</td>\n",
       "      <td>2022-07-21</td>\n",
       "      <td>Pendiente</td>\n",
       "    </tr>\n",
       "    <tr>\n",
       "      <th>3672</th>\n",
       "      <td>NaN</td>\n",
       "      <td>1</td>\n",
       "      <td>NaN</td>\n",
       "      <td>s.tecnico</td>\n",
       "      <td>1512772.131</td>\n",
       "      <td>entrega total</td>\n",
       "      <td>Sin informacian - tienda</td>\n",
       "      <td>NaN</td>\n",
       "      <td>NaN</td>\n",
       "      <td>NaN</td>\n",
       "      <td>n</td>\n",
       "      <td>NaN</td>\n",
       "      <td>TIENDA</td>\n",
       "      <td>1111647931</td>\n",
       "      <td>50</td>\n",
       "      <td>2022-07-21</td>\n",
       "      <td>Pendiente</td>\n",
       "    </tr>\n",
       "    <tr>\n",
       "      <th>3673</th>\n",
       "      <td>NaN</td>\n",
       "      <td>1</td>\n",
       "      <td>NaN</td>\n",
       "      <td>s.tecnico</td>\n",
       "      <td>608913.000</td>\n",
       "      <td>entrega total</td>\n",
       "      <td>Sin informacian - tienda</td>\n",
       "      <td>NaN</td>\n",
       "      <td>NaN</td>\n",
       "      <td>NaN</td>\n",
       "      <td>n</td>\n",
       "      <td>NaN</td>\n",
       "      <td>TIENDA</td>\n",
       "      <td>1111648686</td>\n",
       "      <td>82</td>\n",
       "      <td>2022-07-21</td>\n",
       "      <td>Pendiente</td>\n",
       "    </tr>\n",
       "    <tr>\n",
       "      <th>3674</th>\n",
       "      <td>NaN</td>\n",
       "      <td>1</td>\n",
       "      <td>NaN</td>\n",
       "      <td>s.tecnico</td>\n",
       "      <td>1590756.000</td>\n",
       "      <td>entrega total</td>\n",
       "      <td>Sin informacian - tienda</td>\n",
       "      <td>NaN</td>\n",
       "      <td>NaN</td>\n",
       "      <td>NaN</td>\n",
       "      <td>n</td>\n",
       "      <td>NaN</td>\n",
       "      <td>TIENDA</td>\n",
       "      <td>1111657732</td>\n",
       "      <td>183</td>\n",
       "      <td>2022-07-21</td>\n",
       "      <td>Pendiente</td>\n",
       "    </tr>\n",
       "  </tbody>\n",
       "</table>\n",
       "<p>1464 rows × 17 columns</p>\n",
       "</div>"
      ],
      "text/plain": [
       "          nfolio qproducto xobservacion   xservicio  costo_total  \\\n",
       "593   1111259769         1          NaN  retiro f12    12138.000   \n",
       "767   1111275073         1          NaN  retiro f12    56700.000   \n",
       "2172  1111358868         1          NaN  retiro f12    34148.000   \n",
       "2181  1111359001         1          NaN  retiro f12   181827.000   \n",
       "2337  1111362346         1          NaN  retiro f12    26595.000   \n",
       "...          ...       ...          ...         ...          ...   \n",
       "3670         NaN         1          NaN   s.tecnico  1452545.488   \n",
       "3671         NaN         1          NaN   s.tecnico   418598.533   \n",
       "3672         NaN         1          NaN   s.tecnico  1512772.131   \n",
       "3673         NaN         1          NaN   s.tecnico   608913.000   \n",
       "3674         NaN         1          NaN   s.tecnico  1590756.000   \n",
       "\n",
       "         estado_f11              status_final        sku  GCO Comentario GCO  \\\n",
       "593   entrega total       Falta infomación CD  881863466  NaN            NaN   \n",
       "767   entrega total       Falta infomación CD    8265836  NaN            NaN   \n",
       "2172  entrega total       Falta infomación CD  881416946  NaN            NaN   \n",
       "2181  entrega total       Falta infomación CD   10846153  NaN            NaN   \n",
       "2337  entrega total       Falta infomación CD   13008323  NaN            NaN   \n",
       "...             ...                       ...        ...  ...            ...   \n",
       "3670  entrega total  Sin informacian - tienda        NaN  NaN            NaN   \n",
       "3671  entrega total  Sin informacian - tienda        NaN  NaN            NaN   \n",
       "3672  entrega total  Sin informacian - tienda        NaN  NaN            NaN   \n",
       "3673  entrega total  Sin informacian - tienda        NaN  NaN            NaN   \n",
       "3674  entrega total  Sin informacian - tienda        NaN  NaN            NaN   \n",
       "\n",
       "     checked fnandup  origen     n_folio local_envio partition_date        rev  \n",
       "593        n     NaN      CD         NaN         NaN     2022-07-21  Pendiente  \n",
       "767        n     NaN      CD         NaN         NaN     2022-07-21  Pendiente  \n",
       "2172       n     NaN      CD         NaN         NaN     2022-07-21  Pendiente  \n",
       "2181       n     NaN      CD         NaN         NaN     2022-07-21  Pendiente  \n",
       "2337       n     NaN      CD         NaN         NaN     2022-07-21  Pendiente  \n",
       "...      ...     ...     ...         ...         ...            ...        ...  \n",
       "3670       n     NaN  TIENDA  1111647085          25     2022-07-21  Pendiente  \n",
       "3671       n     NaN  TIENDA  1111647924          60     2022-07-21  Pendiente  \n",
       "3672       n     NaN  TIENDA  1111647931          50     2022-07-21  Pendiente  \n",
       "3673       n     NaN  TIENDA  1111648686          82     2022-07-21  Pendiente  \n",
       "3674       n     NaN  TIENDA  1111657732         183     2022-07-21  Pendiente  \n",
       "\n",
       "[1464 rows x 17 columns]"
      ]
     },
     "execution_count": 223,
     "metadata": {},
     "output_type": "execute_result"
    }
   ],
   "source": [
    "con.loc[con.rev == 'Pendiente']"
   ]
  },
  {
   "cell_type": "code",
   "execution_count": 224,
   "metadata": {},
   "outputs": [],
   "source": [
    "con_cd = con.loc[con.origen =='CD'].groupby(['status_final', 'rev'], sort=False)['costo_total'].sum().sort_values(ascending=False).reset_index()"
   ]
  },
  {
   "cell_type": "code",
   "execution_count": 225,
   "metadata": {},
   "outputs": [],
   "source": [
    "motivos = con_cd.status_final.unique()\n",
    "gb_motivos_cd = con_cd.groupby('status_final')['costo_total'].sum().reset_index()\n",
    "gb_motivos_cd.set_index('status_final', inplace=True)\n",
    "for motivo in motivos:\n",
    "    con_cd.loc[con_cd['status_final']==motivo, 'status_final'] = f'{motivo} - ${round(gb_motivos_cd.loc[motivo, \"costo_total\"]/1e6):,.0f}M'"
   ]
  },
  {
   "cell_type": "code",
   "execution_count": 226,
   "metadata": {},
   "outputs": [],
   "source": [
    "revs = con_cd.rev.unique()\n",
    "gb_rev_cd = con_cd.groupby('rev')['costo_total'].sum().reset_index()\n",
    "gb_rev_cd.set_index('rev', inplace=True)\n",
    "for rev in revs:\n",
    "    con_cd.loc[con_cd['rev']==rev, 'rev'] = f'{rev} - ${round(gb_rev_cd.loc[rev, \"costo_total\"]/1e6):,.0f}M'"
   ]
  },
  {
   "cell_type": "code",
   "execution_count": 227,
   "metadata": {},
   "outputs": [],
   "source": [
    "revs =  [con_cd.loc[con_cd['rev'].str.contains(r'Sin novedad'), 'rev'].unique()[0], con_cd.loc[con_cd['rev'].str.contains(r'Con novedad'), 'rev'].unique()[0], con_cd.loc[con_cd['rev'].str.contains(r'Pendiente'), 'rev'].unique()[0]]\n",
    "co_cd = {'rev': revs, 'status_final':con_cd.status_final.unique()}"
   ]
  },
  {
   "cell_type": "code",
   "execution_count": 228,
   "metadata": {},
   "outputs": [],
   "source": [
    "total_cd= con_cd['costo_total'].sum()"
   ]
  },
  {
   "cell_type": "code",
   "execution_count": 229,
   "metadata": {},
   "outputs": [
    {
     "data": {
      "text/html": [
       "<div>\n",
       "<style scoped>\n",
       "    .dataframe tbody tr th:only-of-type {\n",
       "        vertical-align: middle;\n",
       "    }\n",
       "\n",
       "    .dataframe tbody tr th {\n",
       "        vertical-align: top;\n",
       "    }\n",
       "\n",
       "    .dataframe thead th {\n",
       "        text-align: right;\n",
       "    }\n",
       "</style>\n",
       "<table border=\"1\" class=\"dataframe\">\n",
       "  <thead>\n",
       "    <tr style=\"text-align: right;\">\n",
       "      <th></th>\n",
       "      <th>status_final</th>\n",
       "      <th>rev</th>\n",
       "      <th>costo_total</th>\n",
       "    </tr>\n",
       "  </thead>\n",
       "  <tbody>\n",
       "    <tr>\n",
       "      <th>0</th>\n",
       "      <td>Cierre por producto guardado despues de invent...</td>\n",
       "      <td>Sin novedad - $5,557M</td>\n",
       "      <td>2.176082e+09</td>\n",
       "    </tr>\n",
       "    <tr>\n",
       "      <th>1</th>\n",
       "      <td>Cierre por f4 cobrado a terceros - $1,996M</td>\n",
       "      <td>Sin novedad - $5,557M</td>\n",
       "      <td>1.986231e+09</td>\n",
       "    </tr>\n",
       "    <tr>\n",
       "      <th>2</th>\n",
       "      <td>Cierre por f3 devuelto a proveedor - $868M</td>\n",
       "      <td>Sin novedad - $5,557M</td>\n",
       "      <td>8.674882e+08</td>\n",
       "    </tr>\n",
       "    <tr>\n",
       "      <th>3</th>\n",
       "      <td>F4 de merma - $324M</td>\n",
       "      <td>Sin novedad - $5,557M</td>\n",
       "      <td>3.233581e+08</td>\n",
       "    </tr>\n",
       "    <tr>\n",
       "      <th>4</th>\n",
       "      <td>Error cierre/creación F11 - $170M</td>\n",
       "      <td>Con novedad - $363M</td>\n",
       "      <td>1.589833e+08</td>\n",
       "    </tr>\n",
       "    <tr>\n",
       "      <th>5</th>\n",
       "      <td>Cierre por producto guardado despues de invent...</td>\n",
       "      <td>Con novedad - $363M</td>\n",
       "      <td>1.315444e+08</td>\n",
       "    </tr>\n",
       "    <tr>\n",
       "      <th>6</th>\n",
       "      <td>Duplicados - $130M</td>\n",
       "      <td>Sin novedad - $5,557M</td>\n",
       "      <td>1.261273e+08</td>\n",
       "    </tr>\n",
       "    <tr>\n",
       "      <th>7</th>\n",
       "      <td>Producto compensado con tienda - recibido - $64M</td>\n",
       "      <td>Sin novedad - $5,557M</td>\n",
       "      <td>6.108006e+07</td>\n",
       "    </tr>\n",
       "    <tr>\n",
       "      <th>8</th>\n",
       "      <td>Cierre por producto guardado antes de inventar...</td>\n",
       "      <td>Con novedad - $363M</td>\n",
       "      <td>5.503432e+07</td>\n",
       "    </tr>\n",
       "    <tr>\n",
       "      <th>9</th>\n",
       "      <td>Falta infomación CD - $46M</td>\n",
       "      <td>Pendiente - $47M</td>\n",
       "      <td>4.565560e+07</td>\n",
       "    </tr>\n",
       "    <tr>\n",
       "      <th>10</th>\n",
       "      <td>Error cierre/creación F11 - $170M</td>\n",
       "      <td>Sin novedad - $5,557M</td>\n",
       "      <td>1.070101e+07</td>\n",
       "    </tr>\n",
       "    <tr>\n",
       "      <th>11</th>\n",
       "      <td>Cierre por f4 cobrado a terceros - $1,996M</td>\n",
       "      <td>Con novedad - $363M</td>\n",
       "      <td>9.997694e+06</td>\n",
       "    </tr>\n",
       "    <tr>\n",
       "      <th>12</th>\n",
       "      <td>Cierre por producto guardado antes de inventar...</td>\n",
       "      <td>Sin novedad - $5,557M</td>\n",
       "      <td>6.256165e+06</td>\n",
       "    </tr>\n",
       "    <tr>\n",
       "      <th>13</th>\n",
       "      <td>Duplicados - $130M</td>\n",
       "      <td>Con novedad - $363M</td>\n",
       "      <td>3.841110e+06</td>\n",
       "    </tr>\n",
       "    <tr>\n",
       "      <th>14</th>\n",
       "      <td>Producto compensado con tienda - recibido - $64M</td>\n",
       "      <td>Con novedad - $363M</td>\n",
       "      <td>2.983984e+06</td>\n",
       "    </tr>\n",
       "    <tr>\n",
       "      <th>15</th>\n",
       "      <td>Producto compensado con dv - recibido - $1M</td>\n",
       "      <td>Pendiente - $47M</td>\n",
       "      <td>1.015510e+06</td>\n",
       "    </tr>\n",
       "    <tr>\n",
       "      <th>16</th>\n",
       "      <td>Cierre por f3 devuelto a proveedor - $868M</td>\n",
       "      <td>Con novedad - $363M</td>\n",
       "      <td>3.565800e+05</td>\n",
       "    </tr>\n",
       "    <tr>\n",
       "      <th>17</th>\n",
       "      <td>F4 de merma - $324M</td>\n",
       "      <td>Con novedad - $363M</td>\n",
       "      <td>1.451950e+05</td>\n",
       "    </tr>\n",
       "    <tr>\n",
       "      <th>18</th>\n",
       "      <td>Escalamiento pv - $0M</td>\n",
       "      <td>Pendiente - $47M</td>\n",
       "      <td>1.020670e+05</td>\n",
       "    </tr>\n",
       "    <tr>\n",
       "      <th>19</th>\n",
       "      <td>Validacion conciliaciones - $0M</td>\n",
       "      <td>Pendiente - $47M</td>\n",
       "      <td>6.948600e+04</td>\n",
       "    </tr>\n",
       "  </tbody>\n",
       "</table>\n",
       "</div>"
      ],
      "text/plain": [
       "                                         status_final                    rev  \\\n",
       "0   Cierre por producto guardado despues de invent...  Sin novedad - $5,557M   \n",
       "1          Cierre por f4 cobrado a terceros - $1,996M  Sin novedad - $5,557M   \n",
       "2          Cierre por f3 devuelto a proveedor - $868M  Sin novedad - $5,557M   \n",
       "3                                 F4 de merma - $324M  Sin novedad - $5,557M   \n",
       "4                   Error cierre/creación F11 - $170M    Con novedad - $363M   \n",
       "5   Cierre por producto guardado despues de invent...    Con novedad - $363M   \n",
       "6                                  Duplicados - $130M  Sin novedad - $5,557M   \n",
       "7    Producto compensado con tienda - recibido - $64M  Sin novedad - $5,557M   \n",
       "8   Cierre por producto guardado antes de inventar...    Con novedad - $363M   \n",
       "9                          Falta infomación CD - $46M       Pendiente - $47M   \n",
       "10                  Error cierre/creación F11 - $170M  Sin novedad - $5,557M   \n",
       "11         Cierre por f4 cobrado a terceros - $1,996M    Con novedad - $363M   \n",
       "12  Cierre por producto guardado antes de inventar...  Sin novedad - $5,557M   \n",
       "13                                 Duplicados - $130M    Con novedad - $363M   \n",
       "14   Producto compensado con tienda - recibido - $64M    Con novedad - $363M   \n",
       "15        Producto compensado con dv - recibido - $1M       Pendiente - $47M   \n",
       "16         Cierre por f3 devuelto a proveedor - $868M    Con novedad - $363M   \n",
       "17                                F4 de merma - $324M    Con novedad - $363M   \n",
       "18                              Escalamiento pv - $0M       Pendiente - $47M   \n",
       "19                    Validacion conciliaciones - $0M       Pendiente - $47M   \n",
       "\n",
       "     costo_total  \n",
       "0   2.176082e+09  \n",
       "1   1.986231e+09  \n",
       "2   8.674882e+08  \n",
       "3   3.233581e+08  \n",
       "4   1.589833e+08  \n",
       "5   1.315444e+08  \n",
       "6   1.261273e+08  \n",
       "7   6.108006e+07  \n",
       "8   5.503432e+07  \n",
       "9   4.565560e+07  \n",
       "10  1.070101e+07  \n",
       "11  9.997694e+06  \n",
       "12  6.256165e+06  \n",
       "13  3.841110e+06  \n",
       "14  2.983984e+06  \n",
       "15  1.015510e+06  \n",
       "16  3.565800e+05  \n",
       "17  1.451950e+05  \n",
       "18  1.020670e+05  \n",
       "19  6.948600e+04  "
      ]
     },
     "execution_count": 229,
     "metadata": {},
     "output_type": "execute_result"
    }
   ],
   "source": [
    "con_cd"
   ]
  },
  {
   "cell_type": "code",
   "execution_count": 239,
   "metadata": {},
   "outputs": [
    {
     "data": {
      "application/vnd.plotly.v1+json": {
       "config": {
        "plotlyServerURL": "https://plot.ly"
       },
       "data": [
        {
         "alignmentgroup": "True",
         "hovertemplate": "Estado revisión=Sin novedad - $5,557M<br>Total costo promedio=%{text}<br>Motivo de cierre=%{y}<extra></extra>",
         "legendgroup": "Sin novedad - $5,557M",
         "marker": {
          "color": "rgb(115, 175, 72)",
          "pattern": {
           "shape": ""
          }
         },
         "name": "Sin novedad - $5,557M",
         "offsetgroup": "Sin novedad - $5,557M",
         "orientation": "h",
         "showlegend": true,
         "text": [
          2176082317,
          1986230686,
          867488172,
          323358143,
          126127299,
          61080057,
          10701014,
          6256165
         ],
         "textposition": "auto",
         "texttemplate": "%{x:.2s}",
         "type": "bar",
         "x": [
          2176082317,
          1986230686,
          867488172,
          323358143,
          126127299,
          61080057,
          10701014,
          6256165
         ],
         "xaxis": "x",
         "y": [
          "Cierre por producto guardado despues de inventario - $2,308M",
          "Cierre por f4 cobrado a terceros - $1,996M",
          "Cierre por f3 devuelto a proveedor - $868M",
          "F4 de merma - $324M",
          "Duplicados - $130M",
          "Producto compensado con tienda - recibido - $64M",
          "Error cierre/creación F11 - $170M",
          "Cierre por producto guardado antes de inventario - $61M"
         ],
         "yaxis": "y"
        },
        {
         "alignmentgroup": "True",
         "hovertemplate": "Estado revisión=Con novedad - $363M<br>Total costo promedio=%{text}<br>Motivo de cierre=%{y}<extra></extra>",
         "legendgroup": "Con novedad - $363M",
         "marker": {
          "color": "rgb(204, 80, 62)",
          "pattern": {
           "shape": ""
          }
         },
         "name": "Con novedad - $363M",
         "offsetgroup": "Con novedad - $363M",
         "orientation": "h",
         "showlegend": true,
         "text": [
          158983349,
          131544353,
          55034325,
          9997694,
          3841110,
          2983984,
          356580,
          145195
         ],
         "textposition": "auto",
         "texttemplate": "%{x:.2s}",
         "type": "bar",
         "x": [
          158983349,
          131544353,
          55034325,
          9997694,
          3841110,
          2983984,
          356580,
          145195
         ],
         "xaxis": "x",
         "y": [
          "Error cierre/creación F11 - $170M",
          "Cierre por producto guardado despues de inventario - $2,308M",
          "Cierre por producto guardado antes de inventario - $61M",
          "Cierre por f4 cobrado a terceros - $1,996M",
          "Duplicados - $130M",
          "Producto compensado con tienda - recibido - $64M",
          "Cierre por f3 devuelto a proveedor - $868M",
          "F4 de merma - $324M"
         ],
         "yaxis": "y"
        },
        {
         "alignmentgroup": "True",
         "hovertemplate": "Estado revisión=Pendiente - $47M<br>Total costo promedio=%{text}<br>Motivo de cierre=%{y}<extra></extra>",
         "legendgroup": "Pendiente - $47M",
         "marker": {
          "color": "rgb(179, 179, 179)",
          "pattern": {
           "shape": ""
          }
         },
         "name": "Pendiente - $47M",
         "offsetgroup": "Pendiente - $47M",
         "orientation": "h",
         "showlegend": true,
         "text": [
          45655602,
          1015510,
          102067,
          69486
         ],
         "textposition": "auto",
         "texttemplate": "%{x:.2s}",
         "type": "bar",
         "x": [
          45655602,
          1015510,
          102067,
          69486
         ],
         "xaxis": "x",
         "y": [
          "Falta infomación CD - $46M",
          "Producto compensado con dv - recibido - $1M",
          "Escalamiento pv - $0M",
          "Validacion conciliaciones - $0M"
         ],
         "yaxis": "y"
        }
       ],
       "layout": {
        "barmode": "relative",
        "legend": {
         "title": {
          "text": "Estado revisión"
         },
         "tracegroupgap": 0,
         "x": 0.9,
         "xanchor": "right",
         "y": 0.1,
         "yanchor": "bottom"
        },
        "margin": {
         "r": 20,
         "t": 60
        },
        "template": {
         "data": {
          "bar": [
           {
            "error_x": {
             "color": "#2a3f5f"
            },
            "error_y": {
             "color": "#2a3f5f"
            },
            "marker": {
             "line": {
              "color": "#E5ECF6",
              "width": 0.5
             },
             "pattern": {
              "fillmode": "overlay",
              "size": 10,
              "solidity": 0.2
             }
            },
            "type": "bar"
           }
          ],
          "barpolar": [
           {
            "marker": {
             "line": {
              "color": "#E5ECF6",
              "width": 0.5
             },
             "pattern": {
              "fillmode": "overlay",
              "size": 10,
              "solidity": 0.2
             }
            },
            "type": "barpolar"
           }
          ],
          "carpet": [
           {
            "aaxis": {
             "endlinecolor": "#2a3f5f",
             "gridcolor": "white",
             "linecolor": "white",
             "minorgridcolor": "white",
             "startlinecolor": "#2a3f5f"
            },
            "baxis": {
             "endlinecolor": "#2a3f5f",
             "gridcolor": "white",
             "linecolor": "white",
             "minorgridcolor": "white",
             "startlinecolor": "#2a3f5f"
            },
            "type": "carpet"
           }
          ],
          "choropleth": [
           {
            "colorbar": {
             "outlinewidth": 0,
             "ticks": ""
            },
            "type": "choropleth"
           }
          ],
          "contour": [
           {
            "colorbar": {
             "outlinewidth": 0,
             "ticks": ""
            },
            "colorscale": [
             [
              0,
              "#0d0887"
             ],
             [
              0.1111111111111111,
              "#46039f"
             ],
             [
              0.2222222222222222,
              "#7201a8"
             ],
             [
              0.3333333333333333,
              "#9c179e"
             ],
             [
              0.4444444444444444,
              "#bd3786"
             ],
             [
              0.5555555555555556,
              "#d8576b"
             ],
             [
              0.6666666666666666,
              "#ed7953"
             ],
             [
              0.7777777777777778,
              "#fb9f3a"
             ],
             [
              0.8888888888888888,
              "#fdca26"
             ],
             [
              1,
              "#f0f921"
             ]
            ],
            "type": "contour"
           }
          ],
          "contourcarpet": [
           {
            "colorbar": {
             "outlinewidth": 0,
             "ticks": ""
            },
            "type": "contourcarpet"
           }
          ],
          "heatmap": [
           {
            "colorbar": {
             "outlinewidth": 0,
             "ticks": ""
            },
            "colorscale": [
             [
              0,
              "#0d0887"
             ],
             [
              0.1111111111111111,
              "#46039f"
             ],
             [
              0.2222222222222222,
              "#7201a8"
             ],
             [
              0.3333333333333333,
              "#9c179e"
             ],
             [
              0.4444444444444444,
              "#bd3786"
             ],
             [
              0.5555555555555556,
              "#d8576b"
             ],
             [
              0.6666666666666666,
              "#ed7953"
             ],
             [
              0.7777777777777778,
              "#fb9f3a"
             ],
             [
              0.8888888888888888,
              "#fdca26"
             ],
             [
              1,
              "#f0f921"
             ]
            ],
            "type": "heatmap"
           }
          ],
          "heatmapgl": [
           {
            "colorbar": {
             "outlinewidth": 0,
             "ticks": ""
            },
            "colorscale": [
             [
              0,
              "#0d0887"
             ],
             [
              0.1111111111111111,
              "#46039f"
             ],
             [
              0.2222222222222222,
              "#7201a8"
             ],
             [
              0.3333333333333333,
              "#9c179e"
             ],
             [
              0.4444444444444444,
              "#bd3786"
             ],
             [
              0.5555555555555556,
              "#d8576b"
             ],
             [
              0.6666666666666666,
              "#ed7953"
             ],
             [
              0.7777777777777778,
              "#fb9f3a"
             ],
             [
              0.8888888888888888,
              "#fdca26"
             ],
             [
              1,
              "#f0f921"
             ]
            ],
            "type": "heatmapgl"
           }
          ],
          "histogram": [
           {
            "marker": {
             "pattern": {
              "fillmode": "overlay",
              "size": 10,
              "solidity": 0.2
             }
            },
            "type": "histogram"
           }
          ],
          "histogram2d": [
           {
            "colorbar": {
             "outlinewidth": 0,
             "ticks": ""
            },
            "colorscale": [
             [
              0,
              "#0d0887"
             ],
             [
              0.1111111111111111,
              "#46039f"
             ],
             [
              0.2222222222222222,
              "#7201a8"
             ],
             [
              0.3333333333333333,
              "#9c179e"
             ],
             [
              0.4444444444444444,
              "#bd3786"
             ],
             [
              0.5555555555555556,
              "#d8576b"
             ],
             [
              0.6666666666666666,
              "#ed7953"
             ],
             [
              0.7777777777777778,
              "#fb9f3a"
             ],
             [
              0.8888888888888888,
              "#fdca26"
             ],
             [
              1,
              "#f0f921"
             ]
            ],
            "type": "histogram2d"
           }
          ],
          "histogram2dcontour": [
           {
            "colorbar": {
             "outlinewidth": 0,
             "ticks": ""
            },
            "colorscale": [
             [
              0,
              "#0d0887"
             ],
             [
              0.1111111111111111,
              "#46039f"
             ],
             [
              0.2222222222222222,
              "#7201a8"
             ],
             [
              0.3333333333333333,
              "#9c179e"
             ],
             [
              0.4444444444444444,
              "#bd3786"
             ],
             [
              0.5555555555555556,
              "#d8576b"
             ],
             [
              0.6666666666666666,
              "#ed7953"
             ],
             [
              0.7777777777777778,
              "#fb9f3a"
             ],
             [
              0.8888888888888888,
              "#fdca26"
             ],
             [
              1,
              "#f0f921"
             ]
            ],
            "type": "histogram2dcontour"
           }
          ],
          "mesh3d": [
           {
            "colorbar": {
             "outlinewidth": 0,
             "ticks": ""
            },
            "type": "mesh3d"
           }
          ],
          "parcoords": [
           {
            "line": {
             "colorbar": {
              "outlinewidth": 0,
              "ticks": ""
             }
            },
            "type": "parcoords"
           }
          ],
          "pie": [
           {
            "automargin": true,
            "type": "pie"
           }
          ],
          "scatter": [
           {
            "marker": {
             "colorbar": {
              "outlinewidth": 0,
              "ticks": ""
             }
            },
            "type": "scatter"
           }
          ],
          "scatter3d": [
           {
            "line": {
             "colorbar": {
              "outlinewidth": 0,
              "ticks": ""
             }
            },
            "marker": {
             "colorbar": {
              "outlinewidth": 0,
              "ticks": ""
             }
            },
            "type": "scatter3d"
           }
          ],
          "scattercarpet": [
           {
            "marker": {
             "colorbar": {
              "outlinewidth": 0,
              "ticks": ""
             }
            },
            "type": "scattercarpet"
           }
          ],
          "scattergeo": [
           {
            "marker": {
             "colorbar": {
              "outlinewidth": 0,
              "ticks": ""
             }
            },
            "type": "scattergeo"
           }
          ],
          "scattergl": [
           {
            "marker": {
             "colorbar": {
              "outlinewidth": 0,
              "ticks": ""
             }
            },
            "type": "scattergl"
           }
          ],
          "scattermapbox": [
           {
            "marker": {
             "colorbar": {
              "outlinewidth": 0,
              "ticks": ""
             }
            },
            "type": "scattermapbox"
           }
          ],
          "scatterpolar": [
           {
            "marker": {
             "colorbar": {
              "outlinewidth": 0,
              "ticks": ""
             }
            },
            "type": "scatterpolar"
           }
          ],
          "scatterpolargl": [
           {
            "marker": {
             "colorbar": {
              "outlinewidth": 0,
              "ticks": ""
             }
            },
            "type": "scatterpolargl"
           }
          ],
          "scatterternary": [
           {
            "marker": {
             "colorbar": {
              "outlinewidth": 0,
              "ticks": ""
             }
            },
            "type": "scatterternary"
           }
          ],
          "surface": [
           {
            "colorbar": {
             "outlinewidth": 0,
             "ticks": ""
            },
            "colorscale": [
             [
              0,
              "#0d0887"
             ],
             [
              0.1111111111111111,
              "#46039f"
             ],
             [
              0.2222222222222222,
              "#7201a8"
             ],
             [
              0.3333333333333333,
              "#9c179e"
             ],
             [
              0.4444444444444444,
              "#bd3786"
             ],
             [
              0.5555555555555556,
              "#d8576b"
             ],
             [
              0.6666666666666666,
              "#ed7953"
             ],
             [
              0.7777777777777778,
              "#fb9f3a"
             ],
             [
              0.8888888888888888,
              "#fdca26"
             ],
             [
              1,
              "#f0f921"
             ]
            ],
            "type": "surface"
           }
          ],
          "table": [
           {
            "cells": {
             "fill": {
              "color": "#EBF0F8"
             },
             "line": {
              "color": "white"
             }
            },
            "header": {
             "fill": {
              "color": "#C8D4E3"
             },
             "line": {
              "color": "white"
             }
            },
            "type": "table"
           }
          ]
         },
         "layout": {
          "annotationdefaults": {
           "arrowcolor": "#2a3f5f",
           "arrowhead": 0,
           "arrowwidth": 1
          },
          "autotypenumbers": "strict",
          "coloraxis": {
           "colorbar": {
            "outlinewidth": 0,
            "ticks": ""
           }
          },
          "colorscale": {
           "diverging": [
            [
             0,
             "#8e0152"
            ],
            [
             0.1,
             "#c51b7d"
            ],
            [
             0.2,
             "#de77ae"
            ],
            [
             0.3,
             "#f1b6da"
            ],
            [
             0.4,
             "#fde0ef"
            ],
            [
             0.5,
             "#f7f7f7"
            ],
            [
             0.6,
             "#e6f5d0"
            ],
            [
             0.7,
             "#b8e186"
            ],
            [
             0.8,
             "#7fbc41"
            ],
            [
             0.9,
             "#4d9221"
            ],
            [
             1,
             "#276419"
            ]
           ],
           "sequential": [
            [
             0,
             "#0d0887"
            ],
            [
             0.1111111111111111,
             "#46039f"
            ],
            [
             0.2222222222222222,
             "#7201a8"
            ],
            [
             0.3333333333333333,
             "#9c179e"
            ],
            [
             0.4444444444444444,
             "#bd3786"
            ],
            [
             0.5555555555555556,
             "#d8576b"
            ],
            [
             0.6666666666666666,
             "#ed7953"
            ],
            [
             0.7777777777777778,
             "#fb9f3a"
            ],
            [
             0.8888888888888888,
             "#fdca26"
            ],
            [
             1,
             "#f0f921"
            ]
           ],
           "sequentialminus": [
            [
             0,
             "#0d0887"
            ],
            [
             0.1111111111111111,
             "#46039f"
            ],
            [
             0.2222222222222222,
             "#7201a8"
            ],
            [
             0.3333333333333333,
             "#9c179e"
            ],
            [
             0.4444444444444444,
             "#bd3786"
            ],
            [
             0.5555555555555556,
             "#d8576b"
            ],
            [
             0.6666666666666666,
             "#ed7953"
            ],
            [
             0.7777777777777778,
             "#fb9f3a"
            ],
            [
             0.8888888888888888,
             "#fdca26"
            ],
            [
             1,
             "#f0f921"
            ]
           ]
          },
          "colorway": [
           "#636efa",
           "#EF553B",
           "#00cc96",
           "#ab63fa",
           "#FFA15A",
           "#19d3f3",
           "#FF6692",
           "#B6E880",
           "#FF97FF",
           "#FECB52"
          ],
          "font": {
           "color": "#2a3f5f"
          },
          "geo": {
           "bgcolor": "white",
           "lakecolor": "white",
           "landcolor": "#E5ECF6",
           "showlakes": true,
           "showland": true,
           "subunitcolor": "white"
          },
          "hoverlabel": {
           "align": "left"
          },
          "hovermode": "closest",
          "mapbox": {
           "style": "light"
          },
          "paper_bgcolor": "white",
          "plot_bgcolor": "#E5ECF6",
          "polar": {
           "angularaxis": {
            "gridcolor": "white",
            "linecolor": "white",
            "ticks": ""
           },
           "bgcolor": "#E5ECF6",
           "radialaxis": {
            "gridcolor": "white",
            "linecolor": "white",
            "ticks": ""
           }
          },
          "scene": {
           "xaxis": {
            "backgroundcolor": "#E5ECF6",
            "gridcolor": "white",
            "gridwidth": 2,
            "linecolor": "white",
            "showbackground": true,
            "ticks": "",
            "zerolinecolor": "white"
           },
           "yaxis": {
            "backgroundcolor": "#E5ECF6",
            "gridcolor": "white",
            "gridwidth": 2,
            "linecolor": "white",
            "showbackground": true,
            "ticks": "",
            "zerolinecolor": "white"
           },
           "zaxis": {
            "backgroundcolor": "#E5ECF6",
            "gridcolor": "white",
            "gridwidth": 2,
            "linecolor": "white",
            "showbackground": true,
            "ticks": "",
            "zerolinecolor": "white"
           }
          },
          "shapedefaults": {
           "line": {
            "color": "#2a3f5f"
           }
          },
          "ternary": {
           "aaxis": {
            "gridcolor": "white",
            "linecolor": "white",
            "ticks": ""
           },
           "baxis": {
            "gridcolor": "white",
            "linecolor": "white",
            "ticks": ""
           },
           "bgcolor": "#E5ECF6",
           "caxis": {
            "gridcolor": "white",
            "linecolor": "white",
            "ticks": ""
           }
          },
          "title": {
           "x": 0.05
          },
          "xaxis": {
           "automargin": true,
           "gridcolor": "white",
           "linecolor": "white",
           "ticks": "",
           "title": {
            "standoff": 15
           },
           "zerolinecolor": "white",
           "zerolinewidth": 2
          },
          "yaxis": {
           "automargin": true,
           "gridcolor": "white",
           "linecolor": "white",
           "ticks": "",
           "title": {
            "standoff": 15
           },
           "zerolinecolor": "white",
           "zerolinewidth": 2
          }
         }
        },
        "title": {
         "text": "Motivos de cierres de F11 CD 2022 - $ 5,967M"
        },
        "xaxis": {
         "anchor": "y",
         "domain": [
          0,
          1
         ],
         "title": {
          "text": "Total costo promedio"
         }
        },
        "yaxis": {
         "anchor": "x",
         "categoryarray": [
          "Validacion conciliaciones - $0M",
          "Escalamiento pv - $0M",
          "Producto compensado con dv - recibido - $1M",
          "Falta infomación CD - $46M",
          "Cierre por producto guardado antes de inventario - $61M",
          "Producto compensado con tienda - recibido - $64M",
          "Duplicados - $130M",
          "Error cierre/creación F11 - $170M",
          "F4 de merma - $324M",
          "Cierre por f3 devuelto a proveedor - $868M",
          "Cierre por f4 cobrado a terceros - $1,996M",
          "Cierre por producto guardado despues de inventario - $2,308M"
         ],
         "categoryorder": "array",
         "domain": [
          0,
          1
         ],
         "title": {
          "text": "Motivo de cierre"
         }
        }
       }
      }
     },
     "metadata": {},
     "output_type": "display_data"
    }
   ],
   "source": [
    "fig_con_total = px.bar(con_cd, orientation='h', y ='status_final', x='costo_total', color='rev', category_orders=co_cd, title= f\"Motivos de cierres de F11 CD 2022 - $ {total_cd/1e6:,.0f}M\", \n",
    "labels={ 'costo_total':'Total costo promedio', 'status_final':'Motivo de cierre', 'rev':'Estado revisión'}, text='costo_total',text_auto='.2s', \n",
    "color_discrete_sequence=[ 'rgb(115, 175, 72)','rgb(204, 80, 62)','rgb(179, 179, 179)' ] ) \n",
    "fig_con_total.update_layout(legend=dict(yanchor=\"bottom\", y=0.1, xanchor=\"right\", x=0.9))\n",
    "fig_con_total.update_layout(margin_r=20, margin_t=60)\n",
    "fig_con_total.write_image(f'output/{dt_string}_con_cd.svg',width=800, height=400, engine='orca') # 820 , 350 \n",
    "fig_con_total.show()"
   ]
  },
  {
   "cell_type": "code",
   "execution_count": 231,
   "metadata": {},
   "outputs": [],
   "source": [
    "con_tienda = con.loc[con.origen =='TIENDA'].groupby(['status_final', 'rev'])['costo_total'].sum().sort_values(ascending=False).reset_index()"
   ]
  },
  {
   "cell_type": "code",
   "execution_count": 232,
   "metadata": {},
   "outputs": [],
   "source": [
    "motivos = con_tienda.status_final.unique()\n",
    "gb_motivos_tienda = con_tienda.groupby('status_final')['costo_total'].sum().reset_index()\n",
    "gb_motivos_tienda.set_index('status_final', inplace=True)\n",
    "for motivo in motivos:\n",
    "    con_tienda.loc[con_tienda['status_final']==motivo, 'status_final'] = f'{motivo} - ${round(gb_motivos_tienda.loc[motivo, \"costo_total\"]/1e6):,.0f}M'"
   ]
  },
  {
   "cell_type": "code",
   "execution_count": 233,
   "metadata": {},
   "outputs": [],
   "source": [
    "revs = con_tienda.rev.unique()\n",
    "gb_rev_tienda = con_tienda.groupby('rev')['costo_total'].sum().reset_index()\n",
    "gb_rev_tienda.set_index('rev', inplace=True)\n",
    "for rev in revs:\n",
    "    con_tienda.loc[con_tienda['rev']==rev, 'rev'] = f'{rev} - ${round(gb_rev_tienda.loc[rev, \"costo_total\"]/1e6):,.0f}M'"
   ]
  },
  {
   "cell_type": "code",
   "execution_count": 234,
   "metadata": {},
   "outputs": [],
   "source": [
    "revs_tienda =  [con_tienda.loc[con_tienda['rev'].str.contains(r'Sin novedad'), 'rev'].unique()[0], con_tienda.loc[con_tienda['rev'].str.contains(r'Con novedad'), 'rev'].unique()[0], con_tienda.loc[con_tienda['rev'].str.contains(r'Pendiente'), 'rev'].unique()[0]]\n",
    "co_tienda = {'rev':revs_tienda, 'status_final':con_tienda.status_final.unique()}"
   ]
  },
  {
   "cell_type": "code",
   "execution_count": 235,
   "metadata": {},
   "outputs": [],
   "source": [
    "total_tienda = con_tienda['costo_total'].sum()"
   ]
  },
  {
   "cell_type": "code",
   "execution_count": 236,
   "metadata": {},
   "outputs": [
    {
     "data": {
      "application/vnd.plotly.v1+json": {
       "config": {
        "plotlyServerURL": "https://plot.ly"
       },
       "data": [
        {
         "alignmentgroup": "True",
         "hovertemplate": "Estado revisión=Sin novedad - $1,647M<br>Total costo promedio=%{text}<br>Motivo de cierre=%{y}<extra></extra>",
         "legendgroup": "Sin novedad - $1,647M",
         "marker": {
          "color": "rgb(115, 175, 72)",
          "pattern": {
           "shape": ""
          }
         },
         "name": "Sin novedad - $1,647M",
         "offsetgroup": "Sin novedad - $1,647M",
         "orientation": "h",
         "showlegend": true,
         "text": [
          1610192951.235,
          21022024.612999998,
          16263090.486
         ],
         "textposition": "auto",
         "texttemplate": "%{x:.2s}",
         "type": "bar",
         "x": [
          1610192951.235,
          21022024.612999998,
          16263090.486
         ],
         "xaxis": "x",
         "y": [
          "F3 devuelto a proveedor - $1,786M",
          "F5 - $65M",
          "F4 de merma - $31M"
         ],
         "yaxis": "y"
        },
        {
         "alignmentgroup": "True",
         "hovertemplate": "Estado revisión=Con novedad - $222M<br>Total costo promedio=%{text}<br>Motivo de cierre=%{y}<extra></extra>",
         "legendgroup": "Con novedad - $222M",
         "marker": {
          "color": "rgb(204, 80, 62)",
          "pattern": {
           "shape": ""
          }
         },
         "name": "Con novedad - $222M",
         "offsetgroup": "Con novedad - $222M",
         "orientation": "h",
         "showlegend": true,
         "text": [
          176232701.16,
          44310589.714,
          1487797.6469999999
         ],
         "textposition": "auto",
         "texttemplate": "%{x:.2s}",
         "type": "bar",
         "x": [
          176232701.16,
          44310589.714,
          1487797.6469999999
         ],
         "xaxis": "x",
         "y": [
          "F3 devuelto a proveedor - $1,786M",
          "F5 - $65M",
          "F4 de merma - $31M"
         ],
         "yaxis": "y"
        },
        {
         "alignmentgroup": "True",
         "hovertemplate": "Estado revisión=Pendiente - $1,295M<br>Total costo promedio=%{text}<br>Motivo de cierre=%{y}<extra></extra>",
         "legendgroup": "Pendiente - $1,295M",
         "marker": {
          "color": "rgb(179, 179, 179)",
          "pattern": {
           "shape": ""
          }
         },
         "name": "Pendiente - $1,295M",
         "offsetgroup": "Pendiente - $1,295M",
         "orientation": "h",
         "showlegend": true,
         "text": [
          1038288910.699,
          196426502.744,
          47020645,
          13593133.911
         ],
         "textposition": "auto",
         "texttemplate": "%{x:.2s}",
         "type": "bar",
         "x": [
          1038288910.699,
          196426502.744,
          47020645,
          13593133.911
         ],
         "xaxis": "x",
         "y": [
          "Sin informacian - tienda - $1,038M",
          "Cierre en tienda - $196M",
          "F11 concesian - $47M",
          "F4 de merma - $31M"
         ],
         "yaxis": "y"
        }
       ],
       "layout": {
        "barmode": "relative",
        "legend": {
         "title": {
          "text": "Estado revisión"
         },
         "tracegroupgap": 0,
         "x": 0.9,
         "xanchor": "right",
         "y": 0.1,
         "yanchor": "bottom"
        },
        "margin": {
         "r": 20,
         "t": 60
        },
        "template": {
         "data": {
          "bar": [
           {
            "error_x": {
             "color": "#2a3f5f"
            },
            "error_y": {
             "color": "#2a3f5f"
            },
            "marker": {
             "line": {
              "color": "#E5ECF6",
              "width": 0.5
             },
             "pattern": {
              "fillmode": "overlay",
              "size": 10,
              "solidity": 0.2
             }
            },
            "type": "bar"
           }
          ],
          "barpolar": [
           {
            "marker": {
             "line": {
              "color": "#E5ECF6",
              "width": 0.5
             },
             "pattern": {
              "fillmode": "overlay",
              "size": 10,
              "solidity": 0.2
             }
            },
            "type": "barpolar"
           }
          ],
          "carpet": [
           {
            "aaxis": {
             "endlinecolor": "#2a3f5f",
             "gridcolor": "white",
             "linecolor": "white",
             "minorgridcolor": "white",
             "startlinecolor": "#2a3f5f"
            },
            "baxis": {
             "endlinecolor": "#2a3f5f",
             "gridcolor": "white",
             "linecolor": "white",
             "minorgridcolor": "white",
             "startlinecolor": "#2a3f5f"
            },
            "type": "carpet"
           }
          ],
          "choropleth": [
           {
            "colorbar": {
             "outlinewidth": 0,
             "ticks": ""
            },
            "type": "choropleth"
           }
          ],
          "contour": [
           {
            "colorbar": {
             "outlinewidth": 0,
             "ticks": ""
            },
            "colorscale": [
             [
              0,
              "#0d0887"
             ],
             [
              0.1111111111111111,
              "#46039f"
             ],
             [
              0.2222222222222222,
              "#7201a8"
             ],
             [
              0.3333333333333333,
              "#9c179e"
             ],
             [
              0.4444444444444444,
              "#bd3786"
             ],
             [
              0.5555555555555556,
              "#d8576b"
             ],
             [
              0.6666666666666666,
              "#ed7953"
             ],
             [
              0.7777777777777778,
              "#fb9f3a"
             ],
             [
              0.8888888888888888,
              "#fdca26"
             ],
             [
              1,
              "#f0f921"
             ]
            ],
            "type": "contour"
           }
          ],
          "contourcarpet": [
           {
            "colorbar": {
             "outlinewidth": 0,
             "ticks": ""
            },
            "type": "contourcarpet"
           }
          ],
          "heatmap": [
           {
            "colorbar": {
             "outlinewidth": 0,
             "ticks": ""
            },
            "colorscale": [
             [
              0,
              "#0d0887"
             ],
             [
              0.1111111111111111,
              "#46039f"
             ],
             [
              0.2222222222222222,
              "#7201a8"
             ],
             [
              0.3333333333333333,
              "#9c179e"
             ],
             [
              0.4444444444444444,
              "#bd3786"
             ],
             [
              0.5555555555555556,
              "#d8576b"
             ],
             [
              0.6666666666666666,
              "#ed7953"
             ],
             [
              0.7777777777777778,
              "#fb9f3a"
             ],
             [
              0.8888888888888888,
              "#fdca26"
             ],
             [
              1,
              "#f0f921"
             ]
            ],
            "type": "heatmap"
           }
          ],
          "heatmapgl": [
           {
            "colorbar": {
             "outlinewidth": 0,
             "ticks": ""
            },
            "colorscale": [
             [
              0,
              "#0d0887"
             ],
             [
              0.1111111111111111,
              "#46039f"
             ],
             [
              0.2222222222222222,
              "#7201a8"
             ],
             [
              0.3333333333333333,
              "#9c179e"
             ],
             [
              0.4444444444444444,
              "#bd3786"
             ],
             [
              0.5555555555555556,
              "#d8576b"
             ],
             [
              0.6666666666666666,
              "#ed7953"
             ],
             [
              0.7777777777777778,
              "#fb9f3a"
             ],
             [
              0.8888888888888888,
              "#fdca26"
             ],
             [
              1,
              "#f0f921"
             ]
            ],
            "type": "heatmapgl"
           }
          ],
          "histogram": [
           {
            "marker": {
             "pattern": {
              "fillmode": "overlay",
              "size": 10,
              "solidity": 0.2
             }
            },
            "type": "histogram"
           }
          ],
          "histogram2d": [
           {
            "colorbar": {
             "outlinewidth": 0,
             "ticks": ""
            },
            "colorscale": [
             [
              0,
              "#0d0887"
             ],
             [
              0.1111111111111111,
              "#46039f"
             ],
             [
              0.2222222222222222,
              "#7201a8"
             ],
             [
              0.3333333333333333,
              "#9c179e"
             ],
             [
              0.4444444444444444,
              "#bd3786"
             ],
             [
              0.5555555555555556,
              "#d8576b"
             ],
             [
              0.6666666666666666,
              "#ed7953"
             ],
             [
              0.7777777777777778,
              "#fb9f3a"
             ],
             [
              0.8888888888888888,
              "#fdca26"
             ],
             [
              1,
              "#f0f921"
             ]
            ],
            "type": "histogram2d"
           }
          ],
          "histogram2dcontour": [
           {
            "colorbar": {
             "outlinewidth": 0,
             "ticks": ""
            },
            "colorscale": [
             [
              0,
              "#0d0887"
             ],
             [
              0.1111111111111111,
              "#46039f"
             ],
             [
              0.2222222222222222,
              "#7201a8"
             ],
             [
              0.3333333333333333,
              "#9c179e"
             ],
             [
              0.4444444444444444,
              "#bd3786"
             ],
             [
              0.5555555555555556,
              "#d8576b"
             ],
             [
              0.6666666666666666,
              "#ed7953"
             ],
             [
              0.7777777777777778,
              "#fb9f3a"
             ],
             [
              0.8888888888888888,
              "#fdca26"
             ],
             [
              1,
              "#f0f921"
             ]
            ],
            "type": "histogram2dcontour"
           }
          ],
          "mesh3d": [
           {
            "colorbar": {
             "outlinewidth": 0,
             "ticks": ""
            },
            "type": "mesh3d"
           }
          ],
          "parcoords": [
           {
            "line": {
             "colorbar": {
              "outlinewidth": 0,
              "ticks": ""
             }
            },
            "type": "parcoords"
           }
          ],
          "pie": [
           {
            "automargin": true,
            "type": "pie"
           }
          ],
          "scatter": [
           {
            "marker": {
             "colorbar": {
              "outlinewidth": 0,
              "ticks": ""
             }
            },
            "type": "scatter"
           }
          ],
          "scatter3d": [
           {
            "line": {
             "colorbar": {
              "outlinewidth": 0,
              "ticks": ""
             }
            },
            "marker": {
             "colorbar": {
              "outlinewidth": 0,
              "ticks": ""
             }
            },
            "type": "scatter3d"
           }
          ],
          "scattercarpet": [
           {
            "marker": {
             "colorbar": {
              "outlinewidth": 0,
              "ticks": ""
             }
            },
            "type": "scattercarpet"
           }
          ],
          "scattergeo": [
           {
            "marker": {
             "colorbar": {
              "outlinewidth": 0,
              "ticks": ""
             }
            },
            "type": "scattergeo"
           }
          ],
          "scattergl": [
           {
            "marker": {
             "colorbar": {
              "outlinewidth": 0,
              "ticks": ""
             }
            },
            "type": "scattergl"
           }
          ],
          "scattermapbox": [
           {
            "marker": {
             "colorbar": {
              "outlinewidth": 0,
              "ticks": ""
             }
            },
            "type": "scattermapbox"
           }
          ],
          "scatterpolar": [
           {
            "marker": {
             "colorbar": {
              "outlinewidth": 0,
              "ticks": ""
             }
            },
            "type": "scatterpolar"
           }
          ],
          "scatterpolargl": [
           {
            "marker": {
             "colorbar": {
              "outlinewidth": 0,
              "ticks": ""
             }
            },
            "type": "scatterpolargl"
           }
          ],
          "scatterternary": [
           {
            "marker": {
             "colorbar": {
              "outlinewidth": 0,
              "ticks": ""
             }
            },
            "type": "scatterternary"
           }
          ],
          "surface": [
           {
            "colorbar": {
             "outlinewidth": 0,
             "ticks": ""
            },
            "colorscale": [
             [
              0,
              "#0d0887"
             ],
             [
              0.1111111111111111,
              "#46039f"
             ],
             [
              0.2222222222222222,
              "#7201a8"
             ],
             [
              0.3333333333333333,
              "#9c179e"
             ],
             [
              0.4444444444444444,
              "#bd3786"
             ],
             [
              0.5555555555555556,
              "#d8576b"
             ],
             [
              0.6666666666666666,
              "#ed7953"
             ],
             [
              0.7777777777777778,
              "#fb9f3a"
             ],
             [
              0.8888888888888888,
              "#fdca26"
             ],
             [
              1,
              "#f0f921"
             ]
            ],
            "type": "surface"
           }
          ],
          "table": [
           {
            "cells": {
             "fill": {
              "color": "#EBF0F8"
             },
             "line": {
              "color": "white"
             }
            },
            "header": {
             "fill": {
              "color": "#C8D4E3"
             },
             "line": {
              "color": "white"
             }
            },
            "type": "table"
           }
          ]
         },
         "layout": {
          "annotationdefaults": {
           "arrowcolor": "#2a3f5f",
           "arrowhead": 0,
           "arrowwidth": 1
          },
          "autotypenumbers": "strict",
          "coloraxis": {
           "colorbar": {
            "outlinewidth": 0,
            "ticks": ""
           }
          },
          "colorscale": {
           "diverging": [
            [
             0,
             "#8e0152"
            ],
            [
             0.1,
             "#c51b7d"
            ],
            [
             0.2,
             "#de77ae"
            ],
            [
             0.3,
             "#f1b6da"
            ],
            [
             0.4,
             "#fde0ef"
            ],
            [
             0.5,
             "#f7f7f7"
            ],
            [
             0.6,
             "#e6f5d0"
            ],
            [
             0.7,
             "#b8e186"
            ],
            [
             0.8,
             "#7fbc41"
            ],
            [
             0.9,
             "#4d9221"
            ],
            [
             1,
             "#276419"
            ]
           ],
           "sequential": [
            [
             0,
             "#0d0887"
            ],
            [
             0.1111111111111111,
             "#46039f"
            ],
            [
             0.2222222222222222,
             "#7201a8"
            ],
            [
             0.3333333333333333,
             "#9c179e"
            ],
            [
             0.4444444444444444,
             "#bd3786"
            ],
            [
             0.5555555555555556,
             "#d8576b"
            ],
            [
             0.6666666666666666,
             "#ed7953"
            ],
            [
             0.7777777777777778,
             "#fb9f3a"
            ],
            [
             0.8888888888888888,
             "#fdca26"
            ],
            [
             1,
             "#f0f921"
            ]
           ],
           "sequentialminus": [
            [
             0,
             "#0d0887"
            ],
            [
             0.1111111111111111,
             "#46039f"
            ],
            [
             0.2222222222222222,
             "#7201a8"
            ],
            [
             0.3333333333333333,
             "#9c179e"
            ],
            [
             0.4444444444444444,
             "#bd3786"
            ],
            [
             0.5555555555555556,
             "#d8576b"
            ],
            [
             0.6666666666666666,
             "#ed7953"
            ],
            [
             0.7777777777777778,
             "#fb9f3a"
            ],
            [
             0.8888888888888888,
             "#fdca26"
            ],
            [
             1,
             "#f0f921"
            ]
           ]
          },
          "colorway": [
           "#636efa",
           "#EF553B",
           "#00cc96",
           "#ab63fa",
           "#FFA15A",
           "#19d3f3",
           "#FF6692",
           "#B6E880",
           "#FF97FF",
           "#FECB52"
          ],
          "font": {
           "color": "#2a3f5f"
          },
          "geo": {
           "bgcolor": "white",
           "lakecolor": "white",
           "landcolor": "#E5ECF6",
           "showlakes": true,
           "showland": true,
           "subunitcolor": "white"
          },
          "hoverlabel": {
           "align": "left"
          },
          "hovermode": "closest",
          "mapbox": {
           "style": "light"
          },
          "paper_bgcolor": "white",
          "plot_bgcolor": "#E5ECF6",
          "polar": {
           "angularaxis": {
            "gridcolor": "white",
            "linecolor": "white",
            "ticks": ""
           },
           "bgcolor": "#E5ECF6",
           "radialaxis": {
            "gridcolor": "white",
            "linecolor": "white",
            "ticks": ""
           }
          },
          "scene": {
           "xaxis": {
            "backgroundcolor": "#E5ECF6",
            "gridcolor": "white",
            "gridwidth": 2,
            "linecolor": "white",
            "showbackground": true,
            "ticks": "",
            "zerolinecolor": "white"
           },
           "yaxis": {
            "backgroundcolor": "#E5ECF6",
            "gridcolor": "white",
            "gridwidth": 2,
            "linecolor": "white",
            "showbackground": true,
            "ticks": "",
            "zerolinecolor": "white"
           },
           "zaxis": {
            "backgroundcolor": "#E5ECF6",
            "gridcolor": "white",
            "gridwidth": 2,
            "linecolor": "white",
            "showbackground": true,
            "ticks": "",
            "zerolinecolor": "white"
           }
          },
          "shapedefaults": {
           "line": {
            "color": "#2a3f5f"
           }
          },
          "ternary": {
           "aaxis": {
            "gridcolor": "white",
            "linecolor": "white",
            "ticks": ""
           },
           "baxis": {
            "gridcolor": "white",
            "linecolor": "white",
            "ticks": ""
           },
           "bgcolor": "#E5ECF6",
           "caxis": {
            "gridcolor": "white",
            "linecolor": "white",
            "ticks": ""
           }
          },
          "title": {
           "x": 0.05
          },
          "xaxis": {
           "automargin": true,
           "gridcolor": "white",
           "linecolor": "white",
           "ticks": "",
           "title": {
            "standoff": 15
           },
           "zerolinecolor": "white",
           "zerolinewidth": 2
          },
          "yaxis": {
           "automargin": true,
           "gridcolor": "white",
           "linecolor": "white",
           "ticks": "",
           "title": {
            "standoff": 15
           },
           "zerolinecolor": "white",
           "zerolinewidth": 2
          }
         }
        },
        "title": {
         "text": "Motivos de cierres de F11 Tienda 2022 - $ 3,165M"
        },
        "xaxis": {
         "anchor": "y",
         "domain": [
          0,
          1
         ],
         "title": {
          "text": "Total costo promedio"
         }
        },
        "yaxis": {
         "anchor": "x",
         "categoryarray": [
          "F4 de merma - $31M",
          "F5 - $65M",
          "F11 concesian - $47M",
          "Cierre en tienda - $196M",
          "Sin informacian - tienda - $1,038M",
          "F3 devuelto a proveedor - $1,786M"
         ],
         "categoryorder": "array",
         "domain": [
          0,
          1
         ],
         "title": {
          "text": "Motivo de cierre"
         }
        }
       }
      }
     },
     "metadata": {},
     "output_type": "display_data"
    }
   ],
   "source": [
    "fig_con_total = px.bar(con_tienda, orientation='h', y ='status_final', x='costo_total', title= f\"Motivos de cierres de F11 Tienda 2022 - $ {total_tienda/1e6:,.0f}M\", \n",
    "labels={ 'costo_total':'Total costo promedio', 'status_final':'Motivo de cierre', 'rev':'Estado revisión'}, text='costo_total',text_auto='.2s', \n",
    "color_discrete_sequence=[ 'rgb(115, 175, 72)','rgb(204, 80, 62)','rgb(179, 179, 179)' ], color ='rev', category_orders=co_tienda ) \n",
    "fig_con_total.update_layout(legend=dict(yanchor=\"bottom\", y=0.1, xanchor=\"right\", x=0.9))\n",
    "fig_con_total.update_layout(margin_r=20, margin_t=60)\n",
    "# fig_con_total.write_image(f'images/{dt_string}_con_tienda.svg',width=700, height=400, engine='orca') # 820 , 350 \n",
    "fig_con_total.show()"
   ]
  },
  {
   "cell_type": "code",
   "execution_count": 237,
   "metadata": {},
   "outputs": [
    {
     "data": {
      "text/html": [
       "<div>\n",
       "<style scoped>\n",
       "    .dataframe tbody tr th:only-of-type {\n",
       "        vertical-align: middle;\n",
       "    }\n",
       "\n",
       "    .dataframe tbody tr th {\n",
       "        vertical-align: top;\n",
       "    }\n",
       "\n",
       "    .dataframe thead th {\n",
       "        text-align: right;\n",
       "    }\n",
       "</style>\n",
       "<table border=\"1\" class=\"dataframe\">\n",
       "  <thead>\n",
       "    <tr style=\"text-align: right;\">\n",
       "      <th></th>\n",
       "      <th>nfolio</th>\n",
       "      <th>qproducto</th>\n",
       "      <th>xobservacion</th>\n",
       "      <th>xservicio</th>\n",
       "      <th>costo_total</th>\n",
       "      <th>estado_f11</th>\n",
       "      <th>status_final</th>\n",
       "      <th>sku</th>\n",
       "      <th>GCO</th>\n",
       "      <th>Comentario GCO</th>\n",
       "      <th>checked</th>\n",
       "      <th>fnandup</th>\n",
       "      <th>origen</th>\n",
       "      <th>n_folio</th>\n",
       "      <th>local_envio</th>\n",
       "      <th>partition_date</th>\n",
       "      <th>rev</th>\n",
       "    </tr>\n",
       "  </thead>\n",
       "  <tbody>\n",
       "    <tr>\n",
       "      <th>0</th>\n",
       "      <td>1110454448</td>\n",
       "      <td>2</td>\n",
       "      <td>se genera f4 asociado a 1110454448 y 126301039...</td>\n",
       "      <td>retiro f12</td>\n",
       "      <td>29334.0</td>\n",
       "      <td>entrega total</td>\n",
       "      <td>F4 de merma</td>\n",
       "      <td>9181931</td>\n",
       "      <td>OKK</td>\n",
       "      <td>Coincidencia exacta F4+UPC+QTY</td>\n",
       "      <td>y</td>\n",
       "      <td>NaN</td>\n",
       "      <td>CD</td>\n",
       "      <td>NaN</td>\n",
       "      <td>NaN</td>\n",
       "      <td>2022-07-21</td>\n",
       "      <td>Sin novedad</td>\n",
       "    </tr>\n",
       "    <tr>\n",
       "      <th>1</th>\n",
       "      <td>1110454448</td>\n",
       "      <td>2</td>\n",
       "      <td>se genera f4 asociado a 1110454448 y 126301039...</td>\n",
       "      <td>retiro f12</td>\n",
       "      <td>29334.0</td>\n",
       "      <td>entrega total</td>\n",
       "      <td>F4 de merma</td>\n",
       "      <td>9181933</td>\n",
       "      <td>OKK</td>\n",
       "      <td>Coincidencia exacta F4+UPC+QTY</td>\n",
       "      <td>y</td>\n",
       "      <td>NaN</td>\n",
       "      <td>CD</td>\n",
       "      <td>NaN</td>\n",
       "      <td>NaN</td>\n",
       "      <td>2022-07-21</td>\n",
       "      <td>Sin novedad</td>\n",
       "    </tr>\n",
       "    <tr>\n",
       "      <th>2</th>\n",
       "      <td>1110484339</td>\n",
       "      <td>1</td>\n",
       "      <td>se genera f4 asociado a 1110484339 y 126070426...</td>\n",
       "      <td>retiro f12</td>\n",
       "      <td>1210950.0</td>\n",
       "      <td>entrega total</td>\n",
       "      <td>F4 de merma</td>\n",
       "      <td>3225964</td>\n",
       "      <td>OKK</td>\n",
       "      <td>Coincidencia exacta F4+UPC+QTY</td>\n",
       "      <td>y</td>\n",
       "      <td>NaN</td>\n",
       "      <td>CD</td>\n",
       "      <td>NaN</td>\n",
       "      <td>NaN</td>\n",
       "      <td>2022-07-21</td>\n",
       "      <td>Sin novedad</td>\n",
       "    </tr>\n",
       "    <tr>\n",
       "      <th>3</th>\n",
       "      <td>1110544224</td>\n",
       "      <td>1</td>\n",
       "      <td>se genera f4 asociado a  1110544224 y 12620043...</td>\n",
       "      <td>retiro f12</td>\n",
       "      <td>165900.0</td>\n",
       "      <td>entrega total</td>\n",
       "      <td>F4 de merma</td>\n",
       "      <td>9988778</td>\n",
       "      <td>OKK</td>\n",
       "      <td>Coincidencia exacta F4+UPC+QTY</td>\n",
       "      <td>y</td>\n",
       "      <td>NaN</td>\n",
       "      <td>CD</td>\n",
       "      <td>NaN</td>\n",
       "      <td>NaN</td>\n",
       "      <td>2022-07-21</td>\n",
       "      <td>Sin novedad</td>\n",
       "    </tr>\n",
       "    <tr>\n",
       "      <th>4</th>\n",
       "      <td>1110580802</td>\n",
       "      <td>1</td>\n",
       "      <td>se genera f4 asociado a  1110580802 y 12619745...</td>\n",
       "      <td>retiro f12</td>\n",
       "      <td>2544730.0</td>\n",
       "      <td>entrega total</td>\n",
       "      <td>F4 de merma</td>\n",
       "      <td>3394545</td>\n",
       "      <td>OKK</td>\n",
       "      <td>Coincidencia exacta F4+UPC+QTY</td>\n",
       "      <td>y</td>\n",
       "      <td>NaN</td>\n",
       "      <td>CD</td>\n",
       "      <td>NaN</td>\n",
       "      <td>NaN</td>\n",
       "      <td>2022-07-21</td>\n",
       "      <td>Sin novedad</td>\n",
       "    </tr>\n",
       "  </tbody>\n",
       "</table>\n",
       "</div>"
      ],
      "text/plain": [
       "       nfolio qproducto                                       xobservacion  \\\n",
       "0  1110454448         2  se genera f4 asociado a 1110454448 y 126301039...   \n",
       "1  1110454448         2  se genera f4 asociado a 1110454448 y 126301039...   \n",
       "2  1110484339         1  se genera f4 asociado a 1110484339 y 126070426...   \n",
       "3  1110544224         1  se genera f4 asociado a  1110544224 y 12620043...   \n",
       "4  1110580802         1  se genera f4 asociado a  1110580802 y 12619745...   \n",
       "\n",
       "    xservicio  costo_total     estado_f11 status_final      sku  GCO  \\\n",
       "0  retiro f12      29334.0  entrega total  F4 de merma  9181931  OKK   \n",
       "1  retiro f12      29334.0  entrega total  F4 de merma  9181933  OKK   \n",
       "2  retiro f12    1210950.0  entrega total  F4 de merma  3225964  OKK   \n",
       "3  retiro f12     165900.0  entrega total  F4 de merma  9988778  OKK   \n",
       "4  retiro f12    2544730.0  entrega total  F4 de merma  3394545  OKK   \n",
       "\n",
       "                   Comentario GCO checked fnandup origen n_folio local_envio  \\\n",
       "0  Coincidencia exacta F4+UPC+QTY       y     NaN     CD     NaN         NaN   \n",
       "1  Coincidencia exacta F4+UPC+QTY       y     NaN     CD     NaN         NaN   \n",
       "2  Coincidencia exacta F4+UPC+QTY       y     NaN     CD     NaN         NaN   \n",
       "3  Coincidencia exacta F4+UPC+QTY       y     NaN     CD     NaN         NaN   \n",
       "4  Coincidencia exacta F4+UPC+QTY       y     NaN     CD     NaN         NaN   \n",
       "\n",
       "  partition_date          rev  \n",
       "0     2022-07-21  Sin novedad  \n",
       "1     2022-07-21  Sin novedad  \n",
       "2     2022-07-21  Sin novedad  \n",
       "3     2022-07-21  Sin novedad  \n",
       "4     2022-07-21  Sin novedad  "
      ]
     },
     "execution_count": 237,
     "metadata": {},
     "output_type": "execute_result"
    }
   ],
   "source": [
    "con.head()"
   ]
  },
  {
   "cell_type": "code",
   "execution_count": 238,
   "metadata": {},
   "outputs": [],
   "source": [
    "con.to_excel('consolidado_cf11.xlsx', index=False)"
   ]
  }
 ],
 "metadata": {
  "kernelspec": {
   "display_name": "Python 3.9.7 ('base')",
   "language": "python",
   "name": "python3"
  },
  "language_info": {
   "codemirror_mode": {
    "name": "ipython",
    "version": 3
   },
   "file_extension": ".py",
   "mimetype": "text/x-python",
   "name": "python",
   "nbconvert_exporter": "python",
   "pygments_lexer": "ipython3",
   "version": "3.9.7"
  },
  "orig_nbformat": 4,
  "vscode": {
   "interpreter": {
    "hash": "2c043d662fbed7cdb1a55c38793736f50ece9eb5b859cfa43e78ca91054ae88a"
   }
  }
 },
 "nbformat": 4,
 "nbformat_minor": 2
}
