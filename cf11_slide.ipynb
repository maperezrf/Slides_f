{
 "cells": [
  {
   "cell_type": "code",
   "execution_count": 4,
   "metadata": {},
   "outputs": [
    {
     "name": "stdout",
     "output_type": "stream",
     "text": [
      "Requirement already satisfied: pandas in c:\\users\\valetorresr\\anaconda3\\lib\\site-packages (1.4.4)\n",
      "Requirement already satisfied: numpy>=1.18.5 in c:\\users\\valetorresr\\anaconda3\\lib\\site-packages (from pandas) (1.21.5)\n",
      "Requirement already satisfied: python-dateutil>=2.8.1 in c:\\users\\valetorresr\\anaconda3\\lib\\site-packages (from pandas) (2.8.2)\n",
      "Requirement already satisfied: pytz>=2020.1 in c:\\users\\valetorresr\\anaconda3\\lib\\site-packages (from pandas) (2022.1)\n",
      "Requirement already satisfied: six>=1.5 in c:\\users\\valetorresr\\anaconda3\\lib\\site-packages (from python-dateutil>=2.8.1->pandas) (1.16.0)\n",
      "Note: you may need to restart the kernel to use updated packages.\n"
     ]
    }
   ],
   "source": [
    "%pip install pandas"
   ]
  },
  {
   "cell_type": "code",
   "execution_count": 5,
   "metadata": {},
   "outputs": [
    {
     "name": "stdout",
     "output_type": "stream",
     "text": [
      "Requirement already satisfied: plotly.express in c:\\users\\valetorresr\\anaconda3\\lib\\site-packages (0.4.1)\n",
      "Requirement already satisfied: statsmodels>=0.9.0 in c:\\users\\valetorresr\\anaconda3\\lib\\site-packages (from plotly.express) (0.13.2)\n",
      "Requirement already satisfied: pandas>=0.20.0 in c:\\users\\valetorresr\\anaconda3\\lib\\site-packages (from plotly.express) (1.4.4)\n",
      "Requirement already satisfied: plotly>=4.1.0 in c:\\users\\valetorresr\\anaconda3\\lib\\site-packages (from plotly.express) (5.9.0)\n",
      "Requirement already satisfied: numpy>=1.11 in c:\\users\\valetorresr\\anaconda3\\lib\\site-packages (from plotly.express) (1.21.5)\n",
      "Requirement already satisfied: patsy>=0.5 in c:\\users\\valetorresr\\anaconda3\\lib\\site-packages (from plotly.express) (0.5.2)\n",
      "Requirement already satisfied: scipy>=0.18 in c:\\users\\valetorresr\\anaconda3\\lib\\site-packages (from plotly.express) (1.9.1)\n",
      "Requirement already satisfied: pytz>=2020.1 in c:\\users\\valetorresr\\anaconda3\\lib\\site-packages (from pandas>=0.20.0->plotly.express) (2022.1)\n",
      "Requirement already satisfied: python-dateutil>=2.8.1 in c:\\users\\valetorresr\\anaconda3\\lib\\site-packages (from pandas>=0.20.0->plotly.express) (2.8.2)\n",
      "Requirement already satisfied: six in c:\\users\\valetorresr\\anaconda3\\lib\\site-packages (from patsy>=0.5->plotly.express) (1.16.0)\n",
      "Requirement already satisfied: tenacity>=6.2.0 in c:\\users\\valetorresr\\anaconda3\\lib\\site-packages (from plotly>=4.1.0->plotly.express) (8.0.1)\n",
      "Requirement already satisfied: packaging>=21.3 in c:\\users\\valetorresr\\anaconda3\\lib\\site-packages (from statsmodels>=0.9.0->plotly.express) (21.3)\n",
      "Requirement already satisfied: pyparsing!=3.0.5,>=2.0.2 in c:\\users\\valetorresr\\anaconda3\\lib\\site-packages (from packaging>=21.3->statsmodels>=0.9.0->plotly.express) (3.0.9)\n",
      "Note: you may need to restart the kernel to use updated packages.\n"
     ]
    }
   ],
   "source": [
    "%pip install plotly.express"
   ]
  },
  {
   "cell_type": "code",
   "execution_count": 6,
   "metadata": {},
   "outputs": [],
   "source": [
    "import pandas as pd\n",
    "import plotly.express as px\n",
    "from datetime import datetime, date\n",
    "dt_string = datetime.now().strftime('%y%m%d')\n",
    "pd.set_option('display.max_columns', 500)"
   ]
  },
  {
   "cell_type": "code",
   "execution_count": 7,
   "metadata": {},
   "outputs": [],
   "source": [
    "cd_name = \"221020-1111-cf11_cd_21-output\"\n",
    "cd_cf11 = pd.read_excel(f'input/cierres_f11/{cd_name}.xlsx', sheet_name='DB', dtype=str)\n",
    "cd_cf11['origen'] = 'CD'"
   ]
  },
  {
   "cell_type": "code",
   "execution_count": 8,
   "metadata": {},
   "outputs": [],
   "source": [
    "tienda_name = \"221121_post\"\n",
    "tienda_cf11 = pd.read_excel(f'input/cierres_f11/{tienda_name}.xlsx', sheet_name='DB', dtype=str)\n",
    "tienda_cf11['origen'] = 'TIENDA'"
   ]
  },
  {
   "cell_type": "code",
   "execution_count": 9,
   "metadata": {},
   "outputs": [],
   "source": [
    "cd_to_del = ['indice_cf11','prd_upc', 'transportadora_nuevo', 'reporte_a_contabilidad', 'movimiento_contable',\n",
    "        'tranf_electro_factura', 'f3', 'f4', 'f5', 'f11_nuevo', 'f12',\n",
    "       'nota', 'ro', 'gco_dup', 'dupmc', 'error_ru', 'gco_dupall']\n",
    "cd_cf11.drop(cd_to_del, axis=1, inplace=True)"
   ]
  },
  {
   "cell_type": "code",
   "execution_count": 10,
   "metadata": {},
   "outputs": [],
   "source": [
    "tienda_to_del = ['indice_c11t', 'ean', 'propietario', 'f']\n",
    "tienda_cf11.drop(tienda_to_del, axis=1, inplace=True)"
   ]
  },
  {
   "cell_type": "code",
   "execution_count": 11,
   "metadata": {},
   "outputs": [],
   "source": [
    "tienda_cf11.rename(columns={'folio_servicio_tecnico':'n_folio', 'estado_servicio_tecnico':'estado_f11',\n",
    "       'costo_promedio':'costo_total', 'tipo_servicio_f11': 'xservicio', 'motivo_cierre':'status_final', 'cantidad_f11':'qproducto'}, inplace=True)"
   ]
  },
  {
   "cell_type": "code",
   "execution_count": 12,
   "metadata": {},
   "outputs": [],
   "source": [
    "con = pd.concat([cd_cf11, tienda_cf11])\n",
    "con['partition_date'] = date.today()\n",
    "con['costo_total'] = pd.to_numeric(con['costo_total'])\n",
    "con['status_final'] = con.status_final.str.capitalize()"
   ]
  },
  {
   "cell_type": "code",
   "execution_count": 13,
   "metadata": {},
   "outputs": [
    {
     "data": {
      "text/plain": [
       "array(['Coincidencia exacta F4+UPC+QTY', 'Coincidencia exacta F3+UPC+QTY',\n",
       "       'Coincidencia exacta (F12|F11)', 'Coincidencia exacta F5+UPC+QTY',\n",
       "       nan, 'Duplicidad verificada F12+UPC+Cantidad',\n",
       "       'F11 nuevo en estado despachado', 'No coincide (F12|F11)',\n",
       "       'Coincidencia F4+UPC+QTY + Registro duplicado en DB',\n",
       "       'Duplicidad verificada F11+UPC+Cantidad',\n",
       "       'Coincidencia F3+UPC+QTY + Registro duplicado en DB',\n",
       "       'Registro anulado', 'Recibido con fecha posterior al 14/01/2022',\n",
       "       'No coincide F4|UPC|QTY',\n",
       "       'Cantidad de las F11s de un F5 > cantidad del F5',\n",
       "       'Coincidencia exacta (F11|F3)+UPC+QTY',\n",
       "       'Coincidencia exacta (F11|F4)+UPC+QTY',\n",
       "       'Coincidencia Exacta (F11|DV)+UPC+QTY',\n",
       "       'No coincide (F11|F4)+UPC+QTY', 'No coincide (F11|DV)',\n",
       "       'No coincide (F11|F3)+UPC+QTY',\n",
       "       'Registro con año de confirmación diferente a 2022',\n",
       "       'Registro con estado diferente a recibido',\n",
       "       'Cantidad de los F11s de un F3 > cantidad del F3',\n",
       "       'Coincidencia Exacta (F11|DV) QTY diferente',\n",
       "       'Cantidad de los F11s de un F4 > cantidad del F4'], dtype=object)"
      ]
     },
     "execution_count": 13,
     "metadata": {},
     "output_type": "execute_result"
    }
   ],
   "source": [
    "con['Comentario GCO'].unique()"
   ]
  },
  {
   "cell_type": "code",
   "execution_count": 14,
   "metadata": {},
   "outputs": [],
   "source": [
    "con_nov = [\n",
    "       'Coincidencia (F12|F11) - Se requiere F12|UPC|QTY para validar duplicidad',\n",
    "       'F11 Registro sin nro. de f11 nuevo', \n",
    "       'No coincide F3|UPC|QTY', 'No coincide (F12|F11)',\n",
    "       'No coincide F5|UPC|Qty', 'Registro sin nro. de F4',\n",
    "       'F11 nuevo no encontrado',\n",
    "       'Recibido con fecha anterior al 14/01/2022', \n",
    "       'Recibido con fecha posterior al 14/01/2022', \n",
    "       'Registro duplicado F12 + UPC + Cantidad',\n",
    "       'Coincidencia F4+UPC+QTY + Registro duplicado en DB',\n",
    "       'Coincidencia (F12|F11) + Registro duplicado en DB',\n",
    "       'Registro con estado diferente a recibido',\n",
    "       'Cantidad de los F11s de un F4 > cantidad del F4',\n",
    "       'No coincide F4|UPC|QTY',\n",
    "       'Coincidencia F3+UPC+QTY + Registro duplicado en DB',\n",
    "       'No coincide (F11|F4)+UPC+QTY', 'No coincide (F11|F3)+UPC+QTY',\n",
    "       'Registro sin nro. de F5',\n",
    "       'Registro con año de reserva diferente a 2022',\n",
    "       'La cantidad sumada de los F11s de un F5 es mayor que la cantidad del F5',\n",
    "       'Registro duplicado F+UPC+Cantidad',\n",
    "       'Registro con año de confirmación diferente a 2022',\n",
    "       'Cantidad de los F11s de un F3 > cantidad del F3',\n",
    "       'Registro anulado','Coincidencia F5+UPC+QTY - Se requiere F12|UPC|QTY para validar duplicidad',\n",
    "       'Cantidad de las F11s de un F5 > cantidad del F5','Error de clasificacion - Duplicidad F12+UPC+Cantidad', 'F11 nuevo encontrado (diferente estado)', 'Error de clasificacion - duplicidad F11 + upc +cantidad','No coincide (F11|DV)',\n",
    "       'Coincidencia Exacta (F11|DV) QTY diferente',\n",
    "       'Coincidencia F4+UPC+QTY - Se requiere F12|UPC|QTY para validar duplicidad', 'Coincidencia F3+UPC+QTY - Se requiere F12|UPC|QTY para validar duplicidad']\n",
    "\n",
    "sin_nov = ['Coincidencia exacta F4+UPC+QTY', 'Coincidencia exacta F3+UPC+QTY',\n",
    "'Coincidencia exacta (F12|F11)', 'F11 nuevo en estado despachado',\n",
    "'Coincidencia exacta F5+UPC+QTY',\n",
    "'Coincidencia exacta (F11|F3)+UPC+QTY', 'Coincidencia exacta (F11|F4)+UPC+QTY',\n",
    "'Duplicidad verificada F12+UPC+Cantidad', 'Duplicidad verificada F11+UPC+Cantidad',\n",
    " 'Error f11', 'Registro de f11 nuevo encontrado','Coincidencia Exacta (F11|DV)+UPC+QTY']\n",
    "\n",
    "con.loc[con['Comentario GCO'].isin(con_nov), 'rev'] = 'Con novedad'\n",
    "con.loc[con['Comentario GCO'].isin(sin_nov), 'rev'] = 'Sin novedad'\n",
    "con['rev'] = con['rev'].fillna('Pendiente')\n"
   ]
  },
  {
   "cell_type": "code",
   "execution_count": 15,
   "metadata": {},
   "outputs": [
    {
     "data": {
      "text/plain": [
       "array([], dtype=object)"
      ]
     },
     "execution_count": 15,
     "metadata": {},
     "output_type": "execute_result"
    }
   ],
   "source": [
    "con.loc[con['rev'].isna(), 'Comentario GCO'].unique()"
   ]
  },
  {
   "cell_type": "code",
   "execution_count": 16,
   "metadata": {},
   "outputs": [],
   "source": [
    "con.loc[(con['origen']=='TIENDA') & (con['Comentario GCO'].isna()), 'rev'] = 'Cierre en tienda'"
   ]
  },
  {
   "cell_type": "code",
   "execution_count": 17,
   "metadata": {},
   "outputs": [
    {
     "data": {
      "text/plain": [
       "array([], dtype=object)"
      ]
     },
     "execution_count": 17,
     "metadata": {},
     "output_type": "execute_result"
    }
   ],
   "source": [
    "# revision sin novedad\n",
    "con.loc[(con['rev'] == 'Pendiente') & (con['Comentario GCO'].notna())]['Comentario GCO'].unique() "
   ]
  },
  {
   "cell_type": "code",
   "execution_count": 18,
   "metadata": {},
   "outputs": [
    {
     "data": {
      "text/plain": [
       "array(['No coincide (F12|F11)',\n",
       "       'Coincidencia F4+UPC+QTY + Registro duplicado en DB',\n",
       "       'Coincidencia F3+UPC+QTY + Registro duplicado en DB',\n",
       "       'Registro anulado', 'Recibido con fecha posterior al 14/01/2022',\n",
       "       'No coincide F4|UPC|QTY',\n",
       "       'Cantidad de las F11s de un F5 > cantidad del F5'], dtype=object)"
      ]
     },
     "execution_count": 18,
     "metadata": {},
     "output_type": "execute_result"
    }
   ],
   "source": [
    "con.loc[(con['rev'] == 'Con novedad') & (con['origen'] == 'CD'),'Comentario GCO'].unique()"
   ]
  },
  {
   "cell_type": "code",
   "execution_count": 19,
   "metadata": {},
   "outputs": [
    {
     "data": {
      "text/plain": [
       "Index(['nfolio', 'qproducto', 'xobservacion', 'xservicio', 'costo_total',\n",
       "       'estado_f11', 'status_final', 'sku', 'GCO', 'Comentario GCO', 'checked',\n",
       "       'fnandup', 'origen', 'n_folio', 'local_envio',\n",
       "       'sku_(numero_de_producto)', 'F11', 'SKU ORIGINAL',\n",
       "       'CANT. UND GENERADAS', 'partition_date', 'rev'],\n",
       "      dtype='object')"
      ]
     },
     "execution_count": 19,
     "metadata": {},
     "output_type": "execute_result"
    }
   ],
   "source": [
    "con.columns"
   ]
  },
  {
   "cell_type": "code",
   "execution_count": 20,
   "metadata": {},
   "outputs": [],
   "source": [
    "# CD\n",
    "cd_fi = [ 'Escalamiento li',  'Ingreso con sku trocado', 'Pendiente revisar', 'Ingresa con f12 trocado']\n",
    "cd_error = ['Error en creacion de f11', 'Con nuevo f11 en estado despachado', 'Error de cierre', 'Error en creacia3n de f11']\n",
    "con.loc[con.status_final.isin(cd_fi), 'status_final'] = 'Falta infomación CD'\n",
    "con.loc[con.status_final.isin(cd_error), 'status_final'] = 'Error cierre/creación F11'\n",
    "duplicados = ['Cierre x duplicidad f11+upc+qty', 'Cierre x duplicidad f12+upc+qty']\n",
    "con.loc[con.status_final.isin(duplicados), 'status_final'] = 'Duplicados'\n",
    "con.loc[con.status_final=='Cierre x producto guardado despues de inventario', 'status_final'] = 'Guardado después de inv'\n",
    "con.loc[con.status_final=='Cierre x producto guardado antes de inventario', 'status_final'] = 'Guardado antes de inv'\n",
    "\n",
    "\n",
    "con.loc[con.status_final=='Cierre x f3 devuelto a proveedor', 'status_final'] = 'F3 devuelto a proveedor'\n",
    "con.loc[con.status_final=='Cierre x f4 cobrado a terceros', 'status_final'] = 'F4 cobrado a terceros'\n"
   ]
  },
  {
   "cell_type": "code",
   "execution_count": 21,
   "metadata": {},
   "outputs": [],
   "source": [
    "# Tienda\n",
    "tienda_ct = ['Sin informacion - tienda', 'Duplicado con ajuste en tienda',\n",
    "       'Entregado en tienda', 'Cambio producto x nuevo', 'Dv','Ajuste inventarios', \n",
    "       'Entregado a cliente', 'Validar cierre con chile', 'F11 concesion', 'Nuevo f11']\n",
    "con.loc[con.status_final.isin(tienda_ct), 'status_final'] = 'Cierre en tienda'\n",
    "con.loc[con.status_final=='F3', 'status_final'] = 'F3 devuelto a proveedor'\n",
    "con.loc[con.status_final=='F4 en tienda', 'status_final'] = 'F4 de merma'\n",
    "con.loc[con.status_final=='F4', 'status_final'] = 'F4 de merma'"
   ]
  },
  {
   "cell_type": "code",
   "execution_count": 22,
   "metadata": {},
   "outputs": [],
   "source": [
    "con['status_final'].replace('Cierre por producto guardado despues de inventario','Guardado despues de inv', inplace= True)\n",
    "con['status_final'].replace('Cierre por f4 cobrado a terceros','F4 cobrado a terceros', inplace= True)\n",
    "con['status_final'].replace('Cierre por f3 devuelto a proveedor','F3', inplace= True)\n",
    "con['status_final'].replace('F4 de merma','F4 merma', inplace= True)\n",
    "con['status_final'].replace('F3 devuelto a proveedor','F3', inplace= True)"
   ]
  },
  {
   "cell_type": "code",
   "execution_count": 23,
   "metadata": {},
   "outputs": [],
   "source": [
    "con_total = con.groupby('status_final')['costo_total'].sum().sort_values(ascending=False).reset_index()"
   ]
  },
  {
   "cell_type": "code",
   "execution_count": 24,
   "metadata": {},
   "outputs": [],
   "source": [
    "lista = con_total['status_final'][0:6].tolist()"
   ]
  },
  {
   "cell_type": "code",
   "execution_count": 25,
   "metadata": {},
   "outputs": [
    {
     "data": {
      "text/plain": [
       "['F3',\n",
       " 'Guardado despues de inv',\n",
       " 'Cierre en tienda',\n",
       " 'F4 cobrado a terceros',\n",
       " 'F4 merma',\n",
       " 'Duplicados']"
      ]
     },
     "execution_count": 25,
     "metadata": {},
     "output_type": "execute_result"
    }
   ],
   "source": [
    "lista"
   ]
  },
  {
   "cell_type": "code",
   "execution_count": 26,
   "metadata": {},
   "outputs": [],
   "source": [
    "con_graf = con_total.loc[con_total['status_final'].isin(lista)]"
   ]
  },
  {
   "cell_type": "code",
   "execution_count": 27,
   "metadata": {},
   "outputs": [],
   "source": [
    "total_f11s = con_total['costo_total'].sum()"
   ]
  },
  {
   "cell_type": "code",
   "execution_count": 28,
   "metadata": {},
   "outputs": [
    {
     "data": {
      "application/vnd.plotly.v1+json": {
       "config": {
        "plotlyServerURL": "https://plot.ly"
       },
       "data": [
        {
         "alignmentgroup": "True",
         "hovertemplate": "Motivo de cierre=%{x}<br>Total costo promedio=%{text}<extra></extra>",
         "legendgroup": "",
         "marker": {
          "color": "#636efa",
          "pattern": {
           "shape": ""
          }
         },
         "name": "",
         "offsetgroup": "",
         "orientation": "v",
         "showlegend": false,
         "text": [
          6107820929.102,
          4030336434,
          3313733754.222,
          2969083476,
          1053343960.029,
          235980012
         ],
         "textposition": "auto",
         "texttemplate": "%{y:.2s}",
         "type": "bar",
         "x": [
          "F3",
          "Guardado despues de inv",
          "Cierre en tienda",
          "F4 cobrado a terceros",
          "F4 merma",
          "Duplicados"
         ],
         "xaxis": "x",
         "y": [
          6107820929.102,
          4030336434,
          3313733754.222,
          2969083476,
          1053343960.029,
          235980012
         ],
         "yaxis": "y"
        }
       ],
       "layout": {
        "barmode": "relative",
        "legend": {
         "tracegroupgap": 0
        },
        "template": {
         "data": {
          "bar": [
           {
            "error_x": {
             "color": "#2a3f5f"
            },
            "error_y": {
             "color": "#2a3f5f"
            },
            "marker": {
             "line": {
              "color": "#E5ECF6",
              "width": 0.5
             },
             "pattern": {
              "fillmode": "overlay",
              "size": 10,
              "solidity": 0.2
             }
            },
            "type": "bar"
           }
          ],
          "barpolar": [
           {
            "marker": {
             "line": {
              "color": "#E5ECF6",
              "width": 0.5
             },
             "pattern": {
              "fillmode": "overlay",
              "size": 10,
              "solidity": 0.2
             }
            },
            "type": "barpolar"
           }
          ],
          "carpet": [
           {
            "aaxis": {
             "endlinecolor": "#2a3f5f",
             "gridcolor": "white",
             "linecolor": "white",
             "minorgridcolor": "white",
             "startlinecolor": "#2a3f5f"
            },
            "baxis": {
             "endlinecolor": "#2a3f5f",
             "gridcolor": "white",
             "linecolor": "white",
             "minorgridcolor": "white",
             "startlinecolor": "#2a3f5f"
            },
            "type": "carpet"
           }
          ],
          "choropleth": [
           {
            "colorbar": {
             "outlinewidth": 0,
             "ticks": ""
            },
            "type": "choropleth"
           }
          ],
          "contour": [
           {
            "colorbar": {
             "outlinewidth": 0,
             "ticks": ""
            },
            "colorscale": [
             [
              0,
              "#0d0887"
             ],
             [
              0.1111111111111111,
              "#46039f"
             ],
             [
              0.2222222222222222,
              "#7201a8"
             ],
             [
              0.3333333333333333,
              "#9c179e"
             ],
             [
              0.4444444444444444,
              "#bd3786"
             ],
             [
              0.5555555555555556,
              "#d8576b"
             ],
             [
              0.6666666666666666,
              "#ed7953"
             ],
             [
              0.7777777777777778,
              "#fb9f3a"
             ],
             [
              0.8888888888888888,
              "#fdca26"
             ],
             [
              1,
              "#f0f921"
             ]
            ],
            "type": "contour"
           }
          ],
          "contourcarpet": [
           {
            "colorbar": {
             "outlinewidth": 0,
             "ticks": ""
            },
            "type": "contourcarpet"
           }
          ],
          "heatmap": [
           {
            "colorbar": {
             "outlinewidth": 0,
             "ticks": ""
            },
            "colorscale": [
             [
              0,
              "#0d0887"
             ],
             [
              0.1111111111111111,
              "#46039f"
             ],
             [
              0.2222222222222222,
              "#7201a8"
             ],
             [
              0.3333333333333333,
              "#9c179e"
             ],
             [
              0.4444444444444444,
              "#bd3786"
             ],
             [
              0.5555555555555556,
              "#d8576b"
             ],
             [
              0.6666666666666666,
              "#ed7953"
             ],
             [
              0.7777777777777778,
              "#fb9f3a"
             ],
             [
              0.8888888888888888,
              "#fdca26"
             ],
             [
              1,
              "#f0f921"
             ]
            ],
            "type": "heatmap"
           }
          ],
          "heatmapgl": [
           {
            "colorbar": {
             "outlinewidth": 0,
             "ticks": ""
            },
            "colorscale": [
             [
              0,
              "#0d0887"
             ],
             [
              0.1111111111111111,
              "#46039f"
             ],
             [
              0.2222222222222222,
              "#7201a8"
             ],
             [
              0.3333333333333333,
              "#9c179e"
             ],
             [
              0.4444444444444444,
              "#bd3786"
             ],
             [
              0.5555555555555556,
              "#d8576b"
             ],
             [
              0.6666666666666666,
              "#ed7953"
             ],
             [
              0.7777777777777778,
              "#fb9f3a"
             ],
             [
              0.8888888888888888,
              "#fdca26"
             ],
             [
              1,
              "#f0f921"
             ]
            ],
            "type": "heatmapgl"
           }
          ],
          "histogram": [
           {
            "marker": {
             "pattern": {
              "fillmode": "overlay",
              "size": 10,
              "solidity": 0.2
             }
            },
            "type": "histogram"
           }
          ],
          "histogram2d": [
           {
            "colorbar": {
             "outlinewidth": 0,
             "ticks": ""
            },
            "colorscale": [
             [
              0,
              "#0d0887"
             ],
             [
              0.1111111111111111,
              "#46039f"
             ],
             [
              0.2222222222222222,
              "#7201a8"
             ],
             [
              0.3333333333333333,
              "#9c179e"
             ],
             [
              0.4444444444444444,
              "#bd3786"
             ],
             [
              0.5555555555555556,
              "#d8576b"
             ],
             [
              0.6666666666666666,
              "#ed7953"
             ],
             [
              0.7777777777777778,
              "#fb9f3a"
             ],
             [
              0.8888888888888888,
              "#fdca26"
             ],
             [
              1,
              "#f0f921"
             ]
            ],
            "type": "histogram2d"
           }
          ],
          "histogram2dcontour": [
           {
            "colorbar": {
             "outlinewidth": 0,
             "ticks": ""
            },
            "colorscale": [
             [
              0,
              "#0d0887"
             ],
             [
              0.1111111111111111,
              "#46039f"
             ],
             [
              0.2222222222222222,
              "#7201a8"
             ],
             [
              0.3333333333333333,
              "#9c179e"
             ],
             [
              0.4444444444444444,
              "#bd3786"
             ],
             [
              0.5555555555555556,
              "#d8576b"
             ],
             [
              0.6666666666666666,
              "#ed7953"
             ],
             [
              0.7777777777777778,
              "#fb9f3a"
             ],
             [
              0.8888888888888888,
              "#fdca26"
             ],
             [
              1,
              "#f0f921"
             ]
            ],
            "type": "histogram2dcontour"
           }
          ],
          "mesh3d": [
           {
            "colorbar": {
             "outlinewidth": 0,
             "ticks": ""
            },
            "type": "mesh3d"
           }
          ],
          "parcoords": [
           {
            "line": {
             "colorbar": {
              "outlinewidth": 0,
              "ticks": ""
             }
            },
            "type": "parcoords"
           }
          ],
          "pie": [
           {
            "automargin": true,
            "type": "pie"
           }
          ],
          "scatter": [
           {
            "fillpattern": {
             "fillmode": "overlay",
             "size": 10,
             "solidity": 0.2
            },
            "type": "scatter"
           }
          ],
          "scatter3d": [
           {
            "line": {
             "colorbar": {
              "outlinewidth": 0,
              "ticks": ""
             }
            },
            "marker": {
             "colorbar": {
              "outlinewidth": 0,
              "ticks": ""
             }
            },
            "type": "scatter3d"
           }
          ],
          "scattercarpet": [
           {
            "marker": {
             "colorbar": {
              "outlinewidth": 0,
              "ticks": ""
             }
            },
            "type": "scattercarpet"
           }
          ],
          "scattergeo": [
           {
            "marker": {
             "colorbar": {
              "outlinewidth": 0,
              "ticks": ""
             }
            },
            "type": "scattergeo"
           }
          ],
          "scattergl": [
           {
            "marker": {
             "colorbar": {
              "outlinewidth": 0,
              "ticks": ""
             }
            },
            "type": "scattergl"
           }
          ],
          "scattermapbox": [
           {
            "marker": {
             "colorbar": {
              "outlinewidth": 0,
              "ticks": ""
             }
            },
            "type": "scattermapbox"
           }
          ],
          "scatterpolar": [
           {
            "marker": {
             "colorbar": {
              "outlinewidth": 0,
              "ticks": ""
             }
            },
            "type": "scatterpolar"
           }
          ],
          "scatterpolargl": [
           {
            "marker": {
             "colorbar": {
              "outlinewidth": 0,
              "ticks": ""
             }
            },
            "type": "scatterpolargl"
           }
          ],
          "scatterternary": [
           {
            "marker": {
             "colorbar": {
              "outlinewidth": 0,
              "ticks": ""
             }
            },
            "type": "scatterternary"
           }
          ],
          "surface": [
           {
            "colorbar": {
             "outlinewidth": 0,
             "ticks": ""
            },
            "colorscale": [
             [
              0,
              "#0d0887"
             ],
             [
              0.1111111111111111,
              "#46039f"
             ],
             [
              0.2222222222222222,
              "#7201a8"
             ],
             [
              0.3333333333333333,
              "#9c179e"
             ],
             [
              0.4444444444444444,
              "#bd3786"
             ],
             [
              0.5555555555555556,
              "#d8576b"
             ],
             [
              0.6666666666666666,
              "#ed7953"
             ],
             [
              0.7777777777777778,
              "#fb9f3a"
             ],
             [
              0.8888888888888888,
              "#fdca26"
             ],
             [
              1,
              "#f0f921"
             ]
            ],
            "type": "surface"
           }
          ],
          "table": [
           {
            "cells": {
             "fill": {
              "color": "#EBF0F8"
             },
             "line": {
              "color": "white"
             }
            },
            "header": {
             "fill": {
              "color": "#C8D4E3"
             },
             "line": {
              "color": "white"
             }
            },
            "type": "table"
           }
          ]
         },
         "layout": {
          "annotationdefaults": {
           "arrowcolor": "#2a3f5f",
           "arrowhead": 0,
           "arrowwidth": 1
          },
          "autotypenumbers": "strict",
          "coloraxis": {
           "colorbar": {
            "outlinewidth": 0,
            "ticks": ""
           }
          },
          "colorscale": {
           "diverging": [
            [
             0,
             "#8e0152"
            ],
            [
             0.1,
             "#c51b7d"
            ],
            [
             0.2,
             "#de77ae"
            ],
            [
             0.3,
             "#f1b6da"
            ],
            [
             0.4,
             "#fde0ef"
            ],
            [
             0.5,
             "#f7f7f7"
            ],
            [
             0.6,
             "#e6f5d0"
            ],
            [
             0.7,
             "#b8e186"
            ],
            [
             0.8,
             "#7fbc41"
            ],
            [
             0.9,
             "#4d9221"
            ],
            [
             1,
             "#276419"
            ]
           ],
           "sequential": [
            [
             0,
             "#0d0887"
            ],
            [
             0.1111111111111111,
             "#46039f"
            ],
            [
             0.2222222222222222,
             "#7201a8"
            ],
            [
             0.3333333333333333,
             "#9c179e"
            ],
            [
             0.4444444444444444,
             "#bd3786"
            ],
            [
             0.5555555555555556,
             "#d8576b"
            ],
            [
             0.6666666666666666,
             "#ed7953"
            ],
            [
             0.7777777777777778,
             "#fb9f3a"
            ],
            [
             0.8888888888888888,
             "#fdca26"
            ],
            [
             1,
             "#f0f921"
            ]
           ],
           "sequentialminus": [
            [
             0,
             "#0d0887"
            ],
            [
             0.1111111111111111,
             "#46039f"
            ],
            [
             0.2222222222222222,
             "#7201a8"
            ],
            [
             0.3333333333333333,
             "#9c179e"
            ],
            [
             0.4444444444444444,
             "#bd3786"
            ],
            [
             0.5555555555555556,
             "#d8576b"
            ],
            [
             0.6666666666666666,
             "#ed7953"
            ],
            [
             0.7777777777777778,
             "#fb9f3a"
            ],
            [
             0.8888888888888888,
             "#fdca26"
            ],
            [
             1,
             "#f0f921"
            ]
           ]
          },
          "colorway": [
           "#636efa",
           "#EF553B",
           "#00cc96",
           "#ab63fa",
           "#FFA15A",
           "#19d3f3",
           "#FF6692",
           "#B6E880",
           "#FF97FF",
           "#FECB52"
          ],
          "font": {
           "color": "#2a3f5f"
          },
          "geo": {
           "bgcolor": "white",
           "lakecolor": "white",
           "landcolor": "#E5ECF6",
           "showlakes": true,
           "showland": true,
           "subunitcolor": "white"
          },
          "hoverlabel": {
           "align": "left"
          },
          "hovermode": "closest",
          "mapbox": {
           "style": "light"
          },
          "paper_bgcolor": "white",
          "plot_bgcolor": "#E5ECF6",
          "polar": {
           "angularaxis": {
            "gridcolor": "white",
            "linecolor": "white",
            "ticks": ""
           },
           "bgcolor": "#E5ECF6",
           "radialaxis": {
            "gridcolor": "white",
            "linecolor": "white",
            "ticks": ""
           }
          },
          "scene": {
           "xaxis": {
            "backgroundcolor": "#E5ECF6",
            "gridcolor": "white",
            "gridwidth": 2,
            "linecolor": "white",
            "showbackground": true,
            "ticks": "",
            "zerolinecolor": "white"
           },
           "yaxis": {
            "backgroundcolor": "#E5ECF6",
            "gridcolor": "white",
            "gridwidth": 2,
            "linecolor": "white",
            "showbackground": true,
            "ticks": "",
            "zerolinecolor": "white"
           },
           "zaxis": {
            "backgroundcolor": "#E5ECF6",
            "gridcolor": "white",
            "gridwidth": 2,
            "linecolor": "white",
            "showbackground": true,
            "ticks": "",
            "zerolinecolor": "white"
           }
          },
          "shapedefaults": {
           "line": {
            "color": "#2a3f5f"
           }
          },
          "ternary": {
           "aaxis": {
            "gridcolor": "white",
            "linecolor": "white",
            "ticks": ""
           },
           "baxis": {
            "gridcolor": "white",
            "linecolor": "white",
            "ticks": ""
           },
           "bgcolor": "#E5ECF6",
           "caxis": {
            "gridcolor": "white",
            "linecolor": "white",
            "ticks": ""
           }
          },
          "title": {
           "x": 0.05
          },
          "xaxis": {
           "automargin": true,
           "gridcolor": "white",
           "linecolor": "white",
           "ticks": "",
           "title": {
            "standoff": 15
           },
           "zerolinecolor": "white",
           "zerolinewidth": 2
          },
          "yaxis": {
           "automargin": true,
           "gridcolor": "white",
           "linecolor": "white",
           "ticks": "",
           "title": {
            "standoff": 15
           },
           "zerolinecolor": "white",
           "zerolinewidth": 2
          }
         }
        },
        "title": {
         "text": "Costo total de F11s según motivos de cierre - $ 18,361M"
        },
        "xaxis": {
         "anchor": "y",
         "domain": [
          0,
          1
         ],
         "title": {
          "text": "Motivo de cierre"
         }
        },
        "yaxis": {
         "anchor": "x",
         "domain": [
          0,
          1
         ],
         "title": {
          "text": "Total costo promedio"
         }
        }
       }
      }
     },
     "metadata": {},
     "output_type": "display_data"
    }
   ],
   "source": [
    "fig_con_total = px.bar(con_graf, x ='status_final', y='costo_total', title=f\"Costo total de F11s según motivos de cierre - $ {total_f11s/1e6:,.0f}M\", labels={ 'costo_total':'Total costo promedio', 'status_final':'Motivo de cierre', 'GRUPO':'Local'}, text='costo_total',text_auto='.2s' ) #category_orders=co ) \n",
    "#fig_con_total.update_layout(legend=dict(yanchor=\"top\", y=0.9, xanchor=\"left\", x=0.1))\n",
    "fig_con_total.write_image(f'output/{dt_string}_con_total.svg',width=1050, height=300, engine='orca') # 820 , 350 \n",
    "fig_con_total.show()"
   ]
  },
  {
   "cell_type": "code",
   "execution_count": 29,
   "metadata": {},
   "outputs": [],
   "source": [
    "con.loc[(con.origen =='CD') & (con['rev'] == 'Pendiente'), 'status_final'] = 'Falta infomación CD'"
   ]
  },
  {
   "cell_type": "code",
   "execution_count": 30,
   "metadata": {},
   "outputs": [],
   "source": [
    "con_cd = con.loc[con.origen =='CD'].groupby(['status_final', 'rev'], sort=False)['costo_total'].sum().sort_values(ascending=False).reset_index()"
   ]
  },
  {
   "cell_type": "code",
   "execution_count": 31,
   "metadata": {},
   "outputs": [],
   "source": [
    "motivos = con_cd.status_final.unique()\n",
    "gb_motivos_cd = con_cd.groupby('status_final')['costo_total'].sum().reset_index()\n",
    "gb_motivos_cd.set_index('status_final', inplace=True)\n",
    "for motivo in motivos:\n",
    "    con_cd.loc[con_cd['status_final']==motivo, 'status_final'] = f'{motivo} - ${round(gb_motivos_cd.loc[motivo, \"costo_total\"]/1e6):,.0f}M'"
   ]
  },
  {
   "cell_type": "code",
   "execution_count": 32,
   "metadata": {},
   "outputs": [],
   "source": [
    "revs = con_cd.rev.unique()\n",
    "gb_rev_cd = con_cd.groupby('rev')['costo_total'].sum().reset_index()\n",
    "gb_rev_cd.set_index('rev', inplace=True)\n",
    "for rev in revs:\n",
    "    con_cd.loc[con_cd['rev']==rev, 'rev'] = f'{rev} - ${round(gb_rev_cd.loc[rev, \"costo_total\"]/1e6):,.0f}M'"
   ]
  },
  {
   "cell_type": "code",
   "execution_count": 33,
   "metadata": {},
   "outputs": [],
   "source": [
    "revs =  [con_cd.loc[con_cd['rev'].str.contains(r'Sin novedad'), 'rev'].unique()[0], con_cd.loc[con_cd['rev'].str.contains(r'Con novedad'), 'rev'].unique()[0], con_cd.loc[con_cd['rev'].str.contains(r'Pendiente'), 'rev'].unique()[0]]\n",
    "co_cd = {'rev': revs, 'status_final':con_cd.status_final.unique()}"
   ]
  },
  {
   "cell_type": "code",
   "execution_count": 34,
   "metadata": {},
   "outputs": [],
   "source": [
    "total_cd= con_cd['costo_total'].sum()"
   ]
  },
  {
   "cell_type": "code",
   "execution_count": 35,
   "metadata": {},
   "outputs": [
    {
     "data": {
      "application/vnd.plotly.v1+json": {
       "config": {
        "plotlyServerURL": "https://plot.ly"
       },
       "data": [
        {
         "alignmentgroup": "True",
         "hovertemplate": "Estado revisión=Sin novedad - $9,660M<br>Total costo promedio=%{text}<br>Motivo de cierre=%{y}<extra></extra>",
         "legendgroup": "Sin novedad - $9,660M",
         "marker": {
          "color": "rgb(115, 175, 72)",
          "pattern": {
           "shape": ""
          }
         },
         "name": "Sin novedad - $9,660M",
         "offsetgroup": "Sin novedad - $9,660M",
         "orientation": "h",
         "showlegend": true,
         "text": [
          3902398252,
          2960478982,
          1537114678,
          660713773,
          235827197,
          224371658,
          129987381,
          9522877
         ],
         "textposition": "auto",
         "texttemplate": "%{x:.2s}",
         "type": "bar",
         "x": [
          3902398252,
          2960478982,
          1537114678,
          660713773,
          235827197,
          224371658,
          129987381,
          9522877
         ],
         "xaxis": "x",
         "y": [
          "Guardado despues de inv - $4,030M",
          "F4 cobrado a terceros - $2,969M",
          "F3 - $1,539M",
          "F4 merma - $662M",
          "Duplicados - $236M",
          "Error cierre/creación F11 - $224M",
          "Producto compensado con tienda - recibido - $130M",
          "Cierre por producto guardado antes de inventario - $62M"
         ],
         "yaxis": "y"
        },
        {
         "alignmentgroup": "True",
         "hovertemplate": "Estado revisión=Con novedad - $193M<br>Total costo promedio=%{text}<br>Motivo de cierre=%{y}<extra></extra>",
         "legendgroup": "Con novedad - $193M",
         "marker": {
          "color": "rgb(204, 80, 62)",
          "pattern": {
           "shape": ""
          }
         },
         "name": "Con novedad - $193M",
         "offsetgroup": "Con novedad - $193M",
         "orientation": "h",
         "showlegend": true,
         "text": [
          127938182,
          52958290,
          8604494,
          2182990,
          1415323,
          152815,
          116319
         ],
         "textposition": "auto",
         "texttemplate": "%{x:.2s}",
         "type": "bar",
         "x": [
          127938182,
          52958290,
          8604494,
          2182990,
          1415323,
          152815,
          116319
         ],
         "xaxis": "x",
         "y": [
          "Guardado despues de inv - $4,030M",
          "Cierre por producto guardado antes de inventario - $62M",
          "F4 cobrado a terceros - $2,969M",
          "F3 - $1,539M",
          "F4 merma - $662M",
          "Duplicados - $236M",
          "Producto compensado con tienda - recibido - $130M"
         ],
         "yaxis": "y"
        },
        {
         "alignmentgroup": "True",
         "hovertemplate": "Estado revisión=Pendiente - $61M<br>Total costo promedio=%{text}<br>Motivo de cierre=%{y}<extra></extra>",
         "legendgroup": "Pendiente - $61M",
         "marker": {
          "color": "rgb(179, 179, 179)",
          "pattern": {
           "shape": ""
          }
         },
         "name": "Pendiente - $61M",
         "offsetgroup": "Pendiente - $61M",
         "orientation": "h",
         "showlegend": true,
         "text": [
          60919318
         ],
         "textposition": "auto",
         "texttemplate": "%{x:.2s}",
         "type": "bar",
         "x": [
          60919318
         ],
         "xaxis": "x",
         "y": [
          "Falta infomación CD - $61M"
         ],
         "yaxis": "y"
        }
       ],
       "layout": {
        "barmode": "relative",
        "legend": {
         "title": {
          "text": "Estado revisión"
         },
         "tracegroupgap": 0,
         "x": 0.9,
         "xanchor": "right",
         "y": 0.1,
         "yanchor": "bottom"
        },
        "margin": {
         "r": 20,
         "t": 60
        },
        "template": {
         "data": {
          "bar": [
           {
            "error_x": {
             "color": "#2a3f5f"
            },
            "error_y": {
             "color": "#2a3f5f"
            },
            "marker": {
             "line": {
              "color": "#E5ECF6",
              "width": 0.5
             },
             "pattern": {
              "fillmode": "overlay",
              "size": 10,
              "solidity": 0.2
             }
            },
            "type": "bar"
           }
          ],
          "barpolar": [
           {
            "marker": {
             "line": {
              "color": "#E5ECF6",
              "width": 0.5
             },
             "pattern": {
              "fillmode": "overlay",
              "size": 10,
              "solidity": 0.2
             }
            },
            "type": "barpolar"
           }
          ],
          "carpet": [
           {
            "aaxis": {
             "endlinecolor": "#2a3f5f",
             "gridcolor": "white",
             "linecolor": "white",
             "minorgridcolor": "white",
             "startlinecolor": "#2a3f5f"
            },
            "baxis": {
             "endlinecolor": "#2a3f5f",
             "gridcolor": "white",
             "linecolor": "white",
             "minorgridcolor": "white",
             "startlinecolor": "#2a3f5f"
            },
            "type": "carpet"
           }
          ],
          "choropleth": [
           {
            "colorbar": {
             "outlinewidth": 0,
             "ticks": ""
            },
            "type": "choropleth"
           }
          ],
          "contour": [
           {
            "colorbar": {
             "outlinewidth": 0,
             "ticks": ""
            },
            "colorscale": [
             [
              0,
              "#0d0887"
             ],
             [
              0.1111111111111111,
              "#46039f"
             ],
             [
              0.2222222222222222,
              "#7201a8"
             ],
             [
              0.3333333333333333,
              "#9c179e"
             ],
             [
              0.4444444444444444,
              "#bd3786"
             ],
             [
              0.5555555555555556,
              "#d8576b"
             ],
             [
              0.6666666666666666,
              "#ed7953"
             ],
             [
              0.7777777777777778,
              "#fb9f3a"
             ],
             [
              0.8888888888888888,
              "#fdca26"
             ],
             [
              1,
              "#f0f921"
             ]
            ],
            "type": "contour"
           }
          ],
          "contourcarpet": [
           {
            "colorbar": {
             "outlinewidth": 0,
             "ticks": ""
            },
            "type": "contourcarpet"
           }
          ],
          "heatmap": [
           {
            "colorbar": {
             "outlinewidth": 0,
             "ticks": ""
            },
            "colorscale": [
             [
              0,
              "#0d0887"
             ],
             [
              0.1111111111111111,
              "#46039f"
             ],
             [
              0.2222222222222222,
              "#7201a8"
             ],
             [
              0.3333333333333333,
              "#9c179e"
             ],
             [
              0.4444444444444444,
              "#bd3786"
             ],
             [
              0.5555555555555556,
              "#d8576b"
             ],
             [
              0.6666666666666666,
              "#ed7953"
             ],
             [
              0.7777777777777778,
              "#fb9f3a"
             ],
             [
              0.8888888888888888,
              "#fdca26"
             ],
             [
              1,
              "#f0f921"
             ]
            ],
            "type": "heatmap"
           }
          ],
          "heatmapgl": [
           {
            "colorbar": {
             "outlinewidth": 0,
             "ticks": ""
            },
            "colorscale": [
             [
              0,
              "#0d0887"
             ],
             [
              0.1111111111111111,
              "#46039f"
             ],
             [
              0.2222222222222222,
              "#7201a8"
             ],
             [
              0.3333333333333333,
              "#9c179e"
             ],
             [
              0.4444444444444444,
              "#bd3786"
             ],
             [
              0.5555555555555556,
              "#d8576b"
             ],
             [
              0.6666666666666666,
              "#ed7953"
             ],
             [
              0.7777777777777778,
              "#fb9f3a"
             ],
             [
              0.8888888888888888,
              "#fdca26"
             ],
             [
              1,
              "#f0f921"
             ]
            ],
            "type": "heatmapgl"
           }
          ],
          "histogram": [
           {
            "marker": {
             "pattern": {
              "fillmode": "overlay",
              "size": 10,
              "solidity": 0.2
             }
            },
            "type": "histogram"
           }
          ],
          "histogram2d": [
           {
            "colorbar": {
             "outlinewidth": 0,
             "ticks": ""
            },
            "colorscale": [
             [
              0,
              "#0d0887"
             ],
             [
              0.1111111111111111,
              "#46039f"
             ],
             [
              0.2222222222222222,
              "#7201a8"
             ],
             [
              0.3333333333333333,
              "#9c179e"
             ],
             [
              0.4444444444444444,
              "#bd3786"
             ],
             [
              0.5555555555555556,
              "#d8576b"
             ],
             [
              0.6666666666666666,
              "#ed7953"
             ],
             [
              0.7777777777777778,
              "#fb9f3a"
             ],
             [
              0.8888888888888888,
              "#fdca26"
             ],
             [
              1,
              "#f0f921"
             ]
            ],
            "type": "histogram2d"
           }
          ],
          "histogram2dcontour": [
           {
            "colorbar": {
             "outlinewidth": 0,
             "ticks": ""
            },
            "colorscale": [
             [
              0,
              "#0d0887"
             ],
             [
              0.1111111111111111,
              "#46039f"
             ],
             [
              0.2222222222222222,
              "#7201a8"
             ],
             [
              0.3333333333333333,
              "#9c179e"
             ],
             [
              0.4444444444444444,
              "#bd3786"
             ],
             [
              0.5555555555555556,
              "#d8576b"
             ],
             [
              0.6666666666666666,
              "#ed7953"
             ],
             [
              0.7777777777777778,
              "#fb9f3a"
             ],
             [
              0.8888888888888888,
              "#fdca26"
             ],
             [
              1,
              "#f0f921"
             ]
            ],
            "type": "histogram2dcontour"
           }
          ],
          "mesh3d": [
           {
            "colorbar": {
             "outlinewidth": 0,
             "ticks": ""
            },
            "type": "mesh3d"
           }
          ],
          "parcoords": [
           {
            "line": {
             "colorbar": {
              "outlinewidth": 0,
              "ticks": ""
             }
            },
            "type": "parcoords"
           }
          ],
          "pie": [
           {
            "automargin": true,
            "type": "pie"
           }
          ],
          "scatter": [
           {
            "fillpattern": {
             "fillmode": "overlay",
             "size": 10,
             "solidity": 0.2
            },
            "type": "scatter"
           }
          ],
          "scatter3d": [
           {
            "line": {
             "colorbar": {
              "outlinewidth": 0,
              "ticks": ""
             }
            },
            "marker": {
             "colorbar": {
              "outlinewidth": 0,
              "ticks": ""
             }
            },
            "type": "scatter3d"
           }
          ],
          "scattercarpet": [
           {
            "marker": {
             "colorbar": {
              "outlinewidth": 0,
              "ticks": ""
             }
            },
            "type": "scattercarpet"
           }
          ],
          "scattergeo": [
           {
            "marker": {
             "colorbar": {
              "outlinewidth": 0,
              "ticks": ""
             }
            },
            "type": "scattergeo"
           }
          ],
          "scattergl": [
           {
            "marker": {
             "colorbar": {
              "outlinewidth": 0,
              "ticks": ""
             }
            },
            "type": "scattergl"
           }
          ],
          "scattermapbox": [
           {
            "marker": {
             "colorbar": {
              "outlinewidth": 0,
              "ticks": ""
             }
            },
            "type": "scattermapbox"
           }
          ],
          "scatterpolar": [
           {
            "marker": {
             "colorbar": {
              "outlinewidth": 0,
              "ticks": ""
             }
            },
            "type": "scatterpolar"
           }
          ],
          "scatterpolargl": [
           {
            "marker": {
             "colorbar": {
              "outlinewidth": 0,
              "ticks": ""
             }
            },
            "type": "scatterpolargl"
           }
          ],
          "scatterternary": [
           {
            "marker": {
             "colorbar": {
              "outlinewidth": 0,
              "ticks": ""
             }
            },
            "type": "scatterternary"
           }
          ],
          "surface": [
           {
            "colorbar": {
             "outlinewidth": 0,
             "ticks": ""
            },
            "colorscale": [
             [
              0,
              "#0d0887"
             ],
             [
              0.1111111111111111,
              "#46039f"
             ],
             [
              0.2222222222222222,
              "#7201a8"
             ],
             [
              0.3333333333333333,
              "#9c179e"
             ],
             [
              0.4444444444444444,
              "#bd3786"
             ],
             [
              0.5555555555555556,
              "#d8576b"
             ],
             [
              0.6666666666666666,
              "#ed7953"
             ],
             [
              0.7777777777777778,
              "#fb9f3a"
             ],
             [
              0.8888888888888888,
              "#fdca26"
             ],
             [
              1,
              "#f0f921"
             ]
            ],
            "type": "surface"
           }
          ],
          "table": [
           {
            "cells": {
             "fill": {
              "color": "#EBF0F8"
             },
             "line": {
              "color": "white"
             }
            },
            "header": {
             "fill": {
              "color": "#C8D4E3"
             },
             "line": {
              "color": "white"
             }
            },
            "type": "table"
           }
          ]
         },
         "layout": {
          "annotationdefaults": {
           "arrowcolor": "#2a3f5f",
           "arrowhead": 0,
           "arrowwidth": 1
          },
          "autotypenumbers": "strict",
          "coloraxis": {
           "colorbar": {
            "outlinewidth": 0,
            "ticks": ""
           }
          },
          "colorscale": {
           "diverging": [
            [
             0,
             "#8e0152"
            ],
            [
             0.1,
             "#c51b7d"
            ],
            [
             0.2,
             "#de77ae"
            ],
            [
             0.3,
             "#f1b6da"
            ],
            [
             0.4,
             "#fde0ef"
            ],
            [
             0.5,
             "#f7f7f7"
            ],
            [
             0.6,
             "#e6f5d0"
            ],
            [
             0.7,
             "#b8e186"
            ],
            [
             0.8,
             "#7fbc41"
            ],
            [
             0.9,
             "#4d9221"
            ],
            [
             1,
             "#276419"
            ]
           ],
           "sequential": [
            [
             0,
             "#0d0887"
            ],
            [
             0.1111111111111111,
             "#46039f"
            ],
            [
             0.2222222222222222,
             "#7201a8"
            ],
            [
             0.3333333333333333,
             "#9c179e"
            ],
            [
             0.4444444444444444,
             "#bd3786"
            ],
            [
             0.5555555555555556,
             "#d8576b"
            ],
            [
             0.6666666666666666,
             "#ed7953"
            ],
            [
             0.7777777777777778,
             "#fb9f3a"
            ],
            [
             0.8888888888888888,
             "#fdca26"
            ],
            [
             1,
             "#f0f921"
            ]
           ],
           "sequentialminus": [
            [
             0,
             "#0d0887"
            ],
            [
             0.1111111111111111,
             "#46039f"
            ],
            [
             0.2222222222222222,
             "#7201a8"
            ],
            [
             0.3333333333333333,
             "#9c179e"
            ],
            [
             0.4444444444444444,
             "#bd3786"
            ],
            [
             0.5555555555555556,
             "#d8576b"
            ],
            [
             0.6666666666666666,
             "#ed7953"
            ],
            [
             0.7777777777777778,
             "#fb9f3a"
            ],
            [
             0.8888888888888888,
             "#fdca26"
            ],
            [
             1,
             "#f0f921"
            ]
           ]
          },
          "colorway": [
           "#636efa",
           "#EF553B",
           "#00cc96",
           "#ab63fa",
           "#FFA15A",
           "#19d3f3",
           "#FF6692",
           "#B6E880",
           "#FF97FF",
           "#FECB52"
          ],
          "font": {
           "color": "#2a3f5f"
          },
          "geo": {
           "bgcolor": "white",
           "lakecolor": "white",
           "landcolor": "#E5ECF6",
           "showlakes": true,
           "showland": true,
           "subunitcolor": "white"
          },
          "hoverlabel": {
           "align": "left"
          },
          "hovermode": "closest",
          "mapbox": {
           "style": "light"
          },
          "paper_bgcolor": "white",
          "plot_bgcolor": "#E5ECF6",
          "polar": {
           "angularaxis": {
            "gridcolor": "white",
            "linecolor": "white",
            "ticks": ""
           },
           "bgcolor": "#E5ECF6",
           "radialaxis": {
            "gridcolor": "white",
            "linecolor": "white",
            "ticks": ""
           }
          },
          "scene": {
           "xaxis": {
            "backgroundcolor": "#E5ECF6",
            "gridcolor": "white",
            "gridwidth": 2,
            "linecolor": "white",
            "showbackground": true,
            "ticks": "",
            "zerolinecolor": "white"
           },
           "yaxis": {
            "backgroundcolor": "#E5ECF6",
            "gridcolor": "white",
            "gridwidth": 2,
            "linecolor": "white",
            "showbackground": true,
            "ticks": "",
            "zerolinecolor": "white"
           },
           "zaxis": {
            "backgroundcolor": "#E5ECF6",
            "gridcolor": "white",
            "gridwidth": 2,
            "linecolor": "white",
            "showbackground": true,
            "ticks": "",
            "zerolinecolor": "white"
           }
          },
          "shapedefaults": {
           "line": {
            "color": "#2a3f5f"
           }
          },
          "ternary": {
           "aaxis": {
            "gridcolor": "white",
            "linecolor": "white",
            "ticks": ""
           },
           "baxis": {
            "gridcolor": "white",
            "linecolor": "white",
            "ticks": ""
           },
           "bgcolor": "#E5ECF6",
           "caxis": {
            "gridcolor": "white",
            "linecolor": "white",
            "ticks": ""
           }
          },
          "title": {
           "x": 0.05
          },
          "xaxis": {
           "automargin": true,
           "gridcolor": "white",
           "linecolor": "white",
           "ticks": "",
           "title": {
            "standoff": 15
           },
           "zerolinecolor": "white",
           "zerolinewidth": 2
          },
          "yaxis": {
           "automargin": true,
           "gridcolor": "white",
           "linecolor": "white",
           "ticks": "",
           "title": {
            "standoff": 15
           },
           "zerolinecolor": "white",
           "zerolinewidth": 2
          }
         }
        },
        "title": {
         "text": "Motivos de cierres de F11 CD 2022 - $ 9,915M"
        },
        "xaxis": {
         "anchor": "y",
         "constrain": "domain",
         "domain": [
          0,
          1
         ],
         "range": [
          0,
          4682877902.4
         ],
         "title": {
          "text": "Total costo promedio"
         }
        },
        "yaxis": {
         "anchor": "x",
         "categoryarray": [
          "Cierre por producto guardado antes de inventario - $62M",
          "Falta infomación CD - $61M",
          "Producto compensado con tienda - recibido - $130M",
          "Error cierre/creación F11 - $224M",
          "Duplicados - $236M",
          "F4 merma - $662M",
          "F3 - $1,539M",
          "F4 cobrado a terceros - $2,969M",
          "Guardado despues de inv - $4,030M"
         ],
         "categoryorder": "array",
         "domain": [
          0,
          1
         ],
         "title": {
          "text": "Motivo de cierre"
         }
        }
       }
      }
     },
     "metadata": {},
     "output_type": "display_data"
    }
   ],
   "source": [
    "fig_con_total = px.bar(con_cd, orientation='h', y ='status_final', x='costo_total', color='rev', category_orders=co_cd, title= f\"Motivos de cierres de F11 CD 2022 - $ {total_cd/1e6:,.0f}M\", \n",
    "labels={ 'costo_total':'Total costo promedio', 'status_final':'Motivo de cierre', 'rev':'Estado revisión'}, text='costo_total',text_auto='.2s', \n",
    "color_discrete_sequence=[ 'rgb(115, 175, 72)','rgb(204, 80, 62)','rgb(179, 179, 179)' ] ) \n",
    "fig_con_total.update_layout(legend=dict(yanchor=\"bottom\", y=0.1, xanchor=\"right\", x=0.9))\n",
    "fig_con_total.update_layout(margin_r=20, margin_t=60)\n",
    "fig_con_total.update_xaxes(range = [0,con_cd['costo_total'].max() + con_cd['costo_total'].max() * 0.2], constrain = 'domain')\n",
    "fig_con_total.write_image(f'output/{dt_string}_con_cd.svg',width=1000, height=400, engine='orca') # 820 , 350 \n",
    "fig_con_total.show()"
   ]
  },
  {
   "cell_type": "code",
   "execution_count": 36,
   "metadata": {},
   "outputs": [],
   "source": [
    "con_tienda = con.loc[con.origen =='TIENDA'].groupby(['status_final', 'rev'])['costo_total'].sum().sort_values(ascending=False).reset_index()"
   ]
  },
  {
   "cell_type": "code",
   "execution_count": 37,
   "metadata": {},
   "outputs": [
    {
     "data": {
      "text/html": [
       "<div>\n",
       "<style scoped>\n",
       "    .dataframe tbody tr th:only-of-type {\n",
       "        vertical-align: middle;\n",
       "    }\n",
       "\n",
       "    .dataframe tbody tr th {\n",
       "        vertical-align: top;\n",
       "    }\n",
       "\n",
       "    .dataframe thead th {\n",
       "        text-align: right;\n",
       "    }\n",
       "</style>\n",
       "<table border=\"1\" class=\"dataframe\">\n",
       "  <thead>\n",
       "    <tr style=\"text-align: right;\">\n",
       "      <th></th>\n",
       "      <th>status_final</th>\n",
       "      <th>rev</th>\n",
       "      <th>costo_total</th>\n",
       "    </tr>\n",
       "  </thead>\n",
       "  <tbody>\n",
       "    <tr>\n",
       "      <th>0</th>\n",
       "      <td>F3</td>\n",
       "      <td>Sin novedad</td>\n",
       "      <td>4.533410e+09</td>\n",
       "    </tr>\n",
       "    <tr>\n",
       "      <th>1</th>\n",
       "      <td>Cierre en tienda</td>\n",
       "      <td>Cierre en tienda</td>\n",
       "      <td>1.923061e+09</td>\n",
       "    </tr>\n",
       "    <tr>\n",
       "      <th>2</th>\n",
       "      <td>Cierre en tienda</td>\n",
       "      <td>Sin novedad</td>\n",
       "      <td>1.361262e+09</td>\n",
       "    </tr>\n",
       "    <tr>\n",
       "      <th>3</th>\n",
       "      <td>F4 merma</td>\n",
       "      <td>Sin novedad</td>\n",
       "      <td>3.653966e+08</td>\n",
       "    </tr>\n",
       "    <tr>\n",
       "      <th>4</th>\n",
       "      <td>F5</td>\n",
       "      <td>Sin novedad</td>\n",
       "      <td>1.710918e+08</td>\n",
       "    </tr>\n",
       "    <tr>\n",
       "      <th>5</th>\n",
       "      <td>F3</td>\n",
       "      <td>Con novedad</td>\n",
       "      <td>3.511312e+07</td>\n",
       "    </tr>\n",
       "    <tr>\n",
       "      <th>6</th>\n",
       "      <td>Cierre en tienda</td>\n",
       "      <td>Con novedad</td>\n",
       "      <td>2.941116e+07</td>\n",
       "    </tr>\n",
       "    <tr>\n",
       "      <th>7</th>\n",
       "      <td>F4 merma</td>\n",
       "      <td>Con novedad</td>\n",
       "      <td>2.581822e+07</td>\n",
       "    </tr>\n",
       "    <tr>\n",
       "      <th>8</th>\n",
       "      <td>F5</td>\n",
       "      <td>Con novedad</td>\n",
       "      <td>1.429123e+06</td>\n",
       "    </tr>\n",
       "  </tbody>\n",
       "</table>\n",
       "</div>"
      ],
      "text/plain": [
       "       status_final               rev   costo_total\n",
       "0                F3       Sin novedad  4.533410e+09\n",
       "1  Cierre en tienda  Cierre en tienda  1.923061e+09\n",
       "2  Cierre en tienda       Sin novedad  1.361262e+09\n",
       "3          F4 merma       Sin novedad  3.653966e+08\n",
       "4                F5       Sin novedad  1.710918e+08\n",
       "5                F3       Con novedad  3.511312e+07\n",
       "6  Cierre en tienda       Con novedad  2.941116e+07\n",
       "7          F4 merma       Con novedad  2.581822e+07\n",
       "8                F5       Con novedad  1.429123e+06"
      ]
     },
     "execution_count": 37,
     "metadata": {},
     "output_type": "execute_result"
    }
   ],
   "source": [
    "con_tienda"
   ]
  },
  {
   "cell_type": "code",
   "execution_count": 38,
   "metadata": {},
   "outputs": [],
   "source": [
    "motivos = con_tienda.status_final.unique()\n",
    "gb_motivos_tienda = con_tienda.groupby('status_final')['costo_total'].sum().reset_index()\n",
    "gb_motivos_tienda.set_index('status_final', inplace=True)\n",
    "for motivo in motivos:\n",
    "    con_tienda.loc[con_tienda['status_final']==motivo, 'status_final'] = f'{motivo} - ${round(gb_motivos_tienda.loc[motivo, \"costo_total\"]/1e6):,.0f}M'"
   ]
  },
  {
   "cell_type": "code",
   "execution_count": 39,
   "metadata": {},
   "outputs": [],
   "source": [
    "revs = con_tienda.rev.unique()\n",
    "gb_rev_tienda = con_tienda.groupby('rev')['costo_total'].sum().reset_index()\n",
    "gb_rev_tienda.set_index('rev', inplace=True)\n",
    "for rev in revs:\n",
    "    con_tienda.loc[con_tienda['rev']==rev, 'rev'] = f'{rev} - ${round(gb_rev_tienda.loc[rev, \"costo_total\"]/1e6):,.0f}M'"
   ]
  },
  {
   "cell_type": "code",
   "execution_count": 40,
   "metadata": {},
   "outputs": [
    {
     "data": {
      "text/plain": [
       "array(['Sin novedad', 'Cierre en tienda', 'Con novedad'], dtype=object)"
      ]
     },
     "execution_count": 40,
     "metadata": {},
     "output_type": "execute_result"
    }
   ],
   "source": [
    "revs"
   ]
  },
  {
   "cell_type": "code",
   "execution_count": 41,
   "metadata": {},
   "outputs": [
    {
     "data": {
      "text/plain": [
       "('Sin novedad - $6,431M', 'Con novedad - $92M', 'Cierre en tienda - $1,923M')"
      ]
     },
     "execution_count": 41,
     "metadata": {},
     "output_type": "execute_result"
    }
   ],
   "source": [
    "con_tienda.loc[con_tienda['rev'].str.contains(r'Sin novedad'), 'rev'].unique()[0], con_tienda.loc[con_tienda['rev'].str.contains(r'Con novedad'), 'rev'].unique()[0], con_tienda.loc[con_tienda['rev'].str.contains(r'Cierre en tienda'), 'rev'].unique()[0]"
   ]
  },
  {
   "cell_type": "code",
   "execution_count": 42,
   "metadata": {},
   "outputs": [],
   "source": [
    "revs_tienda =  [con_tienda.loc[con_tienda['rev'].str.contains(r'Sin novedad'), 'rev'].unique()[0], con_tienda.loc[con_tienda['rev'].str.contains(r'Con novedad'), 'rev'].unique()[0], con_tienda.loc[con_tienda['rev'].str.contains(r'Cierre en tienda'), 'rev'].unique()[0]]\n",
    "co_tienda = {'rev':revs_tienda, 'status_final':con_tienda.status_final.unique()}"
   ]
  },
  {
   "cell_type": "code",
   "execution_count": 43,
   "metadata": {},
   "outputs": [],
   "source": [
    "total_tienda = con_tienda['costo_total'].sum()"
   ]
  },
  {
   "cell_type": "code",
   "execution_count": 44,
   "metadata": {},
   "outputs": [
    {
     "data": {
      "application/vnd.plotly.v1+json": {
       "config": {
        "plotlyServerURL": "https://plot.ly"
       },
       "data": [
        {
         "alignmentgroup": "True",
         "hovertemplate": "Estado revisión=Sin novedad - $6,431M<br>Total costo promedio=%{text}<br>Motivo de cierre=%{y}<extra></extra>",
         "legendgroup": "Sin novedad - $6,431M",
         "marker": {
          "color": "rgb(115, 175, 72)",
          "pattern": {
           "shape": ""
          }
         },
         "name": "Sin novedad - $6,431M",
         "offsetgroup": "Sin novedad - $6,431M",
         "orientation": "h",
         "showlegend": true,
         "text": [
          4533410142.908,
          1361261995.533,
          365396644.113,
          171091793.167
         ],
         "textposition": "auto",
         "texttemplate": "%{x:.2s}",
         "type": "bar",
         "x": [
          4533410142.908,
          1361261995.533,
          365396644.113,
          171091793.167
         ],
         "xaxis": "x",
         "y": [
          "F3 - $4,569M",
          "Cierre en tienda - $3,314M",
          "F4 merma - $391M",
          "F5 - $173M"
         ],
         "yaxis": "y"
        },
        {
         "alignmentgroup": "True",
         "hovertemplate": "Estado revisión=Con novedad - $92M<br>Total costo promedio=%{text}<br>Motivo de cierre=%{y}<extra></extra>",
         "legendgroup": "Con novedad - $92M",
         "marker": {
          "color": "rgb(204, 80, 62)",
          "pattern": {
           "shape": ""
          }
         },
         "name": "Con novedad - $92M",
         "offsetgroup": "Con novedad - $92M",
         "orientation": "h",
         "showlegend": true,
         "text": [
          35113118.194,
          29411160.527,
          25818219.916,
          1429122.518
         ],
         "textposition": "auto",
         "texttemplate": "%{x:.2s}",
         "type": "bar",
         "x": [
          35113118.194,
          29411160.527,
          25818219.916,
          1429122.518
         ],
         "xaxis": "x",
         "y": [
          "F3 - $4,569M",
          "Cierre en tienda - $3,314M",
          "F4 merma - $391M",
          "F5 - $173M"
         ],
         "yaxis": "y"
        },
        {
         "alignmentgroup": "True",
         "hovertemplate": "Estado revisión=Cierre en tienda - $1,923M<br>Total costo promedio=%{text}<br>Motivo de cierre=%{y}<extra></extra>",
         "legendgroup": "Cierre en tienda - $1,923M",
         "marker": {
          "color": "rgb(179, 179, 179)",
          "pattern": {
           "shape": ""
          }
         },
         "name": "Cierre en tienda - $1,923M",
         "offsetgroup": "Cierre en tienda - $1,923M",
         "orientation": "h",
         "showlegend": true,
         "text": [
          1923060598.162
         ],
         "textposition": "auto",
         "texttemplate": "%{x:.2s}",
         "type": "bar",
         "x": [
          1923060598.162
         ],
         "xaxis": "x",
         "y": [
          "Cierre en tienda - $3,314M"
         ],
         "yaxis": "y"
        }
       ],
       "layout": {
        "barmode": "relative",
        "legend": {
         "title": {
          "text": "Estado revisión"
         },
         "tracegroupgap": 0,
         "x": 0.9,
         "xanchor": "right",
         "y": 0.1,
         "yanchor": "bottom"
        },
        "margin": {
         "r": 20,
         "t": 60
        },
        "template": {
         "data": {
          "bar": [
           {
            "error_x": {
             "color": "#2a3f5f"
            },
            "error_y": {
             "color": "#2a3f5f"
            },
            "marker": {
             "line": {
              "color": "#E5ECF6",
              "width": 0.5
             },
             "pattern": {
              "fillmode": "overlay",
              "size": 10,
              "solidity": 0.2
             }
            },
            "type": "bar"
           }
          ],
          "barpolar": [
           {
            "marker": {
             "line": {
              "color": "#E5ECF6",
              "width": 0.5
             },
             "pattern": {
              "fillmode": "overlay",
              "size": 10,
              "solidity": 0.2
             }
            },
            "type": "barpolar"
           }
          ],
          "carpet": [
           {
            "aaxis": {
             "endlinecolor": "#2a3f5f",
             "gridcolor": "white",
             "linecolor": "white",
             "minorgridcolor": "white",
             "startlinecolor": "#2a3f5f"
            },
            "baxis": {
             "endlinecolor": "#2a3f5f",
             "gridcolor": "white",
             "linecolor": "white",
             "minorgridcolor": "white",
             "startlinecolor": "#2a3f5f"
            },
            "type": "carpet"
           }
          ],
          "choropleth": [
           {
            "colorbar": {
             "outlinewidth": 0,
             "ticks": ""
            },
            "type": "choropleth"
           }
          ],
          "contour": [
           {
            "colorbar": {
             "outlinewidth": 0,
             "ticks": ""
            },
            "colorscale": [
             [
              0,
              "#0d0887"
             ],
             [
              0.1111111111111111,
              "#46039f"
             ],
             [
              0.2222222222222222,
              "#7201a8"
             ],
             [
              0.3333333333333333,
              "#9c179e"
             ],
             [
              0.4444444444444444,
              "#bd3786"
             ],
             [
              0.5555555555555556,
              "#d8576b"
             ],
             [
              0.6666666666666666,
              "#ed7953"
             ],
             [
              0.7777777777777778,
              "#fb9f3a"
             ],
             [
              0.8888888888888888,
              "#fdca26"
             ],
             [
              1,
              "#f0f921"
             ]
            ],
            "type": "contour"
           }
          ],
          "contourcarpet": [
           {
            "colorbar": {
             "outlinewidth": 0,
             "ticks": ""
            },
            "type": "contourcarpet"
           }
          ],
          "heatmap": [
           {
            "colorbar": {
             "outlinewidth": 0,
             "ticks": ""
            },
            "colorscale": [
             [
              0,
              "#0d0887"
             ],
             [
              0.1111111111111111,
              "#46039f"
             ],
             [
              0.2222222222222222,
              "#7201a8"
             ],
             [
              0.3333333333333333,
              "#9c179e"
             ],
             [
              0.4444444444444444,
              "#bd3786"
             ],
             [
              0.5555555555555556,
              "#d8576b"
             ],
             [
              0.6666666666666666,
              "#ed7953"
             ],
             [
              0.7777777777777778,
              "#fb9f3a"
             ],
             [
              0.8888888888888888,
              "#fdca26"
             ],
             [
              1,
              "#f0f921"
             ]
            ],
            "type": "heatmap"
           }
          ],
          "heatmapgl": [
           {
            "colorbar": {
             "outlinewidth": 0,
             "ticks": ""
            },
            "colorscale": [
             [
              0,
              "#0d0887"
             ],
             [
              0.1111111111111111,
              "#46039f"
             ],
             [
              0.2222222222222222,
              "#7201a8"
             ],
             [
              0.3333333333333333,
              "#9c179e"
             ],
             [
              0.4444444444444444,
              "#bd3786"
             ],
             [
              0.5555555555555556,
              "#d8576b"
             ],
             [
              0.6666666666666666,
              "#ed7953"
             ],
             [
              0.7777777777777778,
              "#fb9f3a"
             ],
             [
              0.8888888888888888,
              "#fdca26"
             ],
             [
              1,
              "#f0f921"
             ]
            ],
            "type": "heatmapgl"
           }
          ],
          "histogram": [
           {
            "marker": {
             "pattern": {
              "fillmode": "overlay",
              "size": 10,
              "solidity": 0.2
             }
            },
            "type": "histogram"
           }
          ],
          "histogram2d": [
           {
            "colorbar": {
             "outlinewidth": 0,
             "ticks": ""
            },
            "colorscale": [
             [
              0,
              "#0d0887"
             ],
             [
              0.1111111111111111,
              "#46039f"
             ],
             [
              0.2222222222222222,
              "#7201a8"
             ],
             [
              0.3333333333333333,
              "#9c179e"
             ],
             [
              0.4444444444444444,
              "#bd3786"
             ],
             [
              0.5555555555555556,
              "#d8576b"
             ],
             [
              0.6666666666666666,
              "#ed7953"
             ],
             [
              0.7777777777777778,
              "#fb9f3a"
             ],
             [
              0.8888888888888888,
              "#fdca26"
             ],
             [
              1,
              "#f0f921"
             ]
            ],
            "type": "histogram2d"
           }
          ],
          "histogram2dcontour": [
           {
            "colorbar": {
             "outlinewidth": 0,
             "ticks": ""
            },
            "colorscale": [
             [
              0,
              "#0d0887"
             ],
             [
              0.1111111111111111,
              "#46039f"
             ],
             [
              0.2222222222222222,
              "#7201a8"
             ],
             [
              0.3333333333333333,
              "#9c179e"
             ],
             [
              0.4444444444444444,
              "#bd3786"
             ],
             [
              0.5555555555555556,
              "#d8576b"
             ],
             [
              0.6666666666666666,
              "#ed7953"
             ],
             [
              0.7777777777777778,
              "#fb9f3a"
             ],
             [
              0.8888888888888888,
              "#fdca26"
             ],
             [
              1,
              "#f0f921"
             ]
            ],
            "type": "histogram2dcontour"
           }
          ],
          "mesh3d": [
           {
            "colorbar": {
             "outlinewidth": 0,
             "ticks": ""
            },
            "type": "mesh3d"
           }
          ],
          "parcoords": [
           {
            "line": {
             "colorbar": {
              "outlinewidth": 0,
              "ticks": ""
             }
            },
            "type": "parcoords"
           }
          ],
          "pie": [
           {
            "automargin": true,
            "type": "pie"
           }
          ],
          "scatter": [
           {
            "fillpattern": {
             "fillmode": "overlay",
             "size": 10,
             "solidity": 0.2
            },
            "type": "scatter"
           }
          ],
          "scatter3d": [
           {
            "line": {
             "colorbar": {
              "outlinewidth": 0,
              "ticks": ""
             }
            },
            "marker": {
             "colorbar": {
              "outlinewidth": 0,
              "ticks": ""
             }
            },
            "type": "scatter3d"
           }
          ],
          "scattercarpet": [
           {
            "marker": {
             "colorbar": {
              "outlinewidth": 0,
              "ticks": ""
             }
            },
            "type": "scattercarpet"
           }
          ],
          "scattergeo": [
           {
            "marker": {
             "colorbar": {
              "outlinewidth": 0,
              "ticks": ""
             }
            },
            "type": "scattergeo"
           }
          ],
          "scattergl": [
           {
            "marker": {
             "colorbar": {
              "outlinewidth": 0,
              "ticks": ""
             }
            },
            "type": "scattergl"
           }
          ],
          "scattermapbox": [
           {
            "marker": {
             "colorbar": {
              "outlinewidth": 0,
              "ticks": ""
             }
            },
            "type": "scattermapbox"
           }
          ],
          "scatterpolar": [
           {
            "marker": {
             "colorbar": {
              "outlinewidth": 0,
              "ticks": ""
             }
            },
            "type": "scatterpolar"
           }
          ],
          "scatterpolargl": [
           {
            "marker": {
             "colorbar": {
              "outlinewidth": 0,
              "ticks": ""
             }
            },
            "type": "scatterpolargl"
           }
          ],
          "scatterternary": [
           {
            "marker": {
             "colorbar": {
              "outlinewidth": 0,
              "ticks": ""
             }
            },
            "type": "scatterternary"
           }
          ],
          "surface": [
           {
            "colorbar": {
             "outlinewidth": 0,
             "ticks": ""
            },
            "colorscale": [
             [
              0,
              "#0d0887"
             ],
             [
              0.1111111111111111,
              "#46039f"
             ],
             [
              0.2222222222222222,
              "#7201a8"
             ],
             [
              0.3333333333333333,
              "#9c179e"
             ],
             [
              0.4444444444444444,
              "#bd3786"
             ],
             [
              0.5555555555555556,
              "#d8576b"
             ],
             [
              0.6666666666666666,
              "#ed7953"
             ],
             [
              0.7777777777777778,
              "#fb9f3a"
             ],
             [
              0.8888888888888888,
              "#fdca26"
             ],
             [
              1,
              "#f0f921"
             ]
            ],
            "type": "surface"
           }
          ],
          "table": [
           {
            "cells": {
             "fill": {
              "color": "#EBF0F8"
             },
             "line": {
              "color": "white"
             }
            },
            "header": {
             "fill": {
              "color": "#C8D4E3"
             },
             "line": {
              "color": "white"
             }
            },
            "type": "table"
           }
          ]
         },
         "layout": {
          "annotationdefaults": {
           "arrowcolor": "#2a3f5f",
           "arrowhead": 0,
           "arrowwidth": 1
          },
          "autotypenumbers": "strict",
          "coloraxis": {
           "colorbar": {
            "outlinewidth": 0,
            "ticks": ""
           }
          },
          "colorscale": {
           "diverging": [
            [
             0,
             "#8e0152"
            ],
            [
             0.1,
             "#c51b7d"
            ],
            [
             0.2,
             "#de77ae"
            ],
            [
             0.3,
             "#f1b6da"
            ],
            [
             0.4,
             "#fde0ef"
            ],
            [
             0.5,
             "#f7f7f7"
            ],
            [
             0.6,
             "#e6f5d0"
            ],
            [
             0.7,
             "#b8e186"
            ],
            [
             0.8,
             "#7fbc41"
            ],
            [
             0.9,
             "#4d9221"
            ],
            [
             1,
             "#276419"
            ]
           ],
           "sequential": [
            [
             0,
             "#0d0887"
            ],
            [
             0.1111111111111111,
             "#46039f"
            ],
            [
             0.2222222222222222,
             "#7201a8"
            ],
            [
             0.3333333333333333,
             "#9c179e"
            ],
            [
             0.4444444444444444,
             "#bd3786"
            ],
            [
             0.5555555555555556,
             "#d8576b"
            ],
            [
             0.6666666666666666,
             "#ed7953"
            ],
            [
             0.7777777777777778,
             "#fb9f3a"
            ],
            [
             0.8888888888888888,
             "#fdca26"
            ],
            [
             1,
             "#f0f921"
            ]
           ],
           "sequentialminus": [
            [
             0,
             "#0d0887"
            ],
            [
             0.1111111111111111,
             "#46039f"
            ],
            [
             0.2222222222222222,
             "#7201a8"
            ],
            [
             0.3333333333333333,
             "#9c179e"
            ],
            [
             0.4444444444444444,
             "#bd3786"
            ],
            [
             0.5555555555555556,
             "#d8576b"
            ],
            [
             0.6666666666666666,
             "#ed7953"
            ],
            [
             0.7777777777777778,
             "#fb9f3a"
            ],
            [
             0.8888888888888888,
             "#fdca26"
            ],
            [
             1,
             "#f0f921"
            ]
           ]
          },
          "colorway": [
           "#636efa",
           "#EF553B",
           "#00cc96",
           "#ab63fa",
           "#FFA15A",
           "#19d3f3",
           "#FF6692",
           "#B6E880",
           "#FF97FF",
           "#FECB52"
          ],
          "font": {
           "color": "#2a3f5f"
          },
          "geo": {
           "bgcolor": "white",
           "lakecolor": "white",
           "landcolor": "#E5ECF6",
           "showlakes": true,
           "showland": true,
           "subunitcolor": "white"
          },
          "hoverlabel": {
           "align": "left"
          },
          "hovermode": "closest",
          "mapbox": {
           "style": "light"
          },
          "paper_bgcolor": "white",
          "plot_bgcolor": "#E5ECF6",
          "polar": {
           "angularaxis": {
            "gridcolor": "white",
            "linecolor": "white",
            "ticks": ""
           },
           "bgcolor": "#E5ECF6",
           "radialaxis": {
            "gridcolor": "white",
            "linecolor": "white",
            "ticks": ""
           }
          },
          "scene": {
           "xaxis": {
            "backgroundcolor": "#E5ECF6",
            "gridcolor": "white",
            "gridwidth": 2,
            "linecolor": "white",
            "showbackground": true,
            "ticks": "",
            "zerolinecolor": "white"
           },
           "yaxis": {
            "backgroundcolor": "#E5ECF6",
            "gridcolor": "white",
            "gridwidth": 2,
            "linecolor": "white",
            "showbackground": true,
            "ticks": "",
            "zerolinecolor": "white"
           },
           "zaxis": {
            "backgroundcolor": "#E5ECF6",
            "gridcolor": "white",
            "gridwidth": 2,
            "linecolor": "white",
            "showbackground": true,
            "ticks": "",
            "zerolinecolor": "white"
           }
          },
          "shapedefaults": {
           "line": {
            "color": "#2a3f5f"
           }
          },
          "ternary": {
           "aaxis": {
            "gridcolor": "white",
            "linecolor": "white",
            "ticks": ""
           },
           "baxis": {
            "gridcolor": "white",
            "linecolor": "white",
            "ticks": ""
           },
           "bgcolor": "#E5ECF6",
           "caxis": {
            "gridcolor": "white",
            "linecolor": "white",
            "ticks": ""
           }
          },
          "title": {
           "x": 0.05
          },
          "xaxis": {
           "automargin": true,
           "gridcolor": "white",
           "linecolor": "white",
           "ticks": "",
           "title": {
            "standoff": 15
           },
           "zerolinecolor": "white",
           "zerolinewidth": 2
          },
          "yaxis": {
           "automargin": true,
           "gridcolor": "white",
           "linecolor": "white",
           "ticks": "",
           "title": {
            "standoff": 15
           },
           "zerolinecolor": "white",
           "zerolinewidth": 2
          }
         }
        },
        "title": {
         "text": "Motivos de cierres de F11 Tienda 2022 - $ 8,446M"
        },
        "xaxis": {
         "anchor": "y",
         "constrain": "domain",
         "domain": [
          0,
          1
         ],
         "range": [
          0,
          5440092171.4896
         ],
         "title": {
          "text": "Total costo promedio"
         }
        },
        "yaxis": {
         "anchor": "x",
         "categoryarray": [
          "F5 - $173M",
          "F4 merma - $391M",
          "Cierre en tienda - $3,314M",
          "F3 - $4,569M"
         ],
         "categoryorder": "array",
         "domain": [
          0,
          1
         ],
         "title": {
          "text": "Motivo de cierre"
         }
        }
       }
      }
     },
     "metadata": {},
     "output_type": "display_data"
    }
   ],
   "source": [
    "fig_con_total = px.bar(con_tienda, orientation='h', y ='status_final', x='costo_total', title= f\"Motivos de cierres de F11 Tienda 2022 - $ {total_tienda/1e6:,.0f}M\", \n",
    "labels={ 'costo_total':'Total costo promedio', 'status_final':'Motivo de cierre', 'rev':'Estado revisión'}, text='costo_total',text_auto='.2s', \n",
    "color_discrete_sequence=[ 'rgb(115, 175, 72)','rgb(204, 80, 62)','rgb(179, 179, 179)' ], color ='rev', category_orders=co_tienda ) \n",
    "fig_con_total.update_layout(legend=dict(yanchor=\"bottom\", y=0.1, xanchor=\"right\", x=0.9))\n",
    "fig_con_total.update_layout(margin_r=20, margin_t=60)\n",
    "fig_con_total.update_xaxes(range = [0,con_tienda['costo_total'].max() + con_tienda['costo_total'].max() * 0.2], constrain = 'domain')\n",
    "fig_con_total.write_image(f'output/{dt_string}_con_tienda.svg',width=900, height=400, engine='orca') # 820 , 350 \n",
    "fig_con_total.show()"
   ]
  },
  {
   "cell_type": "code",
   "execution_count": 45,
   "metadata": {},
   "outputs": [
    {
     "data": {
      "text/html": [
       "<div>\n",
       "<style scoped>\n",
       "    .dataframe tbody tr th:only-of-type {\n",
       "        vertical-align: middle;\n",
       "    }\n",
       "\n",
       "    .dataframe tbody tr th {\n",
       "        vertical-align: top;\n",
       "    }\n",
       "\n",
       "    .dataframe thead th {\n",
       "        text-align: right;\n",
       "    }\n",
       "</style>\n",
       "<table border=\"1\" class=\"dataframe\">\n",
       "  <thead>\n",
       "    <tr style=\"text-align: right;\">\n",
       "      <th></th>\n",
       "      <th>nfolio</th>\n",
       "      <th>qproducto</th>\n",
       "      <th>xobservacion</th>\n",
       "      <th>xservicio</th>\n",
       "      <th>costo_total</th>\n",
       "      <th>estado_f11</th>\n",
       "      <th>status_final</th>\n",
       "      <th>sku</th>\n",
       "      <th>GCO</th>\n",
       "      <th>Comentario GCO</th>\n",
       "      <th>checked</th>\n",
       "      <th>fnandup</th>\n",
       "      <th>origen</th>\n",
       "      <th>n_folio</th>\n",
       "      <th>local_envio</th>\n",
       "      <th>sku_(numero_de_producto)</th>\n",
       "      <th>F11</th>\n",
       "      <th>SKU ORIGINAL</th>\n",
       "      <th>CANT. UND GENERADAS</th>\n",
       "      <th>partition_date</th>\n",
       "      <th>rev</th>\n",
       "    </tr>\n",
       "  </thead>\n",
       "  <tbody>\n",
       "    <tr>\n",
       "      <th>0</th>\n",
       "      <td>1111598080</td>\n",
       "      <td>1</td>\n",
       "      <td>se cierra  1111598080 asociado a 12979073643 p...</td>\n",
       "      <td>retiro f12</td>\n",
       "      <td>344000.0</td>\n",
       "      <td>entrega total</td>\n",
       "      <td>F4 cobrado a terceros</td>\n",
       "      <td>4094654</td>\n",
       "      <td>OKK</td>\n",
       "      <td>Coincidencia exacta F4+UPC+QTY</td>\n",
       "      <td>y</td>\n",
       "      <td>NaN</td>\n",
       "      <td>CD</td>\n",
       "      <td>NaN</td>\n",
       "      <td>NaN</td>\n",
       "      <td>NaN</td>\n",
       "      <td>NaN</td>\n",
       "      <td>NaN</td>\n",
       "      <td>NaN</td>\n",
       "      <td>2022-11-21</td>\n",
       "      <td>Sin novedad</td>\n",
       "    </tr>\n",
       "    <tr>\n",
       "      <th>1</th>\n",
       "      <td>1111773746</td>\n",
       "      <td>1</td>\n",
       "      <td>asociado a f3 33522586</td>\n",
       "      <td>retiro f12</td>\n",
       "      <td>6230.0</td>\n",
       "      <td>entrega total</td>\n",
       "      <td>F3</td>\n",
       "      <td>6208803</td>\n",
       "      <td>OKK</td>\n",
       "      <td>Coincidencia exacta F3+UPC+QTY</td>\n",
       "      <td>y</td>\n",
       "      <td>NaN</td>\n",
       "      <td>CD</td>\n",
       "      <td>NaN</td>\n",
       "      <td>NaN</td>\n",
       "      <td>NaN</td>\n",
       "      <td>NaN</td>\n",
       "      <td>NaN</td>\n",
       "      <td>NaN</td>\n",
       "      <td>2022-11-21</td>\n",
       "      <td>Sin novedad</td>\n",
       "    </tr>\n",
       "    <tr>\n",
       "      <th>2</th>\n",
       "      <td>1111771537</td>\n",
       "      <td>1</td>\n",
       "      <td>asociado a f3 33522548</td>\n",
       "      <td>retiro f12</td>\n",
       "      <td>35450.0</td>\n",
       "      <td>entrega total</td>\n",
       "      <td>F3</td>\n",
       "      <td>22286520</td>\n",
       "      <td>OKK</td>\n",
       "      <td>Coincidencia exacta F3+UPC+QTY</td>\n",
       "      <td>y</td>\n",
       "      <td>NaN</td>\n",
       "      <td>CD</td>\n",
       "      <td>NaN</td>\n",
       "      <td>NaN</td>\n",
       "      <td>NaN</td>\n",
       "      <td>NaN</td>\n",
       "      <td>NaN</td>\n",
       "      <td>NaN</td>\n",
       "      <td>2022-11-21</td>\n",
       "      <td>Sin novedad</td>\n",
       "    </tr>\n",
       "    <tr>\n",
       "      <th>3</th>\n",
       "      <td>1111774354</td>\n",
       "      <td>1</td>\n",
       "      <td>asociado a f3 33547015</td>\n",
       "      <td>retiro f12</td>\n",
       "      <td>93990.0</td>\n",
       "      <td>entrega total</td>\n",
       "      <td>F3</td>\n",
       "      <td>33369159</td>\n",
       "      <td>OKK</td>\n",
       "      <td>Coincidencia exacta F3+UPC+QTY</td>\n",
       "      <td>y</td>\n",
       "      <td>NaN</td>\n",
       "      <td>CD</td>\n",
       "      <td>NaN</td>\n",
       "      <td>NaN</td>\n",
       "      <td>NaN</td>\n",
       "      <td>NaN</td>\n",
       "      <td>NaN</td>\n",
       "      <td>NaN</td>\n",
       "      <td>2022-11-21</td>\n",
       "      <td>Sin novedad</td>\n",
       "    </tr>\n",
       "    <tr>\n",
       "      <th>4</th>\n",
       "      <td>1111236937</td>\n",
       "      <td>1</td>\n",
       "      <td>f1285237808 cliente informa quese cierra 11112...</td>\n",
       "      <td>retiro f12</td>\n",
       "      <td>11880.0</td>\n",
       "      <td>entrega total</td>\n",
       "      <td>F4 merma</td>\n",
       "      <td>770231173</td>\n",
       "      <td>OKK</td>\n",
       "      <td>Coincidencia exacta F4+UPC+QTY</td>\n",
       "      <td>y</td>\n",
       "      <td>NaN</td>\n",
       "      <td>CD</td>\n",
       "      <td>NaN</td>\n",
       "      <td>NaN</td>\n",
       "      <td>NaN</td>\n",
       "      <td>NaN</td>\n",
       "      <td>NaN</td>\n",
       "      <td>NaN</td>\n",
       "      <td>2022-11-21</td>\n",
       "      <td>Sin novedad</td>\n",
       "    </tr>\n",
       "  </tbody>\n",
       "</table>\n",
       "</div>"
      ],
      "text/plain": [
       "       nfolio qproducto                                       xobservacion  \\\n",
       "0  1111598080         1  se cierra  1111598080 asociado a 12979073643 p...   \n",
       "1  1111773746         1                             asociado a f3 33522586   \n",
       "2  1111771537         1                             asociado a f3 33522548   \n",
       "3  1111774354         1                             asociado a f3 33547015   \n",
       "4  1111236937         1  f1285237808 cliente informa quese cierra 11112...   \n",
       "\n",
       "    xservicio  costo_total     estado_f11           status_final        sku  \\\n",
       "0  retiro f12     344000.0  entrega total  F4 cobrado a terceros    4094654   \n",
       "1  retiro f12       6230.0  entrega total                     F3    6208803   \n",
       "2  retiro f12      35450.0  entrega total                     F3   22286520   \n",
       "3  retiro f12      93990.0  entrega total                     F3   33369159   \n",
       "4  retiro f12      11880.0  entrega total               F4 merma  770231173   \n",
       "\n",
       "   GCO                  Comentario GCO checked fnandup origen n_folio  \\\n",
       "0  OKK  Coincidencia exacta F4+UPC+QTY       y     NaN     CD     NaN   \n",
       "1  OKK  Coincidencia exacta F3+UPC+QTY       y     NaN     CD     NaN   \n",
       "2  OKK  Coincidencia exacta F3+UPC+QTY       y     NaN     CD     NaN   \n",
       "3  OKK  Coincidencia exacta F3+UPC+QTY       y     NaN     CD     NaN   \n",
       "4  OKK  Coincidencia exacta F4+UPC+QTY       y     NaN     CD     NaN   \n",
       "\n",
       "  local_envio sku_(numero_de_producto)  F11 SKU ORIGINAL CANT. UND GENERADAS  \\\n",
       "0         NaN                      NaN  NaN          NaN                 NaN   \n",
       "1         NaN                      NaN  NaN          NaN                 NaN   \n",
       "2         NaN                      NaN  NaN          NaN                 NaN   \n",
       "3         NaN                      NaN  NaN          NaN                 NaN   \n",
       "4         NaN                      NaN  NaN          NaN                 NaN   \n",
       "\n",
       "  partition_date          rev  \n",
       "0     2022-11-21  Sin novedad  \n",
       "1     2022-11-21  Sin novedad  \n",
       "2     2022-11-21  Sin novedad  \n",
       "3     2022-11-21  Sin novedad  \n",
       "4     2022-11-21  Sin novedad  "
      ]
     },
     "execution_count": 45,
     "metadata": {},
     "output_type": "execute_result"
    }
   ],
   "source": [
    "con.head()"
   ]
  },
  {
   "cell_type": "code",
   "execution_count": 46,
   "metadata": {},
   "outputs": [],
   "source": [
    "con.to_excel('consolidado_cf11.xlsx', index=False)"
   ]
  }
 ],
 "metadata": {
  "kernelspec": {
   "display_name": "Python 3.9.13 ('base')",
   "language": "python",
   "name": "python3"
  },
  "language_info": {
   "codemirror_mode": {
    "name": "ipython",
    "version": 3
   },
   "file_extension": ".py",
   "mimetype": "text/x-python",
   "name": "python",
   "nbconvert_exporter": "python",
   "pygments_lexer": "ipython3",
   "version": "3.9.13"
  },
  "orig_nbformat": 4,
  "vscode": {
   "interpreter": {
    "hash": "a321a14e087a510dfc7ae8360530cc28f8eb3988bb6d0baa5cae85ea5f6d0648"
   }
  }
 },
 "nbformat": 4,
 "nbformat_minor": 2
}
