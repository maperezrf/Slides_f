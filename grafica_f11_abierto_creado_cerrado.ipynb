{
 "cells": [
  {
   "cell_type": "code",
   "execution_count": 1,
   "id": "7c463d83",
   "metadata": {
    "scrolled": true
   },
   "outputs": [],
   "source": [
    "import pandas as pd\n",
    "from   datetime import date, timedelta, datetime\n",
    "datestr = datetime.now().strftime('%y%m%d') \n",
    "#from f11 import F11"
   ]
  },
  {
   "cell_type": "code",
   "execution_count": 2,
   "id": "761a2735",
   "metadata": {},
   "outputs": [],
   "source": [
    "def set_fecha_corte(df, fecha_corte=date.today()):\n",
    "    df['FECHA_CORTE']= fecha_corte\n",
    "    return df"
   ]
  },
  {
   "cell_type": "code",
   "execution_count": 3,
   "id": "f4af73da",
   "metadata": {},
   "outputs": [],
   "source": [
    "dtagco = {\n",
    "    'path_df': 'C:/Users/jlrodriguezc/Falabella/EQUIPO-ANALYTICS - General/DATA/F11/220328_f11.xlsx', #'input/220328_f11.xlsx',\n",
    "    'trend_path': 'input/tendencias.xlsx', \n",
    "    'f11_id':'NRO_F11',\n",
    "    'propietario':'PROPIETARIO',\n",
    "    'estado':'ESTADO',\n",
    "    'prop_empresa':'EMPRESA',\n",
    "    'fech_creacion':'FECHA_CREACION',\n",
    "    'estados_abiertos':['Despachado','Espera Retiro Clte.','Ingresado','Entrega parcial'],\n",
    "    'fecha_inicial':'2022-01-01', \n",
    "    'mes':'MES', \n",
    "    'costo':'TOTAL_COSTO',\n",
    "    'grupo':'GRUPO'}"
   ]
  },
  {
   "cell_type": "markdown",
   "id": "cabc119b",
   "metadata": {},
   "source": [
    "## Cortes "
   ]
  },
  {
   "cell_type": "code",
   "execution_count": 4,
   "id": "27d25927",
   "metadata": {
    "scrolled": true
   },
   "outputs": [
    {
     "name": "stderr",
     "output_type": "stream",
     "text": [
      "C:\\Users\\jlrodriguezc\\AppData\\Local\\Temp\\ipykernel_15672\\3268568444.py:1: DtypeWarning: Columns (32) have mixed types. Specify dtype option on import or set low_memory=False.\n",
      "  df_0 = pd.read_csv('C:/Users/jlrodriguezc/Falabella/EQUIPO-ANALYTICS - General/DATA/F11/230110_f11.csv', sep=';')\n",
      "C:\\Users\\jlrodriguezc\\AppData\\Local\\Temp\\ipykernel_15672\\3268568444.py:2: DtypeWarning: Columns (32) have mixed types. Specify dtype option on import or set low_memory=False.\n",
      "  df_1 = pd.read_csv('C:/Users/jlrodriguezc/Falabella/EQUIPO-ANALYTICS - General/DATA/F11/230118_f11.csv', sep=';')\n",
      "C:\\Users\\jlrodriguezc\\AppData\\Local\\Temp\\ipykernel_15672\\3268568444.py:3: DtypeWarning: Columns (32) have mixed types. Specify dtype option on import or set low_memory=False.\n",
      "  df_2 = pd.read_csv('C:/Users/jlrodriguezc/Falabella/EQUIPO-ANALYTICS - General/DATA/F11/230123_f11.csv', sep=';')\n"
     ]
    }
   ],
   "source": [
    "df_0 = pd.read_csv('C:/Users/jlrodriguezc/Falabella/EQUIPO-ANALYTICS - General/DATA/F11/230110_f11.csv', sep=';')\n",
    "df_1 = pd.read_csv('C:/Users/jlrodriguezc/Falabella/EQUIPO-ANALYTICS - General/DATA/F11/230118_f11.csv', sep=';')\n",
    "df_2 = pd.read_csv('C:/Users/jlrodriguezc/Falabella/EQUIPO-ANALYTICS - General/DATA/F11/230123_f11.csv', sep=';')\n",
    "df_3 = pd.read_csv('C:/Users/jlrodriguezc/Falabella/EQUIPO-ANALYTICS - General/DATA/F11/230130_f11.csv', sep=';', dtype='str')\n",
    "df_4 = pd.read_csv('C:/Users/jlrodriguezc/Falabella/EQUIPO-ANALYTICS - General/DATA/F11/230206_f11.csv', sep=';', dtype='str')"
   ]
  },
  {
   "cell_type": "markdown",
   "id": "35748bda",
   "metadata": {},
   "source": [
    "Abierto a cerrado"
   ]
  },
  {
   "cell_type": "code",
   "execution_count": 5,
   "id": "5fcf065b",
   "metadata": {},
   "outputs": [],
   "source": [
    "def get_abierto_to_cerrado(dfant, dfnvo):\n",
    "    abierto = dfant.loc[dfant[dtagco['estado']].isin(dtagco['estados_abiertos'])]\n",
    "    cerrado = dfnvo.loc[dfnvo[dtagco['estado']].isin(['Anulado', 'Entrega total'])]\n",
    "    return abierto.loc[abierto[dtagco['f11_id']].isin(cerrado[dtagco['f11_id']])]"
   ]
  },
  {
   "cell_type": "code",
   "execution_count": 6,
   "id": "eba5520c",
   "metadata": {},
   "outputs": [],
   "source": [
    "lista = []"
   ]
  },
  {
   "cell_type": "markdown",
   "id": "26d3f446",
   "metadata": {
    "scrolled": true
   },
   "source": [
    "uno = get_abierto_to_cerrado(df_0, df_1)\n",
    "uno['rango_corte'] = '23Feb-28Feb'\n",
    "lista.append(uno)\n",
    "uno.shape"
   ]
  },
  {
   "cell_type": "markdown",
   "id": "bf4dbfc7",
   "metadata": {
    "scrolled": true
   },
   "source": [
    "uno = get_abierto_to_cerrado(df_1, df_2)\n",
    "uno['rango_corte'] = '29Feb-07Mar'\n",
    "lista.append(uno)\n",
    "uno.shape"
   ]
  },
  {
   "cell_type": "markdown",
   "id": "d074c2f8",
   "metadata": {
    "scrolled": true
   },
   "source": [
    "uno = get_abierto_to_cerrado(df_2, df_3)\n",
    "uno['rango_corte'] = '08Mar-14Mar'\n",
    "lista.append(uno)\n",
    "uno.shape"
   ]
  },
  {
   "cell_type": "markdown",
   "id": "560155bd",
   "metadata": {
    "scrolled": true
   },
   "source": [
    "uno = get_abierto_to_cerrado(df_3, df_4)\n",
    "uno['rango_corte'] = '15Mar-22Mar'\n",
    "lista.append(uno)\n",
    "uno.shape"
   ]
  },
  {
   "cell_type": "markdown",
   "id": "a7d05b8d",
   "metadata": {
    "scrolled": true
   },
   "source": [
    "uno = get_abierto_to_cerrado(df_4, df_5)\n",
    "uno['rango_corte'] = '23Mar-28Mar'\n",
    "lista.append(uno)\n",
    "uno.shape"
   ]
  },
  {
   "cell_type": "markdown",
   "id": "c82ae867",
   "metadata": {
    "scrolled": true
   },
   "source": [
    "uno = get_abierto_to_cerrado(df_5, df_6)\n",
    "uno['rango_corte'] = '29Mar-04Abr'\n",
    "lista.append(uno)\n",
    "uno.shape"
   ]
  },
  {
   "cell_type": "markdown",
   "id": "e1b97cd1",
   "metadata": {
    "scrolled": true
   },
   "source": [
    "uno = get_abierto_to_cerrado(df_6, df_7)\n",
    "uno['rango_corte'] = '05Abr-18Abr'\n",
    "lista.append(uno)\n",
    "uno.shape"
   ]
  },
  {
   "cell_type": "markdown",
   "id": "c0ea50ea",
   "metadata": {
    "scrolled": true
   },
   "source": [
    "uno = get_abierto_to_cerrado(df_7, df_8)\n",
    "uno['rango_corte'] = '19Abr-25Abr'\n",
    "lista.append(uno)\n",
    "uno.shape"
   ]
  },
  {
   "cell_type": "markdown",
   "id": "8dd5a3b2",
   "metadata": {
    "scrolled": true
   },
   "source": [
    "uno = get_abierto_to_cerrado(df_8, df_9)\n",
    "uno['rango_corte'] = '26Abr-02May'\n",
    "lista.append(uno)\n",
    "uno.shape"
   ]
  },
  {
   "cell_type": "markdown",
   "id": "3004155e",
   "metadata": {
    "scrolled": true
   },
   "source": [
    "uno = get_abierto_to_cerrado(df_9, df_10)\n",
    "uno['rango_corte'] = '03May-09May'\n",
    "lista.append(uno)\n",
    "uno.shape"
   ]
  },
  {
   "cell_type": "markdown",
   "id": "7a42b0ce",
   "metadata": {
    "scrolled": true
   },
   "source": [
    "uno = get_abierto_to_cerrado(df_10, df_11)\n",
    "uno['rango_corte'] = '09May-16May'\n",
    "lista.append(uno)\n",
    "uno.shape"
   ]
  },
  {
   "cell_type": "markdown",
   "id": "0148f1e7",
   "metadata": {
    "scrolled": true
   },
   "source": [
    "uno = get_abierto_to_cerrado(df_11, df_12)\n",
    "uno['rango_corte'] = '16May-23May'\n",
    "lista.append(uno)\n",
    "uno.shape"
   ]
  },
  {
   "cell_type": "markdown",
   "id": "3c7d4af1",
   "metadata": {
    "scrolled": true
   },
   "source": [
    "uno = get_abierto_to_cerrado(df_12, df_13)\n",
    "uno['rango_corte'] = '23May-31May'\n",
    "lista.append(uno)\n",
    "uno.shape"
   ]
  },
  {
   "cell_type": "markdown",
   "id": "19123266",
   "metadata": {
    "scrolled": true
   },
   "source": [
    "uno = get_abierto_to_cerrado(df_13, df_14)\n",
    "uno['rango_corte'] = '31May-13Jun'\n",
    "lista.append(uno)\n",
    "uno.shape"
   ]
  },
  {
   "cell_type": "markdown",
   "id": "4496b8aa",
   "metadata": {
    "scrolled": false
   },
   "source": [
    "uno = get_abierto_to_cerrado(df_14, df_15)\n",
    "uno['rango_corte'] = '13Jun-21Jun'\n",
    "lista.append(uno)\n",
    "uno.shape"
   ]
  },
  {
   "cell_type": "markdown",
   "id": "23bce9c4",
   "metadata": {
    "scrolled": true
   },
   "source": [
    "uno = get_abierto_to_cerrado(df_15, df_16)\n",
    "uno['rango_corte'] = '21Jun-29Jun'\n",
    "lista.append(uno)\n",
    "uno.shape"
   ]
  },
  {
   "cell_type": "markdown",
   "id": "664298ab",
   "metadata": {
    "scrolled": true
   },
   "source": [
    "uno = get_abierto_to_cerrado(df_16, df_17)\n",
    "uno['rango_corte'] = '29Jun-05Jul'\n",
    "lista.append(uno)\n",
    "uno.shape"
   ]
  },
  {
   "cell_type": "markdown",
   "id": "720a8f95",
   "metadata": {
    "scrolled": true
   },
   "source": [
    "uno = get_abierto_to_cerrado(df_17, df_18)\n",
    "uno['rango_corte'] = '05Jul-11Jul'\n",
    "lista.append(uno)\n",
    "uno.shape"
   ]
  },
  {
   "cell_type": "markdown",
   "id": "4567df22",
   "metadata": {
    "scrolled": true
   },
   "source": [
    "uno = get_abierto_to_cerrado(df_18, df_19)\n",
    "uno['rango_corte'] = '11Jul-18Jul'\n",
    "lista.append(uno)\n",
    "uno.shape"
   ]
  },
  {
   "cell_type": "markdown",
   "id": "dee6893c",
   "metadata": {
    "scrolled": true
   },
   "source": [
    "uno = get_abierto_to_cerrado(df_19, df_20)\n",
    "uno['rango_corte'] = '18Jul-25Jul'\n",
    "lista.append(uno)\n",
    "uno.shape"
   ]
  },
  {
   "cell_type": "code",
   "execution_count": 7,
   "id": "7d2307a4",
   "metadata": {
    "scrolled": true
   },
   "outputs": [
    {
     "data": {
      "text/plain": [
       "(1417, 40)"
      ]
     },
     "execution_count": 7,
     "metadata": {},
     "output_type": "execute_result"
    }
   ],
   "source": [
    "uno = get_abierto_to_cerrado(df_0, df_1)\n",
    "uno['rango_corte'] = '10Ene-18Ene'\n",
    "lista.append(uno)\n",
    "uno.shape"
   ]
  },
  {
   "cell_type": "code",
   "execution_count": 8,
   "id": "e2f62bc6",
   "metadata": {
    "scrolled": true
   },
   "outputs": [
    {
     "data": {
      "text/plain": [
       "(660, 40)"
      ]
     },
     "execution_count": 8,
     "metadata": {},
     "output_type": "execute_result"
    }
   ],
   "source": [
    "uno = get_abierto_to_cerrado(df_1, df_2)\n",
    "uno['rango_corte'] = '18Ene-23Ene'\n",
    "lista.append(uno)\n",
    "uno.shape"
   ]
  },
  {
   "cell_type": "code",
   "execution_count": 9,
   "id": "ac0adcb5",
   "metadata": {},
   "outputs": [
    {
     "data": {
      "text/plain": [
       "(0, 40)"
      ]
     },
     "execution_count": 9,
     "metadata": {},
     "output_type": "execute_result"
    }
   ],
   "source": [
    "uno = get_abierto_to_cerrado(df_2, df_3)\n",
    "uno['rango_corte'] = '23Ene-30Ene'\n",
    "lista.append(uno)\n",
    "uno.shape"
   ]
  },
  {
   "cell_type": "code",
   "execution_count": 10,
   "id": "b6edebca",
   "metadata": {},
   "outputs": [
    {
     "data": {
      "text/plain": [
       "(1291, 40)"
      ]
     },
     "execution_count": 10,
     "metadata": {},
     "output_type": "execute_result"
    }
   ],
   "source": [
    "uno = get_abierto_to_cerrado(df_3, df_4)\n",
    "uno['rango_corte'] = '30Ene-06Feb'\n",
    "lista.append(uno)\n",
    "uno.shape"
   ]
  },
  {
   "cell_type": "code",
   "execution_count": 11,
   "id": "e242d5a6",
   "metadata": {},
   "outputs": [],
   "source": [
    "atoc = pd.concat(lista)"
   ]
  },
  {
   "cell_type": "code",
   "execution_count": 12,
   "id": "c67910c5",
   "metadata": {},
   "outputs": [],
   "source": [
    "#atoc.to_csv('C:/Users/valetorresr/Falabella/EQUIPO-ANALYTICS - General/DATA/F11/220516_atoc.csv', index=False)"
   ]
  },
  {
   "cell_type": "code",
   "execution_count": 13,
   "id": "34388937",
   "metadata": {},
   "outputs": [],
   "source": [
    "atoc = atoc.loc[atoc[dtagco['propietario']]==dtagco['prop_empresa']]\n",
    "atoc = atoc.loc[atoc[dtagco['grupo']].isin(['TIENDAS', 'CD', 'DVD ADMINISTRATIVO'])]"
   ]
  },
  {
   "cell_type": "code",
   "execution_count": 14,
   "id": "1beacac0",
   "metadata": {},
   "outputs": [],
   "source": [
    "atoc[dtagco['fech_creacion']] = pd.to_datetime(atoc[dtagco['fech_creacion']], dayfirst=True)\n",
    "atoc[dtagco['mes']] = atoc[dtagco['fech_creacion']].dt.strftime('%b-%y')\n",
    "atoc[dtagco['costo']] = atoc[dtagco['costo']].apply(lambda x: float(x.split()[0].replace(',', '.')))\n",
    "#atoc[dtagco['costo']] = pd.to_numeric(atoc[dtagco['costo']])"
   ]
  },
  {
   "cell_type": "code",
   "execution_count": 15,
   "id": "4ac01d42",
   "metadata": {
    "scrolled": false
   },
   "outputs": [],
   "source": [
    "resatoc = atoc.groupby(['rango_corte', dtagco['grupo'],dtagco['mes']]).agg({dtagco['costo']:'sum', dtagco['f11_id']:'nunique'}).reset_index()"
   ]
  },
  {
   "cell_type": "code",
   "execution_count": 16,
   "id": "815b6672",
   "metadata": {},
   "outputs": [],
   "source": [
    "#resatoc.to_excel('C:/Users/valetorresr/Falabella/EQUIPO-ANALYTICS - General/DATA/F11/220516_resatoc.xlsx', index=False)"
   ]
  },
  {
   "cell_type": "code",
   "execution_count": 17,
   "id": "c32ab6ab",
   "metadata": {},
   "outputs": [
    {
     "data": {
      "text/plain": [
       "0            1326600\n",
       "1         163693,337\n",
       "2         706279,924\n",
       "3            1539900\n",
       "4        6100857,618\n",
       "            ...     \n",
       "79637        1709100\n",
       "79638     119174,691\n",
       "79639         470521\n",
       "79640    3503424,856\n",
       "79641         109990\n",
       "Name: TOTAL_COSTO, Length: 79642, dtype: object"
      ]
     },
     "execution_count": 17,
     "metadata": {},
     "output_type": "execute_result"
    }
   ],
   "source": [
    "df_2[dtagco['costo']]"
   ]
  },
  {
   "cell_type": "code",
   "execution_count": 18,
   "id": "bc1f3803",
   "metadata": {},
   "outputs": [],
   "source": [
    "#df_0[dtagco['estado']].unique()"
   ]
  },
  {
   "cell_type": "markdown",
   "id": "6b74e0ae",
   "metadata": {},
   "source": [
    "## creado y cerrado"
   ]
  },
  {
   "cell_type": "code",
   "execution_count": 19,
   "id": "aa556a44",
   "metadata": {},
   "outputs": [],
   "source": [
    "def get_creado_cerrado(df, fecha):\n",
    "    df[dtagco['fech_creacion']] = pd.to_datetime(df[dtagco['fech_creacion']], dayfirst=True)\n",
    "    df[dtagco['mes']] = df[dtagco['fech_creacion']].dt.strftime('%b-%y')\n",
    "    df[dtagco['costo']] = df[dtagco['costo']].apply(lambda x: float(x.split()[0].replace(',', '.')))\n",
    "    cerrado = df.loc[df[dtagco['estado']].isin(['Anulado', 'Entrega total'])]\n",
    "    return cerrado.loc[cerrado[dtagco['fech_creacion']]>pd.to_datetime(fecha, format='%d-%m-%Y')].reset_index(drop=True)"
   ]
  },
  {
   "cell_type": "code",
   "execution_count": 20,
   "id": "dedfd452",
   "metadata": {},
   "outputs": [],
   "source": [
    "pd.set_option('display.max_columns', 200)"
   ]
  },
  {
   "cell_type": "code",
   "execution_count": 21,
   "id": "f440b250",
   "metadata": {},
   "outputs": [],
   "source": [
    "lista_cc = []"
   ]
  },
  {
   "cell_type": "markdown",
   "id": "1f761055",
   "metadata": {},
   "source": [
    "dos = get_creado_cerrado(df_1,'22-02-2022')\n",
    "dos['rango_corte'] = '23Feb-28Feb'\n",
    "lista_cc.append(dos)\n",
    "dos.shape"
   ]
  },
  {
   "cell_type": "markdown",
   "id": "e0a03b5a",
   "metadata": {},
   "source": [
    "dos = get_creado_cerrado(df_2,'28-02-2022')\n",
    "dos['rango_corte'] = '29Feb-07Mar'\n",
    "lista_cc.append(dos)\n",
    "dos.shape"
   ]
  },
  {
   "cell_type": "markdown",
   "id": "d1432a38",
   "metadata": {},
   "source": [
    "dos = get_creado_cerrado(df_3,'07-03-2022')\n",
    "dos['rango_corte'] = '08Mar-14Mar'\n",
    "lista_cc.append(dos)\n",
    "dos.shape"
   ]
  },
  {
   "cell_type": "markdown",
   "id": "5970a320",
   "metadata": {},
   "source": [
    "dos = get_creado_cerrado(df_4,'14-03-2022')\n",
    "dos['rango_corte'] = '15Mar-22Mar'\n",
    "lista_cc.append(dos)\n",
    "dos.shape"
   ]
  },
  {
   "cell_type": "markdown",
   "id": "96909c9a",
   "metadata": {},
   "source": [
    "dos = get_creado_cerrado(df_5,'22-03-2022')\n",
    "dos['rango_corte'] = '23Mar-28Mar'\n",
    "lista_cc.append(dos)\n",
    "dos.shape"
   ]
  },
  {
   "cell_type": "markdown",
   "id": "89d9ef8d",
   "metadata": {},
   "source": [
    "dos = get_creado_cerrado(df_6,'28-03-2022')\n",
    "dos['rango_corte'] = '29Mar-04Abr'\n",
    "lista_cc.append(dos)\n",
    "dos.shape"
   ]
  },
  {
   "cell_type": "markdown",
   "id": "a392474a",
   "metadata": {},
   "source": [
    "dos = get_creado_cerrado(df_7,'04-04-2022')\n",
    "dos['rango_corte'] = '05Abr-18Abr'\n",
    "lista_cc.append(dos)\n",
    "dos.shape"
   ]
  },
  {
   "cell_type": "markdown",
   "id": "5fef4573",
   "metadata": {},
   "source": [
    "dos = get_creado_cerrado(df_8,'17-04-2022')\n",
    "dos['rango_corte'] = '19Abr-25Abr'\n",
    "lista_cc.append(dos)\n",
    "dos.shape"
   ]
  },
  {
   "cell_type": "markdown",
   "id": "48557b83",
   "metadata": {},
   "source": [
    "dos = get_creado_cerrado(df_9,'24-04-2022')\n",
    "dos['rango_corte'] = '26Abr-02May'\n",
    "lista_cc.append(dos)\n",
    "dos.shape"
   ]
  },
  {
   "cell_type": "markdown",
   "id": "de90a60a",
   "metadata": {},
   "source": [
    "dos = get_creado_cerrado(df_10,'02-05-2022')\n",
    "dos['rango_corte'] = '03May-09May'\n",
    "lista_cc.append(dos)\n",
    "dos.shape"
   ]
  },
  {
   "cell_type": "markdown",
   "id": "591d8ae7",
   "metadata": {},
   "source": [
    "dos = get_creado_cerrado(df_11,'08-05-2022')\n",
    "dos['rango_corte'] = '09May-16May'\n",
    "lista_cc.append(dos)\n",
    "dos.shape"
   ]
  },
  {
   "cell_type": "markdown",
   "id": "e4f1dc6e",
   "metadata": {},
   "source": [
    "dos = get_creado_cerrado(df_12,'16-05-2022')\n",
    "dos['rango_corte'] = '16May-23May'\n",
    "lista_cc.append(dos)\n",
    "dos.shape"
   ]
  },
  {
   "cell_type": "markdown",
   "id": "1e68d0b8",
   "metadata": {},
   "source": [
    "dos = get_creado_cerrado(df_13,'23-05-2022')\n",
    "dos['rango_corte'] = '23May-31May'\n",
    "lista_cc.append(dos)\n",
    "dos.shape"
   ]
  },
  {
   "cell_type": "markdown",
   "id": "9bde4f4a",
   "metadata": {},
   "source": [
    "dos = get_creado_cerrado(df_14,'31-05-2022')\n",
    "dos['rango_corte'] = '31May-13Jun'\n",
    "lista_cc.append(dos)\n",
    "dos.shape"
   ]
  },
  {
   "cell_type": "markdown",
   "id": "787e2f29",
   "metadata": {},
   "source": [
    "dos = get_creado_cerrado(df_15,'13-06-2022')\n",
    "dos['rango_corte'] = '13Jun-21Jun'\n",
    "lista_cc.append(dos)\n",
    "dos.shape"
   ]
  },
  {
   "cell_type": "markdown",
   "id": "3be6dbed",
   "metadata": {},
   "source": [
    "dos = get_creado_cerrado(df_16,'21-06-2022')\n",
    "dos['rango_corte'] = '21Jun-29Jun'\n",
    "lista_cc.append(dos)\n",
    "dos.shape"
   ]
  },
  {
   "cell_type": "markdown",
   "id": "d48accd0",
   "metadata": {},
   "source": [
    "dos = get_creado_cerrado(df_17,'29-06-2022')\n",
    "dos['rango_corte'] = '29Jun-05Jul'\n",
    "lista_cc.append(dos)\n",
    "dos.shape"
   ]
  },
  {
   "cell_type": "markdown",
   "id": "725b197e",
   "metadata": {},
   "source": [
    "dos = get_creado_cerrado(df_18,'05-07-2022')\n",
    "dos['rango_corte'] = '05Jul-11Jul'\n",
    "lista_cc.append(dos)\n",
    "dos.shape"
   ]
  },
  {
   "attachments": {},
   "cell_type": "markdown",
   "id": "79b6f5ed",
   "metadata": {},
   "source": [
    "<!-- dos = get_creado_cerrado(df_19,'11-07-2022')\n",
    "dos['rango_corte'] = '11Jul-18Jul'\n",
    "lista_cc.append(dos)\n",
    "dos.shape -->"
   ]
  },
  {
   "cell_type": "code",
   "execution_count": 22,
   "id": "76619d2a",
   "metadata": {},
   "outputs": [
    {
     "data": {
      "text/plain": [
       "(79, 41)"
      ]
     },
     "execution_count": 22,
     "metadata": {},
     "output_type": "execute_result"
    }
   ],
   "source": [
    "dos = get_creado_cerrado(df_1,'10-01-2023')\n",
    "dos['rango_corte'] = '10Ene-18Ene'\n",
    "lista_cc.append(dos)\n",
    "dos.shape"
   ]
  },
  {
   "cell_type": "code",
   "execution_count": 23,
   "id": "a52c959c",
   "metadata": {},
   "outputs": [
    {
     "data": {
      "text/plain": [
       "(37, 41)"
      ]
     },
     "execution_count": 23,
     "metadata": {},
     "output_type": "execute_result"
    }
   ],
   "source": [
    "dos = get_creado_cerrado(df_2,'18-01-2023')\n",
    "dos['rango_corte'] = '18Ene-23Ene'\n",
    "lista_cc.append(dos)\n",
    "dos.shape"
   ]
  },
  {
   "cell_type": "code",
   "execution_count": 24,
   "id": "3b531b5f",
   "metadata": {},
   "outputs": [
    {
     "data": {
      "text/plain": [
       "(42, 41)"
      ]
     },
     "execution_count": 24,
     "metadata": {},
     "output_type": "execute_result"
    }
   ],
   "source": [
    "dos = get_creado_cerrado(df_3,'23-01-2023')\n",
    "dos['rango_corte'] = '23Ene-30Ene'\n",
    "lista_cc.append(dos)\n",
    "dos.shape"
   ]
  },
  {
   "cell_type": "code",
   "execution_count": 25,
   "id": "0764a34b",
   "metadata": {},
   "outputs": [
    {
     "data": {
      "text/plain": [
       "(34, 41)"
      ]
     },
     "execution_count": 25,
     "metadata": {},
     "output_type": "execute_result"
    }
   ],
   "source": [
    "dos = get_creado_cerrado(df_4,'30-01-2023')\n",
    "dos['rango_corte'] = '30Ene-06Feb'\n",
    "lista_cc.append(dos)\n",
    "dos.shape"
   ]
  },
  {
   "cell_type": "code",
   "execution_count": 26,
   "id": "e788cd21",
   "metadata": {},
   "outputs": [
    {
     "data": {
      "text/plain": [
       "[       NRO_F11  NSECUENCIA DPACTADA_DT FECHA_CREACION FECHA_DESPACHO  \\\n",
       " 0      1214310           1         NaN     2023-01-12     12/01/2023   \n",
       " 1      1214307           1         NaN     2023-01-12     12/01/2023   \n",
       " 2   1112147119           1  27/02/2023     2023-01-16     17/01/2023   \n",
       " 3   1112147911           1  27/02/2023     2023-01-16            NaN   \n",
       " 4   1112149779           1  28/02/2023     2023-01-17     18/01/2023   \n",
       " ..         ...         ...         ...            ...            ...   \n",
       " 74  1112141360           1  13/03/2023     2023-01-12     12/01/2023   \n",
       " 75  1112138872           1  11/01/2023     2023-01-11            NaN   \n",
       " 76  1112142831           1  13/03/2023     2023-01-12     12/01/2023   \n",
       " 77     1214303           1         NaN     2023-01-12     12/01/2023   \n",
       " 78     1214302           1         NaN     2023-01-12     12/01/2023   \n",
       " \n",
       "                         PROVEEDOR    NIT_PROV  DV_PROV PROPIETARIO  \\\n",
       " 0                    MACMODA LTDA   900017447      8.0     EMPRESA   \n",
       " 1                   CLAMARTEX SAS   900017447      8.0     EMPRESA   \n",
       " 2                         SAMSUNG  1013632591      NaN     EMPRESA   \n",
       " 3                  CONTINENTE SAS    22805642      NaN     CLIENTE   \n",
       " 4                KRONO TIME S.A.S  1016102986      NaN     EMPRESA   \n",
       " ..                            ...         ...      ...         ...   \n",
       " 74  SERVIENTREGA NO RETORNADOS LI    24576686      NaN     EMPRESA   \n",
       " 75           ROTTERDAN RETIRO F12  1128399193      NaN     CLIENTE   \n",
       " 76             LINIO DETENCIÓN PV  1020449860      NaN     CLIENTE   \n",
       " 77                  CLAMARTEX SAS   900017447      8.0     EMPRESA   \n",
       " 78                  CLAMARTEX SAS   900017447      8.0     EMPRESA   \n",
       " \n",
       "    DPACTADA_HD    NOMBRE_CLTE              APELLIDO_CLTE  \\\n",
       " 0   12/01/2023       BDGPRDPR  BODEGA PRODUCTO EN PROCES   \n",
       " 1   12/01/2023       BDGPRDPR  BODEGA PRODUCTO EN PROCES   \n",
       " 2   27/02/2023          JOHAN                   CARDENAS   \n",
       " 3   27/02/2023      ALEXANDRA              TAPIAS OROZCO   \n",
       " 4   28/02/2023        ANTONIA                   MATURANA   \n",
       " ..         ...            ...                        ...   \n",
       " 74  13/03/2023          NORMA          MANTILLA QUINTERO   \n",
       " 75  11/01/2023  NATALIA LOPEZ                    ZULUAGA   \n",
       " 76  13/03/2023         XIMENA                     XIMENA   \n",
       " 77  12/01/2023       BDGPRDPR  BODEGA PRODUCTO EN PROCES   \n",
       " 78  12/01/2023       BDGPRDPR  BODEGA PRODUCTO EN PROCES   \n",
       " \n",
       "                                        DIRECCION_CLTE CIUDAD_CLTE  CCOMUNA  \\\n",
       " 0                     KM 2 VIA FUNZA - SIBERIA. FUNZA       FUNZA        1   \n",
       " 1                     KM 2 VIA FUNZA - SIBERIA. FUNZA       FUNZA        1   \n",
       " 2                                 TIENDA CENTRO MAYOR      BOGOTA        1   \n",
       " 3   CR 81 # 22D - 253 AP 403 BLOQUE 1 BR ALAMEDA LA V   CARTAGENA        8   \n",
       " 4                                    CALLE 27A #33-14      BOGOTA        1   \n",
       " ..                                                ...         ...      ...   \n",
       " 74                       CRA 23# 46-33  B LAGUITO  \\r     CALARCA      679   \n",
       " 75          CALLE 49E #83A - 196 APTO 212 TORRE 3  \\r    MEDELLIN        2   \n",
       " 76                   CALLE 34C 88A-47 APARTAMENTO 301    MEDELLIN        2   \n",
       " 77                    KM 2 VIA FUNZA - SIBERIA. FUNZA       FUNZA        1   \n",
       " 78                    KM 2 VIA FUNZA - SIBERIA. FUNZA       FUNZA        1   \n",
       " \n",
       "     CESTADO_DT  COD_ESTADO         ESTADO COD_SERVICIO    SERVICIO ORIGEN  \\\n",
       " 0            6           6  Entrega total            S   S.TECNICO      F   \n",
       " 1            6           6  Entrega total            C  COMPOSTURA      F   \n",
       " 2            6           6  Entrega total            S   S.TECNICO      F   \n",
       " 3            9           9        Anulado            S   S.TECNICO      T   \n",
       " 4            6           6  Entrega total            S   S.TECNICO      F   \n",
       " ..         ...         ...            ...          ...         ...    ...   \n",
       " 74           6           6  Entrega total            R  RETIRO F12      F   \n",
       " 75           9           9        Anulado            R  RETIRO F12      T   \n",
       " 76           6           6  Entrega total            R  RETIRO F12      T   \n",
       " 77           6           6  Entrega total            C  COMPOSTURA      F   \n",
       " 78           6           6  Entrega total            C  COMPOSTURA      F   \n",
       " \n",
       "                                           OBSERVACION  CANT_IMPRES  COD_LOCAL  \\\n",
       " 0   F11 creado en SRX por CPI por Confirmacion de ...            0       9911   \n",
       " 1   F11 creado en SRX por CPI por Confirmacion de ...            0       9911   \n",
       " 2   SE REALIZA F3 AL F11-1112147119, NC-SC89082, D...            1         38   \n",
       " 3                                CAJA , MANUAL DE USO            0         25   \n",
       " 4                          NO APLICA;CIERRE CONCESION            1         53   \n",
       " ..                                                ...          ...        ...   \n",
       " 74                                        OK RECIBIDO            1       9970   \n",
       " 75                                                NaN            0       9970   \n",
       " 76                                        OK RECIBIDO            1       9903   \n",
       " 77  F11 creado en SRX por CPI por Confirmacion de ...            0       9911   \n",
       " 78  F11 creado en SRX por CPI por Confirmacion de ...            0       9911   \n",
       " \n",
       "                   NOMBRE_LOCAL      TIPO_PRODUCTO          UPC       SKU  \\\n",
       " 0   BODEGA PRODUCTO EN PROCESO        Fabricación     2,00E+12   2138818   \n",
       " 1   BODEGA PRODUCTO EN PROCESO        Fabricación     2,00E+12   2138818   \n",
       " 2                 CENTRO MAYOR           Producto     8,81E+12  30579203   \n",
       " 3                     FONTANAR           Producto  74108326270   2700886   \n",
       " 4                     GALERIAS  Proveedor Externo     7,61E+12   3496320   \n",
       " ..                         ...                ...          ...       ...   \n",
       " 74     CD FALABELLA Big Ticket       Market Place     2,04E+12  44537556   \n",
       " 75     CD FALABELLA Big Ticket       Market Place     2,05E+12  47920677   \n",
       " 76                CD FALABELLA           Producto     1,96E+11  53881298   \n",
       " 77  BODEGA PRODUCTO EN PROCESO        Fabricación     2,06E+12  55741266   \n",
       " 78  BODEGA PRODUCTO EN PROCESO        Fabricación     2,06E+12  55741266   \n",
       " \n",
       "                                 DESC_SKU LINEA      DESC_LINEA CANT_PROD  \\\n",
       " 0            ETIQUETA NO MAR TALLA NE 36   J99  ADMINISTRACION         1   \n",
       " 1            ETIQUETA NO MAR TALLA NE 36   J99  ADMINISTRACION         1   \n",
       " 2      LED 60 SAMSUNG UHD UN60BU8000KXZL   J11   ELECTRO HOGAR         1   \n",
       " 3             FASHION CURL FUCSIA CONAIR   J11   ELECTRO HOGAR         1   \n",
       " 4                 1781921 TOMMY HILFIGER   J07      ACCESORIOS         1   \n",
       " ..                                   ...   ...             ...       ...   \n",
       " 74  Tenis Kanna  Co Mujer Deportivo Gris   J10         CALZADO         1   \n",
       " 75   Blusa para Mujer Sin Mangas Croydon   J04         MUJERES         1   \n",
       " 76   J1004-COURTVISIONALTAXSWHT 8.5/38.5   J10         CALZADO         1   \n",
       " 77                       BERSHKAB- CRUDO   J99  ADMINISTRACION    311,04   \n",
       " 78                       BERSHKAB- CRUDO   J99  ADMINISTRACION     84,48   \n",
       " \n",
       "    VVTA_UNITARIO  VVTA_TOTAL COSTO_PROMEDIO  TOTAL_COSTO  DIAS   ANTIGUEDAD  \\\n",
       " 0           1000        1000             32       32.000     0  1. <60 Días   \n",
       " 1           1000        1000             32       32.000     0  1. <60 Días   \n",
       " 2        3499900     3499900    2095808,814  2095808.814     0  1. <60 Días   \n",
       " 3         319900      319900     144283,561   144283.561     0  1. <60 Días   \n",
       " 4        1169900     1169900         391703   391703.000     0  1. <60 Días   \n",
       " ..           ...         ...            ...          ...   ...          ...   \n",
       " 74        124900      124900         124900   124900.000     0  1. <60 Días   \n",
       " 75         29990       29990          29990    29990.000     0  1. <60 Días   \n",
       " 76        554990      554990     264090,082   264090.082     0  1. <60 Días   \n",
       " 77         30600     9517824          15300  4758912.000     0  1. <60 Días   \n",
       " 78         30600     2585088          15300  1292544.000     0  1. <60 Días   \n",
       " \n",
       "                          GRUPO     MES  rango_corte  \n",
       " 0   BODEGA PRODUCTO EN PROCESO  Jan-23  10Ene-18Ene  \n",
       " 1   BODEGA PRODUCTO EN PROCESO  Jan-23  10Ene-18Ene  \n",
       " 2                      TIENDAS  Jan-23  10Ene-18Ene  \n",
       " 3                      TIENDAS  Jan-23  10Ene-18Ene  \n",
       " 4                      TIENDAS  Jan-23  10Ene-18Ene  \n",
       " ..                         ...     ...          ...  \n",
       " 74                          CD  Jan-23  10Ene-18Ene  \n",
       " 75                          CD  Jan-23  10Ene-18Ene  \n",
       " 76                          CD  Jan-23  10Ene-18Ene  \n",
       " 77  BODEGA PRODUCTO EN PROCESO  Jan-23  10Ene-18Ene  \n",
       " 78  BODEGA PRODUCTO EN PROCESO  Jan-23  10Ene-18Ene  \n",
       " \n",
       " [79 rows x 41 columns],\n",
       "        NRO_F11  NSECUENCIA DPACTADA_DT FECHA_CREACION FECHA_DESPACHO  \\\n",
       " 0   1112154810           1  19/01/2023     2023-01-19     19/01/2023   \n",
       " 1   1112155787           1  20/03/2023     2023-01-19     20/01/2023   \n",
       " 2   1112156067           1   2/03/2023     2023-01-19     21/01/2023   \n",
       " 3   1112155893           1  19/01/2023     2023-01-19     20/01/2023   \n",
       " 4   1112155442           1   2/03/2023     2023-01-19     20/01/2023   \n",
       " 5   1112155701           1   2/03/2023     2023-01-19     19/01/2023   \n",
       " 6   1112155695           1   2/03/2023     2023-01-19     19/01/2023   \n",
       " 7   1112155664           1   2/03/2023     2023-01-19     19/01/2023   \n",
       " 8   1112155633           1   2/03/2023     2023-01-19     19/01/2023   \n",
       " 9   1112155763           1   2/03/2023     2023-01-19     19/01/2023   \n",
       " 10  1112155756           1   2/03/2023     2023-01-19     19/01/2023   \n",
       " 11  1112155749           1   2/03/2023     2023-01-19     19/01/2023   \n",
       " 12  1112155732           1   2/03/2023     2023-01-19     19/01/2023   \n",
       " 13  1112155688           1   2/03/2023     2023-01-19     19/01/2023   \n",
       " 14  1112155671           1   2/03/2023     2023-01-19     19/01/2023   \n",
       " 15  1112155640           1   2/03/2023     2023-01-19     19/01/2023   \n",
       " 16  1112155626           1   2/03/2023     2023-01-19     19/01/2023   \n",
       " 17  1112155718           1   2/03/2023     2023-01-19     19/01/2023   \n",
       " 18  1112155909           1  20/03/2023     2023-01-19     20/01/2023   \n",
       " 19  1112155596           1  19/01/2023     2023-01-19     19/01/2023   \n",
       " 20  1112158825           1  20/01/2023     2023-01-20            NaN   \n",
       " 21  1112158795           1  21/03/2023     2023-01-20            NaN   \n",
       " 22  1112159013           1  20/01/2023     2023-01-20            NaN   \n",
       " 23  1112159112           1   3/03/2023     2023-01-20            NaN   \n",
       " 24  1112159013           2  20/01/2023     2023-01-20            NaN   \n",
       " 25  1112159013           3  20/01/2023     2023-01-20            NaN   \n",
       " 26  1112159327           1  21/01/2023     2023-01-21     21/01/2023   \n",
       " 27  1112159297           1  21/01/2023     2023-01-21     21/01/2023   \n",
       " 28  1112159334           1  21/01/2023     2023-01-21     21/01/2023   \n",
       " 29  1112159310           1  21/01/2023     2023-01-21     21/01/2023   \n",
       " 30  1112159341           1  21/01/2023     2023-01-21     21/01/2023   \n",
       " 31  1112159273           1  21/01/2023     2023-01-21     21/01/2023   \n",
       " 32  1112160125           1  21/01/2023     2023-01-21            NaN   \n",
       " 33  1112159266           1  21/01/2023     2023-01-21     21/01/2023   \n",
       " 34  1112159280           1  21/01/2023     2023-01-21     21/01/2023   \n",
       " 35  1112159433           1   4/03/2023     2023-01-21            NaN   \n",
       " 36  1112161559           1   5/03/2023     2023-01-22            NaN   \n",
       " \n",
       "                    PROVEEDOR    NIT_PROV  DV_PROV PROPIETARIO DPACTADA_HD  \\\n",
       " 0    TERMOSELLADO MEGASERVIC   900017447      8.0     EMPRESA  19/01/2023   \n",
       " 1     DEPRISA EXTRAVIADOS PV    79909783      NaN     CLIENTE  20/03/2023   \n",
       " 2              FALABELLA.COM    16838981      NaN     CLIENTE   2/03/2023   \n",
       " 3       CORONA ENTREGAS F PV    41427074      NaN     CLIENTE  19/01/2023   \n",
       " 4           R&M LA ESPERANZA  1107087710      NaN     CLIENTE   2/03/2023   \n",
       " 5              FALABELLA.COM  1053866369      NaN     EMPRESA   2/03/2023   \n",
       " 6              FALABELLA.COM  1095824813      NaN     EMPRESA   2/03/2023   \n",
       " 7              FALABELLA.COM  1091674916      NaN     EMPRESA   2/03/2023   \n",
       " 8              FALABELLA.COM  1152707020      NaN     EMPRESA   2/03/2023   \n",
       " 9              FALABELLA.COM    75107230      NaN     EMPRESA   2/03/2023   \n",
       " 10             FALABELLA.COM    63396582      NaN     EMPRESA   2/03/2023   \n",
       " 11             FALABELLA.COM    63506015      NaN     EMPRESA   2/03/2023   \n",
       " 12             FALABELLA.COM  1098810349      NaN     EMPRESA   2/03/2023   \n",
       " 13             FALABELLA.COM  1005282375      NaN     EMPRESA   2/03/2023   \n",
       " 14             FALABELLA.COM  1002397597      NaN     EMPRESA   2/03/2023   \n",
       " 15             FALABELLA.COM  1096248789      NaN     EMPRESA   2/03/2023   \n",
       " 16             FALABELLA.COM  1047498186      NaN     EMPRESA   2/03/2023   \n",
       " 17             FALABELLA.COM    63532028      NaN     EMPRESA   2/03/2023   \n",
       " 18        LINIO DETENCIÓN PV  1144137288      NaN     CLIENTE  20/03/2023   \n",
       " 19      VUELTAP DETENCIÓN PV  1018465540      NaN     CLIENTE  19/01/2023   \n",
       " 20    ROTTERDAN DETENCIÓN PV    13256886      NaN     CLIENTE  20/01/2023   \n",
       " 21      DEPRISA DETENCIÓN PV    75100042      NaN     CLIENTE  21/03/2023   \n",
       " 22  ROTTERDAN EXTRAVIADOS PV    93404633      NaN     CLIENTE  20/01/2023   \n",
       " 23             FALABELLA.COM    65750099      NaN     CLIENTE   3/03/2023   \n",
       " 24  ROTTERDAN EXTRAVIADOS PV    93404633      NaN     CLIENTE  20/01/2023   \n",
       " 25  ROTTERDAN EXTRAVIADOS PV    93404633      NaN     CLIENTE  20/01/2023   \n",
       " 26   TERMOSELLADO MEGASERVIC   900017447      8.0     EMPRESA  21/01/2023   \n",
       " 27   TERMOSELLADO MEGASERVIC   900017447      8.0     EMPRESA  21/01/2023   \n",
       " 28   TERMOSELLADO MEGASERVIC   900017447      8.0     EMPRESA  21/01/2023   \n",
       " 29   TERMOSELLADO MEGASERVIC   900017447      8.0     EMPRESA  21/01/2023   \n",
       " 30   TERMOSELLADO MEGASERVIC   900017447      8.0     EMPRESA  21/01/2023   \n",
       " 31   TERMOSELLADO MEGASERVIC   900017447      8.0     EMPRESA  21/01/2023   \n",
       " 32    ROTTERDAN DETENCIÓN PV    94316929      NaN     CLIENTE  21/01/2023   \n",
       " 33   TERMOSELLADO MEGASERVIC   900017447      8.0     EMPRESA  21/01/2023   \n",
       " 34   TERMOSELLADO MEGASERVIC   900017447      8.0     EMPRESA  21/01/2023   \n",
       " 35             FALABELLA.COM  1233909068      NaN     CLIENTE   4/03/2023   \n",
       " 36             FALABELLA.COM     8785963      NaN     CLIENTE   5/03/2023   \n",
       " \n",
       "        NOMBRE_CLTE          APELLIDO_CLTE  \\\n",
       " 0         LINEABCA        CD LINEA BLANCA   \n",
       " 1           CARLOS                 MORENO   \n",
       " 2     LUIS ALFONSO                   MINA   \n",
       " 3           CARLOS                 CORTES   \n",
       " 4      DANNA ELISA                 ROMERO   \n",
       " 5            PAOLA                RAMIREZ   \n",
       " 6   MICHELL ANDREW                BRRAGAN   \n",
       " 7   JUAN SEBASTIAN              CONTRERAS   \n",
       " 8          DANIELA                 ORTEGA   \n",
       " 9         CRISTIAN              RODRIGUEZ   \n",
       " 10             LUZ               LIZARAZO   \n",
       " 11   SANDRA MILENA                   MEZA   \n",
       " 12         VANESSA              CASTAÑEDA   \n",
       " 13     JOSUE DAVID                  CELIS   \n",
       " 14         DANIELA                CAMARGO   \n",
       " 15   LILIA MARCELA                 ALZATE   \n",
       " 16  YULITZA ESTHER              JARAMILLO   \n",
       " 17            MAYA                 ARDILA   \n",
       " 18            YULY                VALLEJO   \n",
       " 19  CARLA JULIET     RODRÍGUEZ RUIZ         \n",
       " 20  JUAN ANTONIO\\r  VILLAMIZAR TRUJILLO\\r   \n",
       " 21    JUAN PABLO\\r             BETANCUR\\r   \n",
       " 22      LUBERNEY\\r       SANCHEZ GARCIA\\r   \n",
       " 23          GLORIA               GONZALEZ   \n",
       " 24      LUBERNEY\\r       SANCHEZ GARCIA\\r   \n",
       " 25      LUBERNEY\\r       SANCHEZ GARCIA\\r   \n",
       " 26        LINEABCA        CD LINEA BLANCA   \n",
       " 27        LINEABCA        CD LINEA BLANCA   \n",
       " 28        LINEABCA        CD LINEA BLANCA   \n",
       " 29        LINEABCA        CD LINEA BLANCA   \n",
       " 30        LINEABCA        CD LINEA BLANCA   \n",
       " 31        LINEABCA        CD LINEA BLANCA   \n",
       " 32        WILMAR\\r            RAMIREZ L\\r   \n",
       " 33        LINEABCA        CD LINEA BLANCA   \n",
       " 34        LINEABCA        CD LINEA BLANCA   \n",
       " 35   BRAYAN FERNEY               VILLAMIL   \n",
       " 36            TONY         SERRANO OROZCO   \n",
       " \n",
       "                                        DIRECCION_CLTE  CIUDAD_CLTE  CCOMUNA  \\\n",
       " 0                      KM VÍA 2,5 VIA FUNZA - SIBERIA       BOGOTA        1   \n",
       " 1                                RETIRO TIENDA COLINA       BOGOTA     1138   \n",
       " 2       TIENDA JARDÍN PLAZA CALLE 25 98-416 LOCAL 229       BOGOTA        1   \n",
       " 3                                  CALLE 9 #4-40 CASA    LA CALERA       40   \n",
       " 4                                 TIENDA JARDIN PLAZA       BOGOTA        1   \n",
       " 5                                    CLL 60 N 23 A 24    MANIZALES       10   \n",
       " 6   BLOQUE 9-5 APARTAMENTO 301, SECTOR 5 BARRIO BUCAR  BUCARAMANGA        5   \n",
       " 7                                     CALLE 33#33A-44  BUCARAMANGA        5   \n",
       " 8                         CALLE 47A# 6AB 30 APTO 1035     MEDELLIN        2   \n",
       " 9                                       CR 36 N 63-22    MANIZALES       10   \n",
       " 10                                  FALABELLA CACIQUE  BUCARAMANGA        5   \n",
       " 11                                      CRA40C#106-34  BUCARAMANGA        5   \n",
       " 12                         CRA 24 A 102 - 45 PROVENZA  BUCARAMANGA        5   \n",
       " 13                            CALLE 41#33-13 EL PRADO  BUCARAMANGA        5   \n",
       " 14                                     CALLE 14#26-64  BUCARAMANGA        5   \n",
       " 15                                   CARRE 29 # 33-18  BUCARAMANGA        5   \n",
       " 16                           CRA. 70 # 1-141 MUELLE 3     MEDELLIN        2   \n",
       " 17                   TRANSVERSAL 93 # 34-99 LOCAL 182  BUCARAMANGA        5   \n",
       " 18                  CALLE 27A #57-133 APARTAMENTO 301        BELLO      629   \n",
       " 19            CALLE 57B SUR #87H-51 BOSA-HOLANDA   \\r     BOGOTA\\r        1   \n",
       " 20  CLL 20 #16-50/66 CIELO MAR EDIF. DOMINIQUE APT...  CARTAGENA\\r        8   \n",
       " 21                         CARRERA 25 # 53-148 CASA\\r  MANIZALES\\r       10   \n",
       " 22              MANZANA 3 CASA 4 BARRIO LA CASTILLA\\r     IBAGUE\\r       30   \n",
       " 23                   CRA 6 #13-22 CENTRO PUEBLO NUEVO       IBAGUE       30   \n",
       " 24              MANZANA 3 CASA 4 BARRIO LA CASTILLA\\r     IBAGUE\\r       30   \n",
       " 25              MANZANA 3 CASA 4 BARRIO LA CASTILLA\\r     IBAGUE\\r       30   \n",
       " 26                     KM VÍA 2,5 VIA FUNZA - SIBERIA       BOGOTA        1   \n",
       " 27                     KM VÍA 2,5 VIA FUNZA - SIBERIA       BOGOTA        1   \n",
       " 28                     KM VÍA 2,5 VIA FUNZA - SIBERIA       BOGOTA        1   \n",
       " 29                     KM VÍA 2,5 VIA FUNZA - SIBERIA       BOGOTA        1   \n",
       " 30                     KM VÍA 2,5 VIA FUNZA - SIBERIA       BOGOTA        1   \n",
       " 31                     KM VÍA 2,5 VIA FUNZA - SIBERIA       BOGOTA        1   \n",
       " 32                 CRA 13#46A-85 POBLADO COMFAUNION\\r    PALMIRA\\r       73   \n",
       " 33                     KM VÍA 2,5 VIA FUNZA - SIBERIA       BOGOTA        1   \n",
       " 34                     KM VÍA 2,5 VIA FUNZA - SIBERIA       BOGOTA        1   \n",
       " 35                              CLL 130B BIS # 124-89       BOGOTA        1   \n",
       " 36                                  CALLE 53 # 83E-31         CALI        3   \n",
       " \n",
       "     CESTADO_DT  COD_ESTADO         ESTADO COD_SERVICIO    SERVICIO ORIGEN  \\\n",
       " 0            6           6  Entrega total            S   S.TECNICO      F   \n",
       " 1            6           6  Entrega total            R  RETIRO F12      T   \n",
       " 2            6           6  Entrega total            S   S.TECNICO      T   \n",
       " 3            6           6  Entrega total            R  RETIRO F12      T   \n",
       " 4            6           6  Entrega total            S   S.TECNICO      T   \n",
       " 5            6           6  Entrega total            S   S.TECNICO      F   \n",
       " 6            6           6  Entrega total            S   S.TECNICO      F   \n",
       " 7            6           6  Entrega total            S   S.TECNICO      F   \n",
       " 8            6           6  Entrega total            S   S.TECNICO      F   \n",
       " 9            6           6  Entrega total            S   S.TECNICO      F   \n",
       " 10           6           6  Entrega total            S   S.TECNICO      F   \n",
       " 11           6           6  Entrega total            S   S.TECNICO      F   \n",
       " 12           6           6  Entrega total            S   S.TECNICO      F   \n",
       " 13           6           6  Entrega total            S   S.TECNICO      F   \n",
       " 14           6           6  Entrega total            S   S.TECNICO      F   \n",
       " 15           6           6  Entrega total            S   S.TECNICO      F   \n",
       " 16           6           6  Entrega total            S   S.TECNICO      F   \n",
       " 17           6           6  Entrega total            S   S.TECNICO      F   \n",
       " 18           6           6  Entrega total            R  RETIRO F12      T   \n",
       " 19           6           6  Entrega total            R  RETIRO F12      T   \n",
       " 20           9           9        Anulado            R  RETIRO F12      T   \n",
       " 21           9           9        Anulado            R  RETIRO F12      T   \n",
       " 22           9           9        Anulado            R  RETIRO F12      T   \n",
       " 23           9           9        Anulado            S   S.TECNICO      T   \n",
       " 24           9           9        Anulado            R  RETIRO F12      T   \n",
       " 25           9           9        Anulado            R  RETIRO F12      T   \n",
       " 26           6           6  Entrega total            S   S.TECNICO      F   \n",
       " 27           6           6  Entrega total            S   S.TECNICO      F   \n",
       " 28           6           6  Entrega total            S   S.TECNICO      F   \n",
       " 29           6           6  Entrega total            S   S.TECNICO      F   \n",
       " 30           6           6  Entrega total            S   S.TECNICO      F   \n",
       " 31           6           6  Entrega total            S   S.TECNICO      F   \n",
       " 32           9           9        Anulado            R  RETIRO F12      T   \n",
       " 33           6           6  Entrega total            S   S.TECNICO      F   \n",
       " 34           6           6  Entrega total            S   S.TECNICO      F   \n",
       " 35           9           9        Anulado            S   S.TECNICO      T   \n",
       " 36           9           9        Anulado            S   S.TECNICO      T   \n",
       " \n",
       "                                           OBSERVACION  CANT_IMPRES  COD_LOCAL  \\\n",
       " 0                                   OK  PARA GUARDADO            1       9921   \n",
       " 1                            reemplaza f11-1112157569            1       9903   \n",
       " 2       CLIENTE INFORMA INGRESO DE PRODUCTO EN TIENDA            1       3001   \n",
       " 3                            REEMPLAZA F11-1112157545            1       9903   \n",
       " 4                      SE CREA F11 CON UPC INCORCECTO            1         98   \n",
       " 5   SE REALIZA F3 AL F11-1112155701, NC-NN6848, DI...            1         56   \n",
       " 6   SE REALIZA F3 AL F11-1112155695, NC-NN6559, DI...            1         93   \n",
       " 7   SE REALIZA F3 AL F11-1112155664, NC-NN5997, DI...            1         93   \n",
       " 8   SE REALIZA F3 AL F11-1112155633, NC-NN5948, DI...            1         45   \n",
       " 9   SE REALIZA F3 AL F11-1112155763, NC-NN7614, DI...            1         56   \n",
       " 10  SE REALIZA F3 AL F11-1112155756, NC-NN7501, DI...            1         93   \n",
       " 11  SE REALIZA F3 AL F11-1112155749, NC-NN7502, DI...            1         93   \n",
       " 12  SE REALIZA F3 AL F11-1112155732, NC-NN7082, DI...            1         93   \n",
       " 13  SE REALIZA F3 AL F11-1112155688, NC-NN6375, DI...            1         93   \n",
       " 14  SE REALIZA F3 AL F11-1112155671, NC-NN6068, DI...            1         93   \n",
       " 15  SE REALIZA F3 AL F11-1112155640, NC-NN5996, DI...            1         93   \n",
       " 16  SE REALIZA F3 AL F11-1112155626, NC-NN5947, DI...            1         45   \n",
       " 17  SE REALIZA F3 AL F11-1112155718, NC-NN7081, DI...            1         93   \n",
       " 18                              OK RECIBIDO- GUARDADO            1       9903   \n",
       " 19                                        OK RECIBIDO            1       9903   \n",
       " 20                                                NaN            0       9903   \n",
       " 21                                                NaN            0       9903   \n",
       " 22                                                NaN            0       9903   \n",
       " 23  INGRESA PRODCUTO EN CAJA ORIGINAL, CONCARGADOR...            0         60   \n",
       " 24                                                NaN            0       9903   \n",
       " 25                                                NaN            0       9903   \n",
       " 26                                  OK  PARA  GURDADO            1       9921   \n",
       " 27                                 OK  PARA  GUARDADO            1       9921   \n",
       " 28                                 OK  PARA  GUARDADO            1       9921   \n",
       " 29                                 OK  PARA  GUARDADO            1       9921   \n",
       " 30                                   OK PARA GUARDADO            1       9921   \n",
       " 31                                 OK  PARA  GUARDADO            1       9921   \n",
       " 32                                                NaN            0       9903   \n",
       " 33                                 OK  PARA  GUARDADO            1       9921   \n",
       " 34                                 OK  PARA  GUARDADO            1       9921   \n",
       " 35  CELULAR TECNO EN CAJA ORIGINAL, CARGADOR,CABLE...            0        108   \n",
       " 36                                     caja , control            0         35   \n",
       " \n",
       "           NOMBRE_LOCAL TIPO_PRODUCTO       UPC          SKU  \\\n",
       " 0      CD Linea Blanca      Producto  8,81E+12    3752293.0   \n",
       " 1         CD FALABELLA      Producto  3,00E+12  882300588.0   \n",
       " 2   DVD Administrativo      Producto  8,10E+11   20957939.0   \n",
       " 3         CD FALABELLA      Producto  8,40E+11   25640827.0   \n",
       " 4         JARDIN PLAZA      Producto  7,70E+12   28248481.0   \n",
       " 5            LA CAROLA      Producto  7,71E+12   28520425.0   \n",
       " 6              CACIQUE      Producto  7,71E+12   28520425.0   \n",
       " 7              CACIQUE      Producto  7,71E+12   28520425.0   \n",
       " 8              ARKADIA      Producto  7,71E+12   28520425.0   \n",
       " 9            LA CAROLA      Producto  7,71E+12   28520426.0   \n",
       " 10             CACIQUE      Producto  7,71E+12   28520426.0   \n",
       " 11             CACIQUE      Producto  7,71E+12   28520426.0   \n",
       " 12             CACIQUE      Producto  7,71E+12   28520426.0   \n",
       " 13             CACIQUE      Producto  7,71E+12   28520426.0   \n",
       " 14             CACIQUE      Producto  7,71E+12   28520426.0   \n",
       " 15             CACIQUE      Producto  7,71E+12   28520426.0   \n",
       " 16             ARKADIA      Producto  7,71E+12   28520426.0   \n",
       " 17             CACIQUE      Producto  7,71E+12   28520427.0   \n",
       " 18        CD FALABELLA      Producto  3,00E+12  882556172.0   \n",
       " 19        CD FALABELLA      Producto  5,10E+12   48180776.0   \n",
       " 20        CD FALABELLA      Producto  8,81E+12   48579630.0   \n",
       " 21        CD FALABELLA      Producto  3,00E+12  882150793.0   \n",
       " 22        CD FALABELLA      Producto  8,81E+12   20279214.0   \n",
       " 23               ACQUA      Producto  6,93E+12   29669348.0   \n",
       " 24        CD FALABELLA      Producto  8,81E+12   34446466.0   \n",
       " 25        CD FALABELLA      Producto  8,81E+12   42000459.0   \n",
       " 26     CD Linea Blanca      Producto  8,80E+12    3833729.0   \n",
       " 27     CD Linea Blanca      Producto  7,70E+12    3069100.0   \n",
       " 28     CD Linea Blanca      Producto  8,81E+12    8090052.0   \n",
       " 29     CD Linea Blanca      Producto  8,81E+12   32265785.0   \n",
       " 30     CD Linea Blanca      Producto  8,81E+12    4921711.0   \n",
       " 31     CD Linea Blanca      Producto  8,81E+12    8500749.0   \n",
       " 32        CD FALABELLA      Producto  7,70E+12   11917371.0   \n",
       " 33     CD Linea Blanca      Producto  7,70E+12   19090297.0   \n",
       " 34     CD Linea Blanca      Producto  7,70E+12   20488114.0   \n",
       " 35                SUBA      Producto  4,90E+12   22331070.0   \n",
       " 36            WTC CALI  Market Place  2,05E+12   51940463.0   \n",
       " \n",
       "                                            DESC_SKU LINEA     DESC_LINEA  \\\n",
       " 0                  LAV WT17VSS6H CARGA SUP 17KG VCM   J11  ELECTRO HOGAR   \n",
       " 1                  ZAP HOM URBANO DIPLO3 GR GREY 39   J10        CALZADO   \n",
       " 2               EC-FREIDORA DE AIRE DIGITAL DE 5.5L   J11  ELECTRO HOGAR   \n",
       " 3                                    MOTO G60 NEGRO   J11  ELECTRO HOGAR   \n",
       " 4                         LIC INFINYFORCE XL 12V GR   J11  ELECTRO HOGAR   \n",
       " 5               AUDIFONOS TRUE WIRELESS TWS-30-NEGR   J11  ELECTRO HOGAR   \n",
       " 6               AUDIFONOS TRUE WIRELESS TWS-30-NEGR   J11  ELECTRO HOGAR   \n",
       " 7               AUDIFONOS TRUE WIRELESS TWS-30-NEGR   J11  ELECTRO HOGAR   \n",
       " 8               AUDIFONOS TRUE WIRELESS TWS-30-NEGR   J11  ELECTRO HOGAR   \n",
       " 9               AUDIFONOS TRUE WIRELESS TWS-30-BLAN   J11  ELECTRO HOGAR   \n",
       " 10              AUDIFONOS TRUE WIRELESS TWS-30-BLAN   J11  ELECTRO HOGAR   \n",
       " 11              AUDIFONOS TRUE WIRELESS TWS-30-BLAN   J11  ELECTRO HOGAR   \n",
       " 12              AUDIFONOS TRUE WIRELESS TWS-30-BLAN   J11  ELECTRO HOGAR   \n",
       " 13              AUDIFONOS TRUE WIRELESS TWS-30-BLAN   J11  ELECTRO HOGAR   \n",
       " 14              AUDIFONOS TRUE WIRELESS TWS-30-BLAN   J11  ELECTRO HOGAR   \n",
       " 15              AUDIFONOS TRUE WIRELESS TWS-30-BLAN   J11  ELECTRO HOGAR   \n",
       " 16              AUDIFONOS TRUE WIRELESS TWS-30-BLAN   J11  ELECTRO HOGAR   \n",
       " 17              AUDIFONO INEAR BLUETOOTH EB-1050NEG   J11  ELECTRO HOGAR   \n",
       " 18                  ZAP HOMBRE URBA ROFY GR GREY 41   J10        CALZADO   \n",
       " 19                    Toallas WaterWipes Pack X 448   J09          NIÑOS   \n",
       " 20              TV SAMSUNG UHD 4K UN50BU8000 + T400   J11  ELECTRO HOGAR   \n",
       " 21                       SALUD Y WELLNES SAIN-2000B   J11  ELECTRO HOGAR   \n",
       " 22               EC-NEVECON LG 618 L BLACK LM22SGPK   J11  ELECTRO HOGAR   \n",
       " 23                  REDMI NOTE 11 STARBLUE 128  4GB   J11  ELECTRO HOGAR   \n",
       " 24                            LED 70 LG 70NANO75SQA   J11  ELECTRO HOGAR   \n",
       " 25                 LAV/SEC 22KG/48LB SILVER INVR AI   J11  ELECTRO HOGAR   \n",
       " 26                 Nevera Samsung Congelador Superi   J11  ELECTRO HOGAR   \n",
       " 27                 Nevera Whirlpool No Frost 435 lt   J11  ELECTRO HOGAR   \n",
       " 28                 Nevecon French Door SAMSUNG 629L   J11  ELECTRO HOGAR   \n",
       " 29                EC-LAVSEC 22K 48L SILVER WASHTOWE   J11  ELECTRO HOGAR   \n",
       " 30                  Nev SbSFamilyH SAMSU Negra 685L   J11  ELECTRO HOGAR   \n",
       " 31                  SECADORA GAS SAMSUNG BLANCA 22K   J11  ELECTRO HOGAR   \n",
       " 32              SET COLCHON MICA PRAGA+ALMO_120*190   J14     DORMITORIO   \n",
       " 33                           EC-LAV AWUA 13 KG D NE   J11  ELECTRO HOGAR   \n",
       " 34              EC-REFRI TOP MOUNT WHIRLPOOL 303 LT   J11  ELECTRO HOGAR   \n",
       " 35                  CAMON 18 P CH7N 128GB DUSK GREY   J11  ELECTRO HOGAR   \n",
       " 36  Gafas De Realidad Virtual 3d Vr Box  Control BT   J11  ELECTRO HOGAR   \n",
       " \n",
       "    CANT_PROD VVTA_UNITARIO  VVTA_TOTAL COSTO_PROMEDIO  TOTAL_COSTO  DIAS  \\\n",
       " 0          1       4699900     4699900    2561808,321  2561808.321     0   \n",
       " 1          1        159990      159990      77057,795    77057.795     0   \n",
       " 2          1        519900      519900     229276,437   229276.437     0   \n",
       " 3          1       1699900     1699900     847743,197   847743.197     0   \n",
       " 4          1        269900      269900     132591,253   132591.253     0   \n",
       " 5          1         59900       59900          37752    37752.000     0   \n",
       " 6          1         59900       59900          37752    37752.000     0   \n",
       " 7          1         59900       59900          37752    37752.000     0   \n",
       " 8          1         59900       59900          37752    37752.000     0   \n",
       " 9          1         59900       59900          37752    37752.000     0   \n",
       " 10         1         59900       59900          37752    37752.000     0   \n",
       " 11         1         59900       59900          37752    37752.000     0   \n",
       " 12         1         59900       59900          37752    37752.000     0   \n",
       " 13         1         59900       59900          37752    37752.000     0   \n",
       " 14         1         59900       59900          37752    37752.000     0   \n",
       " 15         1         59900       59900          37752    37752.000     0   \n",
       " 16         1         59900       59900          37752    37752.000     0   \n",
       " 17         1         47900       47900          30189    30189.000     0   \n",
       " 18         1        149990      149990      51214,188    51214.188     0   \n",
       " 19         1        134900      134900          71418    71418.000     0   \n",
       " 20         1       3319900     3319900        1701529  1701529.000     0   \n",
       " 21         1        129900      129900      41483,222    41483.222     0   \n",
       " 22         1       9499900     9499900    4941296,003  4941296.003     0   \n",
       " 23         1       1199900     1199900         727233   727233.000     0   \n",
       " 24         1       5599900     5599900    3159784,118  3159784.118     0   \n",
       " 25         1       7899900     7899900        4368509  4368509.000     0   \n",
       " 26         1       4239900     4239900    2489516,398  2489516.398     0   \n",
       " 27         1       3419900     3419900    2073753,214  2073753.214     0   \n",
       " 28         1      10409900    10409900    5953535,791  5953535.791     0   \n",
       " 29         1      13299900    13299900    7947273,671  7947273.671     0   \n",
       " 30         1      13219900    13219900    7575847,981  7575847.981     0   \n",
       " 31         1       4269900     4269900     2331219,31  2331219.310     0   \n",
       " 32         4       1399990     5599960         534025  2136100.000     0   \n",
       " 33         1       2234900     2234900        1667549  1667549.000     0   \n",
       " 34         1       2289900     2289900    1420122,809  1420122.809     0   \n",
       " 35         1       1299900     1299900     627026,129   627026.129     0   \n",
       " 36         1         47600       47600          39990    39990.000     0   \n",
       " \n",
       "      ANTIGUEDAD               GRUPO     MES  rango_corte  \n",
       " 0   1. <60 Días                  CD  Jan-23  18Ene-23Ene  \n",
       " 1   1. <60 Días                  CD  Jan-23  18Ene-23Ene  \n",
       " 2   1. <60 Días  DVD ADMINISTRATIVO  Jan-23  18Ene-23Ene  \n",
       " 3   1. <60 Días                  CD  Jan-23  18Ene-23Ene  \n",
       " 4   1. <60 Días             TIENDAS  Jan-23  18Ene-23Ene  \n",
       " 5   1. <60 Días             TIENDAS  Jan-23  18Ene-23Ene  \n",
       " 6   1. <60 Días             TIENDAS  Jan-23  18Ene-23Ene  \n",
       " 7   1. <60 Días             TIENDAS  Jan-23  18Ene-23Ene  \n",
       " 8   1. <60 Días             TIENDAS  Jan-23  18Ene-23Ene  \n",
       " 9   1. <60 Días             TIENDAS  Jan-23  18Ene-23Ene  \n",
       " 10  1. <60 Días             TIENDAS  Jan-23  18Ene-23Ene  \n",
       " 11  1. <60 Días             TIENDAS  Jan-23  18Ene-23Ene  \n",
       " 12  1. <60 Días             TIENDAS  Jan-23  18Ene-23Ene  \n",
       " 13  1. <60 Días             TIENDAS  Jan-23  18Ene-23Ene  \n",
       " 14  1. <60 Días             TIENDAS  Jan-23  18Ene-23Ene  \n",
       " 15  1. <60 Días             TIENDAS  Jan-23  18Ene-23Ene  \n",
       " 16  1. <60 Días             TIENDAS  Jan-23  18Ene-23Ene  \n",
       " 17  1. <60 Días             TIENDAS  Jan-23  18Ene-23Ene  \n",
       " 18  1. <60 Días                  CD  Jan-23  18Ene-23Ene  \n",
       " 19  1. <60 Días                  CD  Jan-23  18Ene-23Ene  \n",
       " 20  1. <60 Días                  CD  Jan-23  18Ene-23Ene  \n",
       " 21  1. <60 Días                  CD  Jan-23  18Ene-23Ene  \n",
       " 22  1. <60 Días                  CD  Jan-23  18Ene-23Ene  \n",
       " 23  1. <60 Días             TIENDAS  Jan-23  18Ene-23Ene  \n",
       " 24  1. <60 Días                  CD  Jan-23  18Ene-23Ene  \n",
       " 25  1. <60 Días                  CD  Jan-23  18Ene-23Ene  \n",
       " 26  1. <60 Días                  CD  Jan-23  18Ene-23Ene  \n",
       " 27  1. <60 Días                  CD  Jan-23  18Ene-23Ene  \n",
       " 28  1. <60 Días                  CD  Jan-23  18Ene-23Ene  \n",
       " 29  1. <60 Días                  CD  Jan-23  18Ene-23Ene  \n",
       " 30  1. <60 Días                  CD  Jan-23  18Ene-23Ene  \n",
       " 31  1. <60 Días                  CD  Jan-23  18Ene-23Ene  \n",
       " 32  1. <60 Días                  CD  Jan-23  18Ene-23Ene  \n",
       " 33  1. <60 Días                  CD  Jan-23  18Ene-23Ene  \n",
       " 34  1. <60 Días                  CD  Jan-23  18Ene-23Ene  \n",
       " 35  1. <60 Días             TIENDAS  Jan-23  18Ene-23Ene  \n",
       " 36  1. <60 Días             TIENDAS  Jan-23  18Ene-23Ene  ,\n",
       "        NRO_F11 NSECUENCIA DPACTADA_DT FECHA_CREACION       FECHA_DESPACHO  \\\n",
       " 0   1112166745          1  2023-03-07     2023-01-24                  NaN   \n",
       " 1   1112167063          1  2023-03-07     2023-01-24                  NaN   \n",
       " 2   1112165700          1  2023-01-24     2023-01-24  2023-01-26 00:00:00   \n",
       " 3   1112166622          1  2023-03-25     2023-01-24  2023-01-24 00:00:00   \n",
       " 4   1112166639          1  2023-01-24     2023-01-24  2023-01-24 00:00:00   \n",
       " 5   1112166684          1  2023-03-25     2023-01-24  2023-01-24 00:00:00   \n",
       " 6   1112166707          1  2023-01-24     2023-01-24  2023-01-24 00:00:00   \n",
       " 7   1112166097          1  2023-03-25     2023-01-24  2023-01-24 00:00:00   \n",
       " 8   1112166110          1  2023-03-25     2023-01-24  2023-01-24 00:00:00   \n",
       " 9   1112166141          1  2023-03-25     2023-01-24  2023-01-24 00:00:00   \n",
       " 10  1112166257          1  2023-03-25     2023-01-24  2023-01-24 00:00:00   \n",
       " 11  1112166301          1  2023-03-25     2023-01-24  2023-01-24 00:00:00   \n",
       " 12  1112166325          1  2023-03-25     2023-01-24  2023-01-24 00:00:00   \n",
       " 13  1112166417          1  2023-03-25     2023-01-24  2023-01-24 00:00:00   \n",
       " 14  1112166417          2  2023-03-25     2023-01-24  2023-01-24 00:00:00   \n",
       " 15  1112166431          1  2023-03-25     2023-01-24  2023-01-24 00:00:00   \n",
       " 16  1112166431          2  2023-03-25     2023-01-24  2023-01-24 00:00:00   \n",
       " 17  1112166509          1  2023-03-25     2023-01-24  2023-01-24 00:00:00   \n",
       " 18  1112166523          1  2023-01-24     2023-01-24  2023-01-24 00:00:00   \n",
       " 19  1112166578          1  2023-03-25     2023-01-24  2023-01-24 00:00:00   \n",
       " 20  1112166400          1  2023-03-25     2023-01-24  2023-01-24 00:00:00   \n",
       " 21  1112165779          1  2023-03-07     2023-01-24  2023-01-27 00:00:00   \n",
       " 22  1112165137          1  2023-03-25     2023-01-24  2023-01-24 00:00:00   \n",
       " 23  1112165151          1  2023-03-25     2023-01-24  2023-01-24 00:00:00   \n",
       " 24  1112165151          2  2023-03-25     2023-01-24  2023-01-24 00:00:00   \n",
       " 25  1112167896          1  2023-01-25     2023-01-25  2023-01-26 00:00:00   \n",
       " 26  1112167612          1  2023-03-08     2023-01-25  2023-01-25 00:00:00   \n",
       " 27  1112167681          1  2023-03-08     2023-01-25  2023-01-25 00:00:00   \n",
       " 28  1112168121          1  2023-03-26     2023-01-25  2023-01-25 00:00:00   \n",
       " 29  1112168701          1  2023-03-08     2023-01-25                  NaN   \n",
       " 30  1112168800          1  2023-03-08     2023-01-25                  NaN   \n",
       " 31  1112169272          1  2023-03-08     2023-01-25                  NaN   \n",
       " 32  1112169302          1  2023-03-08     2023-01-25  2023-01-26 00:00:00   \n",
       " 33  1112169685          1  2023-01-26     2023-01-26  2023-01-26 00:00:00   \n",
       " 34  1112169920          1  2023-02-10     2023-01-26  2023-01-26 00:00:00   \n",
       " 35  1112170704          1  2023-03-09     2023-01-26                  NaN   \n",
       " 36  1112170896          1  2023-03-09     2023-01-26                  NaN   \n",
       " 37  1112171305          1  2023-01-27     2023-01-27  2023-01-27 00:00:00   \n",
       " 38  1112171312          1  2023-01-27     2023-01-27  2023-01-27 00:00:00   \n",
       " 39  1112171329          1  2023-01-27     2023-01-27  2023-01-27 00:00:00   \n",
       " 40  1112171336          1  2023-01-27     2023-01-27  2023-01-27 00:00:00   \n",
       " 41  1112171558          1  2023-03-28     2023-01-27  2023-01-27 00:00:00   \n",
       " \n",
       "                             PROVEEDOR    NIT_PROV DV_PROV PROPIETARIO  \\\n",
       " 0                       FALABELLA.COM    71779297     NaN     EMPRESA   \n",
       " 1                       FALABELLA.COM  1232892731     NaN     CLIENTE   \n",
       " 2        DEPRISA SOLO ENVIO PIEZAS LI  1121917317     NaN     CLIENTE   \n",
       " 3                  LINIO DETENCIÓN PV  1040732786     NaN     CLIENTE   \n",
       " 4              ROTTERDAN DETENCIÓN PV    94424016     NaN     CLIENTE   \n",
       " 5           SERVIENTREGA DETENCIÓN PV  1013261907     NaN     CLIENTE   \n",
       " 6              ROTTERDAN DETENCIÓN PV    94424016     NaN     CLIENTE   \n",
       " 7       SERVIENTREGA NO RETORNADOS LI  1049640687     NaN     CLIENTE   \n",
       " 8       SERVIENTREGA NO RETORNADOS LI     7318854     NaN     CLIENTE   \n",
       " 9       SERVIENTREGA NO RETORNADOS LI  1095838649     NaN     CLIENTE   \n",
       " 10      SERVIENTREGA NO RETORNADOS LI    63517900     NaN     CLIENTE   \n",
       " 11      SERVIENTREGA NO RETORNADOS LI    94480929     NaN     CLIENTE   \n",
       " 12      SERVIENTREGA NO RETORNADOS LI    80770634     NaN     CLIENTE   \n",
       " 13                 LINIO DETENCIÓN PV    52032581     NaN     CLIENTE   \n",
       " 14                 LINIO DETENCIÓN PV    52032581     NaN     CLIENTE   \n",
       " 15                 LINIO DETENCIÓN PV  1022386328     NaN     CLIENTE   \n",
       " 16                 LINIO DETENCIÓN PV  1022386328     NaN     CLIENTE   \n",
       " 17               DEPRISA DETENCIÓN PV    52913023     NaN     CLIENTE   \n",
       " 18             ROTTERDAN DETENCIÓN PV  1073252071     NaN     CLIENTE   \n",
       " 19                 LINIO DETENCIÓN PV    22028329     NaN     CLIENTE   \n",
       " 20         ROTTERDAN NO RETORNADOS LI    76328518     NaN     CLIENTE   \n",
       " 21                      FALABELLA.COM    15989859     NaN     CLIENTE   \n",
       " 22         ROTTERDAN NO RETORNADOS LI    31573332     NaN     CLIENTE   \n",
       " 23         ROTTERDAN NO RETORNADOS LI    44558467     NaN     CLIENTE   \n",
       " 24         ROTTERDAN NO RETORNADOS LI    44558467     NaN     CLIENTE   \n",
       " 25  SERVIENTREGA SOLO ENVIO PIEZAS LI  1118848945     NaN     CLIENTE   \n",
       " 26                    IMPRESISTEM SAS           1     NaN     CLIENTE   \n",
       " 27                  OPTICAS GMO S.A.S  1101683533     NaN     CLIENTE   \n",
       " 28          SERVIENTREGA DETENCIÓN PV  1023905770     NaN     CLIENTE   \n",
       " 29                      FALABELLA.COM           0     NaN     CLIENTE   \n",
       " 30                      FALABELLA.COM    63313543     NaN     CLIENTE   \n",
       " 31                      FALABELLA.COM  1039048994     NaN     CLIENTE   \n",
       " 32                          CESER SAS  1098065784     NaN     CLIENTE   \n",
       " 33             ROTTERDAN DETENCIÓN PV  1020841490     NaN     CLIENTE   \n",
       " 34     PRODUCTO TROCADO TIENDA ALEGRA  9011352391     NaN     CLIENTE   \n",
       " 35                      FALABELLA.COM  1032492363     NaN     CLIENTE   \n",
       " 36             AMERICANA DE COLCHONES           0     NaN     CLIENTE   \n",
       " 37            TERMOSELLADO MEGASERVIC   900017447       8     EMPRESA   \n",
       " 38            TERMOSELLADO MEGASERVIC   900017447       8     EMPRESA   \n",
       " 39            TERMOSELLADO MEGASERVIC   900017447       8     EMPRESA   \n",
       " 40            TERMOSELLADO MEGASERVIC   900017447       8     EMPRESA   \n",
       " 41               DEPRISA DETENCIÓN PV    45480148     NaN     CLIENTE   \n",
       " \n",
       "             DPACTADA_HD             NOMBRE_CLTE               APELLIDO_CLTE  \\\n",
       " 0   2023-03-07 00:00:00                   DIEGO                    GONZALEZ   \n",
       " 1   2023-03-07 00:00:00          OMAIR MILAGROS                    MASCAREO   \n",
       " 2   2023-01-24 00:00:00                 GIOVANY                    GONZALEZ   \n",
       " 3   2023-03-25 00:00:00   JUAN ALBERTO_x000d_\\n    PINEDA QUINTERO_x000d_\\n   \n",
       " 4   2023-01-24 00:00:00          JULIO_x000d_\\n       OSPINA HENAO_x000d_\\n   \n",
       " 5   2023-03-25 00:00:00           JUAN_x000d_\\n               MOYA_x000d_\\n   \n",
       " 6   2023-01-24 00:00:00          JULIO_x000d_\\n       OSPINA HENAO_x000d_\\n   \n",
       " 7   2023-03-25 00:00:00         CRISTIAN JAVIER               RINCÓN RINCON   \n",
       " 8   2023-03-25 00:00:00             JUAN CAMILO               ALVAREZ ARIAS   \n",
       " 9   2023-03-25 00:00:00                 JULISSA            GARRIDO FIGUEROA   \n",
       " 10  2023-03-25 00:00:00           SANDRA MILENA             MANTILLA FLÓREZ   \n",
       " 11  2023-03-25 00:00:00                   JORGE                       DUQUE   \n",
       " 12  2023-03-25 00:00:00                  GEORGE           VILLAMIL OLIVEROS   \n",
       " 13  2023-03-25 00:00:00         CARMEN_x000d_\\n  CASCAVITA HERRERA_x000d_\\n   \n",
       " 14  2023-03-25 00:00:00         CARMEN_x000d_\\n  CASCAVITA HERRERA_x000d_\\n   \n",
       " 15  2023-03-25 00:00:00          KAREN_x000d_\\n          BOHORQUEZ_x000d_\\n   \n",
       " 16  2023-03-25 00:00:00          KAREN_x000d_\\n          BOHORQUEZ_x000d_\\n   \n",
       " 17  2023-03-25 00:00:00  JENNY ADRIANA_x000d_\\n             FIERRO_x000d_\\n   \n",
       " 18  2023-01-24 00:00:00      ALEXANDRA_x000d_\\n      BONILLA SOLER_x000d_\\n   \n",
       " 19  2023-03-25 00:00:00           ROSA_x000d_\\n              MUÑOZ_x000d_\\n   \n",
       " 20  2023-03-25 00:00:00                  ANDRES               NARVAEZ ERASO   \n",
       " 21  2023-03-07 00:00:00                   JAIRO                      GARCIA   \n",
       " 22  2023-03-25 00:00:00                  SANDRA               LOPEZ CARDONA   \n",
       " 23  2023-03-25 00:00:00                   AARON                      LOZANO   \n",
       " 24  2023-03-25 00:00:00                   AARON                      LOZANO   \n",
       " 25  2023-01-25 00:00:00                   PAOLA                       SALAS   \n",
       " 26  2023-03-08 00:00:00                    LUIS                  BETANCOURT   \n",
       " 27  2023-03-08 00:00:00                FERNANDO                      PATIÑO   \n",
       " 28  2023-03-26 00:00:00           MANUEL FELIPE                   RODRIGUEZ   \n",
       " 29  2023-03-08 00:00:00                 ALFONSO                    GONZALEZ   \n",
       " 30  2023-03-08 00:00:00                   NUBIA                      GARCIA   \n",
       " 31  2023-03-08 00:00:00                 ROBEIRO                      RENDON   \n",
       " 32  2023-03-08 00:00:00                   DIANA                     MATILLA   \n",
       " 33  2023-01-26 00:00:00            SAUL ERNESTO           RODRIGUEZ CARDOZO   \n",
       " 34  2023-02-10 00:00:00                CRISTIAN                        MORA   \n",
       " 35  2023-03-09 00:00:00                 VALERIA                      ARAUJO   \n",
       " 36  2023-03-09 00:00:00                   LAURA                    GORDILLO   \n",
       " 37  2023-01-27 00:00:00                LINEABCA             CD LINEA BLANCA   \n",
       " 38  2023-01-27 00:00:00                LINEABCA             CD LINEA BLANCA   \n",
       " 39  2023-01-27 00:00:00                LINEABCA             CD LINEA BLANCA   \n",
       " 40  2023-01-27 00:00:00                LINEABCA             CD LINEA BLANCA   \n",
       " 41  2023-03-28 00:00:00               JAQUELINE                      TORRES   \n",
       " \n",
       "                                        DIRECCION_CLTE        CIUDAD_CLTE  \\\n",
       " 0                              CRA 43 A N  7 SUR  170           MEDELLIN   \n",
       " 1                                     CRA 28B 64 A 47             BOGOTA   \n",
       " 2   TRANSVERSAL 22 # 12 / 57 DONA LUZ CONJUNTO ARA...      VILLAVICENCIO   \n",
       " 3   CRA 52 #40-70, MEDELLIN, ANTIOQUIA, COLOMBIA #...  MEDELLIN_x000d_\\n   \n",
       " 4   CALLE 16 A SUR # 32 B 38 - OFICINA 215 M MALL ...  MEDELLIN_x000d_\\n   \n",
       " 5   CALLE 145 #85-80 T8-231 BALCONES DE LA COLINA_...    BOGOTA_x000d_\\n   \n",
       " 6   CALLE 16 A SUR # 32 B 38 - OFICINA 215 M MALL ...  MEDELLIN_x000d_\\n   \n",
       " 7       CLL 20 # 11 - 85  CLL # 20 - 11 85  _x000d_\\n              TUNJA   \n",
       " 8   CARRERA 81B  # 43 SUR-17 INTERIOR 1 CASA 1 CAS...             BOGOTA   \n",
       " 9      CRA 32 # 65 - 23 BARRIO LA FLORESTA  _x000d_\\n    BARRANCABERMEJA   \n",
       " 10  CRA 16 204 25 TORRE 3 APTO 824 VENTURA  _x000d_\\n      FLORIDABLANCA   \n",
       " 11                CARRERA 38A 17 - 59 CASA  _x000d_\\n              TULUA   \n",
       " 12  CALLE 44C #45-53 INTERIOR 3 APARTAMENTO 103   ...             BOGOTA   \n",
       " 13  CRA 97D NO. 42-50 SUR B/LOS ALMENDROS LOS ALME...    BOGOTA_x000d_\\n   \n",
       " 14  CRA 97D NO. 42-50 SUR B/LOS ALMENDROS LOS ALME...    BOGOTA_x000d_\\n   \n",
       " 15  TRANSVERSAL 68C 68B 55 SUR CASA GRANDE MANZANA...    BOGOTA_x000d_\\n   \n",
       " 16  TRANSVERSAL 68C 68B 55 SUR CASA GRANDE MANZANA...    BOGOTA_x000d_\\n   \n",
       " 17  VIA COTA CHIA KM 2.5 VEREDA PUEBLO VIEJO CONJU...      COTA_x000d_\\n   \n",
       " 18                    KRA 6 N. 5 44 APTO 101_x000d_\\n    BOJACA_x000d_\\n   \n",
       " 19  CLLE 55B #67B 40 CASA 112 ARALIAS, ANTIOQUIA_x...     BELLO_x000d_\\n   \n",
       " 20  CRA 12 #90 - 42 APTO 101, EDIFICIO JEMAR 3   _...             BOGOTA   \n",
       " 21                                       TIENDA TITAN             BOGOTA   \n",
       " 22  CRA 65 # 9 - 161 206 / BARILOCHE PLAZA  _x000d_\\n               CALI   \n",
       " 23  CRA 80 A #17 -85 COJUNTO RESIDENCIAL TORRE HAY...             BOGOTA   \n",
       " 24  CRA 80 A #17 -85 COJUNTO RESIDENCIAL TORRE HAY...             BOGOTA   \n",
       " 25                                  CALLE 6 5 32 CASA           RIOHACHA   \n",
       " 26                             CRA 55 #24-56 EN NEIVA             IBAGUE   \n",
       " 27              CARRERA 21 N 152-30  TORRE 24 APT 401             BOGOTA   \n",
       " 28         CARRERA 39 C # 29 A 45 SUR APARTAMENTO 101             BOGOTA   \n",
       " 29                                 CRA 68 F # 97 - 59             BOGOTA   \n",
       " 30                 EL REFUGIO BLOKE 13 APARTAMENTO 3D          CARTAGENA   \n",
       " 31                              CLL 96 SUR # 50 AA 49           MEDELLIN   \n",
       " 32                          CARRERA 63#100 68 APT 201             BOGOTA   \n",
       " 33     CALLE 76 A # 90-50  ANDORA 80 TORRE 2 APTO 609             BOGOTA   \n",
       " 34  CRA 15 B # 45 D - 38 LOCAL 1 Y 2  BARRIO NORMA...       BARRANQUILLA   \n",
       " 35                                 CARRERA 14B#118-15             BOGOTA   \n",
       " 36                               CALLE 146  13 A - 02             BOGOTA   \n",
       " 37                     KM VÍA 2,5 VIA FUNZA - SIBERIA             BOGOTA   \n",
       " 38                     KM VÍA 2,5 VIA FUNZA - SIBERIA             BOGOTA   \n",
       " 39                     KM VÍA 2,5 VIA FUNZA - SIBERIA             BOGOTA   \n",
       " 40                     KM VÍA 2,5 VIA FUNZA - SIBERIA             BOGOTA   \n",
       " 41       CRA 4# 11-16  CONJ RES VILLAS SABANERAS CASA               CHIA   \n",
       " \n",
       "    CCOMUNA CESTADO_DT COD_ESTADO         ESTADO COD_SERVICIO         SERVICIO  \\\n",
       " 0        2          9          9        Anulado            S        S.TECNICO   \n",
       " 1        1          9          9        Anulado            S        S.TECNICO   \n",
       " 2       22          6          6  Entrega total            R       RETIRO F12   \n",
       " 3        2          6          6  Entrega total            R       RETIRO F12   \n",
       " 4        2          6          6  Entrega total            R       RETIRO F12   \n",
       " 5        1          6          6  Entrega total            R       RETIRO F12   \n",
       " 6        2          6          6  Entrega total            R       RETIRO F12   \n",
       " 7        9          6          6  Entrega total            R       RETIRO F12   \n",
       " 8        1          6          6  Entrega total            R       RETIRO F12   \n",
       " 9       75          6          6  Entrega total            R       RETIRO F12   \n",
       " 10     688          6          6  Entrega total            R       RETIRO F12   \n",
       " 11     718          6          6  Entrega total            R       RETIRO F12   \n",
       " 12       1          6          6  Entrega total            R       RETIRO F12   \n",
       " 13       1          6          6  Entrega total            R       RETIRO F12   \n",
       " 14       1          6          6  Entrega total            R       RETIRO F12   \n",
       " 15       1          6          6  Entrega total            R       RETIRO F12   \n",
       " 16       1          6          6  Entrega total            R       RETIRO F12   \n",
       " 17      33          6          6  Entrega total            R       RETIRO F12   \n",
       " 18     789          6          6  Entrega total            R       RETIRO F12   \n",
       " 19     629          6          6  Entrega total            R       RETIRO F12   \n",
       " 20       1          6          6  Entrega total            R       RETIRO F12   \n",
       " 21       1          6          6  Entrega total            S        S.TECNICO   \n",
       " 22       3          6          6  Entrega total            R       RETIRO F12   \n",
       " 23       1          6          6  Entrega total            R       RETIRO F12   \n",
       " 24       1          6          6  Entrega total            R       RETIRO F12   \n",
       " 25      20          6          6  Entrega total            R       RETIRO F12   \n",
       " 26      30          6          6  Entrega total            S        S.TECNICO   \n",
       " 27       1          6          6  Entrega total            S        S.TECNICO   \n",
       " 28       1          6          6  Entrega total            R       RETIRO F12   \n",
       " 29       1          9          9        Anulado            S        S.TECNICO   \n",
       " 30       8          9          9        Anulado            S        S.TECNICO   \n",
       " 31       2          9          9        Anulado            S        S.TECNICO   \n",
       " 32       1          6          6  Entrega total            S        S.TECNICO   \n",
       " 33       1          6          6  Entrega total            R       RETIRO F12   \n",
       " 34    1030          6          6  Entrega total            T  CONTROL CALIDAD   \n",
       " 35       1          9          9        Anulado            S        S.TECNICO   \n",
       " 36       1          9          9        Anulado            S        S.TECNICO   \n",
       " 37       1          6          6  Entrega total            S        S.TECNICO   \n",
       " 38       1          6          6  Entrega total            S        S.TECNICO   \n",
       " 39       1          6          6  Entrega total            S        S.TECNICO   \n",
       " 40       1          6          6  Entrega total            S        S.TECNICO   \n",
       " 41      34          6          6  Entrega total            R       RETIRO F12   \n",
       " \n",
       "    ORIGEN                                        OBSERVACION CANT_IMPRES  \\\n",
       " 0       F  , CAJA, CARGADOR, ESTUCHE TRANSPARENTE, MANUAL...           0   \n",
       " 1       T  SE RECIBE PRODUCTO CON CAJA ORIGINAL,BOQUILLAS...           0   \n",
       " 2       T   FALTANTE ENTREGADO 25/01/2023 POR TRANSP SERV...           1   \n",
       " 3       T                                        OK RECIBIDO           1   \n",
       " 4       T                           OK RECIBIDO PARA GUARDAR           1   \n",
       " 5       T                                    retornado al li           1   \n",
       " 6       T                           OK RECIBIDO PARA GUARDAR           1   \n",
       " 7       T                                 OK RECIBIDO CON RO           1   \n",
       " 8       T                                    RETORNADO AL LI           1   \n",
       " 9       T                              OK RECIBIDO CON LA RO           1   \n",
       " 10      T                                 OK RECIBIDO CON RO           1   \n",
       " 11      T                                    RETORNADO AL LI           0   \n",
       " 12      T                                    retornado al li           0   \n",
       " 13      T                                        OK RECIBIDO           1   \n",
       " 14      T                                        OK RECIBIDO           1   \n",
       " 15      T                                        OK RECIBIDO           1   \n",
       " 16      T                                        OK RECIBIDO           1   \n",
       " 17      T                                       OK TRECIBIDO           1   \n",
       " 18      T                           OK RECIBIDO PARA GUARDAR           1   \n",
       " 19      T                                    RETORNADO AL LI           1   \n",
       " 20      T                           OK RECIBIDO PARA GUARDAR           1   \n",
       " 21      T                    SE GENERA CIERRE POR DUPLICIDAD           1   \n",
       " 22      T                                        ok recibido           1   \n",
       " 23      T                           ok recibido para guardar           1   \n",
       " 24      T                           ok recibido para guardar           1   \n",
       " 25      T   FALTANTE ENTREGADO 23/01/2022 POR TRANSP SERV...           1   \n",
       " 26      T  INGRESA PRODUCTO EN CAJA ORIGINAL, CON CARGADO...           1   \n",
       " 27      T              CL LLEVA PRODUCTO A TIENDA 1112162549           1   \n",
       " 28      T                           OK RECIBIDO PARA GUARDAR           1   \n",
       " 29      T  Caja original, cargador, accesorio de cortador...           0   \n",
       " 30      T                                            ESTUCHE           0   \n",
       " 31      T                                              CAJA,           0   \n",
       " 32      T                               CAJA MANUAL CAFETERA           1   \n",
       " 33      T                           OK RECIBIDO PARA GUARDAR           1   \n",
       " 34      T                                                NaN           1   \n",
       " 35      T                                                NaN           0   \n",
       " 36      T                                                NaN           0   \n",
       " 37      F                          ok recibido para guardado           1   \n",
       " 38      F                          ok recibido para guardado           1   \n",
       " 39      F                                   ok para guardado           1   \n",
       " 40      F                          OK RECIBIDO PARA GUARDADO           2   \n",
       " 41      T                                     RTORNADO AL LI           1   \n",
       " \n",
       "    COD_LOCAL             NOMBRE_LOCAL TIPO_PRODUCTO            UPC        SKU  \\\n",
       " 0         43         SANTAFE MEDELLIN      Producto  6941487261024   36281182   \n",
       " 1         53                 GALERIAS  Market Place  2029698590004   29698590   \n",
       " 2       9903             CD FALABELLA      Producto   195868172669   39083563   \n",
       " 3       9903             CD FALABELLA      Producto  2998821076480  882107648   \n",
       " 4       9903             CD FALABELLA      Producto  2998823025929  882302592   \n",
       " 5       9903             CD FALABELLA      Producto  8806094886108   53480282   \n",
       " 6       9903             CD FALABELLA      Producto  2998817413718  881741371   \n",
       " 7       9970  CD FALABELLA Big Ticket      Producto  2998824901154  882490115   \n",
       " 8       9970  CD FALABELLA Big Ticket      Producto   194252156940    9770823   \n",
       " 9       2000    TIENDA FALABELLA .COM      Producto   192564274475   10296907   \n",
       " 10      2000    TIENDA FALABELLA .COM      Producto  2998826081045  882608104   \n",
       " 11      2001  CD Falabella Alto Valor      Producto  2046730089005   46730089   \n",
       " 12      2001  CD Falabella Alto Valor      Producto  2022496495007   22496495   \n",
       " 13      9903             CD FALABELLA      Producto  2998825203394  882520339   \n",
       " 14      9903             CD FALABELLA      Producto  2998825208627  882520862   \n",
       " 15      9903             CD FALABELLA      Producto  2003395714000    3395714   \n",
       " 16      9903             CD FALABELLA      Producto  2998820007003  882000700   \n",
       " 17      9903             CD FALABELLA      Producto  2998807457098  880745709   \n",
       " 18      9903             CD FALABELLA      Producto  7704353411485   17780412   \n",
       " 19      9903             CD FALABELLA      Producto  2998823566125  882356612   \n",
       " 20      9970  CD FALABELLA Big Ticket      Producto  8806090574801    8500752   \n",
       " 21        85                    TITAN      Producto  6942147485217   32820223   \n",
       " 22      9970  CD FALABELLA Big Ticket      Producto  7704353422849   19089844   \n",
       " 23      9921          CD Linea Blanca      Producto  8806090587023    8500749   \n",
       " 24      9921          CD Linea Blanca      Producto  8806090574801    8500752   \n",
       " 25      2000    TIENDA FALABELLA .COM      Producto  2998822982919  882298291   \n",
       " 26        60                    ACQUA      Producto  2998826413884  882641388   \n",
       " 27      3001       DVD Administrativo      Producto  2003424771004    3424771   \n",
       " 28      9903             CD FALABELLA      Producto  8806094043327   38219058   \n",
       " 29       123                UNICENTRO      Producto  7500435198431   32658190   \n",
       " 30       131              EL CASTILLO      Producto  2998822091918  882209191   \n",
       " 31        36                SAN DIEGO      Producto  6928760169086   31880827   \n",
       " 32        82                 HAYUELOS      Producto  7630477855419   10363809   \n",
       " 33      9903             CD FALABELLA  Market Place  2004275006000    4275006   \n",
       " 34        30            TIENDA ALEGRA  Market Place  2051759933000   51759933   \n",
       " 35        53                 GALERIAS  Market Place  2019506025002   19506025   \n",
       " 36       123                UNICENTRO      Producto  7701144186713    4035825   \n",
       " 37      9921          CD Linea Blanca      Producto  8806090817144   12491929   \n",
       " 38      9921          CD Linea Blanca      Producto  8806090817144   12491929   \n",
       " 39      9921          CD Linea Blanca      Producto  8806092678415   18545123   \n",
       " 40      9921          CD Linea Blanca  Market Place  2007622201004    7622201   \n",
       " 41      9903             CD FALABELLA      Producto  3386460028462    1398700   \n",
       " \n",
       "                                              DESC_SKU LINEA       DESC_LINEA  \\\n",
       " 0                                    Huawei P50 Negro   J11    ELECTRO HOGAR   \n",
       " 1             Secador de Cabello Remington D13A 11O F   J11    ELECTRO HOGAR   \n",
       " 2                    SS.H TRK SUIT K CW6131-410 AZ2 L   J03         DEPORTES   \n",
       " 3                       SET 4 TAZAS CAFE + PLATO EMMA   J15           MENAJE   \n",
       " 4                                 MESA DE CENTRO ROUX   J13          MUEBLES   \n",
       " 5                        BUDS LIVE TITANIUM+ CASEGOAL   J11    ELECTRO HOGAR   \n",
       " 6                             SITIALES Y POLT ORLEANS   J13          MUEBLES   \n",
       " 7                       GORRO JUV BUCKET DOB BLACK ST   J02  JUVENIL HOMBRES   \n",
       " 8                             20W USB-C POWER ADAPTER   J11    ELECTRO HOGAR   \n",
       " 9                         SPORTSTYLE LOGO TANK-BLK XL   J03         DEPORTES   \n",
       " 10               JARDINERA PJPANUELOV DK DENIM SAS 14   J09            NIÑOS   \n",
       " 11                     EC-VIDEOBEAM IDEA PLAY PJ20 HD   J11    ELECTRO HOGAR   \n",
       " 12                    EC-GAFAS SOL AGATHA RUIZ DELAPR   J07       ACCESORIOS   \n",
       " 13                            SABANA PROMOCIO TIZZ DB   J12           BLANCO   \n",
       " 14                         SINTETICO PROMO EST OMG DB   J12           BLANCO   \n",
       " 15                             ALMOHADA 2 TONE FUCSIA   J14       DORMITORIO   \n",
       " 16                   SETX6 UTENSILIOS SILICONA CHERRY   J15           MENAJE   \n",
       " 17                                     SABANA DOTS KN   J12           BLANCO   \n",
       " 18                                 LAV 8.5 KG PF D GR   J11    ELECTRO HOGAR   \n",
       " 19                ACCESORIOS VARI CCAIPCASG1 STONE ST   J07       ACCESORIOS   \n",
       " 20                     LAVADORA C FRONTAL 22KG BLANCA   J11    ELECTRO HOGAR   \n",
       " 21                           UHD 50 Hisense HD 50A6HV   J11    ELECTRO HOGAR   \n",
       " 22                         EC-N HIMALAYA 448 SE TI R2   J11    ELECTRO HOGAR   \n",
       " 23                    SECADORA GAS SAMSUNG BLANCA 22K   J11    ELECTRO HOGAR   \n",
       " 24                     LAVADORA C FRONTAL 22KG BLANCA   J11    ELECTRO HOGAR   \n",
       " 25             CUADRO PACK P6MBBRAZIL ANIMAL CHERRY M   J06    ROPA INTERIOR   \n",
       " 26                 SCOOTER ELECTRI SCOTTERKID ROJO ST   J03         DEPORTES   \n",
       " 27                             EC-0RB8319CH 60 9075J0   J07       ACCESORIOS   \n",
       " 28                  LED 70 SAMSUNG UHD UN70BU8000KXZL   J11    ELECTRO HOGAR   \n",
       " 29                       Braun Shaver 5018s Solo Blue   J11    ELECTRO HOGAR   \n",
       " 30                                ALISADOR BROSSER-20   J11    ELECTRO HOGAR   \n",
       " 31                   Audífonos Conducción Osea Lenovo   J11    ELECTRO HOGAR   \n",
       " 32                                      Inissia Negra   J11    ELECTRO HOGAR   \n",
       " 33                 Nevera Samsung 320 litros No Frost   J11    ELECTRO HOGAR   \n",
       " 34   Medias Tobilleras Taloneras Wilson Mujer 3 Pares   J06    ROPA INTERIOR   \n",
       " 35  Portatil Hp 245 G7 Amd 3020E 4Gb 1Tb Linux 14Pulg   J11    ELECTRO HOGAR   \n",
       " 36                             ALMOHADA  FANTASY-REST   J14       DORMITORIO   \n",
       " 37                    Nevecón SidebySide 759L SAMSUNG   J11    ELECTRO HOGAR   \n",
       " 38                    Nevecón SidebySide 759L SAMSUNG   J11    ELECTRO HOGAR   \n",
       " 39                  EC-Nevec Samsung French Door 622L   J11    ELECTRO HOGAR   \n",
       " 40    Estufa Haceb gabinete torre Plata - GAB T GN PL   J11    ELECTRO HOGAR   \n",
       " 41                             STARWALKER EDT 75ML SP   J08       PERFUMERIA   \n",
       " \n",
       "    CANT_PROD VVTA_UNITARIO VVTA_TOTAL COSTO_PROMEDIO  TOTAL_COSTO DIAS  \\\n",
       " 0          1       4299900    4299900        2499929  2499929.000    0   \n",
       " 1          1        199900     199900         199900   199900.000    0   \n",
       " 2          1        339990     339990     190535.238   190535.238    0   \n",
       " 3          1         79990      79990      35007.275    35007.275    0   \n",
       " 4          1       1999990    1999990      737172.99   737172.990    0   \n",
       " 5          1        699900     699900         246988   246988.000    0   \n",
       " 6          1        899990     899990     415206.037   415206.037    0   \n",
       " 7          1         49990      49990      16146.516    16146.516    0   \n",
       " 8          1         99900      99900      69725.848    69725.848    0   \n",
       " 9          1         89900      89900      40506.565    40506.565    0   \n",
       " 10         1         99990      99990      36019.944    36019.944    0   \n",
       " 11         1        499900     499900         340000   340000.000    0   \n",
       " 12         1        599990     599990         206400   206400.000    0   \n",
       " 13         1        119990     119990      28125.572    28125.572    0   \n",
       " 14         1        229990     229990       46403.75    46403.750    0   \n",
       " 15         2         29990      59980      15499.964    30999.928    0   \n",
       " 16         1         89990      89990      32269.047    32269.047    0   \n",
       " 17         1        519990     519990     146972.674   146972.674    0   \n",
       " 18         1       1639900    1639900        1198918  1198918.000    0   \n",
       " 19         1         19990      19990       7947.159     7947.159    0   \n",
       " 20         1       5189900    5189900    2428912.419  2428912.419    0   \n",
       " 21         1       2599900    2599900    1307576.721  1307576.721    0   \n",
       " 22         1       3020900    3020900    2030591.165  2030591.165    0   \n",
       " 23         1       4269900    4269900    2291254.051  2291254.051    0   \n",
       " 24         1       5189900    5189900    2428912.419  2428912.419    0   \n",
       " 25         1         84990      84990      31642.158    31642.158    0   \n",
       " 26         1        699990     699990     336930.049   336930.049    0   \n",
       " 27         1       1370000    1370000         805882   805882.000    0   \n",
       " 28         1       5199900    5199900    2648027.814  2648027.814    0   \n",
       " 29         1        499990     499990         289379   289379.000    0   \n",
       " 30         1        179900     179900      56543.599    56543.599    0   \n",
       " 31         1        299900     299900      81324.181    81324.181    0   \n",
       " 32         1        549900     549900     301360.564   301360.564    0   \n",
       " 33         1       3354000    3354000        3337000  3337000.000    0   \n",
       " 34         1         31990      31990          31990    31990.000    0   \n",
       " 35         1        927000     927000         927000   927000.000    0   \n",
       " 36         1        209990     209990         123524   123524.000    0   \n",
       " 37         1       6869900    6869900    3289024.692  3289024.692    0   \n",
       " 38         1       6869900    6869900    3289024.692  3289024.692    0   \n",
       " 39         1       7489900    7489900      4234375.8  4234375.800    0   \n",
       " 40         1        699000     699000         620000   620000.000    0   \n",
       " 41         1        399990     399990      99881.649    99881.649    0   \n",
       " \n",
       "      ANTIGUEDAD               GRUPO     MES  rango_corte  \n",
       " 0   1. <60 Días             TIENDAS  Jan-23  23Ene-30Ene  \n",
       " 1   1. <60 Días             TIENDAS  Jan-23  23Ene-30Ene  \n",
       " 2   1. <60 Días                  CD  Jan-23  23Ene-30Ene  \n",
       " 3   1. <60 Días                  CD  Jan-23  23Ene-30Ene  \n",
       " 4   1. <60 Días                  CD  Jan-23  23Ene-30Ene  \n",
       " 5   1. <60 Días                  CD  Jan-23  23Ene-30Ene  \n",
       " 6   1. <60 Días                  CD  Jan-23  23Ene-30Ene  \n",
       " 7   1. <60 Días                  CD  Jan-23  23Ene-30Ene  \n",
       " 8   1. <60 Días                  CD  Jan-23  23Ene-30Ene  \n",
       " 9   1. <60 Días                  CD  Jan-23  23Ene-30Ene  \n",
       " 10  1. <60 Días                  CD  Jan-23  23Ene-30Ene  \n",
       " 11  1. <60 Días                  CD  Jan-23  23Ene-30Ene  \n",
       " 12  1. <60 Días                  CD  Jan-23  23Ene-30Ene  \n",
       " 13  1. <60 Días                  CD  Jan-23  23Ene-30Ene  \n",
       " 14  1. <60 Días                  CD  Jan-23  23Ene-30Ene  \n",
       " 15  1. <60 Días                  CD  Jan-23  23Ene-30Ene  \n",
       " 16  1. <60 Días                  CD  Jan-23  23Ene-30Ene  \n",
       " 17  1. <60 Días                  CD  Jan-23  23Ene-30Ene  \n",
       " 18  1. <60 Días                  CD  Jan-23  23Ene-30Ene  \n",
       " 19  1. <60 Días                  CD  Jan-23  23Ene-30Ene  \n",
       " 20  1. <60 Días                  CD  Jan-23  23Ene-30Ene  \n",
       " 21  1. <60 Días             TIENDAS  Jan-23  23Ene-30Ene  \n",
       " 22  1. <60 Días                  CD  Jan-23  23Ene-30Ene  \n",
       " 23  1. <60 Días                  CD  Jan-23  23Ene-30Ene  \n",
       " 24  1. <60 Días                  CD  Jan-23  23Ene-30Ene  \n",
       " 25  1. <60 Días                  CD  Jan-23  23Ene-30Ene  \n",
       " 26  1. <60 Días             TIENDAS  Jan-23  23Ene-30Ene  \n",
       " 27  1. <60 Días  DVD ADMINISTRATIVO  Jan-23  23Ene-30Ene  \n",
       " 28  1. <60 Días                  CD  Jan-23  23Ene-30Ene  \n",
       " 29  1. <60 Días             TIENDAS  Jan-23  23Ene-30Ene  \n",
       " 30  1. <60 Días             TIENDAS  Jan-23  23Ene-30Ene  \n",
       " 31  1. <60 Días             TIENDAS  Jan-23  23Ene-30Ene  \n",
       " 32  1. <60 Días             TIENDAS  Jan-23  23Ene-30Ene  \n",
       " 33  1. <60 Días                  CD  Jan-23  23Ene-30Ene  \n",
       " 34  1. <60 Días             TIENDAS  Jan-23  23Ene-30Ene  \n",
       " 35  1. <60 Días             TIENDAS  Jan-23  23Ene-30Ene  \n",
       " 36  1. <60 Días             TIENDAS  Jan-23  23Ene-30Ene  \n",
       " 37  1. <60 Días                  CD  Jan-23  23Ene-30Ene  \n",
       " 38  1. <60 Días                  CD  Jan-23  23Ene-30Ene  \n",
       " 39  1. <60 Días                  CD  Jan-23  23Ene-30Ene  \n",
       " 40  1. <60 Días                  CD  Jan-23  23Ene-30Ene  \n",
       " 41  1. <60 Días                  CD  Jan-23  23Ene-30Ene  ,\n",
       "        NRO_F11 NSECUENCIA DPACTADA_DT      FECHA_CREACION  \\\n",
       " 0   1112178199          1  2023-03-14 2023-01-31 00:00:00   \n",
       " 1   1112178298          1  2023-03-14 2023-01-31 00:00:00   \n",
       " 2   1112177574          1  2023-04-01 2023-01-31 00:00:00   \n",
       " 3   1112177574          2  2023-04-01 2023-01-31 00:00:00   \n",
       " 4   1112177581          1  2023-04-01 2023-01-31 00:00:00   \n",
       " 5   1112177697          1  2023-04-01 2023-01-31 00:00:00   \n",
       " 6   1112177819          1  2023-04-01 2023-01-31 00:00:00   \n",
       " 7   1112177826          1  2023-04-01 2023-01-31 00:00:00   \n",
       " 8   1112177833          1  2023-04-01 2023-01-31 00:00:00   \n",
       " 9   1112177840          1  2023-04-01 2023-01-31 00:00:00   \n",
       " 10  1112178168          1  2023-03-14 2023-01-31 00:00:00   \n",
       " 11  1112177789          1  2023-04-01 2023-01-31 00:00:00   \n",
       " 12  1112180390          1  2023-03-15 2023-02-01 00:00:00   \n",
       " 13  1112180482          1  2023-02-03 2023-02-01 00:00:00   \n",
       " 14  1112180673          1  2023-03-15 2023-02-01 00:00:00   \n",
       " 15  1112179585          1  2023-04-02 2023-02-01 00:00:00   \n",
       " 16  1112179639          1  2023-04-02 2023-02-01 00:00:00   \n",
       " 17     1217975          1         NaN 2023-02-01 13:45:03   \n",
       " 18     1217976          1         NaN 2023-02-01 13:45:03   \n",
       " 19     1217977          1         NaN 2023-02-01 13:45:03   \n",
       " 20     1217978          1         NaN 2023-02-01 13:45:03   \n",
       " 21  1112182073          1  2023-03-16 2023-02-02 00:00:00   \n",
       " 22  1112182479          1  2023-03-16 2023-02-02 00:00:00   \n",
       " 23  1112181496          1  2023-04-03 2023-02-02 00:00:00   \n",
       " 24  1112183025          1  2023-02-03 2023-02-03 00:00:00   \n",
       " 25  1112183049          1  2023-02-03 2023-02-03 00:00:00   \n",
       " 26  1112183186          1  2023-02-03 2023-02-03 00:00:00   \n",
       " 27  1112182790          1  2023-02-03 2023-02-03 00:00:00   \n",
       " 28  1112183438          1  2023-03-17 2023-02-03 00:00:00   \n",
       " 29  1112183698          1  2023-03-17 2023-02-03 00:00:00   \n",
       " 30     1218254          1         NaN 2023-02-03 09:00:02   \n",
       " 31     1218255          1         NaN 2023-02-03 09:00:02   \n",
       " 32     1218257          1         NaN 2023-02-03 09:00:02   \n",
       " 33     1218258          1         NaN 2023-02-03 09:00:02   \n",
       " \n",
       "          FECHA_DESPACHO                                 PROVEEDOR    NIT_PROV  \\\n",
       " 0                   NaN                           IMPRESISTEM SAS  1031157830   \n",
       " 1                   NaN                             FALABELLA.COM    40396125   \n",
       " 2   2023-01-31 00:00:00                      PRINDEL DETENCIÓN PV    79790972   \n",
       " 3   2023-01-31 00:00:00                      PRINDEL DETENCIÓN PV    79790972   \n",
       " 4   2023-01-31 00:00:00                      PRINDEL DETENCIÓN PV    79790972   \n",
       " 5   2023-01-31 00:00:00                      DEPRISA DETENCIÓN PV    42095681   \n",
       " 6   2023-01-31 00:00:00                 SERVIENTREGA DETENCIÓN PV    20775243   \n",
       " 7   2023-01-31 00:00:00                 SERVIENTREGA DETENCIÓN PV    79625712   \n",
       " 8   2023-01-31 00:00:00                 SERVIENTREGA DETENCIÓN PV    52833685   \n",
       " 9   2023-01-31 00:00:00                 SERVIENTREGA DETENCIÓN PV  1075871209   \n",
       " 10  2023-02-01 00:00:00                                   SAMSUNG    18503166   \n",
       " 11  2023-01-31 00:00:00               SERVIENTREGA S.A RETIRO F12  1024565423   \n",
       " 12                  NaN                             FALABELLA.COM    79896734   \n",
       " 13  2023-02-03 00:00:00                           IMPRESISTEM SAS  1039647901   \n",
       " 14                  NaN                           IMPRESISTEM SAS  1193214255   \n",
       " 15  2023-02-01 00:00:00                ROTTERDAN NO RETORNADOS LI    51661128   \n",
       " 16  2023-02-01 00:00:00                ROTTERDAN NO RETORNADOS LI  1024464410   \n",
       " 17  2023-02-01 13:45:03                              MACMODA LTDA   900017447   \n",
       " 18  2023-02-01 13:45:03                              MACMODA LTDA   900017447   \n",
       " 19  2023-02-01 13:45:03                              MACMODA LTDA   900017447   \n",
       " 20  2023-02-01 13:45:03                              MACMODA LTDA   900017447   \n",
       " 21                  NaN                             FALABELLA.COM  1075280983   \n",
       " 22                  NaN                   GAMA ITALY PROFESSIONAL  1001368136   \n",
       " 23  2023-02-03 00:00:00                 SERVIENTREGA DETENCIÓN PV    75146103   \n",
       " 24                  NaN                      VUELTAP DETENCIÓN PV    12208207   \n",
       " 25                  NaN                      VUELTAP DETENCIÓN PV    12208207   \n",
       " 26                  NaN                      VUELTAP DETENCIÓN PV  1018425299   \n",
       " 27  2023-02-03 00:00:00                         TCC ENTREGAS F PV    10088836   \n",
       " 28                  NaN  SERVICIO TECNICO GLOBAL SERVICE COLOMBIA      174462   \n",
       " 29                  NaN                          R&M LA ESPERANZA          60   \n",
       " 30  2023-02-03 09:00:02                 VICTORIAS FASHION CYG SAS   900017447   \n",
       " 31  2023-02-03 09:00:02                 VICTORIAS FASHION CYG SAS   900017447   \n",
       " 32  2023-02-03 09:00:02                 VICTORIAS FASHION CYG SAS   900017447   \n",
       " 33  2023-02-03 09:00:02                 VICTORIAS FASHION CYG SAS   900017447   \n",
       " \n",
       "    DV_PROV PROPIETARIO          DPACTADA_HD     NOMBRE_CLTE  \\\n",
       " 0      NaN     CLIENTE  2023-03-14 00:00:00        CRISTIAN   \n",
       " 1      NaN     CLIENTE  2023-03-14 00:00:00      SIN_NOMBRE   \n",
       " 2      NaN     CLIENTE  2023-04-01 00:00:00        MAURICIO   \n",
       " 3      NaN     CLIENTE  2023-04-01 00:00:00        MAURICIO   \n",
       " 4      NaN     CLIENTE  2023-04-01 00:00:00        MAURICIO   \n",
       " 5      NaN     CLIENTE  2023-04-01 00:00:00   DORA PATRICIA   \n",
       " 6      NaN     CLIENTE  2023-04-01 00:00:00         MARITZA   \n",
       " 7      NaN     CLIENTE  2023-04-01 00:00:00           FRANK   \n",
       " 8      NaN     CLIENTE  2023-04-01 00:00:00      YENY PAOLA   \n",
       " 9      NaN     CLIENTE  2023-04-01 00:00:00       ALEJANDRA   \n",
       " 10     NaN     EMPRESA  2023-03-14 00:00:00     HENRY ITALO   \n",
       " 11     NaN     CLIENTE  2023-04-01 00:00:00    YUDY TATIANA   \n",
       " 12     NaN     CLIENTE  2023-03-15 00:00:00       JHON ALEX   \n",
       " 13     NaN     CLIENTE  2023-02-01 00:00:00         ESTEBAN   \n",
       " 14     NaN     CLIENTE  2023-03-15 00:00:00  CAMILO EDUARDO   \n",
       " 15     NaN     CLIENTE  2023-04-02 00:00:00          AMPARO   \n",
       " 16     NaN     CLIENTE  2023-04-02 00:00:00             LUZ   \n",
       " 17       8     EMPRESA  2023-02-01 13:45:03        BDGPRDPR   \n",
       " 18       8     EMPRESA  2023-02-01 13:45:03        BDGPRDPR   \n",
       " 19       8     EMPRESA  2023-02-01 13:45:03        BDGPRDPR   \n",
       " 20       8     EMPRESA  2023-02-01 13:45:03        BDGPRDPR   \n",
       " 21     NaN     CLIENTE  2023-03-16 00:00:00   DIANA VANESSA   \n",
       " 22     NaN     CLIENTE  2023-03-16 00:00:00          SAMUEL   \n",
       " 23     NaN     CLIENTE  2023-04-03 00:00:00      JHON JAIRO   \n",
       " 24     NaN     CLIENTE  2023-02-03 00:00:00            LUIS   \n",
       " 25     NaN     CLIENTE  2023-02-03 00:00:00            LUIS   \n",
       " 26     NaN     CLIENTE  2023-02-03 00:00:00          MARLON   \n",
       " 27     NaN     CLIENTE  2023-02-03 00:00:00  CARLOS EDUARDO   \n",
       " 28     NaN     CLIENTE  2023-03-17 00:00:00            JACK   \n",
       " 29     NaN     EMPRESA  2023-03-17 00:00:00       FALABELLA   \n",
       " 30       8     EMPRESA  2023-02-03 09:00:02        BDGPRDPR   \n",
       " 31       8     EMPRESA  2023-02-03 09:00:02        BDGPRDPR   \n",
       " 32       8     EMPRESA  2023-02-03 09:00:02        BDGPRDPR   \n",
       " 33       8     EMPRESA  2023-02-03 09:00:02        BDGPRDPR   \n",
       " \n",
       "                 APELLIDO_CLTE  \\\n",
       " 0                        JOYA   \n",
       " 1        SIN_APELLIDO_PATERNO   \n",
       " 2                     PACHECO   \n",
       " 3                     PACHECO   \n",
       " 4                     PACHECO   \n",
       " 5                     CASTAÑO   \n",
       " 6                       OLAYA   \n",
       " 7                   DOMINGUEZ   \n",
       " 8                     PINILLA   \n",
       " 9                      GARZÓN   \n",
       " 10                    LINARES   \n",
       " 11             PULIDO SÁNCHEZ   \n",
       " 12                  HERNANDEZ   \n",
       " 13                      PABON   \n",
       " 14                  RONCANCIO   \n",
       " 15                SOTO LESMES   \n",
       " 16                  BOHORQUEZ   \n",
       " 17  BODEGA PRODUCTO EN PROCES   \n",
       " 18  BODEGA PRODUCTO EN PROCES   \n",
       " 19  BODEGA PRODUCTO EN PROCES   \n",
       " 20  BODEGA PRODUCTO EN PROCES   \n",
       " 21                CHARRY DIAZ   \n",
       " 22                     BERNAL   \n",
       " 23                 CASTRILLON   \n",
       " 24                       LUIS   \n",
       " 25                    BONILLA   \n",
       " 26                    SANCHEZ   \n",
       " 27                     PELAEZ   \n",
       " 28                   BURNSIDE   \n",
       " 29                      ACQUA   \n",
       " 30  BODEGA PRODUCTO EN PROCES   \n",
       " 31  BODEGA PRODUCTO EN PROCES   \n",
       " 32  BODEGA PRODUCTO EN PROCES   \n",
       " 33  BODEGA PRODUCTO EN PROCES   \n",
       " \n",
       "                                        DIRECCION_CLTE    CIUDAD_CLTE CCOMUNA  \\\n",
       " 0             CALLE 61 SUR # 71H 27 / PERDOMO/ BOGOTA         BOGOTA       1   \n",
       " 1                  CALLE 14 SUR NO. 49A-79 SERRAMONTE  VILLAVICENCIO      22   \n",
       " 2                                  CL. 13 #7-30  CASA         SOACHA     662   \n",
       " 3                                  CL. 13 #7-30  CASA         SOACHA     662   \n",
       " 4                                  CL. 13 #7-30  CASA         SOACHA     662   \n",
       " 5                                    CR 97A # 45 - 87           CALI       3   \n",
       " 6   CARRERA 112G #86B-60 INT 10 APTO 102 INT 10 AP...         BOGOTA       1   \n",
       " 7                       CARRERA 119 B 63 A 87 OFICINA         BOGOTA       1   \n",
       " 8                 CALLE 136 #15-60  ALBARRADA CASA# 4         BOGOTA       1   \n",
       " 9   CALLE 14B N119A -17 FONTIBON RECODO TORRE 18 A...         BOGOTA       1   \n",
       " 10                                  TIENDA EL CACIQUE         BOGOTA       1   \n",
       " 11  CALLE 17# 30-55 CIPRES TORRE 9 APTO 303  _x000...         SOACHA     662   \n",
       " 12                              CALLE 138 B NO 155-08         BOGOTA       1   \n",
       " 13                           CARRERA 79 AA # 4 F - 19       MEDELLIN       2   \n",
       " 14                               CLL 138 BIS # 103-04         BOGOTA       1   \n",
       " 15  CALLE 25B # 71 - 18 CONJUNTO VISSANI APT 607 T...         BOGOTA       1   \n",
       " 16  KR 47A # 22A-05 QUINTA PAREDES APT 605 EDIFICI...         BOGOTA       1   \n",
       " 17                    KM 2 VIA FUNZA - SIBERIA. FUNZA          FUNZA       1   \n",
       " 18                    KM 2 VIA FUNZA - SIBERIA. FUNZA          FUNZA       1   \n",
       " 19                    KM 2 VIA FUNZA - SIBERIA. FUNZA          FUNZA       1   \n",
       " 20                    KM 2 VIA FUNZA - SIBERIA. FUNZA          FUNZA       1   \n",
       " 21                             CALLE 2 B # 81 A - 460       MEDELLIN       2   \n",
       " 22                                CRA  48  N  47 - 07       MEDELLIN       2   \n",
       " 23                     CALLE 10#5-40  APARTAMENTO 202      CHINCHINA     727   \n",
       " 24                      CALLE 149 NO. 54A-79 APTO 407         BOGOTA       1   \n",
       " 25                      CALLE 149 NO. 54A-79 APTO 407         BOGOTA       1   \n",
       " 26  CARRERA 17#91-11 APTO 301 EDIFICIO IOS LIVING ...         BOGOTA       1   \n",
       " 27             CLL 95 #17-55 BLOQ XAPTO 302 EL CAMPIN        PEREIRA      27   \n",
       " 28                              CALLE 103 # 17 A - 28         BOGOTA       1   \n",
       " 29                           CLL 56 N 60K AV GUABINAL         IBAGUE      30   \n",
       " 30                    KM 2 VIA FUNZA - SIBERIA. FUNZA          FUNZA       1   \n",
       " 31                    KM 2 VIA FUNZA - SIBERIA. FUNZA          FUNZA       1   \n",
       " 32                    KM 2 VIA FUNZA - SIBERIA. FUNZA          FUNZA       1   \n",
       " 33                    KM 2 VIA FUNZA - SIBERIA. FUNZA          FUNZA       1   \n",
       " \n",
       "    CESTADO_DT COD_ESTADO         ESTADO COD_SERVICIO    SERVICIO ORIGEN  \\\n",
       " 0           9          9        Anulado            S   S.TECNICO      T   \n",
       " 1           9          9        Anulado            S   S.TECNICO      T   \n",
       " 2           6          6  Entrega total            R  RETIRO F12      T   \n",
       " 3           6          6  Entrega total            R  RETIRO F12      T   \n",
       " 4           6          6  Entrega total            R  RETIRO F12      T   \n",
       " 5           6          6  Entrega total            R  RETIRO F12      T   \n",
       " 6           6          6  Entrega total            R  RETIRO F12      T   \n",
       " 7           6          6  Entrega total            R  RETIRO F12      T   \n",
       " 8           6          6  Entrega total            R  RETIRO F12      T   \n",
       " 9           6          6  Entrega total            R  RETIRO F12      T   \n",
       " 10          6          6  Entrega total            S   S.TECNICO      F   \n",
       " 11          6          6  Entrega total            R  RETIRO F12      T   \n",
       " 12          9          9        Anulado            S   S.TECNICO      T   \n",
       " 13          6          6  Entrega total            S   S.TECNICO      T   \n",
       " 14          9          9        Anulado            S   S.TECNICO      T   \n",
       " 15          6          6  Entrega total            R  RETIRO F12      T   \n",
       " 16          6          6  Entrega total            R  RETIRO F12      T   \n",
       " 17          6          6  Entrega total            S   S.TECNICO      F   \n",
       " 18          6          6  Entrega total            S   S.TECNICO      F   \n",
       " 19          6          6  Entrega total            S   S.TECNICO      F   \n",
       " 20          6          6  Entrega total            S   S.TECNICO      F   \n",
       " 21          9          9        Anulado            S   S.TECNICO      T   \n",
       " 22          9          9        Anulado            S   S.TECNICO      T   \n",
       " 23          6          6  Entrega total            R  RETIRO F12      T   \n",
       " 24          9          9        Anulado            R  RETIRO F12      T   \n",
       " 25          9          9        Anulado            R  RETIRO F12      T   \n",
       " 26          9          9        Anulado            R  RETIRO F12      T   \n",
       " 27          6          6  Entrega total            R  RETIRO F12      T   \n",
       " 28          9          9        Anulado            S   S.TECNICO      T   \n",
       " 29          9          9        Anulado            S   S.TECNICO      F   \n",
       " 30          6          6  Entrega total            S   S.TECNICO      F   \n",
       " 31          6          6  Entrega total            S   S.TECNICO      F   \n",
       " 32          6          6  Entrega total            S   S.TECNICO      F   \n",
       " 33          6          6  Entrega total            S   S.TECNICO      F   \n",
       " \n",
       "                                           OBSERVACION CANT_IMPRES COD_LOCAL  \\\n",
       " 0   La patineta no enciende, y parece presentar un...           0      3001   \n",
       " 1   CAJA ORIGINAL, CABLE DE CARGA 110V, CABLE DE C...           0        50   \n",
       " 2                                         OK RECIBIDO           1      9903   \n",
       " 3                                         OK RECIBIDO           1      9903   \n",
       " 4                                         OK RECIBIDO           1      9903   \n",
       " 5                  ok recibido devolucion de deprisa.           1      9903   \n",
       " 6                                         OK RECIBIDO           1      9903   \n",
       " 7                                         OK RECIBIDO           1      9903   \n",
       " 8                                         ok recibido           1      9903   \n",
       " 9                                         OK RECIBIDO           1      9903   \n",
       " 10  SE REALIZA F3 AL F11-1112178168, NC-SC86342, D...           1        93   \n",
       " 11                                          CANCELADO           1      2000   \n",
       " 12  lar, audífonos, cable USB, cargador manuales e...           0       108   \n",
       " 13                                       NO APLICA ST           1        45   \n",
       " 14  REDMI WATCH EN CAJA ORIGINAL, MANUAL, SIN CABL...           0       108   \n",
       " 15                   OK RECIBIDO DEVOLUCION ROTTERDAN           1      9921   \n",
       " 16                   OK RECIBIDO DEVOLUCION ROTTERDAN           1      9921   \n",
       " 17  F11 creado en SRX por CPI por Confirmacion de ...           0      9911   \n",
       " 18  F11 creado en SRX por CPI por Confirmacion de ...           0      9911   \n",
       " 19  F11 creado en SRX por CPI por Confirmacion de ...           0      9911   \n",
       " 20  F11 creado en SRX por CPI por Confirmacion de ...           0      9911   \n",
       " 21  CAJA ORIGINAL,CEPILLO EN PERFECTO ESTADO SIN N...           0        45   \n",
       " 22                           CAJA, PLANCHA, MANUALES.           0        43   \n",
       " 23                                        OK RECIBIDO           1      9903   \n",
       " 24                                                NaN           0      9903   \n",
       " 25                                                NaN           0      9903   \n",
       " 26                                                NaN           0      9903   \n",
       " 27     SE CIERRA F11 POR ERROR DE SUCURSAL SOLICITADA           1      9903   \n",
       " 28                           Sin caja, con parrillas.           0       123   \n",
       " 29                                                NaN           0        60   \n",
       " 30  F11 creado en SRX por CPI por Confirmacion de ...           0      9911   \n",
       " 31  F11 creado en SRX por CPI por Confirmacion de ...           0      9911   \n",
       " 32  F11 creado en SRX por CPI por Confirmacion de ...           0      9911   \n",
       " 33  F11 creado en SRX por CPI por Confirmacion de ...           0      9911   \n",
       " \n",
       "                   NOMBRE_LOCAL TIPO_PRODUCTO            UPC        SKU  \\\n",
       " 0           DVD Administrativo      Producto  6934177728631   22000421   \n",
       " 1                    PRIMAVERA      Producto  2998819766577  881976657   \n",
       " 2                 CD FALABELLA      Producto  2998822868893  882286889   \n",
       " 3                 CD FALABELLA      Producto  2022361328003   22361328   \n",
       " 4                 CD FALABELLA      Producto  2998822871701  882287170   \n",
       " 5                 CD FALABELLA      Producto  2012069671006   12069671   \n",
       " 6                 CD FALABELLA      Producto  4065426060027   38215580   \n",
       " 7                 CD FALABELLA      Producto  2998826787534  882678753   \n",
       " 8                 CD FALABELLA      Producto  2998822666628  882266662   \n",
       " 9                 CD FALABELLA      Producto  2998823876569  882387656   \n",
       " 10                     CACIQUE      Producto  8806090341922    6267443   \n",
       " 11       TIENDA FALABELLA .COM      Producto  2028582834002   28582834   \n",
       " 12                        SUBA      Producto  4895180775130   22331071   \n",
       " 13                     ARKADIA      Producto  6934177746512   19120827   \n",
       " 14                        SUBA      Producto  6934177756023   24162561   \n",
       " 15             CD Linea Blanca      Producto  8806090140587    4210207   \n",
       " 16             CD Linea Blanca      Producto  7704712690094   19127938   \n",
       " 17  BODEGA PRODUCTO EN PROCESO   Fabricación  2002138818005    2138818   \n",
       " 18  BODEGA PRODUCTO EN PROCESO   Fabricación  2002138818005    2138818   \n",
       " 19  BODEGA PRODUCTO EN PROCESO   Fabricación  2002138818005    2138818   \n",
       " 20  BODEGA PRODUCTO EN PROCESO   Fabricación  2002138818005    2138818   \n",
       " 21                     ARKADIA      Producto  2998822091918  882209191   \n",
       " 22            SANTAFE MEDELLIN      Producto  8023277143920    9399840   \n",
       " 23                CD FALABELLA      Producto   193113223586   20997467   \n",
       " 24                CD FALABELLA      Producto  8806092837737   50392444   \n",
       " 25                CD FALABELLA      Producto  8806092837737   50392444   \n",
       " 26                CD FALABELLA      Producto  3348901486385    4078569   \n",
       " 27                CD FALABELLA  Market Place  2057071967006   57071967   \n",
       " 28                   UNICENTRO      Producto  2998818055818  881805581   \n",
       " 29                       ACQUA      Producto  3121040063699    3274882   \n",
       " 30  BODEGA PRODUCTO EN PROCESO   Fabricación  2062342347005   62342347   \n",
       " 31  BODEGA PRODUCTO EN PROCESO   Fabricación  2062342347005   62342347   \n",
       " 32  BODEGA PRODUCTO EN PROCESO   Fabricación  2062342347005   62342347   \n",
       " 33  BODEGA PRODUCTO EN PROCESO   Fabricación  2062342347005   62342347   \n",
       " \n",
       "                                              DESC_SKU LINEA  \\\n",
       " 0                      EC-MI ELECTRIC SCOOTER 3 GR EU   J11   \n",
       " 1                          VARIOS CUIDADO  BELLEGLACE   J11   \n",
       " 2            CALCETINES NINO P3MFOODBT GREY MLG 34-36   J09   \n",
       " 3                  MEDIA DEPORTIVA INVISIBLE NINA ELV   J09   \n",
       " 4              CALCETINES NINA P3CBLANCOG WHITE 34-36   J09   \n",
       " 5                         BICICLETA MONTA HAWK 275 NA   J03   \n",
       " 6                                  ADVANTAGE/BL0/7/37   J10   \n",
       " 7                   ZAP RUNNING H TINMAR2 NE BLACK 43   J10   \n",
       " 8   PANTALON BUZO XMHPBS319Z MIDDLE GREY MELANGE X...   J05   \n",
       " 9                         CHAQUETA DVDCA6CAH6 BLACK M   J05   \n",
       " 10                  LED 58 SAMSUNG UHD UN58TU8000KXZL   J11   \n",
       " 11                       JEAN/JEANCINTB/PCOJEAN/NEG/6   J09   \n",
       " 12                CAMON 18 P CH7N 128GB CERAMIC WHITE   J11   \n",
       " 13                              REDMI BUDS 3 PRO GRAY   J11   \n",
       " 14                              REDMI WATCH 2 LITE GL   J11   \n",
       " 15                   Nevera Samsung Congelador Inferi   J11   \n",
       " 16                EC-NEVERA N-FROST 230LMABE-RMA230FJ   J11   \n",
       " 17                        ETIQUETA NO MAR TALLA NE 36   J99   \n",
       " 18                        ETIQUETA NO MAR TALLA NE 36   J99   \n",
       " 19                        ETIQUETA NO MAR TALLA NE 36   J99   \n",
       " 20                        ETIQUETA NO MAR TALLA NE 36   J99   \n",
       " 21                                ALISADOR BROSSER-20   J11   \n",
       " 22                  PLANCHA GAMA LED ESSENCIA AVOCADO   J11   \n",
       " 23                      Tenis Mujer Skechers AZ0 6/36   J10   \n",
       " 24                              Galaxy S21 FE 5G GRAY   J11   \n",
       " 25                              Galaxy S21 FE 5G GRAY   J11   \n",
       " 26                     SAUVAGE PARFUM SPR 100ML INT19   J08   \n",
       " 27          Camiseta Under Armour Hombre Tec 2.0-Gris   J03   \n",
       " 28                             SANDWICHERA WSM-BRATEN   J11   \n",
       " 29                     VENTILADOR TORRE EOLE INFINITE   J11   \n",
       " 30                                    BERSHKAB- NEGRO   J99   \n",
       " 31                                    BERSHKAB- NEGRO   J99   \n",
       " 32                                    BERSHKAB- NEGRO   J99   \n",
       " 33                                    BERSHKAB- NEGRO   J99   \n",
       " \n",
       "               DESC_LINEA CANT_PROD VVTA_UNITARIO VVTA_TOTAL COSTO_PROMEDIO  \\\n",
       " 0          ELECTRO HOGAR         1       2699900    2699900     1942776.19   \n",
       " 1          ELECTRO HOGAR         1        199900     199900     103166.255   \n",
       " 2                  NIÑOS         1         16990      16990       5805.565   \n",
       " 3                  NIÑOS         1         17990      17990           9000   \n",
       " 4                  NIÑOS         1         24990      24990       4695.538   \n",
       " 5               DEPORTES         1        799900     799900     338937.177   \n",
       " 6                CALZADO         1        299990     299990     141984.974   \n",
       " 7                CALZADO         1        119990     119990      48978.923   \n",
       " 8   RINCON JUVENIL MUJER         1         79990      79990      35395.715   \n",
       " 9   RINCON JUVENIL MUJER         1        159990     159990      68491.697   \n",
       " 10         ELECTRO HOGAR         1       3299900    3299900    1775551.262   \n",
       " 11                 NIÑOS         1         89990      89990          38500   \n",
       " 12         ELECTRO HOGAR         1       1299900    1299900     621723.158   \n",
       " 13         ELECTRO HOGAR         1        329900     329900     191324.772   \n",
       " 14         ELECTRO HOGAR         1        299900     299900     188168.067   \n",
       " 15         ELECTRO HOGAR         1       5669900    5669900     3204103.12   \n",
       " 16         ELECTRO HOGAR         1       2184900    2184900    1268575.363   \n",
       " 17        ADMINISTRACION         1          1000       1000             32   \n",
       " 18        ADMINISTRACION         1          1000       1000             32   \n",
       " 19        ADMINISTRACION         1          1000       1000             32   \n",
       " 20        ADMINISTRACION         1          1000       1000             32   \n",
       " 21         ELECTRO HOGAR         1        179900     179900      56543.599   \n",
       " 22         ELECTRO HOGAR         1        249900     249900          94475   \n",
       " 23               CALZADO         1        189990     189990      77044.344   \n",
       " 24         ELECTRO HOGAR         1       3499900    3499900     2558750.42   \n",
       " 25         ELECTRO HOGAR         1       3499900    3499900     2558750.42   \n",
       " 26            PERFUMERIA         1        922900     922900     460275.992   \n",
       " 27              DEPORTES         1         99990      99990          99990   \n",
       " 28         ELECTRO HOGAR         1        179900     179900       90177.44   \n",
       " 29         ELECTRO HOGAR         1        440900     440900     266378.475   \n",
       " 30        ADMINISTRACION      59.7         30600    1826820          15300   \n",
       " 31        ADMINISTRACION        58         30600    1774800          15300   \n",
       " 32        ADMINISTRACION      74.6         30600    2282760          15300   \n",
       " 33        ADMINISTRACION      65.5         30600    2004300          15300   \n",
       " \n",
       "     TOTAL_COSTO DIAS   ANTIGUEDAD                       GRUPO     MES  \\\n",
       " 0   1942776.190    0  1. <60 Días          DVD ADMINISTRATIVO  Jan-23   \n",
       " 1    103166.255    0  1. <60 Días                     TIENDAS  Jan-23   \n",
       " 2      5805.565    0  1. <60 Días                          CD  Jan-23   \n",
       " 3      9000.000    0  1. <60 Días                          CD  Jan-23   \n",
       " 4      4695.538    0  1. <60 Días                          CD  Jan-23   \n",
       " 5    338937.177    0  1. <60 Días                          CD  Jan-23   \n",
       " 6    141984.974    0  1. <60 Días                          CD  Jan-23   \n",
       " 7     48978.923    0  1. <60 Días                          CD  Jan-23   \n",
       " 8     35395.715    0  1. <60 Días                          CD  Jan-23   \n",
       " 9     68491.697    0  1. <60 Días                          CD  Jan-23   \n",
       " 10  1775551.262    0  1. <60 Días                     TIENDAS  Jan-23   \n",
       " 11    38500.000    0  1. <60 Días                          CD  Jan-23   \n",
       " 12   621723.158    0  1. <60 Días                     TIENDAS  Feb-23   \n",
       " 13   191324.772    0  1. <60 Días                     TIENDAS  Feb-23   \n",
       " 14   188168.067    0  1. <60 Días                     TIENDAS  Feb-23   \n",
       " 15  3204103.120    0  1. <60 Días                          CD  Feb-23   \n",
       " 16  1268575.363    0  1. <60 Días                          CD  Feb-23   \n",
       " 17       32.000    0  1. <60 Días  BODEGA PRODUCTO EN PROCESO  Feb-23   \n",
       " 18       32.000    0  1. <60 Días  BODEGA PRODUCTO EN PROCESO  Feb-23   \n",
       " 19       32.000    0  1. <60 Días  BODEGA PRODUCTO EN PROCESO  Feb-23   \n",
       " 20       32.000    0  1. <60 Días  BODEGA PRODUCTO EN PROCESO  Feb-23   \n",
       " 21    56543.599    0  1. <60 Días                     TIENDAS  Feb-23   \n",
       " 22    94475.000    0  1. <60 Días                     TIENDAS  Feb-23   \n",
       " 23    77044.344    0  1. <60 Días                          CD  Feb-23   \n",
       " 24  2558750.420    0  1. <60 Días                          CD  Feb-23   \n",
       " 25  2558750.420    0  1. <60 Días                          CD  Feb-23   \n",
       " 26   460275.992    0  1. <60 Días                          CD  Feb-23   \n",
       " 27    99990.000    0  1. <60 Días                          CD  Feb-23   \n",
       " 28    90177.440    0  1. <60 Días                     TIENDAS  Feb-23   \n",
       " 29   266378.475    0  1. <60 Días                     TIENDAS  Feb-23   \n",
       " 30   913410.000    0  1. <60 Días  BODEGA PRODUCTO EN PROCESO  Feb-23   \n",
       " 31   887400.000    0  1. <60 Días  BODEGA PRODUCTO EN PROCESO  Feb-23   \n",
       " 32  1141380.000    0  1. <60 Días  BODEGA PRODUCTO EN PROCESO  Feb-23   \n",
       " 33  1002150.000    0  1. <60 Días  BODEGA PRODUCTO EN PROCESO  Feb-23   \n",
       " \n",
       "     rango_corte  \n",
       " 0   30Ene-06Feb  \n",
       " 1   30Ene-06Feb  \n",
       " 2   30Ene-06Feb  \n",
       " 3   30Ene-06Feb  \n",
       " 4   30Ene-06Feb  \n",
       " 5   30Ene-06Feb  \n",
       " 6   30Ene-06Feb  \n",
       " 7   30Ene-06Feb  \n",
       " 8   30Ene-06Feb  \n",
       " 9   30Ene-06Feb  \n",
       " 10  30Ene-06Feb  \n",
       " 11  30Ene-06Feb  \n",
       " 12  30Ene-06Feb  \n",
       " 13  30Ene-06Feb  \n",
       " 14  30Ene-06Feb  \n",
       " 15  30Ene-06Feb  \n",
       " 16  30Ene-06Feb  \n",
       " 17  30Ene-06Feb  \n",
       " 18  30Ene-06Feb  \n",
       " 19  30Ene-06Feb  \n",
       " 20  30Ene-06Feb  \n",
       " 21  30Ene-06Feb  \n",
       " 22  30Ene-06Feb  \n",
       " 23  30Ene-06Feb  \n",
       " 24  30Ene-06Feb  \n",
       " 25  30Ene-06Feb  \n",
       " 26  30Ene-06Feb  \n",
       " 27  30Ene-06Feb  \n",
       " 28  30Ene-06Feb  \n",
       " 29  30Ene-06Feb  \n",
       " 30  30Ene-06Feb  \n",
       " 31  30Ene-06Feb  \n",
       " 32  30Ene-06Feb  \n",
       " 33  30Ene-06Feb  ]"
      ]
     },
     "execution_count": 26,
     "metadata": {},
     "output_type": "execute_result"
    }
   ],
   "source": [
    "lista_cc"
   ]
  },
  {
   "cell_type": "code",
   "execution_count": 27,
   "id": "f31359ad",
   "metadata": {},
   "outputs": [
    {
     "data": {
      "text/plain": [
       "array(['2023-01-12T00:00:00.000000000', '2023-01-16T00:00:00.000000000',\n",
       "       '2023-01-17T00:00:00.000000000'], dtype='datetime64[ns]')"
      ]
     },
     "execution_count": 27,
     "metadata": {},
     "output_type": "execute_result"
    }
   ],
   "source": [
    "lista_cc[0].head()['FECHA_CREACION'].unique()"
   ]
  },
  {
   "cell_type": "code",
   "execution_count": 28,
   "id": "f015432f",
   "metadata": {},
   "outputs": [],
   "source": [
    "cc = pd.concat(lista_cc)"
   ]
  },
  {
   "cell_type": "code",
   "execution_count": 29,
   "id": "284b0ac4",
   "metadata": {},
   "outputs": [],
   "source": [
    "cc = cc.loc[cc[dtagco['propietario']]==dtagco['prop_empresa']]\n",
    "cc = cc.loc[cc[dtagco['grupo']].isin(['TIENDAS', 'CD', 'DVD ADMINISTRATIVO'])]"
   ]
  },
  {
   "cell_type": "code",
   "execution_count": 30,
   "id": "1db354c4",
   "metadata": {},
   "outputs": [],
   "source": [
    "rescc = cc.groupby(['rango_corte', dtagco['grupo'],dtagco['mes']]).agg({dtagco['costo']:'sum', dtagco['f11_id']:'nunique'}).reset_index()"
   ]
  },
  {
   "cell_type": "code",
   "execution_count": 31,
   "id": "d1b7890f",
   "metadata": {},
   "outputs": [],
   "source": [
    "rescc['tipo_cierre']= 'Creado a cerrado'"
   ]
  },
  {
   "cell_type": "code",
   "execution_count": 32,
   "id": "4f197411",
   "metadata": {},
   "outputs": [],
   "source": [
    "resatoc['tipo_cierre'] = 'Abierto a cerrado'"
   ]
  },
  {
   "cell_type": "code",
   "execution_count": 33,
   "id": "3d99bb50",
   "metadata": {},
   "outputs": [],
   "source": [
    "res = pd.concat([rescc,resatoc])"
   ]
  },
  {
   "cell_type": "code",
   "execution_count": 34,
   "id": "27dc9654",
   "metadata": {},
   "outputs": [],
   "source": [
    "#res.to_excel('220516_res_cierres.xlsx', index=False)"
   ]
  },
  {
   "cell_type": "code",
   "execution_count": 35,
   "id": "dc29eff3",
   "metadata": {},
   "outputs": [],
   "source": [
    "cd = res.loc[res[dtagco['grupo']]=='CD']"
   ]
  },
  {
   "cell_type": "code",
   "execution_count": 36,
   "id": "32209731",
   "metadata": {},
   "outputs": [],
   "source": [
    "tiendas = res.loc[(res[dtagco['grupo']]=='TIENDAS')|(res[dtagco['grupo']]=='DVD ADMINISTRATIVO')]"
   ]
  },
  {
   "cell_type": "code",
   "execution_count": 37,
   "id": "02527d34",
   "metadata": {},
   "outputs": [],
   "source": [
    "gb_cd = cd.groupby(['rango_corte','tipo_cierre'], sort=False).agg({dtagco['costo']:'sum', dtagco['f11_id']:'sum'}).reset_index()"
   ]
  },
  {
   "cell_type": "code",
   "execution_count": 38,
   "id": "b0a1bf8d",
   "metadata": {},
   "outputs": [],
   "source": [
    "gb_tiendas = tiendas.groupby(['rango_corte','tipo_cierre'], sort=False).agg({dtagco['costo']:'sum', dtagco['f11_id']:'sum'}).reset_index()"
   ]
  },
  {
   "cell_type": "code",
   "execution_count": 39,
   "id": "f80d2acc",
   "metadata": {},
   "outputs": [],
   "source": [
    "ant = ['10Ene-18Ene', '18Ene-23Ene','23Ene-30Ene']\n",
    "nuevo = ['10Ene-18Ene', '18Ene-23Ene', '23Ene-30Ene', '30Ene-06Feb']\n",
    "ol = {'rango_corte':nuevo, 'tipo_cierre':['Abierto a cerrado','Creado a cerrado']}"
   ]
  },
  {
   "cell_type": "code",
   "execution_count": 40,
   "id": "ce6d1f92",
   "metadata": {},
   "outputs": [
    {
     "data": {
      "application/vnd.plotly.v1+json": {
       "config": {
        "plotlyServerURL": "https://plot.ly"
       },
       "data": [
        {
         "alignmentgroup": "True",
         "hovertemplate": "Tipo de cierre=Abierto a cerrado<br>rango_corte=%{x}<br>TOTAL_COSTO=%{text}<extra></extra>",
         "legendgroup": "Abierto a cerrado",
         "marker": {
          "color": "#1F77B4",
          "pattern": {
           "shape": ""
          }
         },
         "name": "Abierto a cerrado",
         "offsetgroup": "Abierto a cerrado",
         "orientation": "v",
         "showlegend": true,
         "text": [
          269874880.644,
          96892809.23900001,
          161656086.845
         ],
         "textposition": "auto",
         "texttemplate": "%{y:.2s}",
         "type": "bar",
         "x": [
          "10Ene-18Ene",
          "18Ene-23Ene",
          "30Ene-06Feb"
         ],
         "xaxis": "x",
         "y": [
          269874880.644,
          96892809.23900001,
          161656086.845
         ],
         "yaxis": "y"
        },
        {
         "alignmentgroup": "True",
         "hovertemplate": "Tipo de cierre=Creado a cerrado<br>rango_corte=%{x}<br>TOTAL_COSTO=%{text}<extra></extra>",
         "legendgroup": "Creado a cerrado",
         "marker": {
          "color": "#FF7F0E",
          "pattern": {
           "shape": ""
          }
         },
         "name": "Creado a cerrado",
         "offsetgroup": "Creado a cerrado",
         "orientation": "v",
         "showlegend": true,
         "text": [
          21791383.984,
          34020626.495,
          11432425.184
         ],
         "textposition": "auto",
         "texttemplate": "%{y:.2s}",
         "type": "bar",
         "x": [
          "10Ene-18Ene",
          "18Ene-23Ene",
          "23Ene-30Ene"
         ],
         "xaxis": "x",
         "y": [
          21791383.984,
          34020626.495,
          11432425.184
         ],
         "yaxis": "y"
        }
       ],
       "layout": {
        "barmode": "relative",
        "legend": {
         "title": {
          "text": "Tipo de cierre"
         },
         "tracegroupgap": 0
        },
        "template": {
         "data": {
          "bar": [
           {
            "error_x": {
             "color": "#2a3f5f"
            },
            "error_y": {
             "color": "#2a3f5f"
            },
            "marker": {
             "line": {
              "color": "#E5ECF6",
              "width": 0.5
             },
             "pattern": {
              "fillmode": "overlay",
              "size": 10,
              "solidity": 0.2
             }
            },
            "type": "bar"
           }
          ],
          "barpolar": [
           {
            "marker": {
             "line": {
              "color": "#E5ECF6",
              "width": 0.5
             },
             "pattern": {
              "fillmode": "overlay",
              "size": 10,
              "solidity": 0.2
             }
            },
            "type": "barpolar"
           }
          ],
          "carpet": [
           {
            "aaxis": {
             "endlinecolor": "#2a3f5f",
             "gridcolor": "white",
             "linecolor": "white",
             "minorgridcolor": "white",
             "startlinecolor": "#2a3f5f"
            },
            "baxis": {
             "endlinecolor": "#2a3f5f",
             "gridcolor": "white",
             "linecolor": "white",
             "minorgridcolor": "white",
             "startlinecolor": "#2a3f5f"
            },
            "type": "carpet"
           }
          ],
          "choropleth": [
           {
            "colorbar": {
             "outlinewidth": 0,
             "ticks": ""
            },
            "type": "choropleth"
           }
          ],
          "contour": [
           {
            "colorbar": {
             "outlinewidth": 0,
             "ticks": ""
            },
            "colorscale": [
             [
              0,
              "#0d0887"
             ],
             [
              0.1111111111111111,
              "#46039f"
             ],
             [
              0.2222222222222222,
              "#7201a8"
             ],
             [
              0.3333333333333333,
              "#9c179e"
             ],
             [
              0.4444444444444444,
              "#bd3786"
             ],
             [
              0.5555555555555556,
              "#d8576b"
             ],
             [
              0.6666666666666666,
              "#ed7953"
             ],
             [
              0.7777777777777778,
              "#fb9f3a"
             ],
             [
              0.8888888888888888,
              "#fdca26"
             ],
             [
              1,
              "#f0f921"
             ]
            ],
            "type": "contour"
           }
          ],
          "contourcarpet": [
           {
            "colorbar": {
             "outlinewidth": 0,
             "ticks": ""
            },
            "type": "contourcarpet"
           }
          ],
          "heatmap": [
           {
            "colorbar": {
             "outlinewidth": 0,
             "ticks": ""
            },
            "colorscale": [
             [
              0,
              "#0d0887"
             ],
             [
              0.1111111111111111,
              "#46039f"
             ],
             [
              0.2222222222222222,
              "#7201a8"
             ],
             [
              0.3333333333333333,
              "#9c179e"
             ],
             [
              0.4444444444444444,
              "#bd3786"
             ],
             [
              0.5555555555555556,
              "#d8576b"
             ],
             [
              0.6666666666666666,
              "#ed7953"
             ],
             [
              0.7777777777777778,
              "#fb9f3a"
             ],
             [
              0.8888888888888888,
              "#fdca26"
             ],
             [
              1,
              "#f0f921"
             ]
            ],
            "type": "heatmap"
           }
          ],
          "heatmapgl": [
           {
            "colorbar": {
             "outlinewidth": 0,
             "ticks": ""
            },
            "colorscale": [
             [
              0,
              "#0d0887"
             ],
             [
              0.1111111111111111,
              "#46039f"
             ],
             [
              0.2222222222222222,
              "#7201a8"
             ],
             [
              0.3333333333333333,
              "#9c179e"
             ],
             [
              0.4444444444444444,
              "#bd3786"
             ],
             [
              0.5555555555555556,
              "#d8576b"
             ],
             [
              0.6666666666666666,
              "#ed7953"
             ],
             [
              0.7777777777777778,
              "#fb9f3a"
             ],
             [
              0.8888888888888888,
              "#fdca26"
             ],
             [
              1,
              "#f0f921"
             ]
            ],
            "type": "heatmapgl"
           }
          ],
          "histogram": [
           {
            "marker": {
             "pattern": {
              "fillmode": "overlay",
              "size": 10,
              "solidity": 0.2
             }
            },
            "type": "histogram"
           }
          ],
          "histogram2d": [
           {
            "colorbar": {
             "outlinewidth": 0,
             "ticks": ""
            },
            "colorscale": [
             [
              0,
              "#0d0887"
             ],
             [
              0.1111111111111111,
              "#46039f"
             ],
             [
              0.2222222222222222,
              "#7201a8"
             ],
             [
              0.3333333333333333,
              "#9c179e"
             ],
             [
              0.4444444444444444,
              "#bd3786"
             ],
             [
              0.5555555555555556,
              "#d8576b"
             ],
             [
              0.6666666666666666,
              "#ed7953"
             ],
             [
              0.7777777777777778,
              "#fb9f3a"
             ],
             [
              0.8888888888888888,
              "#fdca26"
             ],
             [
              1,
              "#f0f921"
             ]
            ],
            "type": "histogram2d"
           }
          ],
          "histogram2dcontour": [
           {
            "colorbar": {
             "outlinewidth": 0,
             "ticks": ""
            },
            "colorscale": [
             [
              0,
              "#0d0887"
             ],
             [
              0.1111111111111111,
              "#46039f"
             ],
             [
              0.2222222222222222,
              "#7201a8"
             ],
             [
              0.3333333333333333,
              "#9c179e"
             ],
             [
              0.4444444444444444,
              "#bd3786"
             ],
             [
              0.5555555555555556,
              "#d8576b"
             ],
             [
              0.6666666666666666,
              "#ed7953"
             ],
             [
              0.7777777777777778,
              "#fb9f3a"
             ],
             [
              0.8888888888888888,
              "#fdca26"
             ],
             [
              1,
              "#f0f921"
             ]
            ],
            "type": "histogram2dcontour"
           }
          ],
          "mesh3d": [
           {
            "colorbar": {
             "outlinewidth": 0,
             "ticks": ""
            },
            "type": "mesh3d"
           }
          ],
          "parcoords": [
           {
            "line": {
             "colorbar": {
              "outlinewidth": 0,
              "ticks": ""
             }
            },
            "type": "parcoords"
           }
          ],
          "pie": [
           {
            "automargin": true,
            "type": "pie"
           }
          ],
          "scatter": [
           {
            "fillpattern": {
             "fillmode": "overlay",
             "size": 10,
             "solidity": 0.2
            },
            "type": "scatter"
           }
          ],
          "scatter3d": [
           {
            "line": {
             "colorbar": {
              "outlinewidth": 0,
              "ticks": ""
             }
            },
            "marker": {
             "colorbar": {
              "outlinewidth": 0,
              "ticks": ""
             }
            },
            "type": "scatter3d"
           }
          ],
          "scattercarpet": [
           {
            "marker": {
             "colorbar": {
              "outlinewidth": 0,
              "ticks": ""
             }
            },
            "type": "scattercarpet"
           }
          ],
          "scattergeo": [
           {
            "marker": {
             "colorbar": {
              "outlinewidth": 0,
              "ticks": ""
             }
            },
            "type": "scattergeo"
           }
          ],
          "scattergl": [
           {
            "marker": {
             "colorbar": {
              "outlinewidth": 0,
              "ticks": ""
             }
            },
            "type": "scattergl"
           }
          ],
          "scattermapbox": [
           {
            "marker": {
             "colorbar": {
              "outlinewidth": 0,
              "ticks": ""
             }
            },
            "type": "scattermapbox"
           }
          ],
          "scatterpolar": [
           {
            "marker": {
             "colorbar": {
              "outlinewidth": 0,
              "ticks": ""
             }
            },
            "type": "scatterpolar"
           }
          ],
          "scatterpolargl": [
           {
            "marker": {
             "colorbar": {
              "outlinewidth": 0,
              "ticks": ""
             }
            },
            "type": "scatterpolargl"
           }
          ],
          "scatterternary": [
           {
            "marker": {
             "colorbar": {
              "outlinewidth": 0,
              "ticks": ""
             }
            },
            "type": "scatterternary"
           }
          ],
          "surface": [
           {
            "colorbar": {
             "outlinewidth": 0,
             "ticks": ""
            },
            "colorscale": [
             [
              0,
              "#0d0887"
             ],
             [
              0.1111111111111111,
              "#46039f"
             ],
             [
              0.2222222222222222,
              "#7201a8"
             ],
             [
              0.3333333333333333,
              "#9c179e"
             ],
             [
              0.4444444444444444,
              "#bd3786"
             ],
             [
              0.5555555555555556,
              "#d8576b"
             ],
             [
              0.6666666666666666,
              "#ed7953"
             ],
             [
              0.7777777777777778,
              "#fb9f3a"
             ],
             [
              0.8888888888888888,
              "#fdca26"
             ],
             [
              1,
              "#f0f921"
             ]
            ],
            "type": "surface"
           }
          ],
          "table": [
           {
            "cells": {
             "fill": {
              "color": "#EBF0F8"
             },
             "line": {
              "color": "white"
             }
            },
            "header": {
             "fill": {
              "color": "#C8D4E3"
             },
             "line": {
              "color": "white"
             }
            },
            "type": "table"
           }
          ]
         },
         "layout": {
          "annotationdefaults": {
           "arrowcolor": "#2a3f5f",
           "arrowhead": 0,
           "arrowwidth": 1
          },
          "autotypenumbers": "strict",
          "coloraxis": {
           "colorbar": {
            "outlinewidth": 0,
            "ticks": ""
           }
          },
          "colorscale": {
           "diverging": [
            [
             0,
             "#8e0152"
            ],
            [
             0.1,
             "#c51b7d"
            ],
            [
             0.2,
             "#de77ae"
            ],
            [
             0.3,
             "#f1b6da"
            ],
            [
             0.4,
             "#fde0ef"
            ],
            [
             0.5,
             "#f7f7f7"
            ],
            [
             0.6,
             "#e6f5d0"
            ],
            [
             0.7,
             "#b8e186"
            ],
            [
             0.8,
             "#7fbc41"
            ],
            [
             0.9,
             "#4d9221"
            ],
            [
             1,
             "#276419"
            ]
           ],
           "sequential": [
            [
             0,
             "#0d0887"
            ],
            [
             0.1111111111111111,
             "#46039f"
            ],
            [
             0.2222222222222222,
             "#7201a8"
            ],
            [
             0.3333333333333333,
             "#9c179e"
            ],
            [
             0.4444444444444444,
             "#bd3786"
            ],
            [
             0.5555555555555556,
             "#d8576b"
            ],
            [
             0.6666666666666666,
             "#ed7953"
            ],
            [
             0.7777777777777778,
             "#fb9f3a"
            ],
            [
             0.8888888888888888,
             "#fdca26"
            ],
            [
             1,
             "#f0f921"
            ]
           ],
           "sequentialminus": [
            [
             0,
             "#0d0887"
            ],
            [
             0.1111111111111111,
             "#46039f"
            ],
            [
             0.2222222222222222,
             "#7201a8"
            ],
            [
             0.3333333333333333,
             "#9c179e"
            ],
            [
             0.4444444444444444,
             "#bd3786"
            ],
            [
             0.5555555555555556,
             "#d8576b"
            ],
            [
             0.6666666666666666,
             "#ed7953"
            ],
            [
             0.7777777777777778,
             "#fb9f3a"
            ],
            [
             0.8888888888888888,
             "#fdca26"
            ],
            [
             1,
             "#f0f921"
            ]
           ]
          },
          "colorway": [
           "#636efa",
           "#EF553B",
           "#00cc96",
           "#ab63fa",
           "#FFA15A",
           "#19d3f3",
           "#FF6692",
           "#B6E880",
           "#FF97FF",
           "#FECB52"
          ],
          "font": {
           "color": "#2a3f5f"
          },
          "geo": {
           "bgcolor": "white",
           "lakecolor": "white",
           "landcolor": "#E5ECF6",
           "showlakes": true,
           "showland": true,
           "subunitcolor": "white"
          },
          "hoverlabel": {
           "align": "left"
          },
          "hovermode": "closest",
          "mapbox": {
           "style": "light"
          },
          "paper_bgcolor": "white",
          "plot_bgcolor": "#E5ECF6",
          "polar": {
           "angularaxis": {
            "gridcolor": "white",
            "linecolor": "white",
            "ticks": ""
           },
           "bgcolor": "#E5ECF6",
           "radialaxis": {
            "gridcolor": "white",
            "linecolor": "white",
            "ticks": ""
           }
          },
          "scene": {
           "xaxis": {
            "backgroundcolor": "#E5ECF6",
            "gridcolor": "white",
            "gridwidth": 2,
            "linecolor": "white",
            "showbackground": true,
            "ticks": "",
            "zerolinecolor": "white"
           },
           "yaxis": {
            "backgroundcolor": "#E5ECF6",
            "gridcolor": "white",
            "gridwidth": 2,
            "linecolor": "white",
            "showbackground": true,
            "ticks": "",
            "zerolinecolor": "white"
           },
           "zaxis": {
            "backgroundcolor": "#E5ECF6",
            "gridcolor": "white",
            "gridwidth": 2,
            "linecolor": "white",
            "showbackground": true,
            "ticks": "",
            "zerolinecolor": "white"
           }
          },
          "shapedefaults": {
           "line": {
            "color": "#2a3f5f"
           }
          },
          "ternary": {
           "aaxis": {
            "gridcolor": "white",
            "linecolor": "white",
            "ticks": ""
           },
           "baxis": {
            "gridcolor": "white",
            "linecolor": "white",
            "ticks": ""
           },
           "bgcolor": "#E5ECF6",
           "caxis": {
            "gridcolor": "white",
            "linecolor": "white",
            "ticks": ""
           }
          },
          "title": {
           "x": 0.05
          },
          "xaxis": {
           "automargin": true,
           "gridcolor": "white",
           "linecolor": "white",
           "ticks": "",
           "title": {
            "standoff": 15
           },
           "zerolinecolor": "white",
           "zerolinewidth": 2
          },
          "yaxis": {
           "automargin": true,
           "gridcolor": "white",
           "linecolor": "white",
           "ticks": "",
           "title": {
            "standoff": 15
           },
           "zerolinecolor": "white",
           "zerolinewidth": 2
          }
         }
        },
        "title": {
         "text": "Cierres de f11 CD"
        },
        "xaxis": {
         "anchor": "y",
         "categoryarray": [
          "10Ene-18Ene",
          "18Ene-23Ene",
          "23Ene-30Ene",
          "30Ene-06Feb"
         ],
         "categoryorder": "array",
         "domain": [
          0,
          1
         ],
         "title": {
          "text": "Rango de fechas cortes"
         }
        },
        "yaxis": {
         "anchor": "x",
         "domain": [
          0,
          1
         ],
         "title": {
          "text": "Total costo promedio"
         }
        }
       }
      }
     },
     "metadata": {},
     "output_type": "display_data"
    }
   ],
   "source": [
    "import plotly.express as px\n",
    "fig = px.bar(gb_cd, x='rango_corte', y=dtagco['costo'], color='tipo_cierre', text=dtagco['costo'], text_auto='.2s',\n",
    "            title='Cierres de f11 CD', labels={'tipo_cierre':'Tipo de cierre'}, category_orders=ol, \n",
    "            color_discrete_sequence=px.colors.qualitative.D3)\n",
    "fig.layout.yaxis.title.text='Total costo promedio'\n",
    "fig.layout.xaxis.title.text='Rango de fechas cortes'\n",
    "fig.show()\n",
    "fig.write_image(f\"output/{datestr}_f11_cd_cieres.svg\",scale=1, height=500,width=500, engine='orca')\n"
   ]
  },
  {
   "cell_type": "code",
   "execution_count": 41,
   "id": "1377b9ef",
   "metadata": {},
   "outputs": [
    {
     "data": {
      "application/vnd.plotly.v1+json": {
       "config": {
        "plotlyServerURL": "https://plot.ly"
       },
       "data": [
        {
         "alignmentgroup": "True",
         "hovertemplate": "Tipo de cierre=Abierto a cerrado<br>rango_corte=%{x}<br>TOTAL_COSTO=%{text}<extra></extra>",
         "legendgroup": "Abierto a cerrado",
         "marker": {
          "color": "#1F77B4",
          "pattern": {
           "shape": ""
          }
         },
         "name": "Abierto a cerrado",
         "offsetgroup": "Abierto a cerrado",
         "orientation": "v",
         "showlegend": true,
         "text": [
          208042983.219,
          39641972.685,
          141292692.36699998
         ],
         "textposition": "auto",
         "texttemplate": "%{y:.2s}",
         "type": "bar",
         "x": [
          "10Ene-18Ene",
          "18Ene-23Ene",
          "30Ene-06Feb"
         ],
         "xaxis": "x",
         "y": [
          208042983.219,
          39641972.685,
          141292692.36699998
         ],
         "yaxis": "y"
        },
        {
         "alignmentgroup": "True",
         "hovertemplate": "Tipo de cierre=Creado a cerrado<br>rango_corte=%{x}<br>TOTAL_COSTO=%{text}<extra></extra>",
         "legendgroup": "Creado a cerrado",
         "marker": {
          "color": "#FF7F0E",
          "pattern": {
           "shape": ""
          }
         },
         "name": "Creado a cerrado",
         "offsetgroup": "Creado a cerrado",
         "orientation": "v",
         "showlegend": true,
         "text": [
          12940428.841,
          483213,
          2499929,
          2041929.7370000002
         ],
         "textposition": "auto",
         "texttemplate": "%{y:.2s}",
         "type": "bar",
         "x": [
          "10Ene-18Ene",
          "18Ene-23Ene",
          "23Ene-30Ene",
          "30Ene-06Feb"
         ],
         "xaxis": "x",
         "y": [
          12940428.841,
          483213,
          2499929,
          2041929.7370000002
         ],
         "yaxis": "y"
        }
       ],
       "layout": {
        "barmode": "relative",
        "legend": {
         "title": {
          "text": "Tipo de cierre"
         },
         "tracegroupgap": 0
        },
        "template": {
         "data": {
          "bar": [
           {
            "error_x": {
             "color": "#2a3f5f"
            },
            "error_y": {
             "color": "#2a3f5f"
            },
            "marker": {
             "line": {
              "color": "#E5ECF6",
              "width": 0.5
             },
             "pattern": {
              "fillmode": "overlay",
              "size": 10,
              "solidity": 0.2
             }
            },
            "type": "bar"
           }
          ],
          "barpolar": [
           {
            "marker": {
             "line": {
              "color": "#E5ECF6",
              "width": 0.5
             },
             "pattern": {
              "fillmode": "overlay",
              "size": 10,
              "solidity": 0.2
             }
            },
            "type": "barpolar"
           }
          ],
          "carpet": [
           {
            "aaxis": {
             "endlinecolor": "#2a3f5f",
             "gridcolor": "white",
             "linecolor": "white",
             "minorgridcolor": "white",
             "startlinecolor": "#2a3f5f"
            },
            "baxis": {
             "endlinecolor": "#2a3f5f",
             "gridcolor": "white",
             "linecolor": "white",
             "minorgridcolor": "white",
             "startlinecolor": "#2a3f5f"
            },
            "type": "carpet"
           }
          ],
          "choropleth": [
           {
            "colorbar": {
             "outlinewidth": 0,
             "ticks": ""
            },
            "type": "choropleth"
           }
          ],
          "contour": [
           {
            "colorbar": {
             "outlinewidth": 0,
             "ticks": ""
            },
            "colorscale": [
             [
              0,
              "#0d0887"
             ],
             [
              0.1111111111111111,
              "#46039f"
             ],
             [
              0.2222222222222222,
              "#7201a8"
             ],
             [
              0.3333333333333333,
              "#9c179e"
             ],
             [
              0.4444444444444444,
              "#bd3786"
             ],
             [
              0.5555555555555556,
              "#d8576b"
             ],
             [
              0.6666666666666666,
              "#ed7953"
             ],
             [
              0.7777777777777778,
              "#fb9f3a"
             ],
             [
              0.8888888888888888,
              "#fdca26"
             ],
             [
              1,
              "#f0f921"
             ]
            ],
            "type": "contour"
           }
          ],
          "contourcarpet": [
           {
            "colorbar": {
             "outlinewidth": 0,
             "ticks": ""
            },
            "type": "contourcarpet"
           }
          ],
          "heatmap": [
           {
            "colorbar": {
             "outlinewidth": 0,
             "ticks": ""
            },
            "colorscale": [
             [
              0,
              "#0d0887"
             ],
             [
              0.1111111111111111,
              "#46039f"
             ],
             [
              0.2222222222222222,
              "#7201a8"
             ],
             [
              0.3333333333333333,
              "#9c179e"
             ],
             [
              0.4444444444444444,
              "#bd3786"
             ],
             [
              0.5555555555555556,
              "#d8576b"
             ],
             [
              0.6666666666666666,
              "#ed7953"
             ],
             [
              0.7777777777777778,
              "#fb9f3a"
             ],
             [
              0.8888888888888888,
              "#fdca26"
             ],
             [
              1,
              "#f0f921"
             ]
            ],
            "type": "heatmap"
           }
          ],
          "heatmapgl": [
           {
            "colorbar": {
             "outlinewidth": 0,
             "ticks": ""
            },
            "colorscale": [
             [
              0,
              "#0d0887"
             ],
             [
              0.1111111111111111,
              "#46039f"
             ],
             [
              0.2222222222222222,
              "#7201a8"
             ],
             [
              0.3333333333333333,
              "#9c179e"
             ],
             [
              0.4444444444444444,
              "#bd3786"
             ],
             [
              0.5555555555555556,
              "#d8576b"
             ],
             [
              0.6666666666666666,
              "#ed7953"
             ],
             [
              0.7777777777777778,
              "#fb9f3a"
             ],
             [
              0.8888888888888888,
              "#fdca26"
             ],
             [
              1,
              "#f0f921"
             ]
            ],
            "type": "heatmapgl"
           }
          ],
          "histogram": [
           {
            "marker": {
             "pattern": {
              "fillmode": "overlay",
              "size": 10,
              "solidity": 0.2
             }
            },
            "type": "histogram"
           }
          ],
          "histogram2d": [
           {
            "colorbar": {
             "outlinewidth": 0,
             "ticks": ""
            },
            "colorscale": [
             [
              0,
              "#0d0887"
             ],
             [
              0.1111111111111111,
              "#46039f"
             ],
             [
              0.2222222222222222,
              "#7201a8"
             ],
             [
              0.3333333333333333,
              "#9c179e"
             ],
             [
              0.4444444444444444,
              "#bd3786"
             ],
             [
              0.5555555555555556,
              "#d8576b"
             ],
             [
              0.6666666666666666,
              "#ed7953"
             ],
             [
              0.7777777777777778,
              "#fb9f3a"
             ],
             [
              0.8888888888888888,
              "#fdca26"
             ],
             [
              1,
              "#f0f921"
             ]
            ],
            "type": "histogram2d"
           }
          ],
          "histogram2dcontour": [
           {
            "colorbar": {
             "outlinewidth": 0,
             "ticks": ""
            },
            "colorscale": [
             [
              0,
              "#0d0887"
             ],
             [
              0.1111111111111111,
              "#46039f"
             ],
             [
              0.2222222222222222,
              "#7201a8"
             ],
             [
              0.3333333333333333,
              "#9c179e"
             ],
             [
              0.4444444444444444,
              "#bd3786"
             ],
             [
              0.5555555555555556,
              "#d8576b"
             ],
             [
              0.6666666666666666,
              "#ed7953"
             ],
             [
              0.7777777777777778,
              "#fb9f3a"
             ],
             [
              0.8888888888888888,
              "#fdca26"
             ],
             [
              1,
              "#f0f921"
             ]
            ],
            "type": "histogram2dcontour"
           }
          ],
          "mesh3d": [
           {
            "colorbar": {
             "outlinewidth": 0,
             "ticks": ""
            },
            "type": "mesh3d"
           }
          ],
          "parcoords": [
           {
            "line": {
             "colorbar": {
              "outlinewidth": 0,
              "ticks": ""
             }
            },
            "type": "parcoords"
           }
          ],
          "pie": [
           {
            "automargin": true,
            "type": "pie"
           }
          ],
          "scatter": [
           {
            "fillpattern": {
             "fillmode": "overlay",
             "size": 10,
             "solidity": 0.2
            },
            "type": "scatter"
           }
          ],
          "scatter3d": [
           {
            "line": {
             "colorbar": {
              "outlinewidth": 0,
              "ticks": ""
             }
            },
            "marker": {
             "colorbar": {
              "outlinewidth": 0,
              "ticks": ""
             }
            },
            "type": "scatter3d"
           }
          ],
          "scattercarpet": [
           {
            "marker": {
             "colorbar": {
              "outlinewidth": 0,
              "ticks": ""
             }
            },
            "type": "scattercarpet"
           }
          ],
          "scattergeo": [
           {
            "marker": {
             "colorbar": {
              "outlinewidth": 0,
              "ticks": ""
             }
            },
            "type": "scattergeo"
           }
          ],
          "scattergl": [
           {
            "marker": {
             "colorbar": {
              "outlinewidth": 0,
              "ticks": ""
             }
            },
            "type": "scattergl"
           }
          ],
          "scattermapbox": [
           {
            "marker": {
             "colorbar": {
              "outlinewidth": 0,
              "ticks": ""
             }
            },
            "type": "scattermapbox"
           }
          ],
          "scatterpolar": [
           {
            "marker": {
             "colorbar": {
              "outlinewidth": 0,
              "ticks": ""
             }
            },
            "type": "scatterpolar"
           }
          ],
          "scatterpolargl": [
           {
            "marker": {
             "colorbar": {
              "outlinewidth": 0,
              "ticks": ""
             }
            },
            "type": "scatterpolargl"
           }
          ],
          "scatterternary": [
           {
            "marker": {
             "colorbar": {
              "outlinewidth": 0,
              "ticks": ""
             }
            },
            "type": "scatterternary"
           }
          ],
          "surface": [
           {
            "colorbar": {
             "outlinewidth": 0,
             "ticks": ""
            },
            "colorscale": [
             [
              0,
              "#0d0887"
             ],
             [
              0.1111111111111111,
              "#46039f"
             ],
             [
              0.2222222222222222,
              "#7201a8"
             ],
             [
              0.3333333333333333,
              "#9c179e"
             ],
             [
              0.4444444444444444,
              "#bd3786"
             ],
             [
              0.5555555555555556,
              "#d8576b"
             ],
             [
              0.6666666666666666,
              "#ed7953"
             ],
             [
              0.7777777777777778,
              "#fb9f3a"
             ],
             [
              0.8888888888888888,
              "#fdca26"
             ],
             [
              1,
              "#f0f921"
             ]
            ],
            "type": "surface"
           }
          ],
          "table": [
           {
            "cells": {
             "fill": {
              "color": "#EBF0F8"
             },
             "line": {
              "color": "white"
             }
            },
            "header": {
             "fill": {
              "color": "#C8D4E3"
             },
             "line": {
              "color": "white"
             }
            },
            "type": "table"
           }
          ]
         },
         "layout": {
          "annotationdefaults": {
           "arrowcolor": "#2a3f5f",
           "arrowhead": 0,
           "arrowwidth": 1
          },
          "autotypenumbers": "strict",
          "coloraxis": {
           "colorbar": {
            "outlinewidth": 0,
            "ticks": ""
           }
          },
          "colorscale": {
           "diverging": [
            [
             0,
             "#8e0152"
            ],
            [
             0.1,
             "#c51b7d"
            ],
            [
             0.2,
             "#de77ae"
            ],
            [
             0.3,
             "#f1b6da"
            ],
            [
             0.4,
             "#fde0ef"
            ],
            [
             0.5,
             "#f7f7f7"
            ],
            [
             0.6,
             "#e6f5d0"
            ],
            [
             0.7,
             "#b8e186"
            ],
            [
             0.8,
             "#7fbc41"
            ],
            [
             0.9,
             "#4d9221"
            ],
            [
             1,
             "#276419"
            ]
           ],
           "sequential": [
            [
             0,
             "#0d0887"
            ],
            [
             0.1111111111111111,
             "#46039f"
            ],
            [
             0.2222222222222222,
             "#7201a8"
            ],
            [
             0.3333333333333333,
             "#9c179e"
            ],
            [
             0.4444444444444444,
             "#bd3786"
            ],
            [
             0.5555555555555556,
             "#d8576b"
            ],
            [
             0.6666666666666666,
             "#ed7953"
            ],
            [
             0.7777777777777778,
             "#fb9f3a"
            ],
            [
             0.8888888888888888,
             "#fdca26"
            ],
            [
             1,
             "#f0f921"
            ]
           ],
           "sequentialminus": [
            [
             0,
             "#0d0887"
            ],
            [
             0.1111111111111111,
             "#46039f"
            ],
            [
             0.2222222222222222,
             "#7201a8"
            ],
            [
             0.3333333333333333,
             "#9c179e"
            ],
            [
             0.4444444444444444,
             "#bd3786"
            ],
            [
             0.5555555555555556,
             "#d8576b"
            ],
            [
             0.6666666666666666,
             "#ed7953"
            ],
            [
             0.7777777777777778,
             "#fb9f3a"
            ],
            [
             0.8888888888888888,
             "#fdca26"
            ],
            [
             1,
             "#f0f921"
            ]
           ]
          },
          "colorway": [
           "#636efa",
           "#EF553B",
           "#00cc96",
           "#ab63fa",
           "#FFA15A",
           "#19d3f3",
           "#FF6692",
           "#B6E880",
           "#FF97FF",
           "#FECB52"
          ],
          "font": {
           "color": "#2a3f5f"
          },
          "geo": {
           "bgcolor": "white",
           "lakecolor": "white",
           "landcolor": "#E5ECF6",
           "showlakes": true,
           "showland": true,
           "subunitcolor": "white"
          },
          "hoverlabel": {
           "align": "left"
          },
          "hovermode": "closest",
          "mapbox": {
           "style": "light"
          },
          "paper_bgcolor": "white",
          "plot_bgcolor": "#E5ECF6",
          "polar": {
           "angularaxis": {
            "gridcolor": "white",
            "linecolor": "white",
            "ticks": ""
           },
           "bgcolor": "#E5ECF6",
           "radialaxis": {
            "gridcolor": "white",
            "linecolor": "white",
            "ticks": ""
           }
          },
          "scene": {
           "xaxis": {
            "backgroundcolor": "#E5ECF6",
            "gridcolor": "white",
            "gridwidth": 2,
            "linecolor": "white",
            "showbackground": true,
            "ticks": "",
            "zerolinecolor": "white"
           },
           "yaxis": {
            "backgroundcolor": "#E5ECF6",
            "gridcolor": "white",
            "gridwidth": 2,
            "linecolor": "white",
            "showbackground": true,
            "ticks": "",
            "zerolinecolor": "white"
           },
           "zaxis": {
            "backgroundcolor": "#E5ECF6",
            "gridcolor": "white",
            "gridwidth": 2,
            "linecolor": "white",
            "showbackground": true,
            "ticks": "",
            "zerolinecolor": "white"
           }
          },
          "shapedefaults": {
           "line": {
            "color": "#2a3f5f"
           }
          },
          "ternary": {
           "aaxis": {
            "gridcolor": "white",
            "linecolor": "white",
            "ticks": ""
           },
           "baxis": {
            "gridcolor": "white",
            "linecolor": "white",
            "ticks": ""
           },
           "bgcolor": "#E5ECF6",
           "caxis": {
            "gridcolor": "white",
            "linecolor": "white",
            "ticks": ""
           }
          },
          "title": {
           "x": 0.05
          },
          "xaxis": {
           "automargin": true,
           "gridcolor": "white",
           "linecolor": "white",
           "ticks": "",
           "title": {
            "standoff": 15
           },
           "zerolinecolor": "white",
           "zerolinewidth": 2
          },
          "yaxis": {
           "automargin": true,
           "gridcolor": "white",
           "linecolor": "white",
           "ticks": "",
           "title": {
            "standoff": 15
           },
           "zerolinecolor": "white",
           "zerolinewidth": 2
          }
         }
        },
        "title": {
         "text": "Cierres de f11 Tiendas & DVD"
        },
        "xaxis": {
         "anchor": "y",
         "categoryarray": [
          "10Ene-18Ene",
          "18Ene-23Ene",
          "23Ene-30Ene",
          "30Ene-06Feb"
         ],
         "categoryorder": "array",
         "domain": [
          0,
          1
         ],
         "title": {
          "text": "Rango de fechas cortes"
         }
        },
        "yaxis": {
         "anchor": "x",
         "domain": [
          0,
          1
         ],
         "title": {
          "text": "Total costo promedio"
         }
        }
       }
      }
     },
     "metadata": {},
     "output_type": "display_data"
    }
   ],
   "source": [
    "import plotly.express as px\n",
    "fig = px.bar(gb_tiendas, x='rango_corte', y=dtagco['costo'], color='tipo_cierre', text=dtagco['costo'], text_auto='.2s',\n",
    "            title='Cierres de f11 Tiendas & DVD', labels={'tipo_cierre':'Tipo de cierre'}, category_orders=ol, \n",
    "            color_discrete_sequence=px.colors.qualitative.D3)\n",
    "fig.layout.yaxis.title.text='Total costo promedio'\n",
    "fig.layout.xaxis.title.text='Rango de fechas cortes'\n",
    "fig.show()\n",
    "fig.write_image(f\"output/{datestr}_f11_tiendas_cieres.svg\",scale=1, height=500,width=500, engine='orca')\n"
   ]
  },
  {
   "cell_type": "code",
   "execution_count": null,
   "id": "5b7b8177",
   "metadata": {},
   "outputs": [],
   "source": []
  },
  {
   "cell_type": "code",
   "execution_count": null,
   "id": "3d3572bc",
   "metadata": {},
   "outputs": [],
   "source": []
  }
 ],
 "metadata": {
  "kernelspec": {
   "display_name": "base",
   "language": "python",
   "name": "python3"
  },
  "language_info": {
   "codemirror_mode": {
    "name": "ipython",
    "version": 3
   },
   "file_extension": ".py",
   "mimetype": "text/x-python",
   "name": "python",
   "nbconvert_exporter": "python",
   "pygments_lexer": "ipython3",
   "version": "3.9.13"
  },
  "vscode": {
   "interpreter": {
    "hash": "39e368559703f2b55e4877aa0a500ff47b01094e10cb7c2d2c199837ca4b49ef"
   }
  }
 },
 "nbformat": 4,
 "nbformat_minor": 5
}
