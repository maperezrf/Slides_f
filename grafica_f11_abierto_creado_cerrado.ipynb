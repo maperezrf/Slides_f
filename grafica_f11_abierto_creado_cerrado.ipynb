{
 "cells": [
  {
   "cell_type": "code",
   "execution_count": 1,
   "id": "7c463d83",
   "metadata": {
    "scrolled": true
   },
   "outputs": [],
   "source": [
    "import pandas as pd\n",
    "from   datetime import date, timedelta, datetime\n",
    "datestr = datetime.now().strftime('%y%m%d') \n",
    "#from f11 import F11"
   ]
  },
  {
   "cell_type": "code",
   "execution_count": 2,
   "id": "761a2735",
   "metadata": {},
   "outputs": [],
   "source": [
    "def set_fecha_corte(df, fecha_corte=date.today()):\n",
    "    df['FECHA_CORTE']= fecha_corte\n",
    "    return df"
   ]
  },
  {
   "cell_type": "code",
   "execution_count": 3,
   "id": "f4af73da",
   "metadata": {},
   "outputs": [],
   "source": [
    "dtagco = {\n",
    "    'path_df': 'C:/Users/maperezr/OneDrive - Falabella/General/DATA/F11/220328_f11.xlsx', #'input/220328_f11.xlsx',\n",
    "    'trend_path': 'input/tendencias.xlsx', \n",
    "    'f11_id':'NRO_F11',\n",
    "    'propietario':'PROPIETARIO',\n",
    "    'estado':'ESTADO',\n",
    "    'prop_empresa':'EMPRESA',\n",
    "    'fech_creacion':'FECHA_CREACION',\n",
    "    'estados_abiertos':['Despachado','Espera Retiro Clte.','Ingresado','Entrega parcial'],\n",
    "    'fecha_inicial':'2021-01-01', \n",
    "    'mes':'MES', \n",
    "    'costo':'TOTAL_COSTO',\n",
    "    'grupo':'GRUPO'}"
   ]
  },
  {
   "cell_type": "markdown",
   "id": "cabc119b",
   "metadata": {},
   "source": [
    "## Cortes "
   ]
  },
  {
   "cell_type": "code",
   "execution_count": 4,
   "id": "27d25927",
   "metadata": {
    "scrolled": true
   },
   "outputs": [],
   "source": [
    "#df_0 = pd.read_csv('C:/Users/maperezr/OneDrive - Falabella/General/DATA/F11/220223_f11.csv', sep=';')\n",
    "#df_1 = pd.read_csv('C:/Users/maperezr/OneDrive - Falabella/General/DATA/F11/220228_f11.csv', sep=';')\n",
    "#df_2 = pd.read_csv('C:/Users/maperezr/OneDrive - Falabella/General/DATA/F11/220307_f11.csv', sep=';')\n",
    "#df_3 = pd.read_csv('C:/Users/maperezr/OneDrive - Falabella/General/DATA/F11/220314_f11.csv', sep=';')\n",
    "#df_4 = pd.read_csv('C:/Users/maperezr/OneDrive - Falabella/General/DATA/F11/220322_f11.csv', sep=';')\n",
    "#df_5 = pd.read_csv('C:/Users/maperezr/OneDrive - Falabella/General/DATA/F11/220328_f11.csv', sep=';')"
   ]
  },
  {
   "cell_type": "code",
   "execution_count": 5,
   "id": "ddff9036",
   "metadata": {
    "scrolled": true
   },
   "outputs": [],
   "source": [
    "#df_6 = pd.read_csv('C:/Users/maperezr/OneDrive - Falabella/General/DATA/F11/220405_f11.csv', sep=';')"
   ]
  },
  {
   "cell_type": "code",
   "execution_count": 6,
   "id": "d8396a14",
   "metadata": {
    "scrolled": true
   },
   "outputs": [],
   "source": [
    "#df_7 = pd.read_csv('C:/Users/maperezr/OneDrive - Falabella/General/DATA/F11/220418_f11.csv', sep=';')"
   ]
  },
  {
   "cell_type": "code",
   "execution_count": 7,
   "id": "e1d119d1",
   "metadata": {
    "scrolled": true
   },
   "outputs": [],
   "source": [
    "#df_8 = pd.read_csv('C:/Users/maperezr/OneDrive - Falabella/General/DATA/F11/220425_f11.csv', sep=';')"
   ]
  },
  {
   "cell_type": "code",
   "execution_count": 8,
   "id": "81e48e9c",
   "metadata": {
    "scrolled": true
   },
   "outputs": [],
   "source": [
    "#df_9 = pd.read_csv('C:/Users/maperezr/OneDrive - Falabella/General/DATA/F11/220502_f11.csv', sep=';')"
   ]
  },
  {
   "cell_type": "code",
   "execution_count": 9,
   "id": "ae5f5b95",
   "metadata": {
    "scrolled": true
   },
   "outputs": [],
   "source": [
    "#df_10 = pd.read_csv('C:/Users/maperezr/OneDrive - Falabella/General/DATA/F11/220509_f11.csv', sep=';')"
   ]
  },
  {
   "cell_type": "code",
   "execution_count": 10,
   "id": "4c22ae8f",
   "metadata": {
    "scrolled": true
   },
   "outputs": [],
   "source": [
    "#df_11 = pd.read_csv('C:/Users/maperezr/OneDrive - Falabella/General/DATA/F11/220516_f11.csv', sep=';')"
   ]
  },
  {
   "cell_type": "code",
   "execution_count": 11,
   "id": "16f95bb6",
   "metadata": {
    "scrolled": true
   },
   "outputs": [],
   "source": [
    "#df_12 = pd.read_csv('C:/Users/maperezr/OneDrive - Falabella/General/DATA/F11/220523_f11.csv', sep=';')"
   ]
  },
  {
   "cell_type": "code",
   "execution_count": 12,
   "id": "d98a9206",
   "metadata": {
    "scrolled": true
   },
   "outputs": [],
   "source": [
    "#df_13 = pd.read_csv('C:/Users/maperezr/OneDrive - Falabella/General/DATA/F11/220531_f11.csv', sep=';')"
   ]
  },
  {
   "cell_type": "code",
   "execution_count": 13,
   "id": "9b2e8a1e",
   "metadata": {
    "scrolled": true
   },
   "outputs": [],
   "source": [
    "df_14 = pd.read_csv('C:/Users/maperezr/OneDrive - Falabella/General/DATA/F11/220613_f11.csv', sep=';')"
   ]
  },
  {
   "cell_type": "code",
   "execution_count": 14,
   "id": "b8312fe3",
   "metadata": {
    "scrolled": true
   },
   "outputs": [],
   "source": [
    "df_15 = pd.read_csv('C:/Users/maperezr/OneDrive - Falabella/General/DATA/F11/220621_f11.csv', sep=';')"
   ]
  },
  {
   "cell_type": "code",
   "execution_count": 15,
   "id": "fc500c58",
   "metadata": {
    "scrolled": true
   },
   "outputs": [],
   "source": [
    "df_16 = pd.read_csv('C:/Users/maperezr/OneDrive - Falabella/General/DATA/F11/220629_f11.csv', sep=';')"
   ]
  },
  {
   "cell_type": "code",
   "execution_count": 16,
   "id": "893ae833",
   "metadata": {
    "scrolled": true
   },
   "outputs": [],
   "source": [
    "df_17 = pd.read_csv('C:/Users/maperezr/OneDrive - Falabella/General/DATA/F11/220705_f11.csv', sep=';')"
   ]
  },
  {
   "cell_type": "code",
   "execution_count": 17,
   "id": "df2ea1dd",
   "metadata": {
    "scrolled": true
   },
   "outputs": [],
   "source": [
    "df_18 = pd.read_csv('C:/Users/maperezr/OneDrive - Falabella/General/DATA/F11/220711_f11.csv', sep=';')"
   ]
  },
  {
   "cell_type": "code",
   "execution_count": 18,
   "id": "af52c8ac",
   "metadata": {
    "scrolled": true
   },
   "outputs": [],
   "source": [
    "df_19 = pd.read_csv('C:/Users/maperezr/OneDrive - Falabella/General/DATA/F11/220718_f11.csv', sep=';')"
   ]
  },
  {
   "cell_type": "code",
   "execution_count": 19,
   "id": "ab0e45ea",
   "metadata": {
    "scrolled": true
   },
   "outputs": [],
   "source": [
    "df_20 = pd.read_csv('C:/Users/maperezr/OneDrive - Falabella/General/DATA/F11/220725_f11.csv', sep=';')"
   ]
  },
  {
   "cell_type": "code",
   "execution_count": 20,
   "id": "70aa07e1",
   "metadata": {
    "scrolled": true
   },
   "outputs": [],
   "source": [
    "df_21 = pd.read_csv('C:/Users/maperezr/OneDrive - Falabella/General/DATA/F11/220801_f11.csv', sep=';')"
   ]
  },
  {
   "cell_type": "code",
   "execution_count": 21,
   "id": "5c0f1830",
   "metadata": {
    "scrolled": true
   },
   "outputs": [],
   "source": [
    "df_22 = pd.read_csv('C:/Users/maperezr/OneDrive - Falabella/General/DATA/F11/220808_f11.csv', sep=';')"
   ]
  },
  {
   "cell_type": "code",
   "execution_count": 22,
   "id": "497eaa0f",
   "metadata": {
    "scrolled": true
   },
   "outputs": [],
   "source": [
    "df_23 = pd.read_csv('C:/Users/maperezr/OneDrive - Falabella/General/DATA/F11/220816_f11.csv', sep=';')"
   ]
  },
  {
   "cell_type": "code",
   "execution_count": 23,
   "id": "fee4ef04",
   "metadata": {
    "scrolled": true
   },
   "outputs": [],
   "source": [
    "df_24 = pd.read_csv('C:/Users/maperezr/OneDrive - Falabella/General/DATA/F11/220822_f11.csv', sep=';')"
   ]
  },
  {
   "cell_type": "code",
   "execution_count": 24,
   "id": "c6829017",
   "metadata": {
    "scrolled": true
   },
   "outputs": [],
   "source": [
    "df_25 = pd.read_csv('C:/Users/maperezr/OneDrive - Falabella/General/DATA/F11/220831_f11.csv', sep=';')"
   ]
  },
  {
   "cell_type": "code",
   "execution_count": 25,
   "id": "c6829017",
   "metadata": {
    "scrolled": true
   },
   "outputs": [],
   "source": [
    "df_26 = pd.read_csv('C:/Users/maperezr/OneDrive - Falabella/General/DATA/F11/220905_f11.csv', sep=';')"
   ]
  },
  {
   "cell_type": "code",
   "execution_count": 26,
   "id": "c6829017",
   "metadata": {
    "scrolled": true
   },
   "outputs": [],
   "source": [
    "df_27 = pd.read_csv('C:/Users/maperezr/OneDrive - Falabella/General/DATA/F11/220912_f11.csv', sep=';')"
   ]
  },
  {
   "cell_type": "code",
   "execution_count": 27,
   "id": "207379af",
   "metadata": {},
   "outputs": [],
   "source": [
    "df_28 = pd.read_csv('C:/Users/maperezr/OneDrive - Falabella/General/DATA/F11/220926_f11.csv', sep=';')"
   ]
  },
  {
   "cell_type": "code",
   "execution_count": 28,
   "id": "cf0b076a",
   "metadata": {},
   "outputs": [],
   "source": [
    "df_29 = pd.read_csv('C:/Users/maperezr/OneDrive - Falabella/General/DATA/F11/221010_f11.csv', sep=';')"
   ]
  },
  {
   "cell_type": "code",
   "execution_count": 29,
   "id": "cf0b076a",
   "metadata": {},
   "outputs": [],
   "source": [
    "df_30 = pd.read_csv('C:/Users/maperezr/OneDrive - Falabella/General/DATA/F11/221018_f11.csv', sep=';')"
   ]
  },
  {
   "cell_type": "code",
   "execution_count": 30,
   "id": "cf0b076a",
   "metadata": {},
   "outputs": [],
   "source": [
    "df_31 = pd.read_csv('C:/Users/maperezr/OneDrive - Falabella/General/DATA/F11/221024_f11.csv', sep=';')"
   ]
  },
  {
   "cell_type": "code",
   "execution_count": 31,
   "id": "cf0b076a",
   "metadata": {},
   "outputs": [],
   "source": [
    "df_32 = pd.read_csv('C:/Users/maperezr/OneDrive - Falabella/General/DATA/F11/221031_f11.csv', sep=';')"
   ]
  },
  {
   "cell_type": "markdown",
   "id": "35748bda",
   "metadata": {},
   "source": [
    "Abierto a cerrado"
   ]
  },
  {
   "cell_type": "code",
   "execution_count": 32,
   "id": "5fcf065b",
   "metadata": {},
   "outputs": [],
   "source": [
    "def get_abierto_to_cerrado(dfant, dfnvo):\n",
    "    abierto = dfant.loc[dfant[dtagco['estado']].isin(dtagco['estados_abiertos'])]\n",
    "    cerrado = dfnvo.loc[dfnvo[dtagco['estado']].isin(['Anulado', 'Entrega total'])]\n",
    "    return abierto.loc[abierto[dtagco['f11_id']].isin(cerrado[dtagco['f11_id']])]"
   ]
  },
  {
   "cell_type": "code",
   "execution_count": 33,
   "id": "eba5520c",
   "metadata": {},
   "outputs": [],
   "source": [
    "lista = []"
   ]
  },
  {
   "cell_type": "markdown",
   "id": "26d3f446",
   "metadata": {
    "scrolled": true
   },
   "source": [
    "uno = get_abierto_to_cerrado(df_0, df_1)\n",
    "uno['rango_corte'] = '23Feb-28Feb'\n",
    "lista.append(uno)\n",
    "uno.shape"
   ]
  },
  {
   "cell_type": "markdown",
   "id": "bf4dbfc7",
   "metadata": {
    "scrolled": true
   },
   "source": [
    "uno = get_abierto_to_cerrado(df_1, df_2)\n",
    "uno['rango_corte'] = '29Feb-07Mar'\n",
    "lista.append(uno)\n",
    "uno.shape"
   ]
  },
  {
   "cell_type": "markdown",
   "id": "d074c2f8",
   "metadata": {
    "scrolled": true
   },
   "source": [
    "uno = get_abierto_to_cerrado(df_2, df_3)\n",
    "uno['rango_corte'] = '08Mar-14Mar'\n",
    "lista.append(uno)\n",
    "uno.shape"
   ]
  },
  {
   "cell_type": "markdown",
   "id": "560155bd",
   "metadata": {
    "scrolled": true
   },
   "source": [
    "uno = get_abierto_to_cerrado(df_3, df_4)\n",
    "uno['rango_corte'] = '15Mar-22Mar'\n",
    "lista.append(uno)\n",
    "uno.shape"
   ]
  },
  {
   "cell_type": "markdown",
   "id": "a7d05b8d",
   "metadata": {
    "scrolled": true
   },
   "source": [
    "uno = get_abierto_to_cerrado(df_4, df_5)\n",
    "uno['rango_corte'] = '23Mar-28Mar'\n",
    "lista.append(uno)\n",
    "uno.shape"
   ]
  },
  {
   "cell_type": "markdown",
   "id": "c82ae867",
   "metadata": {
    "scrolled": true
   },
   "source": [
    "uno = get_abierto_to_cerrado(df_5, df_6)\n",
    "uno['rango_corte'] = '29Mar-04Abr'\n",
    "lista.append(uno)\n",
    "uno.shape"
   ]
  },
  {
   "cell_type": "markdown",
   "id": "e1b97cd1",
   "metadata": {
    "scrolled": true
   },
   "source": [
    "uno = get_abierto_to_cerrado(df_6, df_7)\n",
    "uno['rango_corte'] = '05Abr-18Abr'\n",
    "lista.append(uno)\n",
    "uno.shape"
   ]
  },
  {
   "cell_type": "markdown",
   "id": "c0ea50ea",
   "metadata": {
    "scrolled": true
   },
   "source": [
    "uno = get_abierto_to_cerrado(df_7, df_8)\n",
    "uno['rango_corte'] = '19Abr-25Abr'\n",
    "lista.append(uno)\n",
    "uno.shape"
   ]
  },
  {
   "cell_type": "markdown",
   "id": "8dd5a3b2",
   "metadata": {
    "scrolled": true
   },
   "source": [
    "uno = get_abierto_to_cerrado(df_8, df_9)\n",
    "uno['rango_corte'] = '26Abr-02May'\n",
    "lista.append(uno)\n",
    "uno.shape"
   ]
  },
  {
   "cell_type": "markdown",
   "id": "3004155e",
   "metadata": {
    "scrolled": true
   },
   "source": [
    "uno = get_abierto_to_cerrado(df_9, df_10)\n",
    "uno['rango_corte'] = '03May-09May'\n",
    "lista.append(uno)\n",
    "uno.shape"
   ]
  },
  {
   "cell_type": "markdown",
   "id": "7a42b0ce",
   "metadata": {
    "scrolled": true
   },
   "source": [
    "uno = get_abierto_to_cerrado(df_10, df_11)\n",
    "uno['rango_corte'] = '09May-16May'\n",
    "lista.append(uno)\n",
    "uno.shape"
   ]
  },
  {
   "cell_type": "markdown",
   "id": "0148f1e7",
   "metadata": {
    "scrolled": true
   },
   "source": [
    "uno = get_abierto_to_cerrado(df_11, df_12)\n",
    "uno['rango_corte'] = '16May-23May'\n",
    "lista.append(uno)\n",
    "uno.shape"
   ]
  },
  {
   "cell_type": "markdown",
   "id": "3c7d4af1",
   "metadata": {
    "scrolled": true
   },
   "source": [
    "uno = get_abierto_to_cerrado(df_12, df_13)\n",
    "uno['rango_corte'] = '23May-31May'\n",
    "lista.append(uno)\n",
    "uno.shape"
   ]
  },
  {
   "cell_type": "markdown",
   "id": "19123266",
   "metadata": {
    "scrolled": true
   },
   "source": [
    "uno = get_abierto_to_cerrado(df_13, df_14)\n",
    "uno['rango_corte'] = '31May-13Jun'\n",
    "lista.append(uno)\n",
    "uno.shape"
   ]
  },
  {
   "cell_type": "markdown",
   "id": "4496b8aa",
   "metadata": {
    "scrolled": false
   },
   "source": [
    "uno = get_abierto_to_cerrado(df_14, df_15)\n",
    "uno['rango_corte'] = '13Jun-21Jun'\n",
    "lista.append(uno)\n",
    "uno.shape"
   ]
  },
  {
   "cell_type": "markdown",
   "id": "23bce9c4",
   "metadata": {
    "scrolled": true
   },
   "source": [
    "uno = get_abierto_to_cerrado(df_15, df_16)\n",
    "uno['rango_corte'] = '21Jun-29Jun'\n",
    "lista.append(uno)\n",
    "uno.shape"
   ]
  },
  {
   "cell_type": "markdown",
   "id": "664298ab",
   "metadata": {
    "scrolled": true
   },
   "source": [
    "uno = get_abierto_to_cerrado(df_16, df_17)\n",
    "uno['rango_corte'] = '29Jun-05Jul'\n",
    "lista.append(uno)\n",
    "uno.shape"
   ]
  },
  {
   "cell_type": "markdown",
   "id": "720a8f95",
   "metadata": {
    "scrolled": true
   },
   "source": [
    "uno = get_abierto_to_cerrado(df_17, df_18)\n",
    "uno['rango_corte'] = '05Jul-11Jul'\n",
    "lista.append(uno)\n",
    "uno.shape"
   ]
  },
  {
   "cell_type": "markdown",
   "id": "4567df22",
   "metadata": {
    "scrolled": true
   },
   "source": [
    "uno = get_abierto_to_cerrado(df_18, df_19)\n",
    "uno['rango_corte'] = '11Jul-18Jul'\n",
    "lista.append(uno)\n",
    "uno.shape"
   ]
  },
  {
   "cell_type": "markdown",
   "id": "dee6893c",
   "metadata": {
    "scrolled": true
   },
   "source": [
    "uno = get_abierto_to_cerrado(df_19, df_20)\n",
    "uno['rango_corte'] = '18Jul-25Jul'\n",
    "lista.append(uno)\n",
    "uno.shape"
   ]
  },
  {
   "cell_type": "code",
   "execution_count": 34,
   "id": "7d2307a4",
   "metadata": {
    "scrolled": true
   },
   "outputs": [
    {
     "data": {
      "text/plain": [
       "(2299, 40)"
      ]
     },
     "execution_count": 34,
     "metadata": {},
     "output_type": "execute_result"
    }
   ],
   "source": [
    "uno = get_abierto_to_cerrado(df_20, df_21)\n",
    "uno['rango_corte'] = '25Jul-01Ago'\n",
    "lista.append(uno)\n",
    "uno.shape"
   ]
  },
  {
   "cell_type": "code",
   "execution_count": 35,
   "id": "e2f62bc6",
   "metadata": {
    "scrolled": true
   },
   "outputs": [
    {
     "data": {
      "text/plain": [
       "(1218, 40)"
      ]
     },
     "execution_count": 35,
     "metadata": {},
     "output_type": "execute_result"
    }
   ],
   "source": [
    "uno = get_abierto_to_cerrado(df_21, df_22)\n",
    "uno['rango_corte'] = '01Ago-08Ago'\n",
    "lista.append(uno)\n",
    "uno.shape"
   ]
  },
  {
   "cell_type": "code",
   "execution_count": 36,
   "id": "04ca366c",
   "metadata": {
    "scrolled": true
   },
   "outputs": [
    {
     "data": {
      "text/plain": [
       "(1658, 40)"
      ]
     },
     "execution_count": 36,
     "metadata": {},
     "output_type": "execute_result"
    }
   ],
   "source": [
    "uno = get_abierto_to_cerrado(df_22, df_23)\n",
    "uno['rango_corte'] = '08Ago-16Ago'\n",
    "lista.append(uno)\n",
    "uno.shape"
   ]
  },
  {
   "cell_type": "code",
   "execution_count": 37,
   "id": "94a548fc",
   "metadata": {
    "scrolled": true
   },
   "outputs": [
    {
     "data": {
      "text/plain": [
       "(1690, 40)"
      ]
     },
     "execution_count": 37,
     "metadata": {},
     "output_type": "execute_result"
    }
   ],
   "source": [
    "uno = get_abierto_to_cerrado(df_23, df_24)\n",
    "uno['rango_corte'] = '16Ago-22Ago'\n",
    "lista.append(uno)\n",
    "uno.shape"
   ]
  },
  {
   "cell_type": "code",
   "execution_count": 38,
   "id": "5e246f20",
   "metadata": {
    "scrolled": true
   },
   "outputs": [
    {
     "data": {
      "text/plain": [
       "(1507, 40)"
      ]
     },
     "execution_count": 38,
     "metadata": {},
     "output_type": "execute_result"
    }
   ],
   "source": [
    "uno = get_abierto_to_cerrado(df_24, df_25)\n",
    "uno['rango_corte'] = '22Ago-31Ago'\n",
    "lista.append(uno)\n",
    "uno.shape"
   ]
  },
  {
   "cell_type": "code",
   "execution_count": 39,
   "id": "5e246f20",
   "metadata": {
    "scrolled": true
   },
   "outputs": [
    {
     "data": {
      "text/plain": [
       "(1532, 40)"
      ]
     },
     "execution_count": 39,
     "metadata": {},
     "output_type": "execute_result"
    }
   ],
   "source": [
    "uno = get_abierto_to_cerrado(df_25, df_26)\n",
    "uno['rango_corte'] = '31Ago-06Sep'\n",
    "lista.append(uno)\n",
    "uno.shape"
   ]
  },
  {
   "cell_type": "code",
   "execution_count": 40,
   "id": "5e246f20",
   "metadata": {
    "scrolled": true
   },
   "outputs": [
    {
     "data": {
      "text/plain": [
       "(1316, 40)"
      ]
     },
     "execution_count": 40,
     "metadata": {},
     "output_type": "execute_result"
    }
   ],
   "source": [
    "uno = get_abierto_to_cerrado(df_26, df_27)\n",
    "uno['rango_corte'] = '06Sep-12Sep'\n",
    "lista.append(uno)\n",
    "uno.shape"
   ]
  },
  {
   "cell_type": "code",
   "execution_count": 41,
   "id": "03ec3050",
   "metadata": {},
   "outputs": [
    {
     "data": {
      "text/plain": [
       "(2004, 40)"
      ]
     },
     "execution_count": 41,
     "metadata": {},
     "output_type": "execute_result"
    }
   ],
   "source": [
    "uno = get_abierto_to_cerrado(df_27, df_28)\n",
    "uno['rango_corte'] = '12Sep-26Sep'\n",
    "lista.append(uno)\n",
    "uno.shape"
   ]
  },
  {
   "cell_type": "code",
   "execution_count": 42,
   "id": "f6771325",
   "metadata": {},
   "outputs": [
    {
     "data": {
      "text/plain": [
       "(3165, 40)"
      ]
     },
     "execution_count": 42,
     "metadata": {},
     "output_type": "execute_result"
    }
   ],
   "source": [
    "uno = get_abierto_to_cerrado(df_28, df_29)\n",
    "uno['rango_corte'] = '26Sep-10Oct'\n",
    "lista.append(uno)\n",
    "uno.shape"
   ]
  },
  {
   "cell_type": "code",
   "execution_count": 43,
   "id": "f6771325",
   "metadata": {},
   "outputs": [
    {
     "data": {
      "text/plain": [
       "(1599, 40)"
      ]
     },
     "execution_count": 43,
     "metadata": {},
     "output_type": "execute_result"
    }
   ],
   "source": [
    "uno = get_abierto_to_cerrado(df_29, df_30)\n",
    "uno['rango_corte'] = '10Oct-18Oct'\n",
    "lista.append(uno)\n",
    "uno.shape"
   ]
  },
  {
   "cell_type": "code",
   "execution_count": 44,
   "id": "f6771325",
   "metadata": {},
   "outputs": [
    {
     "data": {
      "text/plain": [
       "(871, 40)"
      ]
     },
     "execution_count": 44,
     "metadata": {},
     "output_type": "execute_result"
    }
   ],
   "source": [
    "uno = get_abierto_to_cerrado(df_30, df_31)\n",
    "uno['rango_corte'] = '18Oct-24Oct'\n",
    "lista.append(uno)\n",
    "uno.shape"
   ]
  },
  {
   "cell_type": "code",
   "execution_count": 45,
   "id": "f6771325",
   "metadata": {},
   "outputs": [
    {
     "data": {
      "text/plain": [
       "(1287, 40)"
      ]
     },
     "execution_count": 45,
     "metadata": {},
     "output_type": "execute_result"
    }
   ],
   "source": [
    "uno = get_abierto_to_cerrado(df_31, df_32)\n",
    "uno['rango_corte'] = '24Oct-31Oct'\n",
    "lista.append(uno)\n",
    "uno.shape"
   ]
  },
  {
   "cell_type": "code",
   "execution_count": 46,
   "id": "e242d5a6",
   "metadata": {},
   "outputs": [],
   "source": [
    "atoc = pd.concat(lista)"
   ]
  },
  {
   "cell_type": "code",
   "execution_count": 47,
   "id": "c67910c5",
   "metadata": {},
   "outputs": [],
   "source": [
    "#atoc.to_csv('C:/Users/maperezr/OneDrive - Falabella/General/DATA/F11/220516_atoc.csv', index=False)"
   ]
  },
  {
   "cell_type": "code",
   "execution_count": 48,
   "id": "34388937",
   "metadata": {},
   "outputs": [],
   "source": [
    "atoc = atoc.loc[atoc[dtagco['propietario']]==dtagco['prop_empresa']]\n",
    "atoc = atoc.loc[atoc[dtagco['grupo']].isin(['TIENDAS', 'CD', 'DVD ADMINISTRATIVO'])]"
   ]
  },
  {
   "cell_type": "code",
   "execution_count": 49,
   "id": "1beacac0",
   "metadata": {},
   "outputs": [],
   "source": [
    "atoc[dtagco['fech_creacion']] = pd.to_datetime(atoc[dtagco['fech_creacion']], format='%Y-%m-%d')\n",
    "atoc[dtagco['mes']] = atoc[dtagco['fech_creacion']].dt.strftime('%b-%y')\n",
    "atoc[dtagco['costo']] = pd.to_numeric(atoc[dtagco['costo']])"
   ]
  },
  {
   "cell_type": "code",
   "execution_count": 50,
   "id": "4ac01d42",
   "metadata": {
    "scrolled": false
   },
   "outputs": [],
   "source": [
    "resatoc = atoc.groupby(['rango_corte', dtagco['grupo'],dtagco['mes']]).agg({dtagco['costo']:'sum', dtagco['f11_id']:'nunique'}).reset_index()"
   ]
  },
  {
   "cell_type": "code",
   "execution_count": 51,
   "id": "815b6672",
   "metadata": {},
   "outputs": [],
   "source": [
    "#resatoc.to_excel('C:/Users/maperezr/OneDrive - Falabella/General/DATA/F11/220516_resatoc.xlsx', index=False)"
   ]
  },
  {
   "cell_type": "code",
   "execution_count": 52,
   "id": "bc1f3803",
   "metadata": {},
   "outputs": [],
   "source": [
    "#df_0[dtagco['estado']].unique()"
   ]
  },
  {
   "cell_type": "markdown",
   "id": "6b74e0ae",
   "metadata": {},
   "source": [
    "## creado y cerrado"
   ]
  },
  {
   "cell_type": "code",
   "execution_count": 53,
   "id": "aa556a44",
   "metadata": {},
   "outputs": [],
   "source": [
    "def get_creado_cerrado(df, fecha):\n",
    "    df[dtagco['fech_creacion']] = pd.to_datetime(df[dtagco['fech_creacion']], format='%Y-%m-%d')\n",
    "    df[dtagco['mes']] = df[dtagco['fech_creacion']].dt.strftime('%b-%y')\n",
    "    df[dtagco['costo']] = pd.to_numeric(df[dtagco['costo']])\n",
    "    cerrado = df.loc[df[dtagco['estado']].isin(['Anulado', 'Entrega total'])]\n",
    "    return cerrado.loc[cerrado[dtagco['fech_creacion']]>pd.to_datetime(fecha, format='%d-%m-%Y')].reset_index(drop=True)"
   ]
  },
  {
   "cell_type": "code",
   "execution_count": 54,
   "id": "dedfd452",
   "metadata": {},
   "outputs": [],
   "source": [
    "pd.set_option('display.max_columns', 200)"
   ]
  },
  {
   "cell_type": "code",
   "execution_count": 55,
   "id": "f440b250",
   "metadata": {},
   "outputs": [],
   "source": [
    "lista_cc = []"
   ]
  },
  {
   "cell_type": "markdown",
   "id": "1f761055",
   "metadata": {},
   "source": [
    "dos = get_creado_cerrado(df_1,'22-02-2022')\n",
    "dos['rango_corte'] = '23Feb-28Feb'\n",
    "lista_cc.append(dos)\n",
    "dos.shape"
   ]
  },
  {
   "cell_type": "markdown",
   "id": "e0a03b5a",
   "metadata": {},
   "source": [
    "dos = get_creado_cerrado(df_2,'28-02-2022')\n",
    "dos['rango_corte'] = '29Feb-07Mar'\n",
    "lista_cc.append(dos)\n",
    "dos.shape"
   ]
  },
  {
   "cell_type": "markdown",
   "id": "d1432a38",
   "metadata": {},
   "source": [
    "dos = get_creado_cerrado(df_3,'07-03-2022')\n",
    "dos['rango_corte'] = '08Mar-14Mar'\n",
    "lista_cc.append(dos)\n",
    "dos.shape"
   ]
  },
  {
   "cell_type": "markdown",
   "id": "5970a320",
   "metadata": {},
   "source": [
    "dos = get_creado_cerrado(df_4,'14-03-2022')\n",
    "dos['rango_corte'] = '15Mar-22Mar'\n",
    "lista_cc.append(dos)\n",
    "dos.shape"
   ]
  },
  {
   "cell_type": "markdown",
   "id": "96909c9a",
   "metadata": {},
   "source": [
    "dos = get_creado_cerrado(df_5,'22-03-2022')\n",
    "dos['rango_corte'] = '23Mar-28Mar'\n",
    "lista_cc.append(dos)\n",
    "dos.shape"
   ]
  },
  {
   "cell_type": "markdown",
   "id": "89d9ef8d",
   "metadata": {},
   "source": [
    "dos = get_creado_cerrado(df_6,'28-03-2022')\n",
    "dos['rango_corte'] = '29Mar-04Abr'\n",
    "lista_cc.append(dos)\n",
    "dos.shape"
   ]
  },
  {
   "cell_type": "markdown",
   "id": "a392474a",
   "metadata": {},
   "source": [
    "dos = get_creado_cerrado(df_7,'04-04-2022')\n",
    "dos['rango_corte'] = '05Abr-18Abr'\n",
    "lista_cc.append(dos)\n",
    "dos.shape"
   ]
  },
  {
   "cell_type": "markdown",
   "id": "5fef4573",
   "metadata": {},
   "source": [
    "dos = get_creado_cerrado(df_8,'17-04-2022')\n",
    "dos['rango_corte'] = '19Abr-25Abr'\n",
    "lista_cc.append(dos)\n",
    "dos.shape"
   ]
  },
  {
   "cell_type": "markdown",
   "id": "48557b83",
   "metadata": {},
   "source": [
    "dos = get_creado_cerrado(df_9,'24-04-2022')\n",
    "dos['rango_corte'] = '26Abr-02May'\n",
    "lista_cc.append(dos)\n",
    "dos.shape"
   ]
  },
  {
   "cell_type": "markdown",
   "id": "de90a60a",
   "metadata": {},
   "source": [
    "dos = get_creado_cerrado(df_10,'02-05-2022')\n",
    "dos['rango_corte'] = '03May-09May'\n",
    "lista_cc.append(dos)\n",
    "dos.shape"
   ]
  },
  {
   "cell_type": "markdown",
   "id": "591d8ae7",
   "metadata": {},
   "source": [
    "dos = get_creado_cerrado(df_11,'08-05-2022')\n",
    "dos['rango_corte'] = '09May-16May'\n",
    "lista_cc.append(dos)\n",
    "dos.shape"
   ]
  },
  {
   "cell_type": "markdown",
   "id": "e4f1dc6e",
   "metadata": {},
   "source": [
    "dos = get_creado_cerrado(df_12,'16-05-2022')\n",
    "dos['rango_corte'] = '16May-23May'\n",
    "lista_cc.append(dos)\n",
    "dos.shape"
   ]
  },
  {
   "cell_type": "markdown",
   "id": "1e68d0b8",
   "metadata": {},
   "source": [
    "dos = get_creado_cerrado(df_13,'23-05-2022')\n",
    "dos['rango_corte'] = '23May-31May'\n",
    "lista_cc.append(dos)\n",
    "dos.shape"
   ]
  },
  {
   "cell_type": "markdown",
   "id": "9bde4f4a",
   "metadata": {},
   "source": [
    "dos = get_creado_cerrado(df_14,'31-05-2022')\n",
    "dos['rango_corte'] = '31May-13Jun'\n",
    "lista_cc.append(dos)\n",
    "dos.shape"
   ]
  },
  {
   "cell_type": "markdown",
   "id": "787e2f29",
   "metadata": {},
   "source": [
    "dos = get_creado_cerrado(df_15,'13-06-2022')\n",
    "dos['rango_corte'] = '13Jun-21Jun'\n",
    "lista_cc.append(dos)\n",
    "dos.shape"
   ]
  },
  {
   "cell_type": "markdown",
   "id": "3be6dbed",
   "metadata": {},
   "source": [
    "dos = get_creado_cerrado(df_16,'21-06-2022')\n",
    "dos['rango_corte'] = '21Jun-29Jun'\n",
    "lista_cc.append(dos)\n",
    "dos.shape"
   ]
  },
  {
   "cell_type": "markdown",
   "id": "d48accd0",
   "metadata": {},
   "source": [
    "dos = get_creado_cerrado(df_17,'29-06-2022')\n",
    "dos['rango_corte'] = '29Jun-05Jul'\n",
    "lista_cc.append(dos)\n",
    "dos.shape"
   ]
  },
  {
   "cell_type": "markdown",
   "id": "725b197e",
   "metadata": {},
   "source": [
    "dos = get_creado_cerrado(df_18,'05-07-2022')\n",
    "dos['rango_corte'] = '05Jul-11Jul'\n",
    "lista_cc.append(dos)\n",
    "dos.shape"
   ]
  },
  {
   "cell_type": "markdown",
   "id": "79b6f5ed",
   "metadata": {},
   "source": [
    "dos = get_creado_cerrado(df_19,'11-07-2022')\n",
    "dos['rango_corte'] = '11Jul-18Jul'\n",
    "lista_cc.append(dos)\n",
    "dos.shape"
   ]
  },
  {
   "cell_type": "code",
   "execution_count": 56,
   "id": "97b8e0e7",
   "metadata": {},
   "outputs": [
    {
     "data": {
      "text/plain": [
       "(231, 41)"
      ]
     },
     "execution_count": 56,
     "metadata": {},
     "output_type": "execute_result"
    }
   ],
   "source": [
    "dos = get_creado_cerrado(df_20,'18-07-2022')\n",
    "dos['rango_corte'] = '18Jul-25Jul'\n",
    "lista_cc.append(dos)\n",
    "dos.shape"
   ]
  },
  {
   "cell_type": "code",
   "execution_count": 57,
   "id": "76619d2a",
   "metadata": {},
   "outputs": [
    {
     "data": {
      "text/plain": [
       "(254, 41)"
      ]
     },
     "execution_count": 57,
     "metadata": {},
     "output_type": "execute_result"
    }
   ],
   "source": [
    "dos = get_creado_cerrado(df_21,'25-07-2022')\n",
    "dos['rango_corte'] = '25Jul-01Ago'\n",
    "lista_cc.append(dos)\n",
    "dos.shape"
   ]
  },
  {
   "cell_type": "code",
   "execution_count": 58,
   "id": "a52c959c",
   "metadata": {},
   "outputs": [
    {
     "data": {
      "text/plain": [
       "(92, 41)"
      ]
     },
     "execution_count": 58,
     "metadata": {},
     "output_type": "execute_result"
    }
   ],
   "source": [
    "dos = get_creado_cerrado(df_22,'01-08-2022')\n",
    "dos['rango_corte'] = '01Ago-08Ago'\n",
    "lista_cc.append(dos)\n",
    "dos.shape"
   ]
  },
  {
   "cell_type": "code",
   "execution_count": 59,
   "id": "9e56e847",
   "metadata": {},
   "outputs": [
    {
     "data": {
      "text/plain": [
       "(85, 41)"
      ]
     },
     "execution_count": 59,
     "metadata": {},
     "output_type": "execute_result"
    }
   ],
   "source": [
    "dos = get_creado_cerrado(df_23,'08-08-2022')\n",
    "dos['rango_corte'] = '08Ago-16Ago'\n",
    "lista_cc.append(dos)\n",
    "dos.shape"
   ]
  },
  {
   "cell_type": "code",
   "execution_count": 60,
   "id": "11032232",
   "metadata": {},
   "outputs": [
    {
     "data": {
      "text/plain": [
       "(36, 41)"
      ]
     },
     "execution_count": 60,
     "metadata": {},
     "output_type": "execute_result"
    }
   ],
   "source": [
    "dos = get_creado_cerrado(df_24,'16-08-2022')\n",
    "dos['rango_corte'] = '16Ago-22Ago'\n",
    "lista_cc.append(dos)\n",
    "dos.shape"
   ]
  },
  {
   "cell_type": "code",
   "execution_count": 61,
   "id": "5010dd57",
   "metadata": {},
   "outputs": [
    {
     "data": {
      "text/plain": [
       "(41, 41)"
      ]
     },
     "execution_count": 61,
     "metadata": {},
     "output_type": "execute_result"
    }
   ],
   "source": [
    "dos = get_creado_cerrado(df_25,'22-08-2022')\n",
    "dos['rango_corte'] = '22Ago-31Ago'\n",
    "lista_cc.append(dos)\n",
    "dos.shape"
   ]
  },
  {
   "cell_type": "code",
   "execution_count": 62,
   "id": "5010dd57",
   "metadata": {},
   "outputs": [
    {
     "data": {
      "text/plain": [
       "(18, 41)"
      ]
     },
     "execution_count": 62,
     "metadata": {},
     "output_type": "execute_result"
    }
   ],
   "source": [
    "dos = get_creado_cerrado(df_26,'31-08-2022')\n",
    "dos['rango_corte'] = '31Ago-06Sep'\n",
    "lista_cc.append(dos)\n",
    "dos.shape"
   ]
  },
  {
   "cell_type": "code",
   "execution_count": 63,
   "id": "5010dd57",
   "metadata": {},
   "outputs": [
    {
     "data": {
      "text/plain": [
       "(40, 41)"
      ]
     },
     "execution_count": 63,
     "metadata": {},
     "output_type": "execute_result"
    }
   ],
   "source": [
    "dos = get_creado_cerrado(df_27,'06-09-2022')\n",
    "dos['rango_corte'] = '06Sep-12Sep'\n",
    "lista_cc.append(dos)\n",
    "dos.shape"
   ]
  },
  {
   "cell_type": "code",
   "execution_count": 64,
   "id": "775b007a",
   "metadata": {},
   "outputs": [
    {
     "data": {
      "text/plain": [
       "(210, 41)"
      ]
     },
     "execution_count": 64,
     "metadata": {},
     "output_type": "execute_result"
    }
   ],
   "source": [
    "dos = get_creado_cerrado(df_28,'12-09-2022')\n",
    "dos['rango_corte'] = '12Sep-26Sep'\n",
    "lista_cc.append(dos)\n",
    "dos.shape"
   ]
  },
  {
   "cell_type": "code",
   "execution_count": 65,
   "id": "23079a6c",
   "metadata": {},
   "outputs": [
    {
     "data": {
      "text/plain": [
       "(189, 41)"
      ]
     },
     "execution_count": 65,
     "metadata": {},
     "output_type": "execute_result"
    }
   ],
   "source": [
    "dos = get_creado_cerrado(df_29,'26-09-2022')\n",
    "dos['rango_corte'] = '26Sep-10Oct'\n",
    "lista_cc.append(dos)\n",
    "dos.shape"
   ]
  },
  {
   "cell_type": "code",
   "execution_count": 66,
   "id": "23079a6c",
   "metadata": {},
   "outputs": [
    {
     "data": {
      "text/plain": [
       "(38, 41)"
      ]
     },
     "execution_count": 66,
     "metadata": {},
     "output_type": "execute_result"
    }
   ],
   "source": [
    "dos = get_creado_cerrado(df_30,'10-10-2022')\n",
    "dos['rango_corte'] = '10Oct-18Oct'\n",
    "lista_cc.append(dos)\n",
    "dos.shape"
   ]
  },
  {
   "cell_type": "code",
   "execution_count": 67,
   "id": "23079a6c",
   "metadata": {},
   "outputs": [
    {
     "data": {
      "text/plain": [
       "(24, 41)"
      ]
     },
     "execution_count": 67,
     "metadata": {},
     "output_type": "execute_result"
    }
   ],
   "source": [
    "dos = get_creado_cerrado(df_31,'18-10-2022')\n",
    "dos['rango_corte'] = '18Oct-24Oct'\n",
    "lista_cc.append(dos)\n",
    "dos.shape"
   ]
  },
  {
   "cell_type": "code",
   "execution_count": 68,
   "id": "23079a6c",
   "metadata": {},
   "outputs": [
    {
     "data": {
      "text/plain": [
       "(0, 41)"
      ]
     },
     "execution_count": 68,
     "metadata": {},
     "output_type": "execute_result"
    }
   ],
   "source": [
    "dos = get_creado_cerrado(df_31,'24-10-2022')\n",
    "dos['rango_corte'] = '24Oct-31Oct'\n",
    "lista_cc.append(dos)\n",
    "dos.shape"
   ]
  },
  {
   "cell_type": "code",
   "execution_count": 69,
   "id": "f31359ad",
   "metadata": {},
   "outputs": [
    {
     "data": {
      "text/plain": [
       "array(['2022-10-04T00:00:00.000000000', '2022-09-28T00:00:00.000000000',\n",
       "       '2022-10-02T00:00:00.000000000', '2022-09-26T16:45:02.000000000'],\n",
       "      dtype='datetime64[ns]')"
      ]
     },
     "execution_count": 69,
     "metadata": {},
     "output_type": "execute_result"
    }
   ],
   "source": [
    "lista_cc[9].head()['FECHA_CREACION'].unique()"
   ]
  },
  {
   "cell_type": "code",
   "execution_count": 70,
   "id": "f015432f",
   "metadata": {},
   "outputs": [],
   "source": [
    "cc = pd.concat(lista_cc)"
   ]
  },
  {
   "cell_type": "code",
   "execution_count": 71,
   "id": "284b0ac4",
   "metadata": {},
   "outputs": [],
   "source": [
    "cc = cc.loc[cc[dtagco['propietario']]==dtagco['prop_empresa']]\n",
    "cc = cc.loc[cc[dtagco['grupo']].isin(['TIENDAS', 'CD', 'DVD ADMINISTRATIVO'])]"
   ]
  },
  {
   "cell_type": "code",
   "execution_count": 72,
   "id": "1db354c4",
   "metadata": {},
   "outputs": [],
   "source": [
    "rescc = cc.groupby(['rango_corte', dtagco['grupo'],dtagco['mes']]).agg({dtagco['costo']:'sum', dtagco['f11_id']:'nunique'}).reset_index()"
   ]
  },
  {
   "cell_type": "code",
   "execution_count": 73,
   "id": "d1b7890f",
   "metadata": {},
   "outputs": [],
   "source": [
    "rescc['tipo_cierre']= 'Creado a cerrado'"
   ]
  },
  {
   "cell_type": "code",
   "execution_count": 74,
   "id": "4f197411",
   "metadata": {},
   "outputs": [],
   "source": [
    "resatoc['tipo_cierre'] = 'Abierto a cerrado'"
   ]
  },
  {
   "cell_type": "code",
   "execution_count": 75,
   "id": "3d99bb50",
   "metadata": {},
   "outputs": [],
   "source": [
    "res = pd.concat([rescc,resatoc])"
   ]
  },
  {
   "cell_type": "code",
   "execution_count": 76,
   "id": "27dc9654",
   "metadata": {},
   "outputs": [],
   "source": [
    "#res.to_excel('220516_res_cierres.xlsx', index=False)"
   ]
  },
  {
   "cell_type": "code",
   "execution_count": 77,
   "id": "dc29eff3",
   "metadata": {},
   "outputs": [],
   "source": [
    "cd = res.loc[res[dtagco['grupo']]=='CD']"
   ]
  },
  {
   "cell_type": "code",
   "execution_count": 78,
   "id": "32209731",
   "metadata": {},
   "outputs": [],
   "source": [
    "tiendas = res.loc[(res[dtagco['grupo']]=='TIENDAS')|(res[dtagco['grupo']]=='DVD ADMINISTRATIVO')]"
   ]
  },
  {
   "cell_type": "code",
   "execution_count": 79,
   "id": "02527d34",
   "metadata": {},
   "outputs": [],
   "source": [
    "gb_cd = cd.groupby(['rango_corte','tipo_cierre'], sort=False).agg({dtagco['costo']:'sum', dtagco['f11_id']:'sum'}).reset_index()"
   ]
  },
  {
   "cell_type": "code",
   "execution_count": 80,
   "id": "b0a1bf8d",
   "metadata": {},
   "outputs": [],
   "source": [
    "gb_tiendas = tiendas.groupby(['rango_corte','tipo_cierre'], sort=False).agg({dtagco['costo']:'sum', dtagco['f11_id']:'sum'}).reset_index()"
   ]
  },
  {
   "cell_type": "code",
   "execution_count": 81,
   "id": "f80d2acc",
   "metadata": {},
   "outputs": [],
   "source": [
    "ant = ['23Feb-28Feb', '29Feb-07Mar', '08Mar-14Mar', '15Mar-22Mar', '23Mar-28Mar', '29Mar-04Abr', '05Abr-18Abr', '19Abr-25Abr', '26Abr-02May', '03May-09May', '09May-16May', '16May-23May', '23May-31May']\n",
    "nuevo = ['31May-13Jun', '13Jun-21Jun', '21Jun-29Jun', '29Jun-05Jul', '05Jul-11Jul' ,'11Jul-18Jul', '18Jul-25Jul', '25Jul-01Ago', '01Ago-08Ago', '08Ago-16Ago', '16Ago-22Ago','22Ago-31Ago', '31Ago-06Sep','06Sep-12Sep','12Sep-26Sep','26Sep-10Oct','10Oct-18Oct']\n",
    "ol = {'rango_corte':nuevo, 'tipo_cierre':['Abierto a cerrado','Creado a cerrado']}"
   ]
  },
  {
   "cell_type": "code",
   "execution_count": 82,
   "id": "ce6d1f92",
   "metadata": {},
   "outputs": [
    {
     "data": {
      "application/vnd.plotly.v1+json": {
       "config": {
        "plotlyServerURL": "https://plot.ly"
       },
       "data": [
        {
         "alignmentgroup": "True",
         "hovertemplate": "Tipo de cierre=Abierto a cerrado<br>rango_corte=%{x}<br>TOTAL_COSTO=%{text}<extra></extra>",
         "legendgroup": "Abierto a cerrado",
         "marker": {
          "color": "#1F77B4",
          "pattern": {
           "shape": ""
          }
         },
         "name": "Abierto a cerrado",
         "offsetgroup": "Abierto a cerrado",
         "orientation": "v",
         "showlegend": true,
         "text": [
          106419863.73699999,
          213800633.382,
          165787156.503,
          166526525.042,
          202080380.605,
          371929896.014,
          177273319.58600003,
          579895456.658,
          76503931.772,
          439725231.532,
          543987853.436,
          216805316.961
         ],
         "textposition": "auto",
         "texttemplate": "%{y:.2s}",
         "type": "bar",
         "x": [
          "01Ago-08Ago",
          "06Sep-12Sep",
          "08Ago-16Ago",
          "10Oct-18Oct",
          "12Sep-26Sep",
          "16Ago-22Ago",
          "18Oct-24Oct",
          "22Ago-31Ago",
          "24Oct-31Oct",
          "25Jul-01Ago",
          "26Sep-10Oct",
          "31Ago-06Sep"
         ],
         "xaxis": "x",
         "y": [
          106419863.73699999,
          213800633.382,
          165787156.503,
          166526525.042,
          202080380.605,
          371929896.014,
          177273319.58600003,
          579895456.658,
          76503931.772,
          439725231.532,
          543987853.436,
          216805316.961
         ],
         "yaxis": "y"
        },
        {
         "alignmentgroup": "True",
         "hovertemplate": "Tipo de cierre=Creado a cerrado<br>rango_corte=%{x}<br>TOTAL_COSTO=%{text}<extra></extra>",
         "legendgroup": "Creado a cerrado",
         "marker": {
          "color": "#FF7F0E",
          "pattern": {
           "shape": ""
          }
         },
         "name": "Creado a cerrado",
         "offsetgroup": "Creado a cerrado",
         "orientation": "v",
         "showlegend": true,
         "text": [
          46074421.029,
          69404610.815,
          22858181.279,
          11976851.666,
          83182276.507,
          16658761.297,
          92362034.898,
          15090365.486000001,
          64003613.826,
          128650654.374,
          76568016.16,
          585990
         ],
         "textposition": "auto",
         "texttemplate": "%{y:.2s}",
         "type": "bar",
         "x": [
          "01Ago-08Ago",
          "06Sep-12Sep",
          "08Ago-16Ago",
          "10Oct-18Oct",
          "12Sep-26Sep",
          "16Ago-22Ago",
          "18Jul-25Jul",
          "18Oct-24Oct",
          "22Ago-31Ago",
          "25Jul-01Ago",
          "26Sep-10Oct",
          "31Ago-06Sep"
         ],
         "xaxis": "x",
         "y": [
          46074421.029,
          69404610.815,
          22858181.279,
          11976851.666,
          83182276.507,
          16658761.297,
          92362034.898,
          15090365.486000001,
          64003613.826,
          128650654.374,
          76568016.16,
          585990
         ],
         "yaxis": "y"
        }
       ],
       "layout": {
        "barmode": "relative",
        "legend": {
         "title": {
          "text": "Tipo de cierre"
         },
         "tracegroupgap": 0
        },
        "template": {
         "data": {
          "bar": [
           {
            "error_x": {
             "color": "#2a3f5f"
            },
            "error_y": {
             "color": "#2a3f5f"
            },
            "marker": {
             "line": {
              "color": "#E5ECF6",
              "width": 0.5
             },
             "pattern": {
              "fillmode": "overlay",
              "size": 10,
              "solidity": 0.2
             }
            },
            "type": "bar"
           }
          ],
          "barpolar": [
           {
            "marker": {
             "line": {
              "color": "#E5ECF6",
              "width": 0.5
             },
             "pattern": {
              "fillmode": "overlay",
              "size": 10,
              "solidity": 0.2
             }
            },
            "type": "barpolar"
           }
          ],
          "carpet": [
           {
            "aaxis": {
             "endlinecolor": "#2a3f5f",
             "gridcolor": "white",
             "linecolor": "white",
             "minorgridcolor": "white",
             "startlinecolor": "#2a3f5f"
            },
            "baxis": {
             "endlinecolor": "#2a3f5f",
             "gridcolor": "white",
             "linecolor": "white",
             "minorgridcolor": "white",
             "startlinecolor": "#2a3f5f"
            },
            "type": "carpet"
           }
          ],
          "choropleth": [
           {
            "colorbar": {
             "outlinewidth": 0,
             "ticks": ""
            },
            "type": "choropleth"
           }
          ],
          "contour": [
           {
            "colorbar": {
             "outlinewidth": 0,
             "ticks": ""
            },
            "colorscale": [
             [
              0,
              "#0d0887"
             ],
             [
              0.1111111111111111,
              "#46039f"
             ],
             [
              0.2222222222222222,
              "#7201a8"
             ],
             [
              0.3333333333333333,
              "#9c179e"
             ],
             [
              0.4444444444444444,
              "#bd3786"
             ],
             [
              0.5555555555555556,
              "#d8576b"
             ],
             [
              0.6666666666666666,
              "#ed7953"
             ],
             [
              0.7777777777777778,
              "#fb9f3a"
             ],
             [
              0.8888888888888888,
              "#fdca26"
             ],
             [
              1,
              "#f0f921"
             ]
            ],
            "type": "contour"
           }
          ],
          "contourcarpet": [
           {
            "colorbar": {
             "outlinewidth": 0,
             "ticks": ""
            },
            "type": "contourcarpet"
           }
          ],
          "heatmap": [
           {
            "colorbar": {
             "outlinewidth": 0,
             "ticks": ""
            },
            "colorscale": [
             [
              0,
              "#0d0887"
             ],
             [
              0.1111111111111111,
              "#46039f"
             ],
             [
              0.2222222222222222,
              "#7201a8"
             ],
             [
              0.3333333333333333,
              "#9c179e"
             ],
             [
              0.4444444444444444,
              "#bd3786"
             ],
             [
              0.5555555555555556,
              "#d8576b"
             ],
             [
              0.6666666666666666,
              "#ed7953"
             ],
             [
              0.7777777777777778,
              "#fb9f3a"
             ],
             [
              0.8888888888888888,
              "#fdca26"
             ],
             [
              1,
              "#f0f921"
             ]
            ],
            "type": "heatmap"
           }
          ],
          "heatmapgl": [
           {
            "colorbar": {
             "outlinewidth": 0,
             "ticks": ""
            },
            "colorscale": [
             [
              0,
              "#0d0887"
             ],
             [
              0.1111111111111111,
              "#46039f"
             ],
             [
              0.2222222222222222,
              "#7201a8"
             ],
             [
              0.3333333333333333,
              "#9c179e"
             ],
             [
              0.4444444444444444,
              "#bd3786"
             ],
             [
              0.5555555555555556,
              "#d8576b"
             ],
             [
              0.6666666666666666,
              "#ed7953"
             ],
             [
              0.7777777777777778,
              "#fb9f3a"
             ],
             [
              0.8888888888888888,
              "#fdca26"
             ],
             [
              1,
              "#f0f921"
             ]
            ],
            "type": "heatmapgl"
           }
          ],
          "histogram": [
           {
            "marker": {
             "pattern": {
              "fillmode": "overlay",
              "size": 10,
              "solidity": 0.2
             }
            },
            "type": "histogram"
           }
          ],
          "histogram2d": [
           {
            "colorbar": {
             "outlinewidth": 0,
             "ticks": ""
            },
            "colorscale": [
             [
              0,
              "#0d0887"
             ],
             [
              0.1111111111111111,
              "#46039f"
             ],
             [
              0.2222222222222222,
              "#7201a8"
             ],
             [
              0.3333333333333333,
              "#9c179e"
             ],
             [
              0.4444444444444444,
              "#bd3786"
             ],
             [
              0.5555555555555556,
              "#d8576b"
             ],
             [
              0.6666666666666666,
              "#ed7953"
             ],
             [
              0.7777777777777778,
              "#fb9f3a"
             ],
             [
              0.8888888888888888,
              "#fdca26"
             ],
             [
              1,
              "#f0f921"
             ]
            ],
            "type": "histogram2d"
           }
          ],
          "histogram2dcontour": [
           {
            "colorbar": {
             "outlinewidth": 0,
             "ticks": ""
            },
            "colorscale": [
             [
              0,
              "#0d0887"
             ],
             [
              0.1111111111111111,
              "#46039f"
             ],
             [
              0.2222222222222222,
              "#7201a8"
             ],
             [
              0.3333333333333333,
              "#9c179e"
             ],
             [
              0.4444444444444444,
              "#bd3786"
             ],
             [
              0.5555555555555556,
              "#d8576b"
             ],
             [
              0.6666666666666666,
              "#ed7953"
             ],
             [
              0.7777777777777778,
              "#fb9f3a"
             ],
             [
              0.8888888888888888,
              "#fdca26"
             ],
             [
              1,
              "#f0f921"
             ]
            ],
            "type": "histogram2dcontour"
           }
          ],
          "mesh3d": [
           {
            "colorbar": {
             "outlinewidth": 0,
             "ticks": ""
            },
            "type": "mesh3d"
           }
          ],
          "parcoords": [
           {
            "line": {
             "colorbar": {
              "outlinewidth": 0,
              "ticks": ""
             }
            },
            "type": "parcoords"
           }
          ],
          "pie": [
           {
            "automargin": true,
            "type": "pie"
           }
          ],
          "scatter": [
           {
            "marker": {
             "colorbar": {
              "outlinewidth": 0,
              "ticks": ""
             }
            },
            "type": "scatter"
           }
          ],
          "scatter3d": [
           {
            "line": {
             "colorbar": {
              "outlinewidth": 0,
              "ticks": ""
             }
            },
            "marker": {
             "colorbar": {
              "outlinewidth": 0,
              "ticks": ""
             }
            },
            "type": "scatter3d"
           }
          ],
          "scattercarpet": [
           {
            "marker": {
             "colorbar": {
              "outlinewidth": 0,
              "ticks": ""
             }
            },
            "type": "scattercarpet"
           }
          ],
          "scattergeo": [
           {
            "marker": {
             "colorbar": {
              "outlinewidth": 0,
              "ticks": ""
             }
            },
            "type": "scattergeo"
           }
          ],
          "scattergl": [
           {
            "marker": {
             "colorbar": {
              "outlinewidth": 0,
              "ticks": ""
             }
            },
            "type": "scattergl"
           }
          ],
          "scattermapbox": [
           {
            "marker": {
             "colorbar": {
              "outlinewidth": 0,
              "ticks": ""
             }
            },
            "type": "scattermapbox"
           }
          ],
          "scatterpolar": [
           {
            "marker": {
             "colorbar": {
              "outlinewidth": 0,
              "ticks": ""
             }
            },
            "type": "scatterpolar"
           }
          ],
          "scatterpolargl": [
           {
            "marker": {
             "colorbar": {
              "outlinewidth": 0,
              "ticks": ""
             }
            },
            "type": "scatterpolargl"
           }
          ],
          "scatterternary": [
           {
            "marker": {
             "colorbar": {
              "outlinewidth": 0,
              "ticks": ""
             }
            },
            "type": "scatterternary"
           }
          ],
          "surface": [
           {
            "colorbar": {
             "outlinewidth": 0,
             "ticks": ""
            },
            "colorscale": [
             [
              0,
              "#0d0887"
             ],
             [
              0.1111111111111111,
              "#46039f"
             ],
             [
              0.2222222222222222,
              "#7201a8"
             ],
             [
              0.3333333333333333,
              "#9c179e"
             ],
             [
              0.4444444444444444,
              "#bd3786"
             ],
             [
              0.5555555555555556,
              "#d8576b"
             ],
             [
              0.6666666666666666,
              "#ed7953"
             ],
             [
              0.7777777777777778,
              "#fb9f3a"
             ],
             [
              0.8888888888888888,
              "#fdca26"
             ],
             [
              1,
              "#f0f921"
             ]
            ],
            "type": "surface"
           }
          ],
          "table": [
           {
            "cells": {
             "fill": {
              "color": "#EBF0F8"
             },
             "line": {
              "color": "white"
             }
            },
            "header": {
             "fill": {
              "color": "#C8D4E3"
             },
             "line": {
              "color": "white"
             }
            },
            "type": "table"
           }
          ]
         },
         "layout": {
          "annotationdefaults": {
           "arrowcolor": "#2a3f5f",
           "arrowhead": 0,
           "arrowwidth": 1
          },
          "autotypenumbers": "strict",
          "coloraxis": {
           "colorbar": {
            "outlinewidth": 0,
            "ticks": ""
           }
          },
          "colorscale": {
           "diverging": [
            [
             0,
             "#8e0152"
            ],
            [
             0.1,
             "#c51b7d"
            ],
            [
             0.2,
             "#de77ae"
            ],
            [
             0.3,
             "#f1b6da"
            ],
            [
             0.4,
             "#fde0ef"
            ],
            [
             0.5,
             "#f7f7f7"
            ],
            [
             0.6,
             "#e6f5d0"
            ],
            [
             0.7,
             "#b8e186"
            ],
            [
             0.8,
             "#7fbc41"
            ],
            [
             0.9,
             "#4d9221"
            ],
            [
             1,
             "#276419"
            ]
           ],
           "sequential": [
            [
             0,
             "#0d0887"
            ],
            [
             0.1111111111111111,
             "#46039f"
            ],
            [
             0.2222222222222222,
             "#7201a8"
            ],
            [
             0.3333333333333333,
             "#9c179e"
            ],
            [
             0.4444444444444444,
             "#bd3786"
            ],
            [
             0.5555555555555556,
             "#d8576b"
            ],
            [
             0.6666666666666666,
             "#ed7953"
            ],
            [
             0.7777777777777778,
             "#fb9f3a"
            ],
            [
             0.8888888888888888,
             "#fdca26"
            ],
            [
             1,
             "#f0f921"
            ]
           ],
           "sequentialminus": [
            [
             0,
             "#0d0887"
            ],
            [
             0.1111111111111111,
             "#46039f"
            ],
            [
             0.2222222222222222,
             "#7201a8"
            ],
            [
             0.3333333333333333,
             "#9c179e"
            ],
            [
             0.4444444444444444,
             "#bd3786"
            ],
            [
             0.5555555555555556,
             "#d8576b"
            ],
            [
             0.6666666666666666,
             "#ed7953"
            ],
            [
             0.7777777777777778,
             "#fb9f3a"
            ],
            [
             0.8888888888888888,
             "#fdca26"
            ],
            [
             1,
             "#f0f921"
            ]
           ]
          },
          "colorway": [
           "#636efa",
           "#EF553B",
           "#00cc96",
           "#ab63fa",
           "#FFA15A",
           "#19d3f3",
           "#FF6692",
           "#B6E880",
           "#FF97FF",
           "#FECB52"
          ],
          "font": {
           "color": "#2a3f5f"
          },
          "geo": {
           "bgcolor": "white",
           "lakecolor": "white",
           "landcolor": "#E5ECF6",
           "showlakes": true,
           "showland": true,
           "subunitcolor": "white"
          },
          "hoverlabel": {
           "align": "left"
          },
          "hovermode": "closest",
          "mapbox": {
           "style": "light"
          },
          "paper_bgcolor": "white",
          "plot_bgcolor": "#E5ECF6",
          "polar": {
           "angularaxis": {
            "gridcolor": "white",
            "linecolor": "white",
            "ticks": ""
           },
           "bgcolor": "#E5ECF6",
           "radialaxis": {
            "gridcolor": "white",
            "linecolor": "white",
            "ticks": ""
           }
          },
          "scene": {
           "xaxis": {
            "backgroundcolor": "#E5ECF6",
            "gridcolor": "white",
            "gridwidth": 2,
            "linecolor": "white",
            "showbackground": true,
            "ticks": "",
            "zerolinecolor": "white"
           },
           "yaxis": {
            "backgroundcolor": "#E5ECF6",
            "gridcolor": "white",
            "gridwidth": 2,
            "linecolor": "white",
            "showbackground": true,
            "ticks": "",
            "zerolinecolor": "white"
           },
           "zaxis": {
            "backgroundcolor": "#E5ECF6",
            "gridcolor": "white",
            "gridwidth": 2,
            "linecolor": "white",
            "showbackground": true,
            "ticks": "",
            "zerolinecolor": "white"
           }
          },
          "shapedefaults": {
           "line": {
            "color": "#2a3f5f"
           }
          },
          "ternary": {
           "aaxis": {
            "gridcolor": "white",
            "linecolor": "white",
            "ticks": ""
           },
           "baxis": {
            "gridcolor": "white",
            "linecolor": "white",
            "ticks": ""
           },
           "bgcolor": "#E5ECF6",
           "caxis": {
            "gridcolor": "white",
            "linecolor": "white",
            "ticks": ""
           }
          },
          "title": {
           "x": 0.05
          },
          "xaxis": {
           "automargin": true,
           "gridcolor": "white",
           "linecolor": "white",
           "ticks": "",
           "title": {
            "standoff": 15
           },
           "zerolinecolor": "white",
           "zerolinewidth": 2
          },
          "yaxis": {
           "automargin": true,
           "gridcolor": "white",
           "linecolor": "white",
           "ticks": "",
           "title": {
            "standoff": 15
           },
           "zerolinecolor": "white",
           "zerolinewidth": 2
          }
         }
        },
        "title": {
         "text": "Cierres de f11 CD"
        },
        "xaxis": {
         "anchor": "y",
         "categoryarray": [
          "31May-13Jun",
          "13Jun-21Jun",
          "21Jun-29Jun",
          "29Jun-05Jul",
          "05Jul-11Jul",
          "11Jul-18Jul",
          "18Jul-25Jul",
          "25Jul-01Ago",
          "01Ago-08Ago",
          "08Ago-16Ago",
          "16Ago-22Ago",
          "22Ago-31Ago",
          "31Ago-06Sep",
          "06Sep-12Sep",
          "12Sep-26Sep",
          "26Sep-10Oct",
          "10Oct-18Oct"
         ],
         "categoryorder": "array",
         "domain": [
          0,
          1
         ],
         "title": {
          "text": "Rango de fechas cortes"
         }
        },
        "yaxis": {
         "anchor": "x",
         "domain": [
          0,
          1
         ],
         "title": {
          "text": "Total costo promedio"
         }
        }
       }
      }
     },
     "metadata": {},
     "output_type": "display_data"
    }
   ],
   "source": [
    "import plotly.express as px\n",
    "fig = px.bar(gb_cd, x='rango_corte', y=dtagco['costo'], color='tipo_cierre', text=dtagco['costo'], text_auto='.2s',\n",
    "            title='Cierres de f11 CD', labels={'tipo_cierre':'Tipo de cierre'}, category_orders=ol, \n",
    "            color_discrete_sequence=px.colors.qualitative.D3)\n",
    "fig.layout.yaxis.title.text='Total costo promedio'\n",
    "fig.layout.xaxis.title.text='Rango de fechas cortes'\n",
    "fig.show()\n",
    "fig.write_image(f\"output/{datestr}_f11_cd_cieres.svg\",scale=1, height=500,width=500, engine='orca')\n"
   ]
  },
  {
   "cell_type": "code",
   "execution_count": 83,
   "id": "1377b9ef",
   "metadata": {},
   "outputs": [
    {
     "data": {
      "application/vnd.plotly.v1+json": {
       "config": {
        "plotlyServerURL": "https://plot.ly"
       },
       "data": [
        {
         "alignmentgroup": "True",
         "hovertemplate": "Tipo de cierre=Abierto a cerrado<br>rango_corte=%{x}<br>TOTAL_COSTO=%{text}<extra></extra>",
         "legendgroup": "Abierto a cerrado",
         "marker": {
          "color": "#1F77B4",
          "pattern": {
           "shape": ""
          }
         },
         "name": "Abierto a cerrado",
         "offsetgroup": "Abierto a cerrado",
         "orientation": "v",
         "showlegend": true,
         "text": [
          164732699.028,
          179347007.905,
          145561253.499,
          390514794.39699996,
          288364141.015,
          259189583.4,
          94859689.296,
          162486361.26999998,
          244058061.388,
          168548453.536,
          358442828.185,
          150135849.293
         ],
         "textposition": "auto",
         "texttemplate": "%{y:.2s}",
         "type": "bar",
         "x": [
          "01Ago-08Ago",
          "06Sep-12Sep",
          "08Ago-16Ago",
          "10Oct-18Oct",
          "12Sep-26Sep",
          "16Ago-22Ago",
          "18Oct-24Oct",
          "22Ago-31Ago",
          "24Oct-31Oct",
          "25Jul-01Ago",
          "26Sep-10Oct",
          "31Ago-06Sep"
         ],
         "xaxis": "x",
         "y": [
          164732699.028,
          179347007.905,
          145561253.499,
          390514794.39699996,
          288364141.015,
          259189583.4,
          94859689.296,
          162486361.26999998,
          244058061.388,
          168548453.536,
          358442828.185,
          150135849.293
         ],
         "yaxis": "y"
        },
        {
         "alignmentgroup": "True",
         "hovertemplate": "Tipo de cierre=Creado a cerrado<br>rango_corte=%{x}<br>TOTAL_COSTO=%{text}<extra></extra>",
         "legendgroup": "Creado a cerrado",
         "marker": {
          "color": "#FF7F0E",
          "pattern": {
           "shape": ""
          }
         },
         "name": "Creado a cerrado",
         "offsetgroup": "Creado a cerrado",
         "orientation": "v",
         "showlegend": true,
         "text": [
          2433124.578,
          3286815.204,
          1078198.5,
          28823012.469,
          2029280.813,
          14464842.053,
          1775551.262,
          2172713.073,
          5820065.878,
          29292309.291,
          4448191.768
         ],
         "textposition": "auto",
         "texttemplate": "%{y:.2s}",
         "type": "bar",
         "x": [
          "01Ago-08Ago",
          "08Ago-16Ago",
          "10Oct-18Oct",
          "12Sep-26Sep",
          "16Ago-22Ago",
          "18Jul-25Jul",
          "18Oct-24Oct",
          "22Ago-31Ago",
          "25Jul-01Ago",
          "26Sep-10Oct",
          "31Ago-06Sep"
         ],
         "xaxis": "x",
         "y": [
          2433124.578,
          3286815.204,
          1078198.5,
          28823012.469,
          2029280.813,
          14464842.053,
          1775551.262,
          2172713.073,
          5820065.878,
          29292309.291,
          4448191.768
         ],
         "yaxis": "y"
        }
       ],
       "layout": {
        "barmode": "relative",
        "legend": {
         "title": {
          "text": "Tipo de cierre"
         },
         "tracegroupgap": 0
        },
        "template": {
         "data": {
          "bar": [
           {
            "error_x": {
             "color": "#2a3f5f"
            },
            "error_y": {
             "color": "#2a3f5f"
            },
            "marker": {
             "line": {
              "color": "#E5ECF6",
              "width": 0.5
             },
             "pattern": {
              "fillmode": "overlay",
              "size": 10,
              "solidity": 0.2
             }
            },
            "type": "bar"
           }
          ],
          "barpolar": [
           {
            "marker": {
             "line": {
              "color": "#E5ECF6",
              "width": 0.5
             },
             "pattern": {
              "fillmode": "overlay",
              "size": 10,
              "solidity": 0.2
             }
            },
            "type": "barpolar"
           }
          ],
          "carpet": [
           {
            "aaxis": {
             "endlinecolor": "#2a3f5f",
             "gridcolor": "white",
             "linecolor": "white",
             "minorgridcolor": "white",
             "startlinecolor": "#2a3f5f"
            },
            "baxis": {
             "endlinecolor": "#2a3f5f",
             "gridcolor": "white",
             "linecolor": "white",
             "minorgridcolor": "white",
             "startlinecolor": "#2a3f5f"
            },
            "type": "carpet"
           }
          ],
          "choropleth": [
           {
            "colorbar": {
             "outlinewidth": 0,
             "ticks": ""
            },
            "type": "choropleth"
           }
          ],
          "contour": [
           {
            "colorbar": {
             "outlinewidth": 0,
             "ticks": ""
            },
            "colorscale": [
             [
              0,
              "#0d0887"
             ],
             [
              0.1111111111111111,
              "#46039f"
             ],
             [
              0.2222222222222222,
              "#7201a8"
             ],
             [
              0.3333333333333333,
              "#9c179e"
             ],
             [
              0.4444444444444444,
              "#bd3786"
             ],
             [
              0.5555555555555556,
              "#d8576b"
             ],
             [
              0.6666666666666666,
              "#ed7953"
             ],
             [
              0.7777777777777778,
              "#fb9f3a"
             ],
             [
              0.8888888888888888,
              "#fdca26"
             ],
             [
              1,
              "#f0f921"
             ]
            ],
            "type": "contour"
           }
          ],
          "contourcarpet": [
           {
            "colorbar": {
             "outlinewidth": 0,
             "ticks": ""
            },
            "type": "contourcarpet"
           }
          ],
          "heatmap": [
           {
            "colorbar": {
             "outlinewidth": 0,
             "ticks": ""
            },
            "colorscale": [
             [
              0,
              "#0d0887"
             ],
             [
              0.1111111111111111,
              "#46039f"
             ],
             [
              0.2222222222222222,
              "#7201a8"
             ],
             [
              0.3333333333333333,
              "#9c179e"
             ],
             [
              0.4444444444444444,
              "#bd3786"
             ],
             [
              0.5555555555555556,
              "#d8576b"
             ],
             [
              0.6666666666666666,
              "#ed7953"
             ],
             [
              0.7777777777777778,
              "#fb9f3a"
             ],
             [
              0.8888888888888888,
              "#fdca26"
             ],
             [
              1,
              "#f0f921"
             ]
            ],
            "type": "heatmap"
           }
          ],
          "heatmapgl": [
           {
            "colorbar": {
             "outlinewidth": 0,
             "ticks": ""
            },
            "colorscale": [
             [
              0,
              "#0d0887"
             ],
             [
              0.1111111111111111,
              "#46039f"
             ],
             [
              0.2222222222222222,
              "#7201a8"
             ],
             [
              0.3333333333333333,
              "#9c179e"
             ],
             [
              0.4444444444444444,
              "#bd3786"
             ],
             [
              0.5555555555555556,
              "#d8576b"
             ],
             [
              0.6666666666666666,
              "#ed7953"
             ],
             [
              0.7777777777777778,
              "#fb9f3a"
             ],
             [
              0.8888888888888888,
              "#fdca26"
             ],
             [
              1,
              "#f0f921"
             ]
            ],
            "type": "heatmapgl"
           }
          ],
          "histogram": [
           {
            "marker": {
             "pattern": {
              "fillmode": "overlay",
              "size": 10,
              "solidity": 0.2
             }
            },
            "type": "histogram"
           }
          ],
          "histogram2d": [
           {
            "colorbar": {
             "outlinewidth": 0,
             "ticks": ""
            },
            "colorscale": [
             [
              0,
              "#0d0887"
             ],
             [
              0.1111111111111111,
              "#46039f"
             ],
             [
              0.2222222222222222,
              "#7201a8"
             ],
             [
              0.3333333333333333,
              "#9c179e"
             ],
             [
              0.4444444444444444,
              "#bd3786"
             ],
             [
              0.5555555555555556,
              "#d8576b"
             ],
             [
              0.6666666666666666,
              "#ed7953"
             ],
             [
              0.7777777777777778,
              "#fb9f3a"
             ],
             [
              0.8888888888888888,
              "#fdca26"
             ],
             [
              1,
              "#f0f921"
             ]
            ],
            "type": "histogram2d"
           }
          ],
          "histogram2dcontour": [
           {
            "colorbar": {
             "outlinewidth": 0,
             "ticks": ""
            },
            "colorscale": [
             [
              0,
              "#0d0887"
             ],
             [
              0.1111111111111111,
              "#46039f"
             ],
             [
              0.2222222222222222,
              "#7201a8"
             ],
             [
              0.3333333333333333,
              "#9c179e"
             ],
             [
              0.4444444444444444,
              "#bd3786"
             ],
             [
              0.5555555555555556,
              "#d8576b"
             ],
             [
              0.6666666666666666,
              "#ed7953"
             ],
             [
              0.7777777777777778,
              "#fb9f3a"
             ],
             [
              0.8888888888888888,
              "#fdca26"
             ],
             [
              1,
              "#f0f921"
             ]
            ],
            "type": "histogram2dcontour"
           }
          ],
          "mesh3d": [
           {
            "colorbar": {
             "outlinewidth": 0,
             "ticks": ""
            },
            "type": "mesh3d"
           }
          ],
          "parcoords": [
           {
            "line": {
             "colorbar": {
              "outlinewidth": 0,
              "ticks": ""
             }
            },
            "type": "parcoords"
           }
          ],
          "pie": [
           {
            "automargin": true,
            "type": "pie"
           }
          ],
          "scatter": [
           {
            "marker": {
             "colorbar": {
              "outlinewidth": 0,
              "ticks": ""
             }
            },
            "type": "scatter"
           }
          ],
          "scatter3d": [
           {
            "line": {
             "colorbar": {
              "outlinewidth": 0,
              "ticks": ""
             }
            },
            "marker": {
             "colorbar": {
              "outlinewidth": 0,
              "ticks": ""
             }
            },
            "type": "scatter3d"
           }
          ],
          "scattercarpet": [
           {
            "marker": {
             "colorbar": {
              "outlinewidth": 0,
              "ticks": ""
             }
            },
            "type": "scattercarpet"
           }
          ],
          "scattergeo": [
           {
            "marker": {
             "colorbar": {
              "outlinewidth": 0,
              "ticks": ""
             }
            },
            "type": "scattergeo"
           }
          ],
          "scattergl": [
           {
            "marker": {
             "colorbar": {
              "outlinewidth": 0,
              "ticks": ""
             }
            },
            "type": "scattergl"
           }
          ],
          "scattermapbox": [
           {
            "marker": {
             "colorbar": {
              "outlinewidth": 0,
              "ticks": ""
             }
            },
            "type": "scattermapbox"
           }
          ],
          "scatterpolar": [
           {
            "marker": {
             "colorbar": {
              "outlinewidth": 0,
              "ticks": ""
             }
            },
            "type": "scatterpolar"
           }
          ],
          "scatterpolargl": [
           {
            "marker": {
             "colorbar": {
              "outlinewidth": 0,
              "ticks": ""
             }
            },
            "type": "scatterpolargl"
           }
          ],
          "scatterternary": [
           {
            "marker": {
             "colorbar": {
              "outlinewidth": 0,
              "ticks": ""
             }
            },
            "type": "scatterternary"
           }
          ],
          "surface": [
           {
            "colorbar": {
             "outlinewidth": 0,
             "ticks": ""
            },
            "colorscale": [
             [
              0,
              "#0d0887"
             ],
             [
              0.1111111111111111,
              "#46039f"
             ],
             [
              0.2222222222222222,
              "#7201a8"
             ],
             [
              0.3333333333333333,
              "#9c179e"
             ],
             [
              0.4444444444444444,
              "#bd3786"
             ],
             [
              0.5555555555555556,
              "#d8576b"
             ],
             [
              0.6666666666666666,
              "#ed7953"
             ],
             [
              0.7777777777777778,
              "#fb9f3a"
             ],
             [
              0.8888888888888888,
              "#fdca26"
             ],
             [
              1,
              "#f0f921"
             ]
            ],
            "type": "surface"
           }
          ],
          "table": [
           {
            "cells": {
             "fill": {
              "color": "#EBF0F8"
             },
             "line": {
              "color": "white"
             }
            },
            "header": {
             "fill": {
              "color": "#C8D4E3"
             },
             "line": {
              "color": "white"
             }
            },
            "type": "table"
           }
          ]
         },
         "layout": {
          "annotationdefaults": {
           "arrowcolor": "#2a3f5f",
           "arrowhead": 0,
           "arrowwidth": 1
          },
          "autotypenumbers": "strict",
          "coloraxis": {
           "colorbar": {
            "outlinewidth": 0,
            "ticks": ""
           }
          },
          "colorscale": {
           "diverging": [
            [
             0,
             "#8e0152"
            ],
            [
             0.1,
             "#c51b7d"
            ],
            [
             0.2,
             "#de77ae"
            ],
            [
             0.3,
             "#f1b6da"
            ],
            [
             0.4,
             "#fde0ef"
            ],
            [
             0.5,
             "#f7f7f7"
            ],
            [
             0.6,
             "#e6f5d0"
            ],
            [
             0.7,
             "#b8e186"
            ],
            [
             0.8,
             "#7fbc41"
            ],
            [
             0.9,
             "#4d9221"
            ],
            [
             1,
             "#276419"
            ]
           ],
           "sequential": [
            [
             0,
             "#0d0887"
            ],
            [
             0.1111111111111111,
             "#46039f"
            ],
            [
             0.2222222222222222,
             "#7201a8"
            ],
            [
             0.3333333333333333,
             "#9c179e"
            ],
            [
             0.4444444444444444,
             "#bd3786"
            ],
            [
             0.5555555555555556,
             "#d8576b"
            ],
            [
             0.6666666666666666,
             "#ed7953"
            ],
            [
             0.7777777777777778,
             "#fb9f3a"
            ],
            [
             0.8888888888888888,
             "#fdca26"
            ],
            [
             1,
             "#f0f921"
            ]
           ],
           "sequentialminus": [
            [
             0,
             "#0d0887"
            ],
            [
             0.1111111111111111,
             "#46039f"
            ],
            [
             0.2222222222222222,
             "#7201a8"
            ],
            [
             0.3333333333333333,
             "#9c179e"
            ],
            [
             0.4444444444444444,
             "#bd3786"
            ],
            [
             0.5555555555555556,
             "#d8576b"
            ],
            [
             0.6666666666666666,
             "#ed7953"
            ],
            [
             0.7777777777777778,
             "#fb9f3a"
            ],
            [
             0.8888888888888888,
             "#fdca26"
            ],
            [
             1,
             "#f0f921"
            ]
           ]
          },
          "colorway": [
           "#636efa",
           "#EF553B",
           "#00cc96",
           "#ab63fa",
           "#FFA15A",
           "#19d3f3",
           "#FF6692",
           "#B6E880",
           "#FF97FF",
           "#FECB52"
          ],
          "font": {
           "color": "#2a3f5f"
          },
          "geo": {
           "bgcolor": "white",
           "lakecolor": "white",
           "landcolor": "#E5ECF6",
           "showlakes": true,
           "showland": true,
           "subunitcolor": "white"
          },
          "hoverlabel": {
           "align": "left"
          },
          "hovermode": "closest",
          "mapbox": {
           "style": "light"
          },
          "paper_bgcolor": "white",
          "plot_bgcolor": "#E5ECF6",
          "polar": {
           "angularaxis": {
            "gridcolor": "white",
            "linecolor": "white",
            "ticks": ""
           },
           "bgcolor": "#E5ECF6",
           "radialaxis": {
            "gridcolor": "white",
            "linecolor": "white",
            "ticks": ""
           }
          },
          "scene": {
           "xaxis": {
            "backgroundcolor": "#E5ECF6",
            "gridcolor": "white",
            "gridwidth": 2,
            "linecolor": "white",
            "showbackground": true,
            "ticks": "",
            "zerolinecolor": "white"
           },
           "yaxis": {
            "backgroundcolor": "#E5ECF6",
            "gridcolor": "white",
            "gridwidth": 2,
            "linecolor": "white",
            "showbackground": true,
            "ticks": "",
            "zerolinecolor": "white"
           },
           "zaxis": {
            "backgroundcolor": "#E5ECF6",
            "gridcolor": "white",
            "gridwidth": 2,
            "linecolor": "white",
            "showbackground": true,
            "ticks": "",
            "zerolinecolor": "white"
           }
          },
          "shapedefaults": {
           "line": {
            "color": "#2a3f5f"
           }
          },
          "ternary": {
           "aaxis": {
            "gridcolor": "white",
            "linecolor": "white",
            "ticks": ""
           },
           "baxis": {
            "gridcolor": "white",
            "linecolor": "white",
            "ticks": ""
           },
           "bgcolor": "#E5ECF6",
           "caxis": {
            "gridcolor": "white",
            "linecolor": "white",
            "ticks": ""
           }
          },
          "title": {
           "x": 0.05
          },
          "xaxis": {
           "automargin": true,
           "gridcolor": "white",
           "linecolor": "white",
           "ticks": "",
           "title": {
            "standoff": 15
           },
           "zerolinecolor": "white",
           "zerolinewidth": 2
          },
          "yaxis": {
           "automargin": true,
           "gridcolor": "white",
           "linecolor": "white",
           "ticks": "",
           "title": {
            "standoff": 15
           },
           "zerolinecolor": "white",
           "zerolinewidth": 2
          }
         }
        },
        "title": {
         "text": "Cierres de f11 Tiendas & DVD"
        },
        "xaxis": {
         "anchor": "y",
         "categoryarray": [
          "31May-13Jun",
          "13Jun-21Jun",
          "21Jun-29Jun",
          "29Jun-05Jul",
          "05Jul-11Jul",
          "11Jul-18Jul",
          "18Jul-25Jul",
          "25Jul-01Ago",
          "01Ago-08Ago",
          "08Ago-16Ago",
          "16Ago-22Ago",
          "22Ago-31Ago",
          "31Ago-06Sep",
          "06Sep-12Sep",
          "12Sep-26Sep",
          "26Sep-10Oct",
          "10Oct-18Oct"
         ],
         "categoryorder": "array",
         "domain": [
          0,
          1
         ],
         "title": {
          "text": "Rango de fechas cortes"
         }
        },
        "yaxis": {
         "anchor": "x",
         "domain": [
          0,
          1
         ],
         "title": {
          "text": "Total costo promedio"
         }
        }
       }
      }
     },
     "metadata": {},
     "output_type": "display_data"
    }
   ],
   "source": [
    "import plotly.express as px\n",
    "fig = px.bar(gb_tiendas, x='rango_corte', y=dtagco['costo'], color='tipo_cierre', text=dtagco['costo'], text_auto='.2s',\n",
    "            title='Cierres de f11 Tiendas & DVD', labels={'tipo_cierre':'Tipo de cierre'}, category_orders=ol, \n",
    "            color_discrete_sequence=px.colors.qualitative.D3)\n",
    "fig.layout.yaxis.title.text='Total costo promedio'\n",
    "fig.layout.xaxis.title.text='Rango de fechas cortes'\n",
    "fig.show()\n",
    "fig.write_image(f\"output/{datestr}_f11_tiendas_cieres.svg\",scale=1, height=500,width=500, engine='orca')\n"
   ]
  },
  {
   "cell_type": "code",
   "execution_count": null,
   "id": "5b7b8177",
   "metadata": {},
   "outputs": [],
   "source": []
  },
  {
   "cell_type": "code",
   "execution_count": null,
   "id": "3d3572bc",
   "metadata": {},
   "outputs": [],
   "source": []
  }
 ],
 "metadata": {
  "kernelspec": {
   "display_name": "Python 3.9.12 ('base')",
   "language": "python",
   "name": "python3"
  },
  "language_info": {
   "codemirror_mode": {
    "name": "ipython",
    "version": 3
   },
   "file_extension": ".py",
   "mimetype": "text/x-python",
   "name": "python",
   "nbconvert_exporter": "python",
   "pygments_lexer": "ipython3",
   "version": "3.9.12"
  },
  "vscode": {
   "interpreter": {
    "hash": "82a490cbc5ab7ede3fb5f9c339977e226ff85331602536a0bba4d2a51bd464ee"
   }
  }
 },
 "nbformat": 4,
 "nbformat_minor": 5
}
